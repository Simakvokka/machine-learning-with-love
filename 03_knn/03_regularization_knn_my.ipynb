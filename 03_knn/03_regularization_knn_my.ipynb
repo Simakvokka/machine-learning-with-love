{
 "cells": [
  {
   "cell_type": "markdown",
   "metadata": {
    "slideshow": {
     "slide_type": "slide"
    }
   },
   "source": [
    "# Введение в машинное обучение\n",
    "\n",
    "## Семинар #3\n",
    "\n",
    "### Екатерина Кондратьева\n",
    "\n",
    "ekaterina.kondrateva@skoltech.ru\n",
    "\n",
    "## Регуляризация в линейных моделях. Метод Ближайших Соседей (KNN)"
   ]
  },
  {
   "cell_type": "markdown",
   "metadata": {},
   "source": [
    "## 1. Регуляризация в линейных моделях"
   ]
  },
  {
   "cell_type": "markdown",
   "metadata": {},
   "source": [
    "Регуляризация - наложение ограничения на решающае правило через нормы. Это нужно для борьбы с переобучением методом отбора признаков. \n",
    "\n",
    "Источники:\n",
    "1. https://github.com/esokolov/ml-course-hse/blob/master/2018-fall/lecture-notes/lecture03-linregr.pdf    \n",
    "2. http://www.machinelearning.ru/wiki/images/7/7e/VetrovSem11_LARS.pdf\n",
    "3. https://ru.coursera.org/lecture/supervised-learning/rieghuliarizatsiia-sR94Q\n",
    "4. https://towardsdatascience.com/regularization-in-machine-learning-connecting-the-dots-c6e030bfaddd"
   ]
  },
  {
   "cell_type": "code",
   "execution_count": 1,
   "metadata": {},
   "outputs": [],
   "source": [
    "#linear algebra\n",
    "import numpy as np\n",
    "#data structures\n",
    "import pandas as pd\n",
    "#ml models\n",
    "import scipy as sp\n",
    "import sklearn\n",
    "from sklearn import datasets\n",
    "from sklearn.linear_model import LinearRegression\n",
    "from sklearn import metrics\n",
    "from sklearn.metrics import accuracy_score\n",
    "from sklearn.svm import SVR\n",
    "#plots\n",
    "import matplotlib.pyplot as plt\n",
    "%matplotlib inline\n",
    "#beautiful plots\n",
    "import seaborn as sns\n",
    "#linear regression\n",
    "import statsmodels.api as sm\n",
    "#set style for plots\n",
    "sns.set_style('darkgrid')\n",
    "#off the warnings\n",
    "import warnings\n",
    "warnings.filterwarnings(\"ignore\")"
   ]
  },
  {
   "cell_type": "code",
   "execution_count": 2,
   "metadata": {},
   "outputs": [],
   "source": [
    "from sklearn.datasets import load_breast_cancer\n",
    "from sklearn.neighbors import KNeighborsClassifier     #KNN\n",
    "from sklearn.linear_model import LogisticRegression    #Logistic Regression\n",
    "from sklearn.model_selection import train_test_split"
   ]
  },
  {
   "cell_type": "markdown",
   "metadata": {},
   "source": [
    "### Начнем Логистической регрессии:\n",
    "\n",
    "Посмотрим на датасет предсказания рака груди:"
   ]
  },
  {
   "cell_type": "code",
   "execution_count": 3,
   "metadata": {},
   "outputs": [
    {
     "name": "stdout",
     "output_type": "stream",
     "text": [
      ".. _breast_cancer_dataset:\n",
      "\n",
      "Breast cancer wisconsin (diagnostic) dataset\n",
      "--------------------------------------------\n",
      "\n",
      "**Data Set Characteristics:**\n",
      "\n",
      "    :Number of Instances: 569\n",
      "\n",
      "    :Number of Attributes: 30 numeric, predictive attributes and the class\n",
      "\n",
      "    :Attribute Information:\n",
      "        - radius (mean of distances from center to points on the perimeter)\n",
      "        - texture (standard deviation of gray-scale values)\n",
      "        - perimeter\n",
      "        - area\n",
      "        - smoothness (local variation in radius lengths)\n",
      "        - compactness (perimeter^2 / area - 1.0)\n",
      "        - concavity (severity of concave portions of the contour)\n",
      "        - concave points (number of concave portions of the contour)\n",
      "        - symmetry \n",
      "        - fractal dimension (\"coastline approximation\" - 1)\n",
      "\n",
      "        The mean, standard error, and \"worst\" or largest (mean of the three\n",
      "        largest values) of these features were computed for each image,\n",
      "        resulting in 30 features.  For instance, field 3 is Mean Radius, field\n",
      "        13 is Radius SE, field 23 is Worst Radius.\n",
      "\n",
      "        - class:\n",
      "                - WDBC-Malignant\n",
      "                - WDBC-Benign\n",
      "\n",
      "    :Summary Statistics:\n",
      "\n",
      "    ===================================== ====== ======\n",
      "                                           Min    Max\n",
      "    ===================================== ====== ======\n",
      "    radius (mean):                        6.981  28.11\n",
      "    texture (mean):                       9.71   39.28\n",
      "    perimeter (mean):                     43.79  188.5\n",
      "    area (mean):                          143.5  2501.0\n",
      "    smoothness (mean):                    0.053  0.163\n",
      "    compactness (mean):                   0.019  0.345\n",
      "    concavity (mean):                     0.0    0.427\n",
      "    concave points (mean):                0.0    0.201\n",
      "    symmetry (mean):                      0.106  0.304\n",
      "    fractal dimension (mean):             0.05   0.097\n",
      "    radius (standard error):              0.112  2.873\n",
      "    texture (standard error):             0.36   4.885\n",
      "    perimeter (standard error):           0.757  21.98\n",
      "    area (standard error):                6.802  542.2\n",
      "    smoothness (standard error):          0.002  0.031\n",
      "    compactness (standard error):         0.002  0.135\n",
      "    concavity (standard error):           0.0    0.396\n",
      "    concave points (standard error):      0.0    0.053\n",
      "    symmetry (standard error):            0.008  0.079\n",
      "    fractal dimension (standard error):   0.001  0.03\n",
      "    radius (worst):                       7.93   36.04\n",
      "    texture (worst):                      12.02  49.54\n",
      "    perimeter (worst):                    50.41  251.2\n",
      "    area (worst):                         185.2  4254.0\n",
      "    smoothness (worst):                   0.071  0.223\n",
      "    compactness (worst):                  0.027  1.058\n",
      "    concavity (worst):                    0.0    1.252\n",
      "    concave points (worst):               0.0    0.291\n",
      "    symmetry (worst):                     0.156  0.664\n",
      "    fractal dimension (worst):            0.055  0.208\n",
      "    ===================================== ====== ======\n",
      "\n",
      "    :Missing Attribute Values: None\n",
      "\n",
      "    :Class Distribution: 212 - Malignant, 357 - Benign\n",
      "\n",
      "    :Creator:  Dr. William H. Wolberg, W. Nick Street, Olvi L. Mangasarian\n",
      "\n",
      "    :Donor: Nick Street\n",
      "\n",
      "    :Date: November, 1995\n",
      "\n",
      "This is a copy of UCI ML Breast Cancer Wisconsin (Diagnostic) datasets.\n",
      "https://goo.gl/U2Uwz2\n",
      "\n",
      "Features are computed from a digitized image of a fine needle\n",
      "aspirate (FNA) of a breast mass.  They describe\n",
      "characteristics of the cell nuclei present in the image.\n",
      "\n",
      "Separating plane described above was obtained using\n",
      "Multisurface Method-Tree (MSM-T) [K. P. Bennett, \"Decision Tree\n",
      "Construction Via Linear Programming.\" Proceedings of the 4th\n",
      "Midwest Artificial Intelligence and Cognitive Science Society,\n",
      "pp. 97-101, 1992], a classification method which uses linear\n",
      "programming to construct a decision tree.  Relevant features\n",
      "were selected using an exhaustive search in the space of 1-4\n",
      "features and 1-3 separating planes.\n",
      "\n",
      "The actual linear program used to obtain the separating plane\n",
      "in the 3-dimensional space is that described in:\n",
      "[K. P. Bennett and O. L. Mangasarian: \"Robust Linear\n",
      "Programming Discrimination of Two Linearly Inseparable Sets\",\n",
      "Optimization Methods and Software 1, 1992, 23-34].\n",
      "\n",
      "This database is also available through the UW CS ftp server:\n",
      "\n",
      "ftp ftp.cs.wisc.edu\n",
      "cd math-prog/cpo-dataset/machine-learn/WDBC/\n",
      "\n",
      ".. topic:: References\n",
      "\n",
      "   - W.N. Street, W.H. Wolberg and O.L. Mangasarian. Nuclear feature extraction \n",
      "     for breast tumor diagnosis. IS&T/SPIE 1993 International Symposium on \n",
      "     Electronic Imaging: Science and Technology, volume 1905, pages 861-870,\n",
      "     San Jose, CA, 1993.\n",
      "   - O.L. Mangasarian, W.N. Street and W.H. Wolberg. Breast cancer diagnosis and \n",
      "     prognosis via linear programming. Operations Research, 43(4), pages 570-577, \n",
      "     July-August 1995.\n",
      "   - W.H. Wolberg, W.N. Street, and O.L. Mangasarian. Machine learning techniques\n",
      "     to diagnose breast cancer from fine-needle aspirates. Cancer Letters 77 (1994) \n",
      "     163-171.\n"
     ]
    }
   ],
   "source": [
    "#load the breast cancer data and few EDA\n",
    "cancer = load_breast_cancer()\n",
    "print(cancer.DESCR)"
   ]
  },
  {
   "cell_type": "code",
   "execution_count": 4,
   "metadata": {},
   "outputs": [
    {
     "name": "stdout",
     "output_type": "stream",
     "text": [
      "Точность на обучающей выборке: 0.953\n",
      "Точность на тестовой выборке: 0.958\n"
     ]
    }
   ],
   "source": [
    "# Разобьем выборку на обучающую и тестовую\n",
    "X_train, X_test, y_train, y_test = train_test_split(cancer.data, cancer.target, stratify=cancer.target, random_state=42)\n",
    "\n",
    "log_reg = LogisticRegression() \n",
    "log_reg.fit(X_train, y_train)\n",
    "\n",
    "print('Точность на обучающей выборке: {:.3f}'.format(log_reg.score(X_train,y_train)))\n",
    "print('Точность на тестовой выборке: {:.3f}'.format(log_reg.score(X_test,y_test)))"
   ]
  },
  {
   "cell_type": "code",
   "execution_count": 5,
   "metadata": {},
   "outputs": [
    {
     "data": {
      "text/plain": [
       "(426, 30)"
      ]
     },
     "execution_count": 5,
     "metadata": {},
     "output_type": "execute_result"
    }
   ],
   "source": [
    "X_train.shape"
   ]
  },
  {
   "cell_type": "markdown",
   "metadata": {},
   "source": [
    "#### Посмотрим на коэффициенты модели:"
   ]
  },
  {
   "cell_type": "code",
   "execution_count": 6,
   "metadata": {},
   "outputs": [],
   "source": [
    "log_reg?"
   ]
  },
  {
   "cell_type": "code",
   "execution_count": 7,
   "metadata": {},
   "outputs": [
    {
     "data": {
      "image/png": "[encoded data removed]",
      "text/plain": [
       "<Figure size 432x288 with 1 Axes>"
      ]
     },
     "metadata": {
      "needs_background": "light"
     },
     "output_type": "display_data"
    }
   ],
   "source": [
    "# Построим график значимости признаков (веса регрессионной модели)\n",
    "n_feature = cancer.data.shape[1]\n",
    "plt.barh(range(n_feature), log_reg.coef_[0], align='center') # to look at the coefs\n",
    "plt.yticks(np.arange(n_feature), cancer.feature_names)\n",
    "plt.xlabel('Feature Importance')\n",
    "plt.ylabel('Feature')\n",
    "plt.show()"
   ]
  },
  {
   "cell_type": "markdown",
   "metadata": {},
   "source": [
    "**Какая регуляризация используется в модели?**\n",
    "\n",
    "Наиболее полная справка о построенной модели доступна в библиотеке `statsmodels.api`, однако в ней не поддреживаются некоторые регуляризации и их нужно прописывать формульно. В `statsmodels.api` вы можете получить полный вывод для составления уравнения регрессии, с p-value и интервалом достоверности, огранизованным в виде таблицы.\n",
    "\n",
    "\n",
    "Однако, чаще используется `sklearn.linear_model.LogisticRegression()`, в котором частично информацию можно получить через `.feature_importances` или `.coef`."
   ]
  },
  {
   "cell_type": "code",
   "execution_count": 8,
   "metadata": {},
   "outputs": [],
   "source": [
    "# добавим константу, чтобы посчитать нулевой коэффициент\n",
    "X = sm.add_constant(X_train)\n",
    "# подгрузим модель\n",
    "model = sm.OLS(y_train, X)\n",
    "\n",
    "results = model.fit()"
   ]
  },
  {
   "cell_type": "code",
   "execution_count": 9,
   "metadata": {},
   "outputs": [
    {
     "data": {
      "text/html": [
       "<table class=\"simpletable\">\n",
       "<tr>\n",
       "        <td>Model:</td>               <td>OLS</td>         <td>Adj. R-squared:</td>     <td>0.767</td>  \n",
       "</tr>\n",
       "<tr>\n",
       "  <td>Dependent Variable:</td>         <td>y</td>               <td>AIC:</td>          <td>-0.3320</td> \n",
       "</tr>\n",
       "<tr>\n",
       "         <td>Date:</td>        <td>2019-11-12 22:51</td>        <td>BIC:</td>         <td>125.3556</td> \n",
       "</tr>\n",
       "<tr>\n",
       "   <td>No. Observations:</td>         <td>426</td>         <td>Log-Likelihood:</td>    <td>31.166</td>  \n",
       "</tr>\n",
       "<tr>\n",
       "       <td>Df Model:</td>             <td>30</td>           <td>F-statistic:</td>       <td>47.73</td>  \n",
       "</tr>\n",
       "<tr>\n",
       "     <td>Df Residuals:</td>           <td>395</td>       <td>Prob (F-statistic):</td> <td>3.90e-112</td>\n",
       "</tr>\n",
       "<tr>\n",
       "      <td>R-squared:</td>            <td>0.784</td>            <td>Scale:</td>        <td>0.054550</td> \n",
       "</tr>\n",
       "</table>\n",
       "<table class=\"simpletable\">\n",
       "<tr>\n",
       "    <td></td>      <th>Coef.</th>  <th>Std.Err.</th>    <th>t</th>     <th>P>|t|</th>  <th>[0.025</th>  <th>0.975]</th> \n",
       "</tr>\n",
       "<tr>\n",
       "  <th>const</th>  <td>3.8053</td>   <td>0.5294</td>  <td>7.1886</td>  <td>0.0000</td>  <td>2.7646</td>  <td>4.8460</td> \n",
       "</tr>\n",
       "<tr>\n",
       "  <th>x1</th>     <td>0.2524</td>   <td>0.2006</td>  <td>1.2580</td>  <td>0.2091</td>  <td>-0.1420</td> <td>0.6468</td> \n",
       "</tr>\n",
       "<tr>\n",
       "  <th>x2</th>     <td>-0.0083</td>  <td>0.0089</td>  <td>-0.9311</td> <td>0.3524</td>  <td>-0.0257</td> <td>0.0092</td> \n",
       "</tr>\n",
       "<tr>\n",
       "  <th>x3</th>     <td>-0.0385</td>  <td>0.0291</td>  <td>-1.3224</td> <td>0.1868</td>  <td>-0.0957</td> <td>0.0187</td> \n",
       "</tr>\n",
       "<tr>\n",
       "  <th>x4</th>     <td>0.0001</td>   <td>0.0006</td>  <td>0.1751</td>  <td>0.8611</td>  <td>-0.0011</td> <td>0.0013</td> \n",
       "</tr>\n",
       "<tr>\n",
       "  <th>x5</th>     <td>-2.1171</td>  <td>2.3080</td>  <td>-0.9173</td> <td>0.3595</td>  <td>-6.6546</td> <td>2.4203</td> \n",
       "</tr>\n",
       "<tr>\n",
       "  <th>x6</th>     <td>6.0460</td>   <td>1.6428</td>  <td>3.6802</td>  <td>0.0003</td>  <td>2.8162</td>  <td>9.2758</td> \n",
       "</tr>\n",
       "<tr>\n",
       "  <th>x7</th>     <td>-1.3757</td>  <td>1.1786</td>  <td>-1.1673</td> <td>0.2438</td>  <td>-3.6928</td> <td>0.9413</td> \n",
       "</tr>\n",
       "<tr>\n",
       "  <th>x8</th>     <td>-0.8200</td>  <td>2.3402</td>  <td>-0.3504</td> <td>0.7262</td>  <td>-5.4208</td> <td>3.7808</td> \n",
       "</tr>\n",
       "<tr>\n",
       "  <th>x9</th>     <td>-0.5005</td>  <td>0.8568</td>  <td>-0.5842</td> <td>0.5594</td>  <td>-2.1849</td> <td>1.1838</td> \n",
       "</tr>\n",
       "<tr>\n",
       "  <th>x10</th>    <td>-7.7307</td>  <td>6.3578</td>  <td>-1.2159</td> <td>0.2247</td> <td>-20.2300</td> <td>4.7686</td> \n",
       "</tr>\n",
       "<tr>\n",
       "  <th>x11</th>    <td>-0.6535</td>  <td>0.3523</td>  <td>-1.8546</td> <td>0.0644</td>  <td>-1.3462</td> <td>0.0392</td> \n",
       "</tr>\n",
       "<tr>\n",
       "  <th>x12</th>    <td>-0.0237</td>  <td>0.0410</td>  <td>-0.5788</td> <td>0.5631</td>  <td>-0.1044</td> <td>0.0569</td> \n",
       "</tr>\n",
       "<tr>\n",
       "  <th>x13</th>    <td>0.0619</td>   <td>0.0496</td>  <td>1.2490</td>  <td>0.2124</td>  <td>-0.0355</td> <td>0.1593</td> \n",
       "</tr>\n",
       "<tr>\n",
       "  <th>x14</th>    <td>-0.0002</td>  <td>0.0018</td>  <td>-0.0876</td> <td>0.9303</td>  <td>-0.0037</td> <td>0.0034</td> \n",
       "</tr>\n",
       "<tr>\n",
       "  <th>x15</th>   <td>-18.7181</td>  <td>7.2611</td>  <td>-2.5779</td> <td>0.0103</td> <td>-32.9934</td> <td>-4.4428</td>\n",
       "</tr>\n",
       "<tr>\n",
       "  <th>x16</th>    <td>-1.7424</td>  <td>2.4570</td>  <td>-0.7092</td> <td>0.4786</td>  <td>-6.5728</td> <td>3.0880</td> \n",
       "</tr>\n",
       "<tr>\n",
       "  <th>x17</th>    <td>4.0012</td>   <td>1.4780</td>  <td>2.7072</td>  <td>0.0071</td>  <td>1.0955</td>  <td>6.9070</td> \n",
       "</tr>\n",
       "<tr>\n",
       "  <th>x18</th>   <td>-10.9519</td>  <td>6.7761</td>  <td>-1.6162</td> <td>0.1068</td> <td>-24.2737</td> <td>2.3699</td> \n",
       "</tr>\n",
       "<tr>\n",
       "  <th>x19</th>    <td>1.6453</td>   <td>3.0954</td>  <td>0.5315</td>  <td>0.5953</td>  <td>-4.4403</td> <td>7.7309</td> \n",
       "</tr>\n",
       "<tr>\n",
       "  <th>x20</th>    <td>12.6612</td>  <td>13.0358</td> <td>0.9713</td>  <td>0.3320</td> <td>-12.9671</td> <td>38.2894</td>\n",
       "</tr>\n",
       "<tr>\n",
       "  <th>x21</th>    <td>-0.1697</td>  <td>0.0652</td>  <td>-2.6045</td> <td>0.0095</td>  <td>-0.2979</td> <td>-0.0416</td>\n",
       "</tr>\n",
       "<tr>\n",
       "  <th>x22</th>    <td>-0.0041</td>  <td>0.0077</td>  <td>-0.5272</td> <td>0.5983</td>  <td>-0.0193</td> <td>0.0111</td> \n",
       "</tr>\n",
       "<tr>\n",
       "  <th>x23</th>    <td>0.0017</td>   <td>0.0066</td>  <td>0.2526</td>  <td>0.8007</td>  <td>-0.0113</td> <td>0.0147</td> \n",
       "</tr>\n",
       "<tr>\n",
       "  <th>x24</th>    <td>0.0009</td>   <td>0.0004</td>  <td>2.6258</td>  <td>0.0090</td>  <td>0.0002</td>  <td>0.0017</td> \n",
       "</tr>\n",
       "<tr>\n",
       "  <th>x25</th>    <td>0.2240</td>   <td>1.5747</td>  <td>0.1422</td>  <td>0.8870</td>  <td>-2.8719</td> <td>3.3198</td> \n",
       "</tr>\n",
       "<tr>\n",
       "  <th>x26</th>    <td>-0.2398</td>  <td>0.4404</td>  <td>-0.5444</td> <td>0.5865</td>  <td>-1.1056</td> <td>0.6261</td> \n",
       "</tr>\n",
       "<tr>\n",
       "  <th>x27</th>    <td>-0.4139</td>  <td>0.3034</td>  <td>-1.3643</td> <td>0.1733</td>  <td>-1.0104</td> <td>0.1826</td> \n",
       "</tr>\n",
       "<tr>\n",
       "  <th>x28</th>    <td>-1.1126</td>  <td>1.0658</td>  <td>-1.0439</td> <td>0.2972</td>  <td>-3.2080</td> <td>0.9827</td> \n",
       "</tr>\n",
       "<tr>\n",
       "  <th>x29</th>    <td>-0.7670</td>  <td>0.5649</td>  <td>-1.3578</td> <td>0.1753</td>  <td>-1.8775</td> <td>0.3435</td> \n",
       "</tr>\n",
       "<tr>\n",
       "  <th>x30</th>    <td>-2.8485</td>  <td>2.6368</td>  <td>-1.0803</td> <td>0.2807</td>  <td>-8.0324</td> <td>2.3353</td> \n",
       "</tr>\n",
       "</table>\n",
       "<table class=\"simpletable\">\n",
       "<tr>\n",
       "     <td>Omnibus:</td>    <td>21.609</td>  <td>Durbin-Watson:</td>    <td>2.105</td> \n",
       "</tr>\n",
       "<tr>\n",
       "  <td>Prob(Omnibus):</td>  <td>0.000</td> <td>Jarque-Bera (JB):</td> <td>23.509</td> \n",
       "</tr>\n",
       "<tr>\n",
       "       <td>Skew:</td>     <td>-0.565</td>     <td>Prob(JB):</td>      <td>0.000</td> \n",
       "</tr>\n",
       "<tr>\n",
       "     <td>Kurtosis:</td>    <td>3.222</td>  <td>Condition No.:</td>   <td>1492152</td>\n",
       "</tr>\n",
       "</table>"
      ],
      "text/plain": [
       "<class 'statsmodels.iolib.summary2.Summary'>\n",
       "\"\"\"\n",
       "                 Results: Ordinary least squares\n",
       "==================================================================\n",
       "Model:              OLS              Adj. R-squared:     0.767    \n",
       "Dependent Variable: y                AIC:                -0.3320  \n",
       "Date:               2019-11-12 22:51 BIC:                125.3556 \n",
       "No. Observations:   426              Log-Likelihood:     31.166   \n",
       "Df Model:           30               F-statistic:        47.73    \n",
       "Df Residuals:       395              Prob (F-statistic): 3.90e-112\n",
       "R-squared:          0.784            Scale:              0.054550 \n",
       "--------------------------------------------------------------------\n",
       "          Coef.     Std.Err.      t      P>|t|     [0.025     0.975]\n",
       "--------------------------------------------------------------------\n",
       "const      3.8053     0.5294    7.1886   0.0000     2.7646    4.8460\n",
       "x1         0.2524     0.2006    1.2580   0.2091    -0.1420    0.6468\n",
       "x2        -0.0083     0.0089   -0.9311   0.3524    -0.0257    0.0092\n",
       "x3        -0.0385     0.0291   -1.3224   0.1868    -0.0957    0.0187\n",
       "x4         0.0001     0.0006    0.1751   0.8611    -0.0011    0.0013\n",
       "x5        -2.1171     2.3080   -0.9173   0.3595    -6.6546    2.4203\n",
       "x6         6.0460     1.6428    3.6802   0.0003     2.8162    9.2758\n",
       "x7        -1.3757     1.1786   -1.1673   0.2438    -3.6928    0.9413\n",
       "x8        -0.8200     2.3402   -0.3504   0.7262    -5.4208    3.7808\n",
       "x9        -0.5005     0.8568   -0.5842   0.5594    -2.1849    1.1838\n",
       "x10       -7.7307     6.3578   -1.2159   0.2247   -20.2300    4.7686\n",
       "x11       -0.6535     0.3523   -1.8546   0.0644    -1.3462    0.0392\n",
       "x12       -0.0237     0.0410   -0.5788   0.5631    -0.1044    0.0569\n",
       "x13        0.0619     0.0496    1.2490   0.2124    -0.0355    0.1593\n",
       "x14       -0.0002     0.0018   -0.0876   0.9303    -0.0037    0.0034\n",
       "x15      -18.7181     7.2611   -2.5779   0.0103   -32.9934   -4.4428\n",
       "x16       -1.7424     2.4570   -0.7092   0.4786    -6.5728    3.0880\n",
       "x17        4.0012     1.4780    2.7072   0.0071     1.0955    6.9070\n",
       "x18      -10.9519     6.7761   -1.6162   0.1068   -24.2737    2.3699\n",
       "x19        1.6453     3.0954    0.5315   0.5953    -4.4403    7.7309\n",
       "x20       12.6612    13.0358    0.9713   0.3320   -12.9671   38.2894\n",
       "x21       -0.1697     0.0652   -2.6045   0.0095    -0.2979   -0.0416\n",
       "x22       -0.0041     0.0077   -0.5272   0.5983    -0.0193    0.0111\n",
       "x23        0.0017     0.0066    0.2526   0.8007    -0.0113    0.0147\n",
       "x24        0.0009     0.0004    2.6258   0.0090     0.0002    0.0017\n",
       "x25        0.2240     1.5747    0.1422   0.8870    -2.8719    3.3198\n",
       "x26       -0.2398     0.4404   -0.5444   0.5865    -1.1056    0.6261\n",
       "x27       -0.4139     0.3034   -1.3643   0.1733    -1.0104    0.1826\n",
       "x28       -1.1126     1.0658   -1.0439   0.2972    -3.2080    0.9827\n",
       "x29       -0.7670     0.5649   -1.3578   0.1753    -1.8775    0.3435\n",
       "x30       -2.8485     2.6368   -1.0803   0.2807    -8.0324    2.3353\n",
       "------------------------------------------------------------------\n",
       "Omnibus:              21.609       Durbin-Watson:          2.105  \n",
       "Prob(Omnibus):        0.000        Jarque-Bera (JB):       23.509 \n",
       "Skew:                 -0.565       Prob(JB):               0.000  \n",
       "Kurtosis:             3.222        Condition No.:          1492152\n",
       "==================================================================\n",
       "* The condition number is large (1e+06). This might indicate\n",
       "strong multicollinearity or other numerical problems.\n",
       "\"\"\""
      ]
     },
     "execution_count": 9,
     "metadata": {},
     "output_type": "execute_result"
    }
   ],
   "source": [
    "results.summary2()"
   ]
  },
  {
   "cell_type": "code",
   "execution_count": 32,
   "metadata": {},
   "outputs": [
    {
     "data": {
      "image/png": "[encoded data removed]",
      "text/plain": [
       "<Figure size 432x288 with 1 Axes>"
      ]
     },
     "metadata": {
      "needs_background": "light"
     },
     "output_type": "display_data"
    }
   ],
   "source": [
    "# Построим график значимости признаков\n",
    "n_feature = cancer.data.shape[1]\n",
    "plt.barh(range(n_feature), results.params[1:], align='center') # to look at the coefs\n",
    "plt.yticks(np.arange(n_feature), cancer.feature_names)\n",
    "plt.xlabel('Feature Importance')\n",
    "plt.ylabel('Feature')\n",
    "plt.show()"
   ]
  },
  {
   "cell_type": "markdown",
   "metadata": {},
   "source": [
    "# Регуляризация"
   ]
  },
  {
   "cell_type": "markdown",
   "metadata": {},
   "source": [
    "## L1 Lasso regularisation:"
   ]
  },
  {
   "cell_type": "markdown",
   "metadata": {},
   "source": [
    "Объяснение ближе к математическому: \n",
    "    https://stats.stackexchange.com/questions/45643/why-l1-norm-for-sparse-models"
   ]
  },
  {
   "cell_type": "code",
   "execution_count": 11,
   "metadata": {},
   "outputs": [
    {
     "name": "stdout",
     "output_type": "stream",
     "text": [
      "Accuracy on the training set: 0.960\n",
      "Accuracy on the test set: 0.958\n"
     ]
    }
   ],
   "source": [
    "log_reg = LogisticRegression(penalty='l1') # посмотрим, что это значит в справке\n",
    "log_reg.fit(X_train, y_train)\n",
    "\n",
    "print('Accuracy on the training set: {:.3f}'.format(log_reg.score(X_train,y_train)))\n",
    "print('Accuracy on the test set: {:.3f}'.format(log_reg.score(X_test,y_test)))"
   ]
  },
  {
   "cell_type": "code",
   "execution_count": 38,
   "metadata": {},
   "outputs": [
    {
     "data": {
      "image/png": "[encoded data removed]",
      "text/plain": [
       "<Figure size 432x288 with 1 Axes>"
      ]
     },
     "metadata": {
      "needs_background": "light"
     },
     "output_type": "display_data"
    }
   ],
   "source": [
    "# График значимости\n",
    "n_feature = cancer.data.shape[1]\n",
    "plt.barh(range(n_feature), log_reg.coef_[0], align='center') # to look at the coefs\n",
    "plt.yticks(np.arange(n_feature), cancer.feature_names)\n",
    "plt.xlabel('Feature Importance')\n",
    "plt.ylabel('Feature')\n",
    "plt.show()"
   ]
  },
  {
   "cell_type": "raw",
   "metadata": {},
   "source": [
    "Сколько осталось ненулевых весов в модели?"
   ]
  },
  {
   "cell_type": "code",
   "execution_count": 77,
   "metadata": {},
   "outputs": [
    {
     "data": {
      "text/plain": [
       "5"
      ]
     },
     "execution_count": 77,
     "metadata": {},
     "output_type": "execute_result"
    }
   ],
   "source": [
    "len(log_reg.coef_[log_reg.coef_!=0])"
   ]
  },
  {
   "cell_type": "markdown",
   "metadata": {},
   "source": [
    "Нужно ли стандартизовывать данные перед обучением и как это влияет на построение модели?"
   ]
  },
  {
   "cell_type": "code",
   "execution_count": 42,
   "metadata": {},
   "outputs": [],
   "source": [
    "from sklearn.preprocessing import StandardScaler\n",
    "from sklearn.preprocessing import MinMaxScaler\n",
    "\n",
    "scaler= MinMaxScaler() #StandardScaler(with_std=0.5)\n",
    "X_train_sc = scaler.fit_transform(X_train)"
   ]
  },
  {
   "cell_type": "code",
   "execution_count": 43,
   "metadata": {},
   "outputs": [
    {
     "data": {
      "text/plain": [
       "(3432.0, 0.0)"
      ]
     },
     "execution_count": 43,
     "metadata": {},
     "output_type": "execute_result"
    }
   ],
   "source": [
    "# посмотрим на краевые значения\n",
    "X_train.max(), X_train.min()"
   ]
  },
  {
   "cell_type": "code",
   "execution_count": 44,
   "metadata": {},
   "outputs": [
    {
     "data": {
      "text/plain": [
       "(1.0, 0.0)"
      ]
     },
     "execution_count": 44,
     "metadata": {},
     "output_type": "execute_result"
    }
   ],
   "source": [
    "X_train_sc.max(), X_train_sc.min()"
   ]
  },
  {
   "cell_type": "code",
   "execution_count": 45,
   "metadata": {},
   "outputs": [
    {
     "name": "stdout",
     "output_type": "stream",
     "text": [
      "Accuracy on the training set: 0.953\n",
      "Accuracy on the training set: 0.958\n"
     ]
    },
    {
     "data": {
      "image/png": "[encoded data removed]",
      "text/plain": [
       "<Figure size 432x288 with 1 Axes>"
      ]
     },
     "metadata": {
      "needs_background": "light"
     },
     "output_type": "display_data"
    }
   ],
   "source": [
    "log_reg = LogisticRegression(penalty='l2') # check the model params\n",
    "log_reg.fit(X_train, y_train)\n",
    "\n",
    "print('Accuracy on the training set: {:.3f}'.format(log_reg.score(X_train,y_train)))\n",
    "print('Accuracy on the training set: {:.3f}'.format(log_reg.score(X_test,y_test)))\n",
    "\n",
    "#Feature Importance\n",
    "n_feature = cancer.data.shape[1]\n",
    "plt.barh(range(n_feature), log_reg.coef_[0], align='center') # to look at the coefs\n",
    "plt.yticks(np.arange(n_feature), cancer.feature_names)\n",
    "plt.xlabel('Feature Importance')\n",
    "plt.ylabel('Feature')\n",
    "plt.show()"
   ]
  },
  {
   "cell_type": "code",
   "execution_count": 46,
   "metadata": {},
   "outputs": [
    {
     "name": "stdout",
     "output_type": "stream",
     "text": [
      "Accuracy on the training set: 0.927\n",
      "Accuracy on the training set: 0.923\n"
     ]
    },
    {
     "data": {
      "image/png": "[encoded data removed]",
      "text/plain": [
       "<Figure size 432x288 with 1 Axes>"
      ]
     },
     "metadata": {
      "needs_background": "light"
     },
     "output_type": "display_data"
    }
   ],
   "source": [
    "log_reg = LogisticRegression(penalty='l1', C=0.022) # check the model params\n",
    "log_reg.fit(X_train, y_train)\n",
    "\n",
    "print('Accuracy on the training set: {:.3f}'.format(log_reg.score(X_train,y_train)))\n",
    "print('Accuracy on the training set: {:.3f}'.format(log_reg.score(X_test,y_test)))\n",
    "\n",
    "#Feature Importance\n",
    "n_feature = cancer.data.shape[1]\n",
    "plt.barh(range(n_feature), log_reg.coef_[0], align='center') # to look at the coefs\n",
    "plt.yticks(np.arange(n_feature), cancer.feature_names)\n",
    "plt.xlabel('Feature Importance')\n",
    "plt.ylabel('Feature')\n",
    "plt.show()"
   ]
  },
  {
   "cell_type": "markdown",
   "metadata": {},
   "source": [
    "#### Сколько осталось ненулевых коэффициентов после применения резуляризации?"
   ]
  },
  {
   "cell_type": "code",
   "execution_count": 47,
   "metadata": {},
   "outputs": [
    {
     "data": {
      "text/plain": [
       "5"
      ]
     },
     "execution_count": 47,
     "metadata": {},
     "output_type": "execute_result"
    }
   ],
   "source": [
    "len(log_reg.coef_[log_reg.coef_!=0])"
   ]
  },
  {
   "cell_type": "markdown",
   "metadata": {},
   "source": [
    "## Elastic net (L1 & L2 regularisation):"
   ]
  },
  {
   "cell_type": "code",
   "execution_count": 48,
   "metadata": {},
   "outputs": [],
   "source": [
    "results = model.fit_regularized() "
   ]
  },
  {
   "cell_type": "code",
   "execution_count": 49,
   "metadata": {},
   "outputs": [
    {
     "data": {
      "image/png": "[encoded data removed]",
      "text/plain": [
       "<Figure size 432x288 with 1 Axes>"
      ]
     },
     "metadata": {
      "needs_background": "light"
     },
     "output_type": "display_data"
    }
   ],
   "source": [
    "#Feature Importance\n",
    "n_feature = cancer.data.shape[1]\n",
    "plt.barh(range(n_feature), results.params[1:], align='center') # to look at the coefs\n",
    "plt.yticks(np.arange(n_feature), cancer.feature_names)\n",
    "plt.xlabel('Feature Importance')\n",
    "plt.ylabel('Feature')\n",
    "plt.show()"
   ]
  },
  {
   "cell_type": "code",
   "execution_count": 50,
   "metadata": {},
   "outputs": [
    {
     "data": {
      "text/plain": [
       "31"
      ]
     },
     "execution_count": 50,
     "metadata": {},
     "output_type": "execute_result"
    }
   ],
   "source": [
    "len(results.params)"
   ]
  },
  {
   "cell_type": "code",
   "execution_count": 51,
   "metadata": {},
   "outputs": [
    {
     "data": {
      "image/png": "[encoded data removed]",
      "text/plain": [
       "<Figure size 432x288 with 1 Axes>"
      ]
     },
     "metadata": {
      "needs_background": "light"
     },
     "output_type": "display_data"
    }
   ],
   "source": [
    "plt.barh(range(n_feature), abs(results.params[1:]), align='center') # to look at the coefs\n",
    "plt.yticks(np.arange(n_feature), cancer.feature_names)\n",
    "plt.xlabel('Feature Importance')\n",
    "plt.ylabel('Feature')\n",
    "plt.show()"
   ]
  },
  {
   "cell_type": "markdown",
   "metadata": {},
   "source": [
    "### Вопросы:\n",
    "\n",
    "- Помогла ли l1 жесткася регуляризация избежать переобучения?\n",
    "- Переобучилась ли модель на нескольких характеристиках?\n",
    "- Как это проверить?"
   ]
  },
  {
   "cell_type": "markdown",
   "metadata": {
    "collapsed": true,
    "slideshow": {
     "slide_type": "slide"
    }
   },
   "source": [
    "## 2. k Nearest Neighbors"
   ]
  },
  {
   "cell_type": "markdown",
   "metadata": {
    "slideshow": {
     "slide_type": "fragment"
    }
   },
   "source": [
    "\n",
    "\n",
    "`Sklearn`:\n",
    "<a href='http://scikit-learn.org/stable/modules/generated/sklearn.neighbors.KNeighborsRegressor.html'>Regressor</a>\n",
    "<a href='http://scikit-learn.org/stable/modules/generated/sklearn.neighbors.KNeighborsClassifier.html'>Classifier</a>"
   ]
  },
  {
   "cell_type": "code",
   "execution_count": 52,
   "metadata": {
    "ExecuteTime": {
     "end_time": "2018-08-01T16:18:35.634420Z",
     "start_time": "2018-08-01T16:18:32.928271Z"
    },
    "slideshow": {
     "slide_type": "fragment"
    }
   },
   "outputs": [],
   "source": [
    "import seaborn as sns\n",
    "import numpy as np\n",
    "import matplotlib.pyplot as plt\n",
    "from sklearn.datasets import load_iris"
   ]
  },
  {
   "cell_type": "markdown",
   "metadata": {
    "slideshow": {
     "slide_type": "slide"
    }
   },
   "source": [
    "Тренируем"
   ]
  },
  {
   "cell_type": "code",
   "execution_count": 53,
   "metadata": {
    "ExecuteTime": {
     "end_time": "2018-08-01T16:18:43.909285Z",
     "start_time": "2018-08-01T16:18:43.799059Z"
    },
    "slideshow": {
     "slide_type": "slide"
    }
   },
   "outputs": [
    {
     "name": "stdout",
     "output_type": "stream",
     "text": [
      "0.9777777777777777\n"
     ]
    }
   ],
   "source": [
    "iris = load_iris()\n",
    "X = iris.data\n",
    "y = iris.target\n",
    "\n",
    "from sklearn.model_selection import train_test_split\n",
    "X_train, X_test, y_train, y_test = train_test_split(\n",
    "    X, y, test_size=0.3, random_state=42, stratify=y)\n",
    "\n",
    "\n",
    "#######\n",
    "from sklearn.neighbors import KNeighborsClassifier\n",
    "clf = KNeighborsClassifier()\n",
    "clf.fit(X_train, y_train)\n",
    "print(clf.score(X_test, y_test))"
   ]
  },
  {
   "cell_type": "code",
   "execution_count": 54,
   "metadata": {
    "ExecuteTime": {
     "end_time": "2018-08-01T15:22:07.852739Z",
     "start_time": "2018-08-01T15:22:07.843104Z"
    },
    "slideshow": {
     "slide_type": "slide"
    }
   },
   "outputs": [
    {
     "data": {
      "text/plain": [
       "KNeighborsClassifier(algorithm='auto', leaf_size=30, metric='minkowski',\n",
       "                     metric_params=None, n_jobs=None, n_neighbors=5, p=2,\n",
       "                     weights='uniform')"
      ]
     },
     "execution_count": 54,
     "metadata": {},
     "output_type": "execute_result"
    }
   ],
   "source": [
    "clf"
   ]
  },
  {
   "cell_type": "markdown",
   "metadata": {
    "slideshow": {
     "slide_type": "slide"
    }
   },
   "source": [
    "# Метрики и ядерные функции:"
   ]
  },
  {
   "cell_type": "markdown",
   "metadata": {},
   "source": [
    "### Метрики, реализованные в `sklearn`:\n",
    "\n",
    "https://scikit-learn.org/stable/modules/generated/sklearn.neighbors.DistanceMetric.html\n",
    "\n",
    "### Специальные метрики для токенизации в пакете:\n",
    "https://pypi.org/project/Distance/\n",
    "\n",
    "### Или здесь:\n",
    "\n",
    "http://www.nltk.org/_modules/nltk/align/bleu_score.html"
   ]
  },
  {
   "cell_type": "code",
   "execution_count": 55,
   "metadata": {},
   "outputs": [],
   "source": [
    "from sklearn.neighbors import KNeighborsClassifier\n",
    "\n",
    "knn = KNeighborsClassifier()"
   ]
  },
  {
   "cell_type": "markdown",
   "metadata": {},
   "source": [
    "Какая метрика стоит по дефолту?"
   ]
  },
  {
   "cell_type": "code",
   "execution_count": 56,
   "metadata": {},
   "outputs": [
    {
     "data": {
      "text/plain": [
       "KNeighborsClassifier(algorithm='auto', leaf_size=30, metric='minkowski',\n",
       "                     metric_params=None, n_jobs=None, n_neighbors=5, p=2,\n",
       "                     weights='uniform')"
      ]
     },
     "execution_count": 56,
     "metadata": {},
     "output_type": "execute_result"
    }
   ],
   "source": [
    "knn"
   ]
  },
  {
   "cell_type": "code",
   "execution_count": 57,
   "metadata": {
    "ExecuteTime": {
     "end_time": "2018-08-01T16:37:13.800932Z",
     "start_time": "2018-08-01T16:37:11.260639Z"
    },
    "slideshow": {
     "slide_type": "fragment"
    }
   },
   "outputs": [
    {
     "data": {
      "image/png": "[encoded data removed]",
      "text/plain": [
       "<Figure size 432x288 with 1 Axes>"
      ]
     },
     "metadata": {
      "needs_background": "light"
     },
     "output_type": "display_data"
    }
   ],
   "source": [
    "from sklearn.neighbors import KNeighborsClassifier\n",
    "\n",
    "pair=[0, 1]\n",
    "X = iris.data[:, [0, 1]]\n",
    "y = iris.target\n",
    "\n",
    "n_classes = 3\n",
    "plot_colors = ['g', 'gold', 'black']\n",
    "plot_step = 0.005\n",
    "\n",
    "x_min, x_max = X[:, 0].min() - 1, X[:, 0].max() + 1\n",
    "y_min, y_max = X[:, 1].min() - 1, X[:, 1].max() + 1\n",
    "xx, yy = np.meshgrid(np.arange(x_min, x_max, plot_step),\n",
    "                     np.arange(y_min, y_max, plot_step))\n",
    "\n",
    "\n",
    "clf = KNeighborsClassifier(n_neighbors=10).fit(X, y)\n",
    "\n",
    "Z = clf.predict(np.c_[xx.ravel(), yy.ravel()])\n",
    "Z = Z.reshape(xx.shape)\n",
    "cs = plt.contourf(xx, yy, Z, cmap='Accent')\n",
    "\n",
    "plt.xlabel(iris.feature_names[pair[0]])\n",
    "plt.ylabel(iris.feature_names[pair[1]])\n",
    "\n",
    "for i, color in zip(range(n_classes), plot_colors):\n",
    "    idx = np.where(y == i)\n",
    "    plt.scatter(X[idx, 0], X[idx, 1], c=color, label=iris.target_names[i],\n",
    "                cmap=plt.cm.Paired)"
   ]
  },
  {
   "cell_type": "code",
   "execution_count": 58,
   "metadata": {},
   "outputs": [
    {
     "data": {
      "text/plain": [
       "0.8466666666666667"
      ]
     },
     "execution_count": 58,
     "metadata": {},
     "output_type": "execute_result"
    }
   ],
   "source": [
    "clf.score(X,y)"
   ]
  },
  {
   "cell_type": "markdown",
   "metadata": {},
   "source": [
    "## Levenstein distance"
   ]
  },
  {
   "cell_type": "code",
   "execution_count": 59,
   "metadata": {
    "scrolled": true
   },
   "outputs": [],
   "source": [
    "# !pip install Distance"
   ]
  },
  {
   "cell_type": "code",
   "execution_count": 60,
   "metadata": {},
   "outputs": [],
   "source": [
    "import distance"
   ]
  },
  {
   "cell_type": "code",
   "execution_count": 61,
   "metadata": {},
   "outputs": [
    {
     "name": "stdout",
     "output_type": "stream",
     "text": [
      "3\n",
      "1\n"
     ]
    }
   ],
   "source": [
    "print(distance.levenshtein(\"lenvestein\", \"levenshtein\"))\n",
    "print(distance.hamming(\"hamming\", \"hamning\"))"
   ]
  },
  {
   "cell_type": "code",
   "execution_count": 62,
   "metadata": {},
   "outputs": [
    {
     "data": {
      "text/plain": [
       "1"
      ]
     },
     "execution_count": 62,
     "metadata": {},
     "output_type": "execute_result"
    }
   ],
   "source": [
    "t1 = (\"de\", \"ci\", \"si\", \"ve\")\n",
    "t2 = (\"de\", \"ri\", \"si\", \"ve\")\n",
    "distance.levenshtein(t1, t2)"
   ]
  },
  {
   "cell_type": "code",
   "execution_count": 63,
   "metadata": {},
   "outputs": [
    {
     "data": {
      "text/plain": [
       "20"
      ]
     },
     "execution_count": 63,
     "metadata": {},
     "output_type": "execute_result"
    }
   ],
   "source": [
    "string = 'This is a small sentence to show how different this sentence'\n",
    "string_1 = 'This is a small sentence to show how different this sentence is to the first one'\n",
    "distance.levenshtein(string, string_1)"
   ]
  },
  {
   "cell_type": "code",
   "execution_count": 64,
   "metadata": {},
   "outputs": [
    {
     "name": "stdout",
     "output_type": "stream",
     "text": [
      "0.4548019047027907\n"
     ]
    }
   ],
   "source": [
    "import nltk\n",
    "\n",
    "hypothesis = ['It', 'is', 'a', 'cat', 'at', 'room']\n",
    "reference = ['It', 'is', 'a', 'cat', 'inside', 'the', 'room']\n",
    "#there may be several references\n",
    "BLEUscore = nltk.translate.bleu_score.sentence_bleu([reference], hypothesis)\n",
    "print (BLEUscore)"
   ]
  },
  {
   "cell_type": "markdown",
   "metadata": {
    "slideshow": {
     "slide_type": "slide"
    }
   },
   "source": [
    "# KNN Regression:"
   ]
  },
  {
   "cell_type": "code",
   "execution_count": 65,
   "metadata": {
    "ExecuteTime": {
     "end_time": "2018-08-01T16:42:19.129848Z",
     "start_time": "2018-08-01T16:42:18.968192Z"
    },
    "slideshow": {
     "slide_type": "subslide"
    }
   },
   "outputs": [
    {
     "data": {
      "image/png": "[encoded data removed]",
      "text/plain": [
       "<Figure size 432x288 with 1 Axes>"
      ]
     },
     "metadata": {
      "needs_background": "light"
     },
     "output_type": "display_data"
    }
   ],
   "source": [
    "from sklearn.neighbors import KNeighborsRegressor\n",
    "\n",
    "rng = np.random.RandomState(1)\n",
    "X = np.sort(5 * rng.rand(80, 1), axis=0)\n",
    "y = np.sin(X).ravel()\n",
    "# y = np.piecewise(X.flatten(), \n",
    "#                  [X.flatten() < 3, X.flatten() >= 3], [-1, 1]).ravel()\n",
    "y[::2] += 1 * (0.5 - rng.rand(40))\n",
    "\n",
    "X_test = np.arange(0.0, 5.0, 0.01)[:, np.newaxis]\n",
    "\n",
    "clf = KNeighborsRegressor(n_neighbors=30, \n",
    "                          metric='chebyshev', \n",
    "                          #weights=gaussian_kernel\n",
    "                         ).fit(X, y)\n",
    "y_ = clf.predict(X_test)\n",
    "plt.scatter(X, y, c='darkorange', label='data')\n",
    "plt.plot(X_test, y_, c='cornflowerblue', label='prediction');"
   ]
  },
  {
   "cell_type": "markdown",
   "metadata": {},
   "source": [
    "## Identifying Best Value Of k"
   ]
  },
  {
   "cell_type": "code",
   "execution_count": 66,
   "metadata": {},
   "outputs": [],
   "source": [
    "# Load libraries\n",
    "from sklearn.neighbors import KNeighborsClassifier\n",
    "from sklearn import datasets\n",
    "from sklearn.preprocessing import StandardScaler\n",
    "from sklearn.pipeline import Pipeline, FeatureUnion\n",
    "from sklearn.model_selection import GridSearchCV"
   ]
  },
  {
   "cell_type": "code",
   "execution_count": 67,
   "metadata": {},
   "outputs": [],
   "source": [
    "# Load data\n",
    "iris = datasets.load_iris()\n",
    "X = iris.data\n",
    "y = iris.target"
   ]
  },
  {
   "cell_type": "code",
   "execution_count": 68,
   "metadata": {},
   "outputs": [],
   "source": [
    "# Create standardizer\n",
    "standardizer = StandardScaler()\n",
    "\n",
    "# Standardize features\n",
    "X_std = standardizer.fit_transform(X)"
   ]
  },
  {
   "cell_type": "code",
   "execution_count": 69,
   "metadata": {},
   "outputs": [],
   "source": [
    "# Fit a KNN classifier with 5 neighbors\n",
    "knn = KNeighborsClassifier(n_neighbors=5, metric='euclidean', n_jobs=-1).fit(X_std, y)"
   ]
  },
  {
   "cell_type": "code",
   "execution_count": 70,
   "metadata": {},
   "outputs": [],
   "source": [
    "# Create a pipeline\n",
    "pipe = Pipeline([('standardizer', standardizer), ('knn', knn)])\n",
    "\n",
    "# Create space of candidate values\n",
    "search_space = [{'knn__n_neighbors': [1, 2, 3, 4, 5, 6, 7, 8, 9, 10]}]"
   ]
  },
  {
   "cell_type": "code",
   "execution_count": 71,
   "metadata": {},
   "outputs": [],
   "source": [
    "# Create grid search \n",
    "clf = GridSearchCV(pipe, search_space, cv=5, verbose=0).fit(X_std, y)"
   ]
  },
  {
   "cell_type": "code",
   "execution_count": 72,
   "metadata": {},
   "outputs": [
    {
     "data": {
      "text/plain": [
       "6"
      ]
     },
     "execution_count": 72,
     "metadata": {},
     "output_type": "execute_result"
    }
   ],
   "source": [
    "# Best neighborhood size (k)\n",
    "clf.best_estimator_.get_params()['knn__n_neighbors']"
   ]
  },
  {
   "cell_type": "code",
   "execution_count": 73,
   "metadata": {
    "scrolled": true
   },
   "outputs": [
    {
     "data": {
      "text/plain": [
       "<matplotlib.legend.Legend at 0x181bf192a08>"
      ]
     },
     "execution_count": 73,
     "metadata": {},
     "output_type": "execute_result"
    },
    {
     "data": {
      "image/png": "[encoded data removed]",
      "text/plain": [
       "<Figure size 432x288 with 1 Axes>"
      ]
     },
     "metadata": {
      "needs_background": "light"
     },
     "output_type": "display_data"
    }
   ],
   "source": [
    "from sklearn.model_selection import train_test_split\n",
    "#----------KNN Classifier \n",
    "X_train, X_test, y_train, y_test = train_test_split(cancer.data, cancer.target, stratify=cancer.target, random_state=66)\n",
    "\n",
    "training_accuracy = []\n",
    "test_accuracy = []\n",
    "\n",
    "#try KNN for diffrent k nearest neighbor from 1 to 15\n",
    "neighbors_setting = range(1,15)\n",
    "\n",
    "for n_neighbors in neighbors_setting:\n",
    "    knn = KNeighborsClassifier(n_neighbors=n_neighbors)\n",
    "    knn.fit(X_train,y_train)\n",
    "    training_accuracy.append(knn.score(X_train, y_train))\n",
    "    test_accuracy.append(knn.score(X_test, y_test))\n",
    " \n",
    "plt.plot(neighbors_setting,training_accuracy, label='Accuracy of the training set')\n",
    "plt.plot(neighbors_setting,test_accuracy, label='Accuracy of the test set')\n",
    "plt.ylabel('Accuracy')\n",
    "plt.xlabel('Number of Neighbors')\n",
    "plt.legend()\n",
    "\n",
    "#by looking at plot, best result accurs when n_neighbors is 6"
   ]
  },
  {
   "cell_type": "code",
   "execution_count": 74,
   "metadata": {},
   "outputs": [
    {
     "data": {
      "text/plain": [
       "0.916083916083916"
      ]
     },
     "execution_count": 74,
     "metadata": {},
     "output_type": "execute_result"
    }
   ],
   "source": [
    "knn.score(X_test,y_test)"
   ]
  },
  {
   "cell_type": "code",
   "execution_count": 75,
   "metadata": {},
   "outputs": [],
   "source": [
    "### Выберем лучую модель:"
   ]
  },
  {
   "cell_type": "code",
   "execution_count": 103,
   "metadata": {},
   "outputs": [
    {
     "name": "stdout",
     "output_type": "stream",
     "text": [
      "Fold # 0\n",
      "SCORE 0.9137931034482759\n",
      "Fold # 1\n",
      "SCORE 0.8793103448275862\n",
      "Fold # 2\n",
      "SCORE 0.8947368421052632\n",
      "Fold # 3\n",
      "SCORE 0.9649122807017544\n",
      "Fold # 4\n",
      "SCORE 0.9473684210526315\n",
      "Fold # 5\n",
      "SCORE 0.9298245614035088\n",
      "Fold # 6\n",
      "SCORE 0.9649122807017544\n",
      "Fold # 7\n",
      "SCORE 0.9285714285714286\n",
      "Fold # 8\n",
      "SCORE 0.8928571428571429\n",
      "Fold # 9\n",
      "SCORE 0.9464285714285714\n",
      "KNN <bound method SupervisedIntegerMixin.fit of KNeighborsClassifier(algorithm='auto', leaf_size=30, metric='minkowski',\n",
      "                     metric_params=None, n_jobs=None, n_neighbors=6, p=2,\n",
      "                     weights='uniform')>\n"
     ]
    }
   ],
   "source": [
    "from sklearn.model_selection import StratifiedKFold\n",
    "\n",
    "kfold = StratifiedKFold(n_splits = 10, random_state = 42)\n",
    "X = cancer.data\n",
    "y = cancer.target\n",
    "i = 0\n",
    "lst = []\n",
    "\n",
    "for train_index, test_index in kfold.split(X, y):\n",
    "    #(\"TRAIN:\", train_index, \"TEST:\", test_index)\n",
    "    # split train nd tets\n",
    "    #print(\"TRAIN:\", train_index, \"TEST:\", test_index)\n",
    "    X_train, X_test = X[train_index], X[test_index]\n",
    "    y_train, y_test = y[train_index], y[test_index]\n",
    "    print('Fold #', i)\n",
    "    i+=1\n",
    "    # fit model\n",
    "    knn.fit(X_train, y_train)\n",
    "    lst.append(knn.score(X_test, y_test))\n",
    "    print(\"SCORE\", knn.score(X_test,y_test))\n",
    "    \n",
    "print('KNN', knn.fit)\n",
    "          "
   ]
  },
  {
   "cell_type": "code",
   "execution_count": 101,
   "metadata": {},
   "outputs": [
    {
     "name": "stdout",
     "output_type": "stream",
     "text": [
      "Fold # 0\n",
      "SCORE 0.9137931034482759\n",
      "Fold # 1\n",
      "SCORE 0.8793103448275862\n",
      "Fold # 2\n",
      "SCORE 0.8947368421052632\n",
      "Fold # 3\n",
      "SCORE 0.9649122807017544\n",
      "Fold # 4\n",
      "SCORE 0.9473684210526315\n",
      "Fold # 5\n",
      "SCORE 0.9298245614035088\n",
      "Fold # 6\n",
      "SCORE 0.9649122807017544\n",
      "Fold # 7\n",
      "SCORE 0.9285714285714286\n",
      "Fold # 8\n",
      "SCORE 0.8928571428571429\n",
      "Fold # 9\n",
      "SCORE 0.9464285714285714\n"
     ]
    }
   ],
   "source": [
    "knn = KNeighborsClassifier(n_neighbors=6)\n",
    "i = 0\n",
    "lst_knn = []\n",
    "\n",
    "for train_index, test_index in kfold.split(X, y):\n",
    "    #(\"TRAIN:\", train_index, \"TEST:\", test_index)\n",
    "    # split train nd tets\n",
    "    #print(\"TRAIN:\", train_index, \"TEST:\", test_index)\n",
    "    X_train, X_test = X[train_index], X[test_index]\n",
    "    y_train, y_test = y[train_index], y[test_index]\n",
    "    print('Fold #', i)\n",
    "    i+=1\n",
    "    # fit model\n",
    "    knn.fit(X_train, y_train)\n",
    "    lst_knn.append(knn.score(X_test, y_test))\n",
    "    print(\"SCORE\", knn.score(X_test,y_test))"
   ]
  },
  {
   "cell_type": "markdown",
   "metadata": {},
   "source": [
    "## Унести домой: \n",
    "\n",
    "- l1 и l2 нормы для регуляризации\n",
    "- kNN - очень популярный алгоритм в тех случаях, когда объекты сравнимы и имеет место \"похожесть\" объектов.\n",
    "- kNN сильно зависит от метрики. А значит и от масштаба признаков. Перед применением нужно привести признаки к одной шкале\n",
    "- kNN плохо воспринимает большое (>100) количество признаков, т.к. объекты оказываются одинаково отдалены друг от друга в таких пространствах "
   ]
  }
 ],
 "metadata": {
  "kernelspec": {
   "display_name": "Python 3",
   "language": "python",
   "name": "python3"
  },
  "language_info": {
   "codemirror_mode": {
    "name": "ipython",
    "version": 3
   },
   "file_extension": ".py",
   "mimetype": "text/x-python",
   "name": "python",
   "nbconvert_exporter": "python",
   "pygments_lexer": "ipython3",
   "version": "3.7.4"
  }
 },
 "nbformat": 4,
 "nbformat_minor": 1
}
