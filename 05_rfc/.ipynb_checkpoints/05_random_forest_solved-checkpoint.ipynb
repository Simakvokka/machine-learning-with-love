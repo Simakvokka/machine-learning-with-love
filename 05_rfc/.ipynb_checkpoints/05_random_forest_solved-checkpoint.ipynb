{
 "cells": [
  {
   "cell_type": "markdown",
   "metadata": {
    "slideshow": {
     "slide_type": "slide"
    }
   },
   "source": [
    "# Введение в машинное обучение\n",
    "\n",
    "## Семинар #5\n",
    "\n",
    "### Екатерина Кондратьева\n",
    "\n",
    "ekaterina.kondrateva@skoltech.ru\n",
    "\n",
    "## Деревья решений (Decision Trees). Случайный лес (Random Forest)"
   ]
  },
  {
   "cell_type": "markdown",
   "metadata": {},
   "source": [
    "## 1. Деревья решений (Decision Trees)"
   ]
  },
  {
   "cell_type": "markdown",
   "metadata": {},
   "source": [
    "Дерево принятия решений (также может называться деревом классификации или регрессионным деревом) — средство поддержки принятия решений, использующееся в машинном обучении, анализе данных и статистике. Структура дерева представляет собой «листья» и «ветки». На рёбрах («ветках») дерева решения записаны атрибуты, от которых зависит целевая функция, в «листьях» записаны значения целевой функции, а в остальных узлах — атрибуты, по которым различаются случаи. Чтобы классифицировать новый случай, надо спуститься по дереву до листа и выдать соответствующее значение.  \n",
    "\n",
    "Источники:\n",
    "1. Лекция https://ru.coursera.org/lecture/supervised-learning/rieshaiushchiie-dieriev-ia-HZxD1 \n",
    "2. https://chrisalbon.com/machine_learning/trees_and_forests/visualize_a_decision_tree/\n",
    "3. https://habr.com/ru/post/171759/\n",
    "4. https://www.hse.ru/mirror/pubs/share/215285956"
   ]
  },
  {
   "cell_type": "code",
   "execution_count": 18,
   "metadata": {},
   "outputs": [],
   "source": [
    "#linear algebra\n",
    "import numpy as np\n",
    "#data structures\n",
    "import pandas as pd\n",
    "#ml models\n",
    "import scipy as sp\n",
    "\n",
    "#sklearn everything that can be needed\n",
    "from sklearn import datasets\n",
    "from sklearn.linear_model import LinearRegression\n",
    "from sklearn.neighbors import KNeighborsClassifier     \n",
    "from sklearn.linear_model import LogisticRegression    \n",
    "from sklearn.model_selection import train_test_split\n",
    "from sklearn.neighbors import KNeighborsClassifier\n",
    "from sklearn.tree import DecisionTreeClassifier\n",
    "from sklearn import metrics\n",
    "from sklearn.metrics import accuracy_score\n",
    "from sklearn.svm import SVR\n",
    "\n",
    "#plots\n",
    "import matplotlib.pyplot as plt\n",
    "%matplotlib inline\n",
    "#beautiful plots\n",
    "import seaborn as sns\n",
    "#linear regression\n",
    "import statsmodels.api as sm\n",
    "#set style for plots\n",
    "sns.set_style('darkgrid')\n",
    "#off the warnings\n",
    "import warnings\n",
    "warnings.filterwarnings(\"ignore\")"
   ]
  },
  {
   "cell_type": "markdown",
   "metadata": {},
   "source": [
    "### Recap прошлого занятия: классификация на выборке ирисов kNN"
   ]
  },
  {
   "cell_type": "code",
   "execution_count": 19,
   "metadata": {},
   "outputs": [
    {
     "name": "stdout",
     "output_type": "stream",
     "text": [
      "0.9777777777777777\n"
     ]
    }
   ],
   "source": [
    "import seaborn as sns\n",
    "import numpy as np\n",
    "import matplotlib.pyplot as plt\n",
    "from sklearn.datasets import load_iris\n",
    "\n",
    "iris = load_iris()\n",
    "X = iris.data\n",
    "y = iris.target\n",
    "\n",
    "from sklearn.model_selection import train_test_split\n",
    "X_train, X_test, y_train, y_test = train_test_split(X, y, test_size=0.3, random_state=42, stratify=y)\n",
    "\n",
    "\n",
    "clf = KNeighborsClassifier()\n",
    "clf.fit(X_train, y_train)\n",
    "print(clf.score(X_test, y_test))"
   ]
  },
  {
   "cell_type": "markdown",
   "metadata": {},
   "source": [
    "## Отрисовка решающего правила на KNN "
   ]
  },
  {
   "cell_type": "code",
   "execution_count": 23,
   "metadata": {},
   "outputs": [
    {
     "name": "stdout",
     "output_type": "stream",
     "text": [
      "0.9777777777777777\n"
     ]
    }
   ],
   "source": [
    "clf = KNeighborsClassifier()# почему у алгоритма нет random state?\n",
    "clf.fit(X_train, y_train)\n",
    "print(clf.score(X_test, y_test))"
   ]
  },
  {
   "cell_type": "code",
   "execution_count": 26,
   "metadata": {},
   "outputs": [
    {
     "name": "stdout",
     "output_type": "stream",
     "text": [
      "0.9777777777777777\n"
     ]
    }
   ],
   "source": [
    "clf = DecisionTreeClassifier(random_state = 0) # (random_state = 42)\n",
    "clf.fit(X_train, y_train)\n",
    "print(clf.score(X_test, y_test))"
   ]
  },
  {
   "cell_type": "markdown",
   "metadata": {},
   "source": [
    "### О чем говорит такая разность точности при изменение random_seeed?"
   ]
  },
  {
   "cell_type": "code",
   "execution_count": 25,
   "metadata": {},
   "outputs": [
    {
     "name": "stdout",
     "output_type": "stream",
     "text": [
      "Размерность данных, датасет  \"Ирисы\":  (150, 2)\n",
      "Размерность данных, уменьшенная до двух характеристик лдя отрисовки:  (150, 2)\n"
     ]
    },
    {
     "data": {
      "image/png": "[encoded data removed]",
      "text/plain": [
       "<Figure size 432x288 with 1 Axes>"
      ]
     },
     "metadata": {},
     "output_type": "display_data"
    }
   ],
   "source": [
    "pair=[0, 1]\n",
    "print ('Размерность данных, датасет  \"Ирисы\": ', X.shape)\n",
    "X = iris.data[:, [0, 1]]\n",
    "y = iris.target\n",
    "print ('Размерность данных, уменьшенная до двух характеристик лдя отрисовки: ', X.shape)\n",
    "\n",
    "n_classes = 3\n",
    "plot_colors = ['g', 'gold', 'black']\n",
    "plot_step = 0.005\n",
    "\n",
    "x_min, x_max = X[:, 0].min() - 1, X[:, 0].max() + 1\n",
    "y_min, y_max = X[:, 1].min() - 1, X[:, 1].max() + 1\n",
    "xx, yy = np.meshgrid(np.arange(x_min, x_max, plot_step),\n",
    "                     np.arange(y_min, y_max, plot_step))\n",
    "\n",
    "\n",
    "clf = KNeighborsClassifier(n_neighbors=10).fit(X, y)\n",
    "\n",
    "Z = clf.predict(np.c_[xx.ravel(), yy.ravel()])\n",
    "Z = Z.reshape(xx.shape)\n",
    "cs = plt.contourf(xx, yy, Z, cmap='Accent')\n",
    "\n",
    "plt.xlabel(iris.feature_names[pair[0]])\n",
    "plt.ylabel(iris.feature_names[pair[1]])\n",
    "\n",
    "for i, color in zip(range(n_classes), plot_colors):\n",
    "    idx = np.where(y == i)\n",
    "    plt.scatter(X[idx, 0], X[idx, 1], c=color, label=iris.target_names[i],\n",
    "                cmap=plt.cm.Paired);"
   ]
  },
  {
   "cell_type": "markdown",
   "metadata": {},
   "source": [
    "#### Посмотрим, как строит решающее правило Дерево Решений:"
   ]
  },
  {
   "cell_type": "code",
   "execution_count": 6,
   "metadata": {},
   "outputs": [
    {
     "data": {
      "image/png": "[encoded data removed]",
      "text/plain": [
       "<Figure size 432x288 with 1 Axes>"
      ]
     },
     "metadata": {
      "needs_background": "light"
     },
     "output_type": "display_data"
    }
   ],
   "source": [
    "pair=[0, 1]\n",
    "X = iris.data[:, [0, 1]]\n",
    "y = iris.target\n",
    "\n",
    "n_classes = 3\n",
    "plot_colors = ['g', 'gold', 'black']\n",
    "plot_step = 0.005\n",
    "\n",
    "x_min, x_max = X[:, 0].min() - 1, X[:, 0].max() + 1\n",
    "y_min, y_max = X[:, 1].min() - 1, X[:, 1].max() + 1\n",
    "xx, yy = np.meshgrid(np.arange(x_min, x_max, plot_step),\n",
    "                     np.arange(y_min, y_max, plot_step))\n",
    "\n",
    "\n",
    "clf = DecisionTreeClassifier(random_state=42).fit(X, y)\n",
    "\n",
    "Z = clf.predict(np.c_[xx.ravel(), yy.ravel()])\n",
    "Z = Z.reshape(xx.shape)\n",
    "cs = plt.contourf(xx, yy, Z, cmap='Accent')\n",
    "\n",
    "plt.xlabel(iris.feature_names[pair[0]])\n",
    "plt.ylabel(iris.feature_names[pair[1]])\n",
    "\n",
    "\n",
    "for i, color in zip(range(n_classes), plot_colors):\n",
    "    idx = np.where(y == i)\n",
    "    plt.scatter(X[idx, 0], X[idx, 1], c=color, label=iris.target_names[i],\n",
    "                cmap=plt.cm.Paired);"
   ]
  },
  {
   "cell_type": "code",
   "execution_count": 27,
   "metadata": {},
   "outputs": [
    {
     "data": {
      "text/plain": [
       "DecisionTreeClassifier(class_weight=None, criterion='gini', max_depth=None,\n",
       "                       max_features=None, max_leaf_nodes=None,\n",
       "                       min_impurity_decrease=0.0, min_impurity_split=None,\n",
       "                       min_samples_leaf=1, min_samples_split=2,\n",
       "                       min_weight_fraction_leaf=0.0, presort=False,\n",
       "                       random_state=0, splitter='best')"
      ]
     },
     "execution_count": 27,
     "metadata": {},
     "output_type": "execute_result"
    }
   ],
   "source": [
    "clf"
   ]
  },
  {
   "cell_type": "markdown",
   "metadata": {},
   "source": [
    "#### Деревья решений можно визуализировать:\n",
    "\n",
    "Пример классификации данного датасета\n",
    "    \n",
    "!['деревьеярешений'](https://scikit-learn.org/stable/_images/iris.png)"
   ]
  },
  {
   "cell_type": "markdown",
   "metadata": {},
   "source": [
    "### Как переобучиться на Деревьях Решений?"
   ]
  },
  {
   "cell_type": "markdown",
   "metadata": {},
   "source": [
    "#### Посчитаем `baseline` на ЛогРегрессии и сравним с результатом на деревьях"
   ]
  },
  {
   "cell_type": "markdown",
   "metadata": {},
   "source": [
    "Далее в коде закомментирована рисовалка решающего правила для деревьев решений. Если у вас она не ставится с первого раза - оставьте попытки, она не пригодится дальше нигде."
   ]
  },
  {
   "cell_type": "code",
   "execution_count": 31,
   "metadata": {},
   "outputs": [
    {
     "name": "stdout",
     "output_type": "stream",
     "text": [
      "0.9111111111111111\n"
     ]
    }
   ],
   "source": [
    "clf = LogisticRegression().fit(X_train, y_train)  # будем работать с первоначальным разбиением на train и test\n",
    "print(clf.score(X_test, y_test))"
   ]
  },
  {
   "cell_type": "code",
   "execution_count": 37,
   "metadata": {},
   "outputs": [
    {
     "name": "stdout",
     "output_type": "stream",
     "text": [
      "0.9333333333333333\n"
     ]
    }
   ],
   "source": [
    "clf = DecisionTreeClassifier( random_state = 42).fit(X_train, y_train)  # min_samples_split --?\n",
    "\n",
    "print(clf.score(X_test, y_test))"
   ]
  },
  {
   "cell_type": "code",
   "execution_count": 36,
   "metadata": {},
   "outputs": [
    {
     "name": "stdout",
     "output_type": "stream",
     "text": [
      "0.8888888888888888\n"
     ]
    }
   ],
   "source": [
    "clf = DecisionTreeClassifier(min_samples_leaf = 10, min_samples_split = 5, random_state = 42).fit(X, y)\n",
    "\n",
    "print(clf.score(X_test, y_test))"
   ]
  },
  {
   "cell_type": "markdown",
   "metadata": {},
   "source": [
    "Посмотрим на справку функции в `sklearn`:"
   ]
  },
  {
   "cell_type": "markdown",
   "metadata": {},
   "source": [
    "Выбор критерия:\n",
    "    http://www.machinelearning.ru/wiki/images/8/89/Sem3_trees.pdf"
   ]
  },
  {
   "cell_type": "markdown",
   "metadata": {},
   "source": [
    "## Регрессия на Деревьях Решений:"
   ]
  },
  {
   "cell_type": "markdown",
   "metadata": {},
   "source": [
    "#### Если при классификации в листах стоят результирующие классы, при регрессии же стоит какое-то значение целевой функции."
   ]
  },
  {
   "cell_type": "code",
   "execution_count": 47,
   "metadata": {},
   "outputs": [
    {
     "data": {
      "image/png": "[encoded data removed]",
      "text/plain": [
       "<Figure size 504x360 with 1 Axes>"
      ]
     },
     "metadata": {},
     "output_type": "display_data"
    }
   ],
   "source": [
    "# Recap KNN \n",
    "from sklearn.neighbors import KNeighborsRegressor\n",
    "\n",
    "rng = np.random.RandomState(1)\n",
    "X = np.sort(5 * rng.rand(80, 1), axis=0)\n",
    "y = np.sin(X).ravel() \n",
    "y[::2] += 1 * (0.5 - rng.rand(40))\n",
    "\n",
    "X_test = np.arange(0.0, 5.0, 0.01)[:, np.newaxis]\n",
    "\n",
    "clf = KNeighborsRegressor(n_neighbors = 5, \n",
    "                         ).fit(X, y)\n",
    "y_rfc = clf.predict(X_test)\n",
    "plt.figure(figsize=(7, 5))\n",
    "plt.scatter(X, y, c='darkorange', label='data')\n",
    "plt.plot(X_test, y_rfc , c='cornflowerblue', label='prediction');"
   ]
  },
  {
   "cell_type": "code",
   "execution_count": 48,
   "metadata": {},
   "outputs": [
    {
     "data": {
      "image/png": "[encoded data removed]",
      "text/plain": [
       "<Figure size 504x360 with 1 Axes>"
      ]
     },
     "metadata": {},
     "output_type": "display_data"
    }
   ],
   "source": [
    "from sklearn.svm import SVR\n",
    "\n",
    "rng = np.random.RandomState(1)\n",
    "X = np.sort(5 * rng.rand(80, 1), axis=0)\n",
    "y = np.sin(X).ravel() \n",
    "y[::2] += 1 * (0.5 - rng.rand(40))\n",
    "\n",
    "X_test = np.arange(0.0, 5.0, 0.01)[:, np.newaxis]\n",
    "\n",
    "clf = SVR().fit(X, y)\n",
    "y_svr = clf.predict(X_test)\n",
    "plt.figure(figsize=(7, 5))\n",
    "plt.scatter(X, y, c='darkorange', label='data')\n",
    "plt.plot(X_test, y_svr, c='cornflowerblue', label='prediction');"
   ]
  },
  {
   "cell_type": "code",
   "execution_count": 50,
   "metadata": {},
   "outputs": [
    {
     "data": {
      "image/png": "[encoded data removed]",
      "text/plain": [
       "<Figure size 504x360 with 1 Axes>"
      ]
     },
     "metadata": {},
     "output_type": "display_data"
    }
   ],
   "source": [
    "from sklearn.tree import DecisionTreeRegressor\n",
    "\n",
    "rng = np.random.RandomState(1)\n",
    "X = np.sort(5 * rng.rand(80, 1), axis=0)\n",
    "y = np.sin(X).ravel()\n",
    "y[::2] += 1 * (0.5 - rng.rand(40))\n",
    "\n",
    "X_test = np.arange(0.0, 5.0, 0.01)[:, np.newaxis]\n",
    "\n",
    "clf = DecisionTreeRegressor().fit(X, y)\n",
    "y_dtc = clf.predict(X_test)\n",
    "plt.figure(figsize=(7, 5))\n",
    "plt.scatter(X, y, c='darkorange', label='data')\n",
    "plt.plot(X_test, y_svr, c='cornflowerblue', label='prediction');\n",
    "plt.plot(X_test, y_rfc , c='cornflowerblue', label='prediction');\n",
    "plt.plot(X_test, y_dtc, c='red', label='prediction');"
   ]
  },
  {
   "cell_type": "markdown",
   "metadata": {},
   "source": [
    "### Что можно сказать по отрисовке функции решающим деревом?"
   ]
  },
  {
   "cell_type": "code",
   "execution_count": 52,
   "metadata": {
    "scrolled": true
   },
   "outputs": [
    {
     "data": {
      "image/png": "[encoded data removed]",
      "text/plain": [
       "<Figure size 504x360 with 1 Axes>"
      ]
     },
     "metadata": {},
     "output_type": "display_data"
    }
   ],
   "source": [
    "clf = DecisionTreeRegressor(min_samples_split = 10, min_samples_leaf = 5).fit(X, y)\n",
    "y_ = clf.predict(X_test)\n",
    "plt.figure(figsize=(7, 5))\n",
    "plt.scatter(X, y, c='darkorange', label='data')\n",
    "plt.plot(X_test, y_, c='cornflowerblue', label='prediction');"
   ]
  },
  {
   "cell_type": "markdown",
   "metadata": {},
   "source": [
    "В каких из этих трех случаев модель переобучилась? Почему?"
   ]
  },
  {
   "cell_type": "markdown",
   "metadata": {},
   "source": [
    "Почему не воспроизводится результат DTC на дефолтных параметрах?"
   ]
  },
  {
   "cell_type": "markdown",
   "metadata": {},
   "source": [
    "# 2. Леса решений: Random Forest Classification (Regression)"
   ]
  },
  {
   "cell_type": "code",
   "execution_count": 53,
   "metadata": {},
   "outputs": [],
   "source": [
    "from sklearn.datasets import load_wine\n",
    "wine = load_wine()\n",
    "\n",
    "X_train, X_test, y_train, y_test = train_test_split(wine.data, wine.target,test_size=0.3, stratify=wine.target, random_state=42)"
   ]
  },
  {
   "cell_type": "code",
   "execution_count": 54,
   "metadata": {},
   "outputs": [
    {
     "data": {
      "text/plain": [
       "array([0, 0, 0, 0, 1, 0, 2, 1, 2, 0, 1, 1, 2, 1, 0, 0, 0, 1, 1, 0, 1, 1,\n",
       "       1, 1, 1, 2, 1, 0, 2, 1, 2, 2, 0, 2, 1, 1, 1, 1, 2, 0, 0, 0, 0, 0,\n",
       "       0, 1, 1, 2, 0, 2, 0, 0, 0, 2, 0, 2, 1, 1, 1, 0, 1, 0, 1, 1, 0, 2,\n",
       "       1, 0, 0, 1, 1, 2, 0, 0, 2, 1, 1, 1, 2, 2, 2, 2, 1, 1, 0, 0, 1, 1,\n",
       "       1, 2, 2, 1, 1, 2, 0, 0, 0, 2, 1, 2, 1, 1, 2, 0, 1, 1, 0, 1, 2, 1,\n",
       "       2, 0, 2, 0, 0, 1, 1, 2, 0, 2, 1, 2, 2, 1])"
      ]
     },
     "execution_count": 54,
     "metadata": {},
     "output_type": "execute_result"
    }
   ],
   "source": [
    "y_train"
   ]
  },
  {
   "cell_type": "code",
   "execution_count": 55,
   "metadata": {
    "scrolled": true
   },
   "outputs": [
    {
     "name": "stdout",
     "output_type": "stream",
     "text": [
      ".. _wine_dataset:\n",
      "\n",
      "Wine recognition dataset\n",
      "------------------------\n",
      "\n",
      "**Data Set Characteristics:**\n",
      "\n",
      "    :Number of Instances: 178 (50 in each of three classes)\n",
      "    :Number of Attributes: 13 numeric, predictive attributes and the class\n",
      "    :Attribute Information:\n",
      " \t\t- Alcohol\n",
      " \t\t- Malic acid\n",
      " \t\t- Ash\n",
      "\t\t- Alcalinity of ash  \n",
      " \t\t- Magnesium\n",
      "\t\t- Total phenols\n",
      " \t\t- Flavanoids\n",
      " \t\t- Nonflavanoid phenols\n",
      " \t\t- Proanthocyanins\n",
      "\t\t- Color intensity\n",
      " \t\t- Hue\n",
      " \t\t- OD280/OD315 of diluted wines\n",
      " \t\t- Proline\n",
      "\n",
      "    - class:\n",
      "            - class_0\n",
      "            - class_1\n",
      "            - class_2\n",
      "\t\t\n",
      "    :Summary Statistics:\n",
      "    \n",
      "    ============================= ==== ===== ======= =====\n",
      "                                   Min   Max   Mean     SD\n",
      "    ============================= ==== ===== ======= =====\n",
      "    Alcohol:                      11.0  14.8    13.0   0.8\n",
      "    Malic Acid:                   0.74  5.80    2.34  1.12\n",
      "    Ash:                          1.36  3.23    2.36  0.27\n",
      "    Alcalinity of Ash:            10.6  30.0    19.5   3.3\n",
      "    Magnesium:                    70.0 162.0    99.7  14.3\n",
      "    Total Phenols:                0.98  3.88    2.29  0.63\n",
      "    Flavanoids:                   0.34  5.08    2.03  1.00\n",
      "    Nonflavanoid Phenols:         0.13  0.66    0.36  0.12\n",
      "    Proanthocyanins:              0.41  3.58    1.59  0.57\n",
      "    Colour Intensity:              1.3  13.0     5.1   2.3\n",
      "    Hue:                          0.48  1.71    0.96  0.23\n",
      "    OD280/OD315 of diluted wines: 1.27  4.00    2.61  0.71\n",
      "    Proline:                       278  1680     746   315\n",
      "    ============================= ==== ===== ======= =====\n",
      "\n",
      "    :Missing Attribute Values: None\n",
      "    :Class Distribution: class_0 (59), class_1 (71), class_2 (48)\n",
      "    :Creator: R.A. Fisher\n",
      "    :Donor: Michael Marshall (MARSHALL%PLU@io.arc.nasa.gov)\n",
      "    :Date: July, 1988\n",
      "\n",
      "This is a copy of UCI ML Wine recognition datasets.\n",
      "https://archive.ics.uci.edu/ml/machine-learning-databases/wine/wine.data\n",
      "\n",
      "The data is the results of a chemical analysis of wines grown in the same\n",
      "region in Italy by three different cultivators. There are thirteen different\n",
      "measurements taken for different constituents found in the three types of\n",
      "wine.\n",
      "\n",
      "Original Owners: \n",
      "\n",
      "Forina, M. et al, PARVUS - \n",
      "An Extendible Package for Data Exploration, Classification and Correlation. \n",
      "Institute of Pharmaceutical and Food Analysis and Technologies,\n",
      "Via Brigata Salerno, 16147 Genoa, Italy.\n",
      "\n",
      "Citation:\n",
      "\n",
      "Lichman, M. (2013). UCI Machine Learning Repository\n",
      "[https://archive.ics.uci.edu/ml]. Irvine, CA: University of California,\n",
      "School of Information and Computer Science. \n",
      "\n",
      ".. topic:: References\n",
      "\n",
      "  (1) S. Aeberhard, D. Coomans and O. de Vel, \n",
      "  Comparison of Classifiers in High Dimensional Settings, \n",
      "  Tech. Rep. no. 92-02, (1992), Dept. of Computer Science and Dept. of  \n",
      "  Mathematics and Statistics, James Cook University of North Queensland. \n",
      "  (Also submitted to Technometrics). \n",
      "\n",
      "  The data was used with many others for comparing various \n",
      "  classifiers. The classes are separable, though only RDA \n",
      "  has achieved 100% correct classification. \n",
      "  (RDA : 100%, QDA 99.4%, LDA 98.9%, 1NN 96.1% (z-transformed data)) \n",
      "  (All results using the leave-one-out technique) \n",
      "\n",
      "  (2) S. Aeberhard, D. Coomans and O. de Vel, \n",
      "  \"THE CLASSIFICATION PERFORMANCE OF RDA\" \n",
      "  Tech. Rep. no. 92-01, (1992), Dept. of Computer Science and Dept. of \n",
      "  Mathematics and Statistics, James Cook University of North Queensland. \n",
      "  (Also submitted to Journal of Chemometrics).\n",
      "\n"
     ]
    }
   ],
   "source": [
    "print(wine.DESCR)"
   ]
  },
  {
   "cell_type": "code",
   "execution_count": 56,
   "metadata": {},
   "outputs": [
    {
     "data": {
      "text/plain": [
       "(178, 13)"
      ]
     },
     "execution_count": 56,
     "metadata": {},
     "output_type": "execute_result"
    }
   ],
   "source": [
    "wine.data.shape"
   ]
  },
  {
   "cell_type": "code",
   "execution_count": 57,
   "metadata": {},
   "outputs": [
    {
     "name": "stdout",
     "output_type": "stream",
     "text": [
      "Accuracy on the training set: 0.976\n",
      "Accuracy on the test set: 0.981\n"
     ]
    }
   ],
   "source": [
    "log_reg = LogisticRegression(random_state=42) \n",
    "log_reg.fit(X_train, y_train)\n",
    "\n",
    "print('Accuracy on the training set: {:.3f}'.format(log_reg.score(X_train,y_train)))\n",
    "print('Accuracy on the test set: {:.3f}'.format(log_reg.score(X_test,y_test)))"
   ]
  },
  {
   "cell_type": "code",
   "execution_count": 58,
   "metadata": {},
   "outputs": [
    {
     "name": "stdout",
     "output_type": "stream",
     "text": [
      "Accuracy on the training set: 1.000\n",
      "Accuracy on the test set: 0.963\n"
     ]
    }
   ],
   "source": [
    "dtc = DecisionTreeClassifier(random_state=42) \n",
    "dtc.fit(X_train, y_train)\n",
    "\n",
    "print('Accuracy on the training set: {:.3f}'.format(dtc.score(X_train,y_train)))\n",
    "print('Accuracy on the test set: {:.3f}'.format(dtc.score(X_test,y_test)))"
   ]
  },
  {
   "cell_type": "code",
   "execution_count": 59,
   "metadata": {},
   "outputs": [
    {
     "name": "stdout",
     "output_type": "stream",
     "text": [
      "Accuracy on the training set: 1.000\n",
      "Accuracy on the test set: 0.963\n"
     ]
    }
   ],
   "source": [
    "from sklearn.ensemble import RandomForestClassifier\n",
    "\n",
    "rfc = RandomForestClassifier(n_estimators=10, random_state = 42, warm_start=True) \n",
    "rfc.fit(X_train, y_train)\n",
    "\n",
    "print('Accuracy on the training set: {:.3f}'.format(rfc.score(X_train,y_train)))\n",
    "print('Accuracy on the test set: {:.3f}'.format(rfc.score(X_test,y_test)))"
   ]
  },
  {
   "cell_type": "markdown",
   "metadata": {},
   "source": [
    "### Получилось 3 модели, причем точность на деревьях решений - 1.000. Т.е. лучший результат на выборке принадлежит RFC классификатору."
   ]
  },
  {
   "cell_type": "code",
   "execution_count": 60,
   "metadata": {
    "scrolled": true
   },
   "outputs": [
    {
     "data": {
      "text/plain": [
       "array([0.13904712, 0.0257427 , 0.01384931, 0.00233003, 0.10582456,\n",
       "       0.04661781, 0.27048422, 0.00524149, 0.01826678, 0.09521495,\n",
       "       0.14404948, 0.07737182, 0.05595971])"
      ]
     },
     "execution_count": 60,
     "metadata": {},
     "output_type": "execute_result"
    }
   ],
   "source": [
    "# посмотрим на выбранные характеристики модели\n",
    "rfc.feature_importances_"
   ]
  },
  {
   "cell_type": "code",
   "execution_count": 81,
   "metadata": {},
   "outputs": [
    {
     "data": {
      "image/png": "[encoded data removed]",
      "text/plain": [
       "<Figure size 432x288 with 1 Axes>"
      ]
     },
     "metadata": {},
     "output_type": "display_data"
    }
   ],
   "source": [
    "#Feature Importance\n",
    "n_feature = wine.data.shape[1]\n",
    "plt.barh(range(n_feature), rfc.feature_importances_, align='center')\n",
    "plt.yticks(np.arange(n_feature), wine.feature_names)\n",
    "plt.xlabel('Feature Importance')\n",
    "plt.ylabel('Feature')\n",
    "#plt.ylim(1)\n",
    "#plt.xlim(0.5)\n",
    "plt.show()"
   ]
  },
  {
   "cell_type": "markdown",
   "metadata": {},
   "source": [
    "### Что значат `feature_importances` в случае деревьев решений?"
   ]
  },
  {
   "cell_type": "markdown",
   "metadata": {},
   "source": [
    "В scikit-learn реализована `feature_importance` по Брейман, Фридман, \"Деревья классификации и регрессии\", 1984 год. Его иногда называют \"существенным значением\" или \"средним уменьшением примеси\". Каждый узел в деревьях решений является условием для отдельного объекта, предназначенного для разделения набора данных на два, так чтобы аналогичные значения ответов оказались в одном наборе. Мера, на основе которой выбирается (локально) оптимальное условие, называется примесью (`impurity`). \n",
    "\n",
    "Для классификации это, как правило, примесь Джини или получение / энтропия информации, а для деревьев регрессии - дисперсия. Таким образом, при обучении дерева можно вычислить, насколько каждая особенность уменьшает взвешенную примесь в дереве. Для леса уменьшение примесей от каждой характеристики может быть усреднено, и ранжировано в соответствии с этим показателем."
   ]
  },
  {
   "cell_type": "code",
   "execution_count": 80,
   "metadata": {},
   "outputs": [
    {
     "data": {
      "text/plain": [
       "['alcohol',\n",
       " 'malic_acid',\n",
       " 'ash',\n",
       " 'alcalinity_of_ash',\n",
       " 'magnesium',\n",
       " 'total_phenols',\n",
       " 'flavanoids',\n",
       " 'nonflavanoid_phenols',\n",
       " 'proanthocyanins',\n",
       " 'color_intensity',\n",
       " 'hue',\n",
       " 'od280/od315_of_diluted_wines',\n",
       " 'proline']"
      ]
     },
     "execution_count": 80,
     "metadata": {},
     "output_type": "execute_result"
    }
   ],
   "source": [
    "wine.feature_names"
   ]
  },
  {
   "cell_type": "markdown",
   "metadata": {
    "scrolled": true
   },
   "source": [
    "### Однако, как получить инерпретируемую оценку этой значимости?"
   ]
  },
  {
   "cell_type": "code",
   "execution_count": 90,
   "metadata": {},
   "outputs": [
    {
     "data": {
      "text/plain": [
       "array([0.13904712, 0.0257427 , 0.01384931, 0.00233003, 0.10582456,\n",
       "       0.04661781, 0.27048422, 0.00524149, 0.01826678, 0.09521495,\n",
       "       0.14404948, 0.07737182, 0.05595971])"
      ]
     },
     "execution_count": 90,
     "metadata": {},
     "output_type": "execute_result"
    }
   ],
   "source": [
    "rfc.feature_importances_"
   ]
  },
  {
   "cell_type": "code",
   "execution_count": 107,
   "metadata": {},
   "outputs": [],
   "source": [
    "# создадим новый датафрейм, чтобы с этими характеристиками было удобнее работать\n",
    "data = pd.DataFrame(data = wine.data, columns =  wine.feature_names)"
   ]
  },
  {
   "cell_type": "markdown",
   "metadata": {},
   "source": [
    "#### Старый добрый корреляционный анализ:"
   ]
  },
  {
   "cell_type": "code",
   "execution_count": 106,
   "metadata": {},
   "outputs": [
    {
     "data": {
      "text/plain": [
       "<matplotlib.axes._subplots.AxesSubplot at 0x1c3b4a2fe08>"
      ]
     },
     "execution_count": 106,
     "metadata": {},
     "output_type": "execute_result"
    },
    {
     "data": {
      "image/png": "[encoded data removed]",
      "text/plain": [
       "<Figure size 720x504 with 2 Axes>"
      ]
     },
     "metadata": {},
     "output_type": "display_data"
    }
   ],
   "source": [
    "sns.set(style=\"white\")\n",
    "\n",
    "# Generate a large random dataset\n",
    "rs = np.random.RandomState(33)\n",
    "# Compute the correlation matrix\n",
    "corr = data.corr()\n",
    "\n",
    "# Generate a mask for the upper triangle\n",
    "mask = np.zeros_like(corr, dtype=np.bool)\n",
    "mask[np.triu_indices_from(mask)] = True\n",
    "\n",
    "# Set up the matplotlib figure\n",
    "f, ax = plt.subplots(figsize=(10, 7))\n",
    "\n",
    "# Generate a custom diverging colormap\n",
    "cmap = sns.diverging_palette(220, 10, as_cmap=True)\n",
    "\n",
    "# Draw the heatmap with the mask and correct aspect ratio\n",
    "sns.heatmap(corr, mask=mask, cmap=cmap, vmax=.3, center=0,\n",
    "            square=True, linewidths=.5, cbar_kws={\"shrink\": .5})"
   ]
  },
  {
   "cell_type": "code",
   "execution_count": 101,
   "metadata": {},
   "outputs": [
    {
     "data": {
      "text/plain": [
       "(-0.32822194089001927, 7.723253314615735e-06)"
      ]
     },
     "execution_count": 101,
     "metadata": {},
     "output_type": "execute_result"
    }
   ],
   "source": [
    "import scipy\n",
    "\n",
    "scipy.stats.pearsonr(data['alcohol'], wine.target)"
   ]
  },
  {
   "cell_type": "markdown",
   "metadata": {},
   "source": [
    "### Выбор характеристик в датасете можно реализовать через SelectkBest"
   ]
  },
  {
   "cell_type": "code",
   "execution_count": 72,
   "metadata": {},
   "outputs": [],
   "source": [
    "from sklearn.feature_selection import SelectKBest"
   ]
  },
  {
   "cell_type": "markdown",
   "metadata": {},
   "source": [
    "##### По дефолту он скорит функцией `f_classif` - или ANOVA https://en.wikipedia.org/wiki/Analysis_of_variance"
   ]
  },
  {
   "cell_type": "code",
   "execution_count": 114,
   "metadata": {},
   "outputs": [],
   "source": [
    "skb = SelectKBest(k = 5)\n",
    "\n",
    "X = skb.fit_transform(wine.data, wine.target)"
   ]
  },
  {
   "cell_type": "code",
   "execution_count": 115,
   "metadata": {},
   "outputs": [
    {
     "data": {
      "text/plain": [
       "(178, 5)"
      ]
     },
     "execution_count": 115,
     "metadata": {},
     "output_type": "execute_result"
    }
   ],
   "source": [
    "X.shape"
   ]
  },
  {
   "cell_type": "code",
   "execution_count": 121,
   "metadata": {
    "scrolled": true
   },
   "outputs": [
    {
     "data": {
      "text/plain": [
       "array([135.07762424,  36.94342496,  13.3129012 ,  35.77163741,\n",
       "        12.42958434,  93.73300962, 233.92587268,  27.57541715,\n",
       "        30.27138317, 120.66401844, 101.31679539, 189.97232058,\n",
       "       207.9203739 ])"
      ]
     },
     "execution_count": 121,
     "metadata": {},
     "output_type": "execute_result"
    }
   ],
   "source": [
    "skb.scores_ # скоры каждой фичи по F-статистике"
   ]
  },
  {
   "cell_type": "code",
   "execution_count": 131,
   "metadata": {},
   "outputs": [],
   "source": [
    "X_train, X_test, y_train, y_test = train_test_split(X, wine.target, test_size=0.3, random_state=42, stratify=wine.target)"
   ]
  },
  {
   "cell_type": "code",
   "execution_count": 134,
   "metadata": {},
   "outputs": [
    {
     "name": "stdout",
     "output_type": "stream",
     "text": [
      "Accuracy on the training set: 0.992\n",
      "Accuracy on the test set: 0.963\n"
     ]
    }
   ],
   "source": [
    "rfc = RandomForestClassifier(random_state=42) \n",
    "rfc.fit(X_train, y_train)\n",
    "\n",
    "print('Accuracy on the training set: {:.3f}'.format(rfc.score(X_train,y_train)))\n",
    "print('Accuracy on the test set: {:.3f}'.format(rfc.score(X_test,y_test)))"
   ]
  },
  {
   "cell_type": "code",
   "execution_count": 136,
   "metadata": {},
   "outputs": [
    {
     "data": {
      "image/png": "[encoded data removed]",
      "text/plain": [
       "<Figure size 432x288 with 1 Axes>"
      ]
     },
     "metadata": {},
     "output_type": "display_data"
    }
   ],
   "source": [
    "#Feature Importance\n",
    "n_feature = X_train.shape[1]\n",
    "plt.barh(range(n_feature), rfc.feature_importances_, align='center')\n",
    "#plt.yticks(np.arange(n_feature), X_train.columns)\n",
    "plt.xlabel('Feature Importance')\n",
    "plt.ylabel('Feature')\n",
    "plt.show()"
   ]
  },
  {
   "cell_type": "markdown",
   "metadata": {},
   "source": [
    "#### Далее можно опять посчитать корреляции по выбранным характеристикам, чтобы их интерпретировать."
   ]
  },
  {
   "cell_type": "markdown",
   "metadata": {},
   "source": [
    "###   Сравним точности двух классификаторов"
   ]
  },
  {
   "cell_type": "code",
   "execution_count": 137,
   "metadata": {},
   "outputs": [],
   "source": [
    "from sklearn.model_selection import KFold"
   ]
  },
  {
   "cell_type": "code",
   "execution_count": 143,
   "metadata": {},
   "outputs": [
    {
     "name": "stdout",
     "output_type": "stream",
     "text": [
      "Fold # 0\n",
      "1.0\n",
      "Fold # 1\n",
      "0.8125\n",
      "Fold # 2\n",
      "0.9375\n",
      "Fold # 3\n",
      "0.8125\n",
      "Fold # 4\n",
      "0.75\n",
      "Fold # 5\n",
      "0.9375\n",
      "Fold # 6\n",
      "1.0\n",
      "Fold # 7\n",
      "0.75\n",
      "Fold # 8\n",
      "0.1875\n",
      "Fold # 9\n",
      "0.875\n"
     ]
    }
   ],
   "source": [
    "i = 0\n",
    "list_ = []\n",
    "kfold = KFold(n_splits = 10, random_state= 42)\n",
    "X = wine.data\n",
    "y = wine.target\n",
    "\n",
    "dtc = DecisionTreeClassifier()\n",
    "for train_index, test_index in kfold.split(X_train, y_train):\n",
    "    #print(\"TRAIN:\", train_index, \"TEST:\", test_index)\n",
    "    X_train, X_test = X[train_index], X[test_index]\n",
    "    y_train, y_test = y[train_index], y[test_index]\n",
    "    print('Fold #', i)\n",
    "    i+=1\n",
    "    dtc.fit(X_train,y_train)\n",
    "    list_.append(dtc.score(X_test,y_test))\n",
    "    print(dtc.score(X_test,y_test))    "
   ]
  },
  {
   "cell_type": "code",
   "execution_count": 144,
   "metadata": {},
   "outputs": [
    {
     "name": "stdout",
     "output_type": "stream",
     "text": [
      "Fold # 0\n",
      "1.0\n",
      "Fold # 1\n",
      "0.7777777777777778\n",
      "Fold # 2\n",
      "1.0\n",
      "Fold # 3\n",
      "0.8888888888888888\n",
      "Fold # 4\n",
      "0.8333333333333334\n",
      "Fold # 5\n",
      "1.0\n",
      "Fold # 6\n",
      "0.9444444444444444\n",
      "Fold # 7\n",
      "0.7222222222222222\n",
      "Fold # 8\n",
      "1.0\n",
      "Fold # 9\n",
      "1.0\n"
     ]
    }
   ],
   "source": [
    "i = 0\n",
    "list_1 = []\n",
    "dtc = RandomForestClassifier()\n",
    "for train_index, test_index in kfold.split(X, y):\n",
    "    #print(\"TRAIN:\", train_index, \"TEST:\", test_index)\n",
    "    X_train, X_test = X[train_index], X[test_index]\n",
    "    y_train, y_test = y[train_index], y[test_index]\n",
    "    print('Fold #', i)\n",
    "    i+=1\n",
    "    dtc.fit(X_train,y_train)\n",
    "    list_1.append(dtc.score(X_test,y_test))\n",
    "    print(dtc.score(X_test,y_test))   "
   ]
  },
  {
   "cell_type": "code",
   "execution_count": 145,
   "metadata": {},
   "outputs": [
    {
     "data": {
      "text/plain": [
       "(0.80625, 0.22439153838770304)"
      ]
     },
     "execution_count": 145,
     "metadata": {},
     "output_type": "execute_result"
    }
   ],
   "source": [
    "np.mean(list_), np.std(list_)"
   ]
  },
  {
   "cell_type": "code",
   "execution_count": 146,
   "metadata": {},
   "outputs": [
    {
     "data": {
      "text/plain": [
       "(0.9166666666666666, 0.10015420209622192)"
      ]
     },
     "execution_count": 146,
     "metadata": {},
     "output_type": "execute_result"
    }
   ],
   "source": [
    "np.mean(list_1), np.std(list_1)"
   ]
  },
  {
   "cell_type": "code",
   "execution_count": 147,
   "metadata": {},
   "outputs": [
    {
     "data": {
      "text/plain": [
       "Ttest_relResult(statistic=1.3760117912890781, pvalue=0.20208697482025423)"
      ]
     },
     "execution_count": 147,
     "metadata": {},
     "output_type": "execute_result"
    }
   ],
   "source": [
    "import scipy\n",
    "\n",
    "scipy.stats.ttest_rel(list_1,list_)"
   ]
  },
  {
   "cell_type": "markdown",
   "metadata": {},
   "source": [
    "#### Вопрос: побил ли Лес Решений результаты Дерева решений?"
   ]
  },
  {
   "cell_type": "markdown",
   "metadata": {},
   "source": [
    "### Задача 1.  \n",
    "Сравнить решающее правило на Деревьях Решений и Случайных Лесов Решений для регрессионной задачи на выборке `sklearn.datasets.diabets`"
   ]
  },
  {
   "cell_type": "code",
   "execution_count": 161,
   "metadata": {},
   "outputs": [],
   "source": [
    "# Визуализации Линейной Регрессии по одному признаку\n",
    "from sklearn import datasets, linear_model\n",
    "from sklearn.metrics import mean_squared_error, r2_score\n",
    "\n",
    "# Load the diabetes dataset\n",
    "diabetes = datasets.load_diabetes()"
   ]
  },
  {
   "cell_type": "code",
   "execution_count": 162,
   "metadata": {},
   "outputs": [],
   "source": [
    "X_train, X_test, y_train, y_test = train_test_split(diabetes.data, diabetes.target, test_size=0.3, random_state=42)"
   ]
  },
  {
   "cell_type": "code",
   "execution_count": 163,
   "metadata": {},
   "outputs": [
    {
     "data": {
      "text/plain": [
       "array([0, 0, 0, 0, 0, 0, 0, 0, 0, 0, 0, 0, 0, 0, 0, 0, 0, 0, 0, 0, 0, 0,\n",
       "       0, 0, 0, 0, 0, 0, 0, 0, 0, 0, 0, 0, 0, 0, 0, 0, 0, 0, 0, 0, 0, 0,\n",
       "       0, 0, 0, 0, 0, 0, 0, 0, 0, 0, 0, 0, 0, 0, 0, 1, 1, 1, 1, 1, 1, 1,\n",
       "       1, 1, 1, 1, 1, 1, 1, 1, 1, 1, 1, 1, 1, 1, 1, 1, 1, 1, 1, 1, 1, 1,\n",
       "       1, 1, 1, 1, 1, 1, 1, 1, 1, 1, 1, 1, 1, 1, 1, 1, 1, 1, 1, 1, 1, 1,\n",
       "       1, 1, 1, 1, 1, 1, 1, 1, 1, 1, 1, 1, 1, 1, 1, 1, 1, 1, 1, 1, 2, 2,\n",
       "       2, 2, 2, 2, 2, 2, 2, 2, 2, 2, 2, 2, 2, 2, 2, 2, 2, 2, 2, 2, 2, 2,\n",
       "       2, 2, 2, 2, 2, 2, 2, 2, 2, 2, 2, 2, 2, 2, 2, 2, 2, 2, 2, 2, 2, 2,\n",
       "       2, 2])"
      ]
     },
     "execution_count": 163,
     "metadata": {},
     "output_type": "execute_result"
    }
   ],
   "source": [
    "y"
   ]
  },
  {
   "cell_type": "code",
   "execution_count": 164,
   "metadata": {
    "scrolled": true
   },
   "outputs": [
    {
     "name": "stdout",
     "output_type": "stream",
     "text": [
      ".. _diabetes_dataset:\n",
      "\n",
      "Diabetes dataset\n",
      "----------------\n",
      "\n",
      "Ten baseline variables, age, sex, body mass index, average blood\n",
      "pressure, and six blood serum measurements were obtained for each of n =\n",
      "442 diabetes patients, as well as the response of interest, a\n",
      "quantitative measure of disease progression one year after baseline.\n",
      "\n",
      "**Data Set Characteristics:**\n",
      "\n",
      "  :Number of Instances: 442\n",
      "\n",
      "  :Number of Attributes: First 10 columns are numeric predictive values\n",
      "\n",
      "  :Target: Column 11 is a quantitative measure of disease progression one year after baseline\n",
      "\n",
      "  :Attribute Information:\n",
      "      - Age\n",
      "      - Sex\n",
      "      - Body mass index\n",
      "      - Average blood pressure\n",
      "      - S1\n",
      "      - S2\n",
      "      - S3\n",
      "      - S4\n",
      "      - S5\n",
      "      - S6\n",
      "\n",
      "Note: Each of these 10 feature variables have been mean centered and scaled by the standard deviation times `n_samples` (i.e. the sum of squares of each column totals 1).\n",
      "\n",
      "Source URL:\n",
      "https://www4.stat.ncsu.edu/~boos/var.select/diabetes.html\n",
      "\n",
      "For more information see:\n",
      "Bradley Efron, Trevor Hastie, Iain Johnstone and Robert Tibshirani (2004) \"Least Angle Regression,\" Annals of Statistics (with discussion), 407-499.\n",
      "(https://web.stanford.edu/~hastie/Papers/LARS/LeastAngle_2002.pdf)\n"
     ]
    }
   ],
   "source": [
    "print(diabetes.DESCR)"
   ]
  },
  {
   "cell_type": "code",
   "execution_count": 165,
   "metadata": {},
   "outputs": [
    {
     "data": {
      "text/plain": [
       "((309, 10), (133, 10))"
      ]
     },
     "execution_count": 165,
     "metadata": {},
     "output_type": "execute_result"
    }
   ],
   "source": [
    "X_train.shape, X_test.shape"
   ]
  },
  {
   "cell_type": "code",
   "execution_count": 166,
   "metadata": {},
   "outputs": [
    {
     "data": {
      "text/plain": [
       "(310.0, 37.0)"
      ]
     },
     "execution_count": 166,
     "metadata": {},
     "output_type": "execute_result"
    }
   ],
   "source": [
    "y_test.max(), y_test.min()"
   ]
  },
  {
   "cell_type": "code",
   "execution_count": 167,
   "metadata": {},
   "outputs": [],
   "source": [
    "from sklearn.preprocessing import StandardScaler\n",
    "\n",
    "scaler = StandardScaler()\n",
    "X_train = scaler.fit_transform(X_train)\n",
    "X_test = scaler.transform(X_test)"
   ]
  },
  {
   "cell_type": "code",
   "execution_count": 168,
   "metadata": {},
   "outputs": [],
   "source": [
    "y_train = scaler.fit_transform(pd.DataFrame(y_train))\n",
    "y_test = scaler.transform(pd.DataFrame(y_test))"
   ]
  },
  {
   "cell_type": "code",
   "execution_count": 169,
   "metadata": {},
   "outputs": [
    {
     "name": "stdout",
     "output_type": "stream",
     "text": [
      "Accuracy on the training set: 1.000\n",
      "Accuracy on the test set: -0.103\n"
     ]
    }
   ],
   "source": [
    "# non sclaed\n",
    "from sklearn.tree import DecisionTreeRegressor\n",
    "\n",
    "dtc = DecisionTreeRegressor(random_state=42) \n",
    "dtc.fit( X_train, y_train)\n",
    "\n",
    "print('Accuracy on the training set: {:.3f}'.format(dtc.score(X_train,y_train)))\n",
    "print('Accuracy on the test set: {:.3f}'.format(dtc.score(X_test,y_test)))"
   ]
  },
  {
   "cell_type": "code",
   "execution_count": 170,
   "metadata": {},
   "outputs": [
    {
     "data": {
      "text/plain": [
       "-0.10304408181633183"
      ]
     },
     "execution_count": 170,
     "metadata": {},
     "output_type": "execute_result"
    }
   ],
   "source": [
    "dtc.score(X_test,y_test)"
   ]
  },
  {
   "cell_type": "code",
   "execution_count": 172,
   "metadata": {},
   "outputs": [
    {
     "name": "stdout",
     "output_type": "stream",
     "text": [
      "Accuracy on the training set: 0.918\n",
      "Accuracy on the test set: 0.470\n"
     ]
    }
   ],
   "source": [
    "# non scaled\n",
    "from sklearn.ensemble import RandomForestRegressor\n",
    "\n",
    "dtc = RandomForestRegressor(n_estimators=100, random_state=42) \n",
    "dtc.fit(X_train, y_train)\n",
    "\n",
    "print('Accuracy on the training set: {:.3f}'.format(dtc.score(X_train,y_train)))\n",
    "print('Accuracy on the test set: {:.3f}'.format(dtc.score(X_test,y_test)))"
   ]
  },
  {
   "cell_type": "markdown",
   "metadata": {},
   "source": [
    "##  Вопросы для самопроверки:\n",
    "\n",
    "1. В чем отличие Decision Trees от Random Forest?\n",
    "2. На что влияют критерии построения решающего правила в деревьях?\n",
    "3. Как интерпретировать результат модели RFC?\n",
    "4. Почему  важно варьировать `max_depth` дерева?"
   ]
  },
  {
   "cell_type": "markdown",
   "metadata": {},
   "source": [
    "## Выводы:\n",
    "\n",
    "1. Дерево – интерпретируемый алгоритм (пока оно не очень глубокое). Random Forest – не интерпретируемый алгоритм\n",
    "1. Параметр глубины дерева max_depth нужно находить исходя из компромисс между underfitting и overfitting! Можно переобучиться и на тестовом датасете\n",
    "4. Random Forest борется с изъянами Decision Tree путем построения большого количества разных деревьев и их коллективного голосования.\n",
    "2. Построение дерева DTC и качество модели сильно зависит от того, удачно ли были выбраны сплиты в начале построения!  \n",
    "3. Стандартной реализации для задачи регрессии вам доступны критерии gini, entropy \n",
    "5. Качество Random Forest неубывает с увеличением деревьев (не происходит переобучения)"
   ]
  },
  {
   "cell_type": "markdown",
   "metadata": {},
   "source": [
    "## Задача 2. \n",
    "Мы уже знаем 4 принципаильно разных классификатора: LR, KNN, SVC, RFC. \n",
    "Сравнить их точности предсказания на датасете `breast cancer`. Использовать классификаторы с натройками по умолчанию. Разбить данные на `train`  и  `test`."
   ]
  },
  {
   "cell_type": "code",
   "execution_count": 173,
   "metadata": {},
   "outputs": [],
   "source": [
    "from sklearn.datasets import load_breast_cancer\n",
    "cancer = load_breast_cancer()\n",
    "\n",
    "random_state  = 42\n",
    "\n",
    "X_train, X_test, y_train, y_test = train_test_split(cancer.data, cancer.target, test_size=0.3, random_state=42)"
   ]
  },
  {
   "cell_type": "code",
   "execution_count": 174,
   "metadata": {},
   "outputs": [],
   "source": [
    "from sklearn.preprocessing import StandardScaler\n",
    "\n",
    "scaler = StandardScaler()\n",
    "X_train = scaler.fit_transform(X_train)\n",
    "X_test = scaler.fit_transform(X_test)"
   ]
  },
  {
   "cell_type": "code",
   "execution_count": 193,
   "metadata": {},
   "outputs": [],
   "source": [
    "from sklearn.neighbors import KNeighborsClassifier\n",
    "knn = KNeighborsClassifier()\n",
    "\n",
    "from sklearn.svm import SVC\n",
    "svc= SVC(kernel = 'linear')\n",
    "\n",
    "from sklearn.ensemble import RandomForestClassifier\n",
    "rfc = RandomForestClassifier()\n",
    "\n",
    "from sklearn.linear_model import LogisticRegression\n",
    "lr = LogisticRegression()"
   ]
  },
  {
   "cell_type": "code",
   "execution_count": 194,
   "metadata": {},
   "outputs": [
    {
     "name": "stdout",
     "output_type": "stream",
     "text": [
      "KNeighbors 0.9707602339181286\n",
      "SVC(C=1.0, 0.9766081871345029\n",
      "RandomFore 0.9649122807017544\n",
      "LogisticRe 0.9766081871345029\n"
     ]
    }
   ],
   "source": [
    "from sklearn.metrics import accuracy_score\n",
    "from sklearn.model_selection import GridSearchCV\n",
    "\n",
    "random_state = 42\n",
    "models = [knn, svc, rfc, lr]\n",
    "\n",
    "for model in models:\n",
    "    model.fit(X_train,y_train)# fit the model\n",
    "    predictions = model.predict(X_test)\n",
    "    print(str(model)[:10], accuracy_score(y_test, predictions))   "
   ]
  },
  {
   "cell_type": "markdown",
   "metadata": {},
   "source": [
    "#### Исследуем лучшую модель:"
   ]
  },
  {
   "cell_type": "code",
   "execution_count": 177,
   "metadata": {},
   "outputs": [],
   "source": [
    "from sklearn.model_selection import GridSearchCV\n",
    "from sklearn.pipeline import Pipeline, FeatureUnion\n",
    "pipe = Pipeline([('standardizer', scaler), ('svc', svc)])\n",
    "\n",
    "\n",
    "# Create space of candidate values\n",
    "search_space = [{'svc__C': [0.1, 0.2, 0.5, 1, 2, 3, 4, 5, 6, 7, 8, 9, 10],\n",
    "                'svc__kernel': ['linear', 'rbf','poly']}]\n",
    "# Create grid search \n",
    "\n",
    "clf = GridSearchCV(pipe, search_space, cv=5, verbose=0).fit(X_train, y_train)"
   ]
  },
  {
   "cell_type": "code",
   "execution_count": 178,
   "metadata": {},
   "outputs": [
    {
     "data": {
      "text/plain": [
       "0.9766081871345029"
      ]
     },
     "execution_count": 178,
     "metadata": {},
     "output_type": "execute_result"
    }
   ],
   "source": [
    "clf.best_estimator_.score(X_test, y_test)"
   ]
  },
  {
   "cell_type": "markdown",
   "metadata": {},
   "source": [
    "#### Посомтреть результаты поиска по гиперапараметрам:\n",
    "\n",
    "Вопрос: какая модель называется лучшей (по каким критериям)?"
   ]
  },
  {
   "cell_type": "code",
   "execution_count": 179,
   "metadata": {},
   "outputs": [
    {
     "data": {
      "text/plain": [
       "{'mean_fit_time': array([0.00417137, 0.00668368, 0.0071279 , 0.00440931, 0.00714569,\n",
       "        0.00637054, 0.00419049, 0.0059906 , 0.00558829, 0.00478673,\n",
       "        0.00580812, 0.00596194, 0.0051825 , 0.00579491, 0.00518751,\n",
       "        0.00558534, 0.00767241, 0.00498672, 0.00559168, 0.00578156,\n",
       "        0.00498514, 0.00592713, 0.00516214, 0.00500817, 0.00717974,\n",
       "        0.00578551, 0.004949  , 0.00697875, 0.00558558, 0.00478611,\n",
       "        0.00697947, 0.00578012, 0.00518417, 0.00697179, 0.00557632,\n",
       "        0.0049686 , 0.00651894, 0.00519629, 0.00499511]),\n",
       " 'std_fit_time': array([4.08669948e-04, 7.45314822e-04, 7.96823978e-04, 4.58172849e-04,\n",
       "        4.45275798e-04, 4.90992463e-04, 3.97314312e-04, 3.47216697e-05,\n",
       "        4.90001191e-04, 7.42815327e-04, 4.09313028e-04, 4.83154883e-05,\n",
       "        3.99368613e-04, 4.05846260e-04, 3.98518235e-04, 4.87468241e-04,\n",
       "        3.89485147e-03, 2.20276059e-06, 4.81000780e-04, 3.98826856e-04,\n",
       "        1.44159474e-06, 5.28966646e-04, 3.49809592e-04, 4.63355698e-05,\n",
       "        1.16292437e-03, 3.99021180e-04, 5.76151322e-04, 1.76546996e-03,\n",
       "        4.91967425e-04, 4.01426250e-04, 1.89088098e-03, 3.45864872e-04,\n",
       "        4.00590553e-04, 2.10285266e-03, 4.84581839e-04, 2.30452986e-05,\n",
       "        1.93038493e-03, 4.00943596e-04, 2.03269143e-05]),\n",
       " 'mean_score_time': array([0.00079961, 0.00151081, 0.0019587 , 0.00077481, 0.00184751,\n",
       "        0.00140743, 0.00099659, 0.0013804 , 0.0015924 , 0.00059896,\n",
       "        0.00157261, 0.00099907, 0.00099912, 0.00141897, 0.00119748,\n",
       "        0.00079913, 0.00120649, 0.00139542, 0.00099816, 0.0009984 ,\n",
       "        0.00099831, 0.0007844 , 0.00159268, 0.00097475, 0.00059743,\n",
       "        0.0009973 , 0.00100598, 0.00100489, 0.00122366, 0.00119662,\n",
       "        0.00079708, 0.00116496, 0.00119648, 0.00112252, 0.00100789,\n",
       "        0.00102892, 0.00062103, 0.00119228, 0.00099349]),\n",
       " 'std_score_time': array([3.99804211e-04, 4.29028980e-04, 5.59797941e-04, 3.89512756e-04,\n",
       "        3.74386684e-04, 4.81000071e-04, 5.35460741e-06, 5.02359214e-04,\n",
       "        4.91548967e-04, 4.89045952e-04, 4.69408535e-04, 8.29833666e-06,\n",
       "        1.00701867e-06, 5.20626012e-04, 4.03452554e-04, 3.99571199e-04,\n",
       "        3.94484404e-04, 4.90312023e-04, 5.69536026e-06, 1.04033586e-06,\n",
       "        2.03649106e-06, 3.92850621e-04, 4.87876921e-04, 4.54817670e-05,\n",
       "        4.87811018e-04, 2.19552315e-06, 3.48125743e-05, 1.67921169e-05,\n",
       "        3.92979309e-04, 3.99115977e-04, 3.98569449e-04, 3.94149205e-04,\n",
       "        3.99428890e-04, 2.50792883e-04, 1.78152131e-05, 2.68563899e-05,\n",
       "        4.78666644e-04, 3.98914751e-04, 8.71973377e-06]),\n",
       " 'param_svc__C': masked_array(data=[0.1, 0.1, 0.1, 0.2, 0.2, 0.2, 0.5, 0.5, 0.5, 1, 1, 1,\n",
       "                    2, 2, 2, 3, 3, 3, 4, 4, 4, 5, 5, 5, 6, 6, 6, 7, 7, 7,\n",
       "                    8, 8, 8, 9, 9, 9, 10, 10, 10],\n",
       "              mask=[False, False, False, False, False, False, False, False,\n",
       "                    False, False, False, False, False, False, False, False,\n",
       "                    False, False, False, False, False, False, False, False,\n",
       "                    False, False, False, False, False, False, False, False,\n",
       "                    False, False, False, False, False, False, False],\n",
       "        fill_value='?',\n",
       "             dtype=object),\n",
       " 'param_svc__kernel': masked_array(data=['linear', 'rbf', 'poly', 'linear', 'rbf', 'poly',\n",
       "                    'linear', 'rbf', 'poly', 'linear', 'rbf', 'poly',\n",
       "                    'linear', 'rbf', 'poly', 'linear', 'rbf', 'poly',\n",
       "                    'linear', 'rbf', 'poly', 'linear', 'rbf', 'poly',\n",
       "                    'linear', 'rbf', 'poly', 'linear', 'rbf', 'poly',\n",
       "                    'linear', 'rbf', 'poly', 'linear', 'rbf', 'poly',\n",
       "                    'linear', 'rbf', 'poly'],\n",
       "              mask=[False, False, False, False, False, False, False, False,\n",
       "                    False, False, False, False, False, False, False, False,\n",
       "                    False, False, False, False, False, False, False, False,\n",
       "                    False, False, False, False, False, False, False, False,\n",
       "                    False, False, False, False, False, False, False],\n",
       "        fill_value='?',\n",
       "             dtype=object),\n",
       " 'params': [{'svc__C': 0.1, 'svc__kernel': 'linear'},\n",
       "  {'svc__C': 0.1, 'svc__kernel': 'rbf'},\n",
       "  {'svc__C': 0.1, 'svc__kernel': 'poly'},\n",
       "  {'svc__C': 0.2, 'svc__kernel': 'linear'},\n",
       "  {'svc__C': 0.2, 'svc__kernel': 'rbf'},\n",
       "  {'svc__C': 0.2, 'svc__kernel': 'poly'},\n",
       "  {'svc__C': 0.5, 'svc__kernel': 'linear'},\n",
       "  {'svc__C': 0.5, 'svc__kernel': 'rbf'},\n",
       "  {'svc__C': 0.5, 'svc__kernel': 'poly'},\n",
       "  {'svc__C': 1, 'svc__kernel': 'linear'},\n",
       "  {'svc__C': 1, 'svc__kernel': 'rbf'},\n",
       "  {'svc__C': 1, 'svc__kernel': 'poly'},\n",
       "  {'svc__C': 2, 'svc__kernel': 'linear'},\n",
       "  {'svc__C': 2, 'svc__kernel': 'rbf'},\n",
       "  {'svc__C': 2, 'svc__kernel': 'poly'},\n",
       "  {'svc__C': 3, 'svc__kernel': 'linear'},\n",
       "  {'svc__C': 3, 'svc__kernel': 'rbf'},\n",
       "  {'svc__C': 3, 'svc__kernel': 'poly'},\n",
       "  {'svc__C': 4, 'svc__kernel': 'linear'},\n",
       "  {'svc__C': 4, 'svc__kernel': 'rbf'},\n",
       "  {'svc__C': 4, 'svc__kernel': 'poly'},\n",
       "  {'svc__C': 5, 'svc__kernel': 'linear'},\n",
       "  {'svc__C': 5, 'svc__kernel': 'rbf'},\n",
       "  {'svc__C': 5, 'svc__kernel': 'poly'},\n",
       "  {'svc__C': 6, 'svc__kernel': 'linear'},\n",
       "  {'svc__C': 6, 'svc__kernel': 'rbf'},\n",
       "  {'svc__C': 6, 'svc__kernel': 'poly'},\n",
       "  {'svc__C': 7, 'svc__kernel': 'linear'},\n",
       "  {'svc__C': 7, 'svc__kernel': 'rbf'},\n",
       "  {'svc__C': 7, 'svc__kernel': 'poly'},\n",
       "  {'svc__C': 8, 'svc__kernel': 'linear'},\n",
       "  {'svc__C': 8, 'svc__kernel': 'rbf'},\n",
       "  {'svc__C': 8, 'svc__kernel': 'poly'},\n",
       "  {'svc__C': 9, 'svc__kernel': 'linear'},\n",
       "  {'svc__C': 9, 'svc__kernel': 'rbf'},\n",
       "  {'svc__C': 9, 'svc__kernel': 'poly'},\n",
       "  {'svc__C': 10, 'svc__kernel': 'linear'},\n",
       "  {'svc__C': 10, 'svc__kernel': 'rbf'},\n",
       "  {'svc__C': 10, 'svc__kernel': 'poly'}],\n",
       " 'split0_test_score': array([0.975 , 0.95  , 0.8375, 0.975 , 0.95  , 0.85  , 0.975 , 0.9625,\n",
       "        0.875 , 0.975 , 0.975 , 0.8875, 0.975 , 0.975 , 0.9125, 0.9875,\n",
       "        0.9875, 0.9125, 0.9625, 0.9875, 0.925 , 0.975 , 0.9875, 0.9375,\n",
       "        0.975 , 0.9875, 0.9375, 0.975 , 0.975 , 0.9375, 0.975 , 0.975 ,\n",
       "        0.9375, 0.975 , 0.975 , 0.9375, 0.975 , 0.975 , 0.95  ]),\n",
       " 'split1_test_score': array([0.975 , 0.95  , 0.8625, 0.9625, 0.9625, 0.8625, 0.95  , 0.9625,\n",
       "        0.9   , 0.9625, 0.9625, 0.9   , 0.95  , 0.9625, 0.9   , 0.95  ,\n",
       "        0.9625, 0.9375, 0.95  , 0.975 , 0.95  , 0.9375, 0.975 , 0.95  ,\n",
       "        0.9375, 0.975 , 0.95  , 0.9375, 0.95  , 0.95  , 0.9375, 0.95  ,\n",
       "        0.95  , 0.95  , 0.9625, 0.95  , 0.95  , 0.9625, 0.9625]),\n",
       " 'split2_test_score': array([0.9875, 0.925 , 0.7875, 1.    , 0.95  , 0.825 , 0.9875, 0.9625,\n",
       "        0.8625, 1.    , 0.9875, 0.9125, 1.    , 0.9875, 0.9375, 1.    ,\n",
       "        0.975 , 0.95  , 1.    , 0.975 , 0.9625, 1.    , 0.975 , 0.975 ,\n",
       "        1.    , 0.975 , 0.975 , 1.    , 0.975 , 0.975 , 1.    , 0.975 ,\n",
       "        0.975 , 1.    , 0.975 , 0.9875, 1.    , 0.9625, 0.9875]),\n",
       " 'split3_test_score': array([0.9625, 0.95  , 0.85  , 0.975 , 0.95  , 0.8625, 0.9625, 0.9625,\n",
       "        0.925 , 0.975 , 0.975 , 0.9375, 0.975 , 0.975 , 0.9375, 0.975 ,\n",
       "        0.975 , 0.925 , 0.975 , 0.975 , 0.925 , 0.975 , 0.975 , 0.9375,\n",
       "        0.975 , 0.975 , 0.9375, 0.975 , 0.9625, 0.9375, 0.975 , 0.9625,\n",
       "        0.9375, 0.975 , 0.9625, 0.9375, 0.975 , 0.95  , 0.9375]),\n",
       " 'split4_test_score': array([0.94871795, 0.92307692, 0.83333333, 0.96153846, 0.92307692,\n",
       "        0.85897436, 0.94871795, 0.93589744, 0.85897436, 0.93589744,\n",
       "        0.93589744, 0.85897436, 0.93589744, 0.94871795, 0.85897436,\n",
       "        0.94871795, 0.94871795, 0.87179487, 0.94871795, 0.96153846,\n",
       "        0.91025641, 0.94871795, 0.94871795, 0.92307692, 0.94871795,\n",
       "        0.94871795, 0.93589744, 0.94871795, 0.94871795, 0.93589744,\n",
       "        0.94871795, 0.96153846, 0.93589744, 0.93589744, 0.96153846,\n",
       "        0.93589744, 0.93589744, 0.94871795, 0.93589744]),\n",
       " 'mean_test_score': array([0.96984925, 0.93969849, 0.83417085, 0.97487437, 0.94723618,\n",
       "        0.85175879, 0.96482412, 0.95728643, 0.88442211, 0.96984925,\n",
       "        0.96733668, 0.89949749, 0.96733668, 0.96984925, 0.90954774,\n",
       "        0.97236181, 0.96984925, 0.91959799, 0.96733668, 0.97487437,\n",
       "        0.93467337, 0.96733668, 0.97236181, 0.94472362, 0.96733668,\n",
       "        0.97236181, 0.94723618, 0.96733668, 0.96231156, 0.94723618,\n",
       "        0.96733668, 0.96482412, 0.94723618, 0.96733668, 0.96733668,\n",
       "        0.94974874, 0.96733668, 0.95979899, 0.95477387]),\n",
       " 'std_test_score': array([0.01310176, 0.01271076, 0.02553169, 0.01387564, 0.0128773 ,\n",
       "        0.01418213, 0.01484136, 0.01055997, 0.02492195, 0.0207403 ,\n",
       "        0.01742822, 0.02598229, 0.02218525, 0.01310176, 0.02890378,\n",
       "        0.020275  , 0.01310176, 0.02672148, 0.01895545, 0.00817957,\n",
       "        0.01890286, 0.02202129, 0.01264197, 0.01739708, 0.02202129,\n",
       "        0.01264197, 0.01482499, 0.02202129, 0.01146346, 0.01482499,\n",
       "        0.02202129, 0.00943402, 0.01482499, 0.02218525, 0.00629299,\n",
       "        0.0196059 , 0.02218525, 0.00963037, 0.01901748]),\n",
       " 'rank_test_score': array([ 6, 32, 39,  1, 27, 38, 20, 24, 37,  6, 10, 36, 10,  6, 35,  3,  6,\n",
       "        34, 10,  1, 33, 10,  3, 31, 10,  3, 27, 10, 22, 27, 10, 20, 27, 10,\n",
       "        10, 26, 10, 23, 25])}"
      ]
     },
     "execution_count": 179,
     "metadata": {},
     "output_type": "execute_result"
    }
   ],
   "source": [
    "clf.cv_results_"
   ]
  },
  {
   "cell_type": "code",
   "execution_count": 180,
   "metadata": {},
   "outputs": [
    {
     "data": {
      "text/plain": [
       "Pipeline(memory=None,\n",
       "         steps=[('standardizer',\n",
       "                 StandardScaler(copy=True, with_mean=True, with_std=True)),\n",
       "                ('svc',\n",
       "                 SVC(C=0.2, cache_size=200, class_weight=None, coef0=0.0,\n",
       "                     decision_function_shape='ovr', degree=3,\n",
       "                     gamma='auto_deprecated', kernel='linear', max_iter=-1,\n",
       "                     probability=False, random_state=None, shrinking=True,\n",
       "                     tol=0.001, verbose=False))],\n",
       "         verbose=False)"
      ]
     },
     "execution_count": 180,
     "metadata": {},
     "output_type": "execute_result"
    }
   ],
   "source": [
    "clf.best_estimator_"
   ]
  },
  {
   "cell_type": "code",
   "execution_count": 198,
   "metadata": {},
   "outputs": [
    {
     "data": {
      "text/plain": [
       "array([-0.26201082, -0.22287287, -0.2378374 , -0.28905777, -0.01541941,\n",
       "        0.27647112, -0.36496697, -0.51536565, -0.00876694,  0.09478219,\n",
       "       -0.5292137 ,  0.115907  , -0.38125249, -0.39128305, -0.06331044,\n",
       "        0.22286227, -0.08816704, -0.21634629,  0.2081491 ,  0.34617964,\n",
       "       -0.26925491, -0.59516184, -0.20146133, -0.28104051, -0.28751544,\n",
       "        0.14348316, -0.4151432 , -0.29063285, -0.53238992, -0.10738949])"
      ]
     },
     "execution_count": 198,
     "metadata": {},
     "output_type": "execute_result"
    }
   ],
   "source": [
    "clf.best_estimator_.named_steps['svc'].coef_[0]"
   ]
  },
  {
   "cell_type": "markdown",
   "metadata": {},
   "source": [
    "## Задача 3 (Домашнее задание).\n",
    "\n",
    "Построить `feature importances` для каждого классифкатора, посмотреть, какие признаки учавствуют в построении решающего правила"
   ]
  },
  {
   "cell_type": "code",
   "execution_count": 206,
   "metadata": {},
   "outputs": [
    {
     "data": {
      "image/png": "[encoded data removed]",
      "text/plain": [
       "<Figure size 432x288 with 1 Axes>"
      ]
     },
     "metadata": {},
     "output_type": "display_data"
    }
   ],
   "source": [
    "n_feature = cancer.data.shape[1]\n",
    "plt.barh(range(n_feature), rfc.feature_importances_, align='center')\n",
    "plt.barh(range(n_feature), abs(svc.coef_[0]), align='center', alpha = 0.5)\n",
    "plt.barh(range(n_feature), abs(lr.coef_[0]), align='center', alpha = 0.2)\n",
    "plt.yticks(np.arange(n_feature), cancer.feature_names)\n",
    "plt.xlabel('Feature Importance')\n",
    "plt.ylabel('Feature')\n",
    "plt.show()"
   ]
  },
  {
   "cell_type": "markdown",
   "metadata": {},
   "source": [
    "### А что потом?\n",
    "\n",
    "\n",
    "1. На каких пациентах ошибаются классификаторы?\n",
    "2. Вывести все параметры пациентов, сравнить со средними значениями по выборке\n",
    "3. Сравнить с `feature_importance`"
   ]
  }
 ],
 "metadata": {
  "kernelspec": {
   "display_name": "Python 3",
   "language": "python",
   "name": "python3"
  },
  "language_info": {
   "codemirror_mode": {
    "name": "ipython",
    "version": 3
   },
   "file_extension": ".py",
   "mimetype": "text/x-python",
   "name": "python",
   "nbconvert_exporter": "python",
   "pygments_lexer": "ipython3",
   "version": "3.7.4"
  }
 },
 "nbformat": 4,
 "nbformat_minor": 1
}
