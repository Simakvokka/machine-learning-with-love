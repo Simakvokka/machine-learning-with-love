{
 "cells": [
  {
   "cell_type": "markdown",
   "metadata": {},
   "source": [
    "# Введение в машинное обучение\n",
    "\n",
    "## Семинар #8\n",
    "\n",
    "### Екатерина Кондратьева\n",
    "\n",
    "ekaterina.kondrateva@skoltech.ru\n",
    "\n",
    "## Отбор и генерация признаков (Feature Engineering). Поиск и оптимизация модели (Grid Search). Поиск аномалий (Anomaly Detection)"
   ]
  },
  {
   "cell_type": "code",
   "execution_count": 1,
   "metadata": {},
   "outputs": [],
   "source": [
    "import numpy as np\n",
    "import sklearn\n",
    "from sklearn.model_selection import train_test_split\n",
    "import pandas as pd\n",
    "import matplotlib.pyplot as plt\n",
    "from sklearn.model_selection import cross_val_score\n",
    "%matplotlib inline"
   ]
  },
  {
   "cell_type": "markdown",
   "metadata": {},
   "source": [
    "## Кто такие аутлайеры (аномалии)? "
   ]
  },
  {
   "cell_type": "markdown",
   "metadata": {},
   "source": [
    "Это наблюдение, которое \"**отличается**\" \"**настолько сильно**\" от \"**прочих наблюдений**\""
   ]
  },
  {
   "cell_type": "markdown",
   "metadata": {},
   "source": [
    "Определение аномалий в датасете невозможно без: \n",
    "   1. определения **\"прочих наблюдений\"** (модели данных)\n",
    "   2. определения метрики отклонения (**\"отличия\"**) от **\"прочих наблюдений\"** \n",
    "   3. определения **\"насколько сильно\"** аномальные объекты **\"отличаются\"** от **\"прочих наблюдений\"**"
   ]
  },
  {
   "cell_type": "markdown",
   "metadata": {},
   "source": [
    "##### Назовите самый простой способ детектирования аномалий?"
   ]
  },
  {
   "cell_type": "markdown",
   "metadata": {},
   "source": [
    " "
   ]
  },
  {
   "cell_type": "markdown",
   "metadata": {},
   "source": [
    "*Спойлер: СТД? Квантили?*"
   ]
  },
  {
   "cell_type": "markdown",
   "metadata": {},
   "source": [
    "## 1.  Нахождение фрода\n",
    "\n",
    "Источник: https://www.kaggle.com/dalpozz/creditcardfraud"
   ]
  },
  {
   "cell_type": "code",
   "execution_count": 7,
   "metadata": {
    "scrolled": true
   },
   "outputs": [],
   "source": [
    "data = pd.read_csv(\"./data/creditcard.csv\")"
   ]
  },
  {
   "cell_type": "markdown",
   "metadata": {},
   "source": [
    "Давайте проверим, сколько \"фрода\" в этой выборке?"
   ]
  },
  {
   "cell_type": "code",
   "execution_count": 8,
   "metadata": {},
   "outputs": [
    {
     "data": {
      "text/html": [
       "<div>\n",
       "<style scoped>\n",
       "    .dataframe tbody tr th:only-of-type {\n",
       "        vertical-align: middle;\n",
       "    }\n",
       "\n",
       "    .dataframe tbody tr th {\n",
       "        vertical-align: top;\n",
       "    }\n",
       "\n",
       "    .dataframe thead th {\n",
       "        text-align: right;\n",
       "    }\n",
       "</style>\n",
       "<table border=\"1\" class=\"dataframe\">\n",
       "  <thead>\n",
       "    <tr style=\"text-align: right;\">\n",
       "      <th></th>\n",
       "      <th>Time</th>\n",
       "      <th>V1</th>\n",
       "      <th>V2</th>\n",
       "      <th>V3</th>\n",
       "      <th>V4</th>\n",
       "      <th>V5</th>\n",
       "      <th>V6</th>\n",
       "      <th>V7</th>\n",
       "      <th>V8</th>\n",
       "      <th>V9</th>\n",
       "      <th>...</th>\n",
       "      <th>V21</th>\n",
       "      <th>V22</th>\n",
       "      <th>V23</th>\n",
       "      <th>V24</th>\n",
       "      <th>V25</th>\n",
       "      <th>V26</th>\n",
       "      <th>V27</th>\n",
       "      <th>V28</th>\n",
       "      <th>Amount</th>\n",
       "      <th>Class</th>\n",
       "    </tr>\n",
       "  </thead>\n",
       "  <tbody>\n",
       "    <tr>\n",
       "      <th>11258</th>\n",
       "      <td>19546.0</td>\n",
       "      <td>-0.454749</td>\n",
       "      <td>-4.054983</td>\n",
       "      <td>-0.273254</td>\n",
       "      <td>-0.399568</td>\n",
       "      <td>-2.590132</td>\n",
       "      <td>-0.393092</td>\n",
       "      <td>0.138466</td>\n",
       "      <td>-0.391686</td>\n",
       "      <td>-0.873562</td>\n",
       "      <td>...</td>\n",
       "      <td>0.054097</td>\n",
       "      <td>-1.563757</td>\n",
       "      <td>-0.628145</td>\n",
       "      <td>0.457243</td>\n",
       "      <td>-0.338810</td>\n",
       "      <td>-0.653193</td>\n",
       "      <td>-0.184372</td>\n",
       "      <td>0.185015</td>\n",
       "      <td>1002.00</td>\n",
       "      <td>0</td>\n",
       "    </tr>\n",
       "    <tr>\n",
       "      <th>78321</th>\n",
       "      <td>57475.0</td>\n",
       "      <td>-6.423197</td>\n",
       "      <td>1.072629</td>\n",
       "      <td>-3.820238</td>\n",
       "      <td>-0.269845</td>\n",
       "      <td>-4.125205</td>\n",
       "      <td>-0.690805</td>\n",
       "      <td>-0.196968</td>\n",
       "      <td>2.840871</td>\n",
       "      <td>-0.307457</td>\n",
       "      <td>...</td>\n",
       "      <td>0.011082</td>\n",
       "      <td>0.109586</td>\n",
       "      <td>-0.041425</td>\n",
       "      <td>0.576822</td>\n",
       "      <td>-0.291755</td>\n",
       "      <td>0.837947</td>\n",
       "      <td>-0.077805</td>\n",
       "      <td>-0.788987</td>\n",
       "      <td>255.30</td>\n",
       "      <td>0</td>\n",
       "    </tr>\n",
       "    <tr>\n",
       "      <th>226814</th>\n",
       "      <td>144808.0</td>\n",
       "      <td>-2.405207</td>\n",
       "      <td>2.943823</td>\n",
       "      <td>-7.616654</td>\n",
       "      <td>3.533374</td>\n",
       "      <td>-5.417494</td>\n",
       "      <td>-0.112632</td>\n",
       "      <td>-1.329372</td>\n",
       "      <td>1.709417</td>\n",
       "      <td>-2.322716</td>\n",
       "      <td>...</td>\n",
       "      <td>0.652683</td>\n",
       "      <td>0.414132</td>\n",
       "      <td>0.023869</td>\n",
       "      <td>-0.260616</td>\n",
       "      <td>0.405316</td>\n",
       "      <td>0.029107</td>\n",
       "      <td>0.519807</td>\n",
       "      <td>-0.469537</td>\n",
       "      <td>667.55</td>\n",
       "      <td>1</td>\n",
       "    </tr>\n",
       "    <tr>\n",
       "      <th>276476</th>\n",
       "      <td>167121.0</td>\n",
       "      <td>-0.454736</td>\n",
       "      <td>0.189683</td>\n",
       "      <td>0.839674</td>\n",
       "      <td>-0.810172</td>\n",
       "      <td>0.458127</td>\n",
       "      <td>0.106038</td>\n",
       "      <td>0.427228</td>\n",
       "      <td>0.195571</td>\n",
       "      <td>-1.232442</td>\n",
       "      <td>...</td>\n",
       "      <td>-0.136466</td>\n",
       "      <td>0.090678</td>\n",
       "      <td>-0.255906</td>\n",
       "      <td>0.628284</td>\n",
       "      <td>0.175469</td>\n",
       "      <td>-0.617653</td>\n",
       "      <td>0.147898</td>\n",
       "      <td>0.142017</td>\n",
       "      <td>9.94</td>\n",
       "      <td>0</td>\n",
       "    </tr>\n",
       "    <tr>\n",
       "      <th>174521</th>\n",
       "      <td>121948.0</td>\n",
       "      <td>0.014204</td>\n",
       "      <td>0.516012</td>\n",
       "      <td>0.248349</td>\n",
       "      <td>-0.307436</td>\n",
       "      <td>0.180279</td>\n",
       "      <td>1.025058</td>\n",
       "      <td>-0.806851</td>\n",
       "      <td>-1.255250</td>\n",
       "      <td>0.843365</td>\n",
       "      <td>...</td>\n",
       "      <td>1.673448</td>\n",
       "      <td>0.206028</td>\n",
       "      <td>-0.294641</td>\n",
       "      <td>0.199466</td>\n",
       "      <td>0.902569</td>\n",
       "      <td>0.829324</td>\n",
       "      <td>0.220143</td>\n",
       "      <td>0.262698</td>\n",
       "      <td>7.50</td>\n",
       "      <td>0</td>\n",
       "    </tr>\n",
       "  </tbody>\n",
       "</table>\n",
       "<p>5 rows × 31 columns</p>\n",
       "</div>"
      ],
      "text/plain": [
       "            Time        V1        V2        V3        V4        V5        V6  \\\n",
       "11258    19546.0 -0.454749 -4.054983 -0.273254 -0.399568 -2.590132 -0.393092   \n",
       "78321    57475.0 -6.423197  1.072629 -3.820238 -0.269845 -4.125205 -0.690805   \n",
       "226814  144808.0 -2.405207  2.943823 -7.616654  3.533374 -5.417494 -0.112632   \n",
       "276476  167121.0 -0.454736  0.189683  0.839674 -0.810172  0.458127  0.106038   \n",
       "174521  121948.0  0.014204  0.516012  0.248349 -0.307436  0.180279  1.025058   \n",
       "\n",
       "              V7        V8        V9  ...         V21       V22       V23  \\\n",
       "11258   0.138466 -0.391686 -0.873562  ...    0.054097 -1.563757 -0.628145   \n",
       "78321  -0.196968  2.840871 -0.307457  ...    0.011082  0.109586 -0.041425   \n",
       "226814 -1.329372  1.709417 -2.322716  ...    0.652683  0.414132  0.023869   \n",
       "276476  0.427228  0.195571 -1.232442  ...   -0.136466  0.090678 -0.255906   \n",
       "174521 -0.806851 -1.255250  0.843365  ...    1.673448  0.206028 -0.294641   \n",
       "\n",
       "             V24       V25       V26       V27       V28   Amount  Class  \n",
       "11258   0.457243 -0.338810 -0.653193 -0.184372  0.185015  1002.00      0  \n",
       "78321   0.576822 -0.291755  0.837947 -0.077805 -0.788987   255.30      0  \n",
       "226814 -0.260616  0.405316  0.029107  0.519807 -0.469537   667.55      1  \n",
       "276476  0.628284  0.175469 -0.617653  0.147898  0.142017     9.94      0  \n",
       "174521  0.199466  0.902569  0.829324  0.220143  0.262698     7.50      0  \n",
       "\n",
       "[5 rows x 31 columns]"
      ]
     },
     "execution_count": 8,
     "metadata": {},
     "output_type": "execute_result"
    }
   ],
   "source": [
    "data.head()"
   ]
  },
  {
   "cell_type": "code",
   "execution_count": null,
   "metadata": {},
   "outputs": [],
   "source": [
    "# <YOUR CODE>"
   ]
  },
  {
   "cell_type": "markdown",
   "metadata": {},
   "source": [
    "Должно быть  1.7% , что можно сказать про баланс классов?"
   ]
  },
  {
   "cell_type": "code",
   "execution_count": 11,
   "metadata": {
    "scrolled": true
   },
   "outputs": [
    {
     "data": {
      "text/html": [
       "<div>\n",
       "<style scoped>\n",
       "    .dataframe tbody tr th:only-of-type {\n",
       "        vertical-align: middle;\n",
       "    }\n",
       "\n",
       "    .dataframe tbody tr th {\n",
       "        vertical-align: top;\n",
       "    }\n",
       "\n",
       "    .dataframe thead th {\n",
       "        text-align: right;\n",
       "    }\n",
       "</style>\n",
       "<table border=\"1\" class=\"dataframe\">\n",
       "  <thead>\n",
       "    <tr style=\"text-align: right;\">\n",
       "      <th></th>\n",
       "      <th>Time</th>\n",
       "      <th>V1</th>\n",
       "      <th>V2</th>\n",
       "      <th>V3</th>\n",
       "      <th>V4</th>\n",
       "      <th>V5</th>\n",
       "      <th>V6</th>\n",
       "      <th>V7</th>\n",
       "      <th>V8</th>\n",
       "      <th>V9</th>\n",
       "      <th>...</th>\n",
       "      <th>V21</th>\n",
       "      <th>V22</th>\n",
       "      <th>V23</th>\n",
       "      <th>V24</th>\n",
       "      <th>V25</th>\n",
       "      <th>V26</th>\n",
       "      <th>V27</th>\n",
       "      <th>V28</th>\n",
       "      <th>Amount</th>\n",
       "      <th>Class</th>\n",
       "    </tr>\n",
       "  </thead>\n",
       "  <tbody>\n",
       "    <tr>\n",
       "      <th>count</th>\n",
       "      <td>28924.000000</td>\n",
       "      <td>28924.000000</td>\n",
       "      <td>28924.000000</td>\n",
       "      <td>28924.000000</td>\n",
       "      <td>28924.000000</td>\n",
       "      <td>28924.000000</td>\n",
       "      <td>28924.000000</td>\n",
       "      <td>28924.000000</td>\n",
       "      <td>28924.000000</td>\n",
       "      <td>28924.000000</td>\n",
       "      <td>...</td>\n",
       "      <td>28924.000000</td>\n",
       "      <td>28924.000000</td>\n",
       "      <td>28924.000000</td>\n",
       "      <td>28924.000000</td>\n",
       "      <td>28924.000000</td>\n",
       "      <td>28924.000000</td>\n",
       "      <td>28924.000000</td>\n",
       "      <td>28924.000000</td>\n",
       "      <td>28924.000000</td>\n",
       "      <td>28924.000000</td>\n",
       "    </tr>\n",
       "    <tr>\n",
       "      <th>mean</th>\n",
       "      <td>94597.165641</td>\n",
       "      <td>-0.063516</td>\n",
       "      <td>0.075994</td>\n",
       "      <td>-0.116809</td>\n",
       "      <td>0.083753</td>\n",
       "      <td>-0.054695</td>\n",
       "      <td>-0.016576</td>\n",
       "      <td>-0.078323</td>\n",
       "      <td>0.015787</td>\n",
       "      <td>-0.039995</td>\n",
       "      <td>...</td>\n",
       "      <td>0.010800</td>\n",
       "      <td>-0.000310</td>\n",
       "      <td>-0.004370</td>\n",
       "      <td>-0.000643</td>\n",
       "      <td>-0.000772</td>\n",
       "      <td>0.002518</td>\n",
       "      <td>0.002694</td>\n",
       "      <td>0.001286</td>\n",
       "      <td>87.285667</td>\n",
       "      <td>0.017010</td>\n",
       "    </tr>\n",
       "    <tr>\n",
       "      <th>std</th>\n",
       "      <td>47526.033582</td>\n",
       "      <td>2.173112</td>\n",
       "      <td>1.697883</td>\n",
       "      <td>1.935877</td>\n",
       "      <td>1.546847</td>\n",
       "      <td>1.556783</td>\n",
       "      <td>1.348886</td>\n",
       "      <td>1.649011</td>\n",
       "      <td>1.431676</td>\n",
       "      <td>1.170255</td>\n",
       "      <td>...</td>\n",
       "      <td>0.862053</td>\n",
       "      <td>0.742108</td>\n",
       "      <td>0.565251</td>\n",
       "      <td>0.605248</td>\n",
       "      <td>0.520625</td>\n",
       "      <td>0.481248</td>\n",
       "      <td>0.434112</td>\n",
       "      <td>0.345710</td>\n",
       "      <td>235.492046</td>\n",
       "      <td>0.129311</td>\n",
       "    </tr>\n",
       "    <tr>\n",
       "      <th>min</th>\n",
       "      <td>0.000000</td>\n",
       "      <td>-30.552380</td>\n",
       "      <td>-40.978852</td>\n",
       "      <td>-31.103685</td>\n",
       "      <td>-5.683171</td>\n",
       "      <td>-32.092129</td>\n",
       "      <td>-17.118592</td>\n",
       "      <td>-43.557242</td>\n",
       "      <td>-41.484823</td>\n",
       "      <td>-13.434066</td>\n",
       "      <td>...</td>\n",
       "      <td>-22.797604</td>\n",
       "      <td>-8.887017</td>\n",
       "      <td>-19.254328</td>\n",
       "      <td>-2.822684</td>\n",
       "      <td>-4.781606</td>\n",
       "      <td>-1.664130</td>\n",
       "      <td>-9.895244</td>\n",
       "      <td>-8.478686</td>\n",
       "      <td>0.000000</td>\n",
       "      <td>0.000000</td>\n",
       "    </tr>\n",
       "    <tr>\n",
       "      <th>25%</th>\n",
       "      <td>53988.250000</td>\n",
       "      <td>-0.940423</td>\n",
       "      <td>-0.579151</td>\n",
       "      <td>-0.962786</td>\n",
       "      <td>-0.824836</td>\n",
       "      <td>-0.703097</td>\n",
       "      <td>-0.787944</td>\n",
       "      <td>-0.569843</td>\n",
       "      <td>-0.206605</td>\n",
       "      <td>-0.658765</td>\n",
       "      <td>...</td>\n",
       "      <td>-0.228051</td>\n",
       "      <td>-0.546631</td>\n",
       "      <td>-0.160934</td>\n",
       "      <td>-0.356201</td>\n",
       "      <td>-0.316206</td>\n",
       "      <td>-0.325299</td>\n",
       "      <td>-0.070677</td>\n",
       "      <td>-0.052643</td>\n",
       "      <td>5.390000</td>\n",
       "      <td>0.000000</td>\n",
       "    </tr>\n",
       "    <tr>\n",
       "      <th>50%</th>\n",
       "      <td>84602.500000</td>\n",
       "      <td>0.008535</td>\n",
       "      <td>0.078486</td>\n",
       "      <td>0.152450</td>\n",
       "      <td>0.016759</td>\n",
       "      <td>-0.062998</td>\n",
       "      <td>-0.290597</td>\n",
       "      <td>0.031023</td>\n",
       "      <td>0.028303</td>\n",
       "      <td>-0.067754</td>\n",
       "      <td>...</td>\n",
       "      <td>-0.024851</td>\n",
       "      <td>0.006007</td>\n",
       "      <td>-0.011446</td>\n",
       "      <td>0.042417</td>\n",
       "      <td>0.014036</td>\n",
       "      <td>-0.049536</td>\n",
       "      <td>0.001890</td>\n",
       "      <td>0.011664</td>\n",
       "      <td>21.950000</td>\n",
       "      <td>0.000000</td>\n",
       "    </tr>\n",
       "    <tr>\n",
       "      <th>75%</th>\n",
       "      <td>139215.250000</td>\n",
       "      <td>1.314801</td>\n",
       "      <td>0.834686</td>\n",
       "      <td>1.007704</td>\n",
       "      <td>0.798441</td>\n",
       "      <td>0.604570</td>\n",
       "      <td>0.395795</td>\n",
       "      <td>0.557633</td>\n",
       "      <td>0.344750</td>\n",
       "      <td>0.588573</td>\n",
       "      <td>...</td>\n",
       "      <td>0.192924</td>\n",
       "      <td>0.532145</td>\n",
       "      <td>0.145472</td>\n",
       "      <td>0.440141</td>\n",
       "      <td>0.346935</td>\n",
       "      <td>0.246329</td>\n",
       "      <td>0.094998</td>\n",
       "      <td>0.079820</td>\n",
       "      <td>76.000000</td>\n",
       "      <td>0.000000</td>\n",
       "    </tr>\n",
       "    <tr>\n",
       "      <th>max</th>\n",
       "      <td>172786.000000</td>\n",
       "      <td>2.412720</td>\n",
       "      <td>22.057729</td>\n",
       "      <td>4.069865</td>\n",
       "      <td>12.114672</td>\n",
       "      <td>24.345310</td>\n",
       "      <td>21.393069</td>\n",
       "      <td>34.303177</td>\n",
       "      <td>20.007208</td>\n",
       "      <td>7.937988</td>\n",
       "      <td>...</td>\n",
       "      <td>27.202839</td>\n",
       "      <td>8.361985</td>\n",
       "      <td>12.045536</td>\n",
       "      <td>3.695503</td>\n",
       "      <td>3.347936</td>\n",
       "      <td>3.004455</td>\n",
       "      <td>10.135597</td>\n",
       "      <td>15.769636</td>\n",
       "      <td>7712.430000</td>\n",
       "      <td>1.000000</td>\n",
       "    </tr>\n",
       "  </tbody>\n",
       "</table>\n",
       "<p>8 rows × 31 columns</p>\n",
       "</div>"
      ],
      "text/plain": [
       "                Time            V1            V2            V3            V4  \\\n",
       "count   28924.000000  28924.000000  28924.000000  28924.000000  28924.000000   \n",
       "mean    94597.165641     -0.063516      0.075994     -0.116809      0.083753   \n",
       "std     47526.033582      2.173112      1.697883      1.935877      1.546847   \n",
       "min         0.000000    -30.552380    -40.978852    -31.103685     -5.683171   \n",
       "25%     53988.250000     -0.940423     -0.579151     -0.962786     -0.824836   \n",
       "50%     84602.500000      0.008535      0.078486      0.152450      0.016759   \n",
       "75%    139215.250000      1.314801      0.834686      1.007704      0.798441   \n",
       "max    172786.000000      2.412720     22.057729      4.069865     12.114672   \n",
       "\n",
       "                 V5            V6            V7            V8            V9  \\\n",
       "count  28924.000000  28924.000000  28924.000000  28924.000000  28924.000000   \n",
       "mean      -0.054695     -0.016576     -0.078323      0.015787     -0.039995   \n",
       "std        1.556783      1.348886      1.649011      1.431676      1.170255   \n",
       "min      -32.092129    -17.118592    -43.557242    -41.484823    -13.434066   \n",
       "25%       -0.703097     -0.787944     -0.569843     -0.206605     -0.658765   \n",
       "50%       -0.062998     -0.290597      0.031023      0.028303     -0.067754   \n",
       "75%        0.604570      0.395795      0.557633      0.344750      0.588573   \n",
       "max       24.345310     21.393069     34.303177     20.007208      7.937988   \n",
       "\n",
       "           ...                V21           V22           V23           V24  \\\n",
       "count      ...       28924.000000  28924.000000  28924.000000  28924.000000   \n",
       "mean       ...           0.010800     -0.000310     -0.004370     -0.000643   \n",
       "std        ...           0.862053      0.742108      0.565251      0.605248   \n",
       "min        ...         -22.797604     -8.887017    -19.254328     -2.822684   \n",
       "25%        ...          -0.228051     -0.546631     -0.160934     -0.356201   \n",
       "50%        ...          -0.024851      0.006007     -0.011446      0.042417   \n",
       "75%        ...           0.192924      0.532145      0.145472      0.440141   \n",
       "max        ...          27.202839      8.361985     12.045536      3.695503   \n",
       "\n",
       "                V25           V26           V27           V28        Amount  \\\n",
       "count  28924.000000  28924.000000  28924.000000  28924.000000  28924.000000   \n",
       "mean      -0.000772      0.002518      0.002694      0.001286     87.285667   \n",
       "std        0.520625      0.481248      0.434112      0.345710    235.492046   \n",
       "min       -4.781606     -1.664130     -9.895244     -8.478686      0.000000   \n",
       "25%       -0.316206     -0.325299     -0.070677     -0.052643      5.390000   \n",
       "50%        0.014036     -0.049536      0.001890      0.011664     21.950000   \n",
       "75%        0.346935      0.246329      0.094998      0.079820     76.000000   \n",
       "max        3.347936      3.004455     10.135597     15.769636   7712.430000   \n",
       "\n",
       "              Class  \n",
       "count  28924.000000  \n",
       "mean       0.017010  \n",
       "std        0.129311  \n",
       "min        0.000000  \n",
       "25%        0.000000  \n",
       "50%        0.000000  \n",
       "75%        0.000000  \n",
       "max        1.000000  \n",
       "\n",
       "[8 rows x 31 columns]"
      ]
     },
     "execution_count": 11,
     "metadata": {},
     "output_type": "execute_result"
    }
   ],
   "source": [
    "data.describe()"
   ]
  },
  {
   "cell_type": "code",
   "execution_count": 12,
   "metadata": {},
   "outputs": [],
   "source": [
    "full_X = data.drop(columns=\"Class\")\n",
    "full_y = data[\"Class\"]"
   ]
  },
  {
   "cell_type": "markdown",
   "metadata": {},
   "source": [
    "Будем делать **красиво**:\n",
    "    \n",
    "    - отложим заранее из оригинальной выборки тестовую, размером 0.4\n",
    "    - будем выбирать модель кросс валидацией на выборке `train`\n",
    "    - не забудем про стратификацию"
   ]
  },
  {
   "cell_type": "code",
   "execution_count": 41,
   "metadata": {},
   "outputs": [],
   "source": [
    "from sklearn.model_selection import train_test_split\n",
    "\n",
    "full_X.reset_index(drop=True)\n",
    "\n",
    "tt_split = train_test_split(full_X, full_y, test_size=0.4, stratify=full_y)#<YOUR CODE>\n",
    "\n",
    "train_X, test_X, train_y, test_y = tt_split "
   ]
  },
  {
   "cell_type": "markdown",
   "metadata": {},
   "source": [
    "Будем делать **красиво**, выберем несколько метрик:\n",
    "    \n",
    "    1. стандартно `accuracy`, почему это плохо в нашем случае?\n",
    "    2. `precision_score` или доля истинных 1 среди всех помеченных как 1\n",
    "    3. `recall_score` или полнота \"вероятность\", с которой все истинные 1 предсказаны как 1\n",
    "    4. `fbeta_score` - частный случай которого, наш знакомый `f1_score` "
   ]
  },
  {
   "cell_type": "code",
   "execution_count": 42,
   "metadata": {},
   "outputs": [],
   "source": [
    "from sklearn.metrics import accuracy_score, precision_score, recall_score, fbeta_score, f1_score"
   ]
  },
  {
   "cell_type": "code",
   "execution_count": 43,
   "metadata": {},
   "outputs": [],
   "source": [
    "f1_score?"
   ]
  },
  {
   "cell_type": "code",
   "execution_count": 44,
   "metadata": {},
   "outputs": [],
   "source": [
    "fbeta_score?"
   ]
  },
  {
   "cell_type": "markdown",
   "metadata": {},
   "source": [
    "Зачем нам $\\beta$ ? : https://en.wikipedia.org/wiki/F1_score\n",
    "\n",
    "Возьмем $\\beta = 1.7$ как будто, мы заранее знаем, сколько нам ожидать ффрода в выборке."
   ]
  },
  {
   "cell_type": "code",
   "execution_count": 45,
   "metadata": {},
   "outputs": [],
   "source": [
    "def show_metrics(y_true, y_pred):\n",
    "    return pd.Series(\n",
    "        {\n",
    "        \"accuracy\": accuracy_score(y_true, y_pred),\n",
    "        \n",
    "        \"precision\": precision_score(y_true, y_pred),\n",
    "        \n",
    "        \"recall\": recall_score(y_true, y_pred),\n",
    "        \n",
    "        \"f1_score\": f1_score(y_true, y_pred),\n",
    "        \n",
    "        \"f_0.2\": fbeta_score(y_true, y_pred, beta=.17),\n",
    "    }\n",
    ")"
   ]
  },
  {
   "cell_type": "markdown",
   "metadata": {},
   "source": [
    "## Обнаружение выбросов"
   ]
  },
  {
   "cell_type": "code",
   "execution_count": 46,
   "metadata": {
    "slideshow": {
     "slide_type": "skip"
    }
   },
   "outputs": [],
   "source": [
    "from sklearn.metrics import precision_recall_curve, roc_curve\n",
    "\n",
    "def plot_level_lines(model, data, size=100):\n",
    "    def _expand(a, b, frac=.5, margin=1.):\n",
    "        return a - abs(a) * frac - margin, b + abs(b) * frac + margin\n",
    "\n",
    "    # Вспомогательная функция для рисования линий уровня и набора точек\n",
    "    plt.figure(figsize=(10, 7))\n",
    "    min_x, min_y = data.min(axis=0)\n",
    "    max_x, max_y = data.max(axis=0)\n",
    "    min_x, max_x = _expand(min_x, max_x)\n",
    "    min_y, max_y = _expand(min_y, max_y)\n",
    "\n",
    "    # создаём регулярную сетку для контуров\n",
    "    all_x = np.linspace(min_x, max_x, num=size)\n",
    "    all_y = np.linspace(min_y, max_y, num=size)\n",
    "    XX, YY = np.meshgrid(all_x, all_y)\n",
    "    test_data = np.c_[XX.ravel(), YY.ravel()]\n",
    "\n",
    "    # опрашиваем предсказания модели\n",
    "    try:\n",
    "        predictions = model.decision_function(test_data).reshape(size, size)\n",
    "        data_scores = model.predict(data)\n",
    "        anomaly_scores = model.decision_function(data)\n",
    "\n",
    "    except AttributeError:\n",
    "        predictions = model._decision_function(test_data).reshape(size, size)\n",
    "        data_scores = model._predict(data)\n",
    "        anomaly_scores = model._decision_function(data)\n",
    "\n",
    "    # создаём график контуров с заливкоц\n",
    "    plt.contourf(all_x, all_y, predictions, cmap=plt.cm.coolwarm)\n",
    "\n",
    "    # отображаем границу принятия решений\n",
    "    threshold = anomaly_scores[data_scores==1.0].min()\n",
    "    plt.contour(XX, YY, predictions, levels=[threshold], linewidths=2, colors='darkred')\n",
    "\n",
    "    # нарисуем точки выборки\n",
    "    plt.scatter(data[:, 0], data[:, 1])\n",
    "\n",
    "    axes = plt.gca()\n",
    "    axes.set_xlim([min_x,max_x])\n",
    "    axes.set_ylim([min_y,max_y])\n",
    "\n",
    "    plt.show()\n",
    "    plt.close()"
   ]
  },
  {
   "cell_type": "markdown",
   "metadata": {},
   "source": [
    "Эта процедура рисует кривые ROC и Precision-Recalls."
   ]
  },
  {
   "cell_type": "code",
   "execution_count": 47,
   "metadata": {},
   "outputs": [],
   "source": [
    "from sklearn.metrics import precision_recall_curve, roc_curve\n",
    "\n",
    "\n",
    "def plot_results(y_test, probabilities):\n",
    "    # построим кривые ROC и PR\n",
    "    fpr, tpr, _ = roc_curve(y_test, probabilities)\n",
    "    precision, recall, _ = precision_recall_curve(y_test, probabilities)\n",
    "\n",
    "    # создаём холсты\n",
    "    fig, (ax_roc, ax_pr_rec) = plt.subplots(nrows=1, ncols=2)\n",
    "    fig.set_size_inches(15, 5)\n",
    "\n",
    "    # roc\n",
    "    ax_roc.plot(fpr, tpr, linewidth=3)\n",
    "    ax_roc.set_xlabel('FPR')\n",
    "    ax_roc.set_ylabel('TPR')\n",
    "\n",
    "    ax_roc.grid(True)\n",
    "    ax_roc.xaxis.label.set_fontsize(20)\n",
    "    ax_roc.yaxis.label.set_fontsize(20)\n",
    "\n",
    "    ax_roc.fill_between(fpr, tpr, 0, alpha=0.1)\n",
    "\n",
    "    # precision-recall\n",
    "    ax_pr_rec.plot(recall, precision, linewidth=3)\n",
    "    ax_pr_rec.set_xlabel('Recall')\n",
    "    ax_pr_rec.set_ylabel('Precision')\n",
    "\n",
    "    ax_pr_rec.grid(True)\n",
    "    ax_pr_rec.xaxis.label.set_fontsize(20)\n",
    "    ax_pr_rec.yaxis.label.set_fontsize(20)\n",
    "\n",
    "    ax_pr_rec.fill_between(recall, precision, 0, alpha=0.1)\n",
    "\n",
    "    plt.show()\n",
    "    plt.close()"
   ]
  },
  {
   "cell_type": "markdown",
   "metadata": {},
   "source": [
    "Создаём несколько скоплений точек и подмешиваем аномальных точек"
   ]
  },
  {
   "cell_type": "code",
   "execution_count": 48,
   "metadata": {
    "slideshow": {
     "slide_type": "skip"
    }
   },
   "outputs": [],
   "source": [
    "from sklearn.datasets import make_blobs\n",
    "\n",
    "\n",
    "def data_generator(n_samples=100, anomaly_fraction=0.1, n_features=2):\n",
    "    n_anomaly = int(n_samples * anomaly_fraction)\n",
    "    n_normal = n_samples - n_anomaly\n",
    "\n",
    "    normal_data, _ = make_blobs(n_normal, n_features=n_features, centers=3)\n",
    "\n",
    "    anomaly_data = np.random.rand(n_anomaly, n_features)\n",
    "\n",
    "    nrm_min = normal_data.min(axis=0).reshape(1, -1)\n",
    "    nrm_ptp = normal_data.ptp(axis=0).reshape(1, -1)\n",
    "    anomaly_data = anomaly_data * nrm_ptp + nrm_min\n",
    "\n",
    "    return np.concatenate([normal_data, anomaly_data], axis=0)"
   ]
  },
  {
   "cell_type": "markdown",
   "metadata": {},
   "source": [
    "Создаём одно скопление точек, к которому подмешаны аномалии"
   ]
  },
  {
   "cell_type": "code",
   "execution_count": 49,
   "metadata": {
    "slideshow": {
     "slide_type": "skip"
    }
   },
   "outputs": [],
   "source": [
    "def unimodal_data_generator(n_samples=100, anomaly_fraction=0.1, n_features=2):\n",
    "    n_anomaly = int(n_samples * anomaly_fraction)\n",
    "    n_normal = n_samples - n_anomaly\n",
    "\n",
    "    xform = np.array([[2, 0.5], [0.5, 1.5]])\n",
    "    normal_data = np.random.randn(n_normal, n_features) @ xform\n",
    "    anomaly_data = np.random.rand(n_anomaly, n_features)\n",
    "\n",
    "    nrm_min = normal_data.min(axis=0).reshape(1, -1)\n",
    "    nrm_ptp = normal_data.ptp(axis=0).reshape(1, -1)\n",
    "    anomaly_data = anomaly_data * nrm_ptp + nrm_min\n",
    "\n",
    "    return np.concatenate([normal_data, anomaly_data], axis=0)"
   ]
  },
  {
   "cell_type": "markdown",
   "metadata": {},
   "source": [
    "Сгенерируем данные"
   ]
  },
  {
   "cell_type": "code",
   "execution_count": 50,
   "metadata": {
    "slideshow": {
     "slide_type": "slide"
    }
   },
   "outputs": [],
   "source": [
    "data_blob = unimodal_data_generator()\n",
    "\n",
    "data_blobs = data_generator()"
   ]
  },
  {
   "cell_type": "markdown",
   "metadata": {},
   "source": [
    "<br>"
   ]
  },
  {
   "cell_type": "markdown",
   "metadata": {
    "slideshow": {
     "slide_type": "slide"
    }
   },
   "source": [
    "### Эллиптическая Огибающая\n",
    "\n",
    "Метод **Elliptic Envelope** предполагает, что \n",
    "* данные порожденные\n",
    "эллиптическим распределением\n",
    "\n",
    "* аномальные точки находятся дальше от центра скопления, чем нормальные"
   ]
  },
  {
   "cell_type": "code",
   "execution_count": 51,
   "metadata": {
    "slideshow": {
     "slide_type": "slide"
    }
   },
   "outputs": [],
   "source": [
    "from sklearn.covariance import EllipticEnvelope"
   ]
  },
  {
   "cell_type": "markdown",
   "metadata": {},
   "source": [
    "Метод: https://scikit-learn.org/stable/modules/outlier_detection.html"
   ]
  },
  {
   "cell_type": "markdown",
   "metadata": {},
   "source": [
    "Для одномодальных данных получается более-менее адекватно"
   ]
  },
  {
   "cell_type": "code",
   "execution_count": 52,
   "metadata": {},
   "outputs": [
    {
     "name": "stderr",
     "output_type": "stream",
     "text": [
      "/home/kate/anaconda3/lib/python3.7/site-packages/scipy/stats/stats.py:1713: FutureWarning: Using a non-tuple sequence for multidimensional indexing is deprecated; use `arr[tuple(seq)]` instead of `arr[seq]`. In the future this will be interpreted as an array index, `arr[np.array(seq)]`, which will result either in an error or a different result.\n",
      "  return np.add.reduce(sorted[indexer] * weights, axis=axis) / sumval\n"
     ]
    },
    {
     "data": {
      "image/png": "[encoded data removed]",
      "text/plain": [
       "<Figure size 648x504 with 1 Axes>"
      ]
     },
     "metadata": {
      "needs_background": "light"
     },
     "output_type": "display_data"
    },
    {
     "data": {
      "image/png": "[encoded data removed]",
      "text/plain": [
       "<Figure size 648x504 with 1 Axes>"
      ]
     },
     "metadata": {
      "needs_background": "light"
     },
     "output_type": "display_data"
    },
    {
     "data": {
      "image/png": "[encoded data removed]",
      "text/plain": [
       "<Figure size 648x504 with 1 Axes>"
      ]
     },
     "metadata": {
      "needs_background": "light"
     },
     "output_type": "display_data"
    }
   ],
   "source": [
    "import numpy as np\n",
    "from scipy import stats\n",
    "import matplotlib.pyplot as plt\n",
    "import matplotlib.font_manager\n",
    "\n",
    "\n",
    "from sklearn.covariance import EllipticEnvelope\n",
    "from sklearn.ensemble import IsolationForest\n",
    "from sklearn.neighbors import LocalOutlierFactor\n",
    "\n",
    "np.random.seed(42)\n",
    "rng = np.random.RandomState(42)\n",
    "\n",
    "# Example settings\n",
    "n_samples = 200\n",
    "outliers_fraction = 0.25\n",
    "clusters_separation = [0, 1, 2]\n",
    "\n",
    "# Settings for evaluation\n",
    "xx, yy = np.meshgrid(np.linspace(-7, 7, 100), np.linspace(-7, 7, 100))\n",
    "n_inliers = int((1. - outliers_fraction) * n_samples)\n",
    "n_outliers = int(outliers_fraction * n_samples)\n",
    "ground_truth = np.ones(n_samples, dtype=int)\n",
    "ground_truth[-n_outliers:] = -1\n",
    "\n",
    "\n",
    "for i, offset in enumerate(clusters_separation):\n",
    "    # Data generation\n",
    "    X1 = 0.3 * np.random.randn(n_inliers // 2, 2) - offset\n",
    "    X2 = 0.3 * np.random.randn(n_inliers // 2, 2) + offset\n",
    "    X = np.r_[X1, X2]\n",
    "\n",
    "    # Add outliers\n",
    "    X = np.r_[X, np.random.uniform(low=-6, high=6, size=(n_outliers, 2))]\n",
    "\n",
    "    # Model\n",
    "    clf = EllipticEnvelope(contamination=outliers_fraction)\n",
    "\n",
    "    # Fit the model\n",
    "    plt.figure(figsize=(9, 7))\n",
    "\n",
    "\n",
    "    clf.fit(X)\n",
    "    scores_pred = clf.decision_function(X)\n",
    "    y_pred = clf.predict(X)\n",
    "    threshold = stats.scoreatpercentile(scores_pred, 100 * outliers_fraction)\n",
    "    n_errors = (y_pred != ground_truth).sum()\n",
    "\n",
    "    # plot the levels lines and the points\n",
    "    Z = clf.decision_function(np.c_[xx.ravel(), yy.ravel()])\n",
    "    Z = Z.reshape(xx.shape)\n",
    "\n",
    "    plt.contourf(xx, yy, Z, levels=np.linspace(Z.min(), threshold, 7),\n",
    "                     cmap=plt.cm.Blues_r)\n",
    "    a = plt.contour(xx, yy, Z, levels=[threshold],\n",
    "                        linewidths=2, colors='red')\n",
    "    plt.contourf(xx, yy, Z, levels=[threshold, Z.max()],\n",
    "                     colors='orange')\n",
    "    b = plt.scatter(X[:-n_outliers, 0], X[:-n_outliers, 1], c='white',\n",
    "                        s=20, edgecolor='k')\n",
    "    c = plt.scatter(X[-n_outliers:, 0], X[-n_outliers:, 1], c='black',\n",
    "                        s=20, edgecolor='k')\n",
    "    plt.axis('tight')\n",
    "    plt.legend(\n",
    "        [a.collections[0], b, c],\n",
    "        ['learned decision function', 'true inliers', 'true outliers'],\n",
    "        prop=matplotlib.font_manager.FontProperties(size=10),\n",
    "        loc='lower right')\n",
    "    plt.xlabel(\"%d. %s (errors: %d)\" % (i + 1, 'Elliptic Envelope', n_errors))\n",
    "    plt.xlim((-7, 7))\n",
    "    plt.ylim((-7, 7))\n",
    "    plt.suptitle(\"Outlier detection via Elliptic Envelope\")\n",
    "\n",
    "plt.show()"
   ]
  },
  {
   "cell_type": "code",
   "execution_count": null,
   "metadata": {},
   "outputs": [],
   "source": []
  },
  {
   "cell_type": "code",
   "execution_count": 53,
   "metadata": {
    "slideshow": {
     "slide_type": "slide"
    }
   },
   "outputs": [
    {
     "name": "stderr",
     "output_type": "stream",
     "text": [
      "/home/kate/anaconda3/lib/python3.7/site-packages/scipy/stats/stats.py:1713: FutureWarning: Using a non-tuple sequence for multidimensional indexing is deprecated; use `arr[tuple(seq)]` instead of `arr[seq]`. In the future this will be interpreted as an array index, `arr[np.array(seq)]`, which will result either in an error or a different result.\n",
      "  return np.add.reduce(sorted[indexer] * weights, axis=axis) / sumval\n"
     ]
    },
    {
     "data": {
      "image/png": "[encoded data removed]",
      "text/plain": [
       "<Figure size 720x504 with 1 Axes>"
      ]
     },
     "metadata": {
      "needs_background": "light"
     },
     "output_type": "display_data"
    }
   ],
   "source": [
    "model = EllipticEnvelope(assume_centered=False, contamination=0.5)\n",
    "\n",
    "model.fit(data_blob)\n",
    "\n",
    "plot_level_lines(model, data_blob)"
   ]
  },
  {
   "cell_type": "code",
   "execution_count": 55,
   "metadata": {
    "slideshow": {
     "slide_type": "slide"
    }
   },
   "outputs": [
    {
     "name": "stderr",
     "output_type": "stream",
     "text": [
      "/home/kate/anaconda3/lib/python3.7/site-packages/scipy/stats/stats.py:1713: FutureWarning: Using a non-tuple sequence for multidimensional indexing is deprecated; use `arr[tuple(seq)]` instead of `arr[seq]`. In the future this will be interpreted as an array index, `arr[np.array(seq)]`, which will result either in an error or a different result.\n",
      "  return np.add.reduce(sorted[indexer] * weights, axis=axis) / sumval\n"
     ]
    },
    {
     "data": {
      "image/png": "[encoded data removed]",
      "text/plain": [
       "<Figure size 720x504 with 1 Axes>"
      ]
     },
     "metadata": {
      "needs_background": "light"
     },
     "output_type": "display_data"
    }
   ],
   "source": [
    "model = EllipticEnvelope(assume_centered=False, contamination=0.5)\n",
    "\n",
    "model.fit(data_blobs)\n",
    "\n",
    "plot_level_lines(model, data_blobs)"
   ]
  },
  {
   "cell_type": "markdown",
   "metadata": {
    "slideshow": {
     "slide_type": "slide"
    }
   },
   "source": [
    "Плюсы:\n",
    "* простой в использовании метод\n",
    "* порождает интерпретируемую границу"
   ]
  },
  {
   "cell_type": "markdown",
   "metadata": {
    "slideshow": {
     "slide_type": "slide"
    }
   },
   "source": [
    "Минусы:\n",
    "* Годится только для **одномодальных** распределений\n",
    "* Подвержен вырождению ковариационной матрицы"
   ]
  },
  {
   "cell_type": "markdown",
   "metadata": {},
   "source": [
    "Посмотрим на его работу в обнаружении мошенничества"
   ]
  },
  {
   "cell_type": "code",
   "execution_count": 56,
   "metadata": {},
   "outputs": [
    {
     "name": "stderr",
     "output_type": "stream",
     "text": [
      "/home/kate/anaconda3/lib/python3.7/site-packages/sklearn/covariance/robust_covariance.py:165: RuntimeWarning: Warning! det > previous_det (-28.480325790519601 > -53.526971193329700)\n",
      "  % (det, previous_det), RuntimeWarning)\n",
      "/home/kate/anaconda3/lib/python3.7/site-packages/sklearn/covariance/robust_covariance.py:165: RuntimeWarning: Warning! det > previous_det (-40.615490252470948 > -54.720466216369537)\n",
      "  % (det, previous_det), RuntimeWarning)\n",
      "/home/kate/anaconda3/lib/python3.7/site-packages/sklearn/covariance/robust_covariance.py:165: RuntimeWarning: Warning! det > previous_det (-39.911140978024612 > -51.745543319597502)\n",
      "  % (det, previous_det), RuntimeWarning)\n",
      "/home/kate/anaconda3/lib/python3.7/site-packages/sklearn/covariance/robust_covariance.py:165: RuntimeWarning: Warning! det > previous_det (-27.623162821009931 > -52.502493212508952)\n",
      "  % (det, previous_det), RuntimeWarning)\n",
      "/home/kate/anaconda3/lib/python3.7/site-packages/sklearn/covariance/robust_covariance.py:165: RuntimeWarning: Warning! det > previous_det (-29.545171462516535 > -82.578227337637500)\n",
      "  % (det, previous_det), RuntimeWarning)\n",
      "/home/kate/anaconda3/lib/python3.7/site-packages/sklearn/covariance/robust_covariance.py:165: RuntimeWarning: Warning! det > previous_det (-38.924288836591757 > -51.065946970543791)\n",
      "  % (det, previous_det), RuntimeWarning)\n",
      "/home/kate/anaconda3/lib/python3.7/site-packages/sklearn/covariance/robust_covariance.py:165: RuntimeWarning: Warning! det > previous_det (-39.774908814174857 > -54.756837541876543)\n",
      "  % (det, previous_det), RuntimeWarning)\n",
      "/home/kate/anaconda3/lib/python3.7/site-packages/sklearn/covariance/robust_covariance.py:165: RuntimeWarning: Warning! det > previous_det (-22.696273518360815 > -109.915372144517150)\n",
      "  % (det, previous_det), RuntimeWarning)\n",
      "/home/kate/anaconda3/lib/python3.7/site-packages/sklearn/covariance/robust_covariance.py:165: RuntimeWarning: Warning! det > previous_det (-24.025865622702430 > -113.568993876888570)\n",
      "  % (det, previous_det), RuntimeWarning)\n",
      "/home/kate/anaconda3/lib/python3.7/site-packages/sklearn/covariance/robust_covariance.py:165: RuntimeWarning: Warning! det > previous_det (-11.009528376808502 > -109.190035555759891)\n",
      "  % (det, previous_det), RuntimeWarning)\n",
      "/home/kate/anaconda3/lib/python3.7/site-packages/sklearn/covariance/robust_covariance.py:165: RuntimeWarning: Warning! det > previous_det (-37.140458275336265 > -110.747583593855836)\n",
      "  % (det, previous_det), RuntimeWarning)\n",
      "/home/kate/anaconda3/lib/python3.7/site-packages/sklearn/covariance/robust_covariance.py:165: RuntimeWarning: Warning! det > previous_det (-23.791052085109730 > -105.904114915032849)\n",
      "  % (det, previous_det), RuntimeWarning)\n",
      "/home/kate/anaconda3/lib/python3.7/site-packages/sklearn/covariance/robust_covariance.py:165: RuntimeWarning: Warning! det > previous_det (-23.351619535653793 > -111.057563836120977)\n",
      "  % (det, previous_det), RuntimeWarning)\n",
      "/home/kate/anaconda3/lib/python3.7/site-packages/sklearn/covariance/robust_covariance.py:165: RuntimeWarning: Warning! det > previous_det (-18.846685129986493 > -83.920496961063336)\n",
      "  % (det, previous_det), RuntimeWarning)\n",
      "/home/kate/anaconda3/lib/python3.7/site-packages/sklearn/covariance/robust_covariance.py:165: RuntimeWarning: Warning! det > previous_det (-22.259818383446287 > -49.962519443470505)\n",
      "  % (det, previous_det), RuntimeWarning)\n",
      "/home/kate/anaconda3/lib/python3.7/site-packages/sklearn/covariance/robust_covariance.py:165: RuntimeWarning: Warning! det > previous_det (-28.303356642348000 > -84.114618217524082)\n",
      "  % (det, previous_det), RuntimeWarning)\n",
      "/home/kate/anaconda3/lib/python3.7/site-packages/sklearn/covariance/robust_covariance.py:165: RuntimeWarning: Warning! det > previous_det (-19.604220181484539 > -79.916530647753987)\n",
      "  % (det, previous_det), RuntimeWarning)\n",
      "/home/kate/anaconda3/lib/python3.7/site-packages/sklearn/covariance/robust_covariance.py:165: RuntimeWarning: Warning! det > previous_det (-13.191818313816169 > -48.949482870006335)\n",
      "  % (det, previous_det), RuntimeWarning)\n",
      "/home/kate/anaconda3/lib/python3.7/site-packages/sklearn/covariance/robust_covariance.py:165: RuntimeWarning: Warning! det > previous_det (-40.092946073773042 > -84.523880492858638)\n",
      "  % (det, previous_det), RuntimeWarning)\n",
      "/home/kate/anaconda3/lib/python3.7/site-packages/sklearn/covariance/robust_covariance.py:165: RuntimeWarning: Warning! det > previous_det (-30.275877208663328 > -49.389190875686154)\n",
      "  % (det, previous_det), RuntimeWarning)\n",
      "/home/kate/anaconda3/lib/python3.7/site-packages/sklearn/covariance/robust_covariance.py:165: RuntimeWarning: Warning! det > previous_det (-26.498304224334074 > -50.054015951501491)\n",
      "  % (det, previous_det), RuntimeWarning)\n",
      "/home/kate/anaconda3/lib/python3.7/site-packages/sklearn/covariance/robust_covariance.py:165: RuntimeWarning: Warning! det > previous_det (-22.205517490993103 > -51.699903103610254)\n",
      "  % (det, previous_det), RuntimeWarning)\n",
      "/home/kate/anaconda3/lib/python3.7/site-packages/sklearn/covariance/robust_covariance.py:165: RuntimeWarning: Warning! det > previous_det (-24.706750606140897 > -33.663176665107294)\n",
      "  % (det, previous_det), RuntimeWarning)\n",
      "/home/kate/anaconda3/lib/python3.7/site-packages/sklearn/covariance/robust_covariance.py:165: RuntimeWarning: Warning! det > previous_det (-27.897365738934724 > -49.983729334030016)\n",
      "  % (det, previous_det), RuntimeWarning)\n",
      "/home/kate/anaconda3/lib/python3.7/site-packages/sklearn/covariance/robust_covariance.py:165: RuntimeWarning: Warning! det > previous_det (-22.307092086820930 > -49.958094525345025)\n",
      "  % (det, previous_det), RuntimeWarning)\n",
      "/home/kate/anaconda3/lib/python3.7/site-packages/sklearn/covariance/robust_covariance.py:165: RuntimeWarning: Warning! det > previous_det (-26.085148098092510 > -49.004039098896484)\n",
      "  % (det, previous_det), RuntimeWarning)\n",
      "/home/kate/anaconda3/lib/python3.7/site-packages/sklearn/covariance/robust_covariance.py:165: RuntimeWarning: Warning! det > previous_det (-28.647717182518701 > -49.260093315541305)\n",
      "  % (det, previous_det), RuntimeWarning)\n",
      "/home/kate/anaconda3/lib/python3.7/site-packages/sklearn/covariance/robust_covariance.py:165: RuntimeWarning: Warning! det > previous_det (-25.203042712770390 > -31.309303727133305)\n",
      "  % (det, previous_det), RuntimeWarning)\n",
      "/home/kate/anaconda3/lib/python3.7/site-packages/sklearn/covariance/robust_covariance.py:165: RuntimeWarning: Warning! det > previous_det (-24.073838576007404 > -50.297685234556880)\n",
      "  % (det, previous_det), RuntimeWarning)\n",
      "/home/kate/anaconda3/lib/python3.7/site-packages/sklearn/covariance/robust_covariance.py:165: RuntimeWarning: Warning! det > previous_det (-14.583181117091709 > -43.486003902104201)\n",
      "  % (det, previous_det), RuntimeWarning)\n",
      "/home/kate/anaconda3/lib/python3.7/site-packages/sklearn/covariance/robust_covariance.py:165: RuntimeWarning: Warning! det > previous_det (-21.093132136105361 > -79.354874078572834)\n",
      "  % (det, previous_det), RuntimeWarning)\n",
      "/home/kate/anaconda3/lib/python3.7/site-packages/sklearn/covariance/robust_covariance.py:165: RuntimeWarning: Warning! det > previous_det (-28.376224248711623 > -42.979204870551570)\n",
      "  % (det, previous_det), RuntimeWarning)\n",
      "/home/kate/anaconda3/lib/python3.7/site-packages/sklearn/covariance/robust_covariance.py:165: RuntimeWarning: Warning! det > previous_det (-15.757044609171675 > -79.347614781303321)\n",
      "  % (det, previous_det), RuntimeWarning)\n",
      "/home/kate/anaconda3/lib/python3.7/site-packages/sklearn/covariance/robust_covariance.py:165: RuntimeWarning: Warning! det > previous_det (-43.338796578468838 > -44.960604250974200)\n",
      "  % (det, previous_det), RuntimeWarning)\n",
      "/home/kate/anaconda3/lib/python3.7/site-packages/sklearn/covariance/robust_covariance.py:165: RuntimeWarning: Warning! det > previous_det (-24.931214712830446 > -78.460695524672758)\n",
      "  % (det, previous_det), RuntimeWarning)\n",
      "/home/kate/anaconda3/lib/python3.7/site-packages/sklearn/covariance/robust_covariance.py:165: RuntimeWarning: Warning! det > previous_det (-22.780762647799431 > -42.980367855376869)\n",
      "  % (det, previous_det), RuntimeWarning)\n",
      "/home/kate/anaconda3/lib/python3.7/site-packages/sklearn/covariance/robust_covariance.py:165: RuntimeWarning: Warning! det > previous_det (-24.157944745385365 > -29.393135573929033)\n",
      "  % (det, previous_det), RuntimeWarning)\n",
      "/home/kate/anaconda3/lib/python3.7/site-packages/sklearn/covariance/robust_covariance.py:165: RuntimeWarning: Warning! det > previous_det (-25.892527035803219 > -47.670601229832151)\n",
      "  % (det, previous_det), RuntimeWarning)\n",
      "/home/kate/anaconda3/lib/python3.7/site-packages/sklearn/covariance/robust_covariance.py:165: RuntimeWarning: Warning! det > previous_det (-26.130824829474374 > -43.083389163608416)\n",
      "  % (det, previous_det), RuntimeWarning)\n",
      "/home/kate/anaconda3/lib/python3.7/site-packages/sklearn/covariance/robust_covariance.py:165: RuntimeWarning: Warning! det > previous_det (-28.374007505848894 > -46.780456893134726)\n",
      "  % (det, previous_det), RuntimeWarning)\n",
      "/home/kate/anaconda3/lib/python3.7/site-packages/sklearn/covariance/robust_covariance.py:165: RuntimeWarning: Warning! det > previous_det (-26.627477085300793 > -78.022049285459588)\n",
      "  % (det, previous_det), RuntimeWarning)\n",
      "/home/kate/anaconda3/lib/python3.7/site-packages/sklearn/covariance/robust_covariance.py:165: RuntimeWarning: Warning! det > previous_det (-22.179239489618563 > -42.319931397665670)\n",
      "  % (det, previous_det), RuntimeWarning)\n",
      "/home/kate/anaconda3/lib/python3.7/site-packages/sklearn/covariance/robust_covariance.py:165: RuntimeWarning: Warning! det > previous_det (-22.529312174537779 > -40.894512019308266)\n",
      "  % (det, previous_det), RuntimeWarning)\n"
     ]
    },
    {
     "name": "stderr",
     "output_type": "stream",
     "text": [
      "/home/kate/anaconda3/lib/python3.7/site-packages/sklearn/covariance/robust_covariance.py:165: RuntimeWarning: Warning! det > previous_det (-23.868594466682588 > -87.005635600220259)\n",
      "  % (det, previous_det), RuntimeWarning)\n",
      "/home/kate/anaconda3/lib/python3.7/site-packages/sklearn/covariance/robust_covariance.py:165: RuntimeWarning: Warning! det > previous_det (-23.733673825599116 > -45.054352259943045)\n",
      "  % (det, previous_det), RuntimeWarning)\n",
      "/home/kate/anaconda3/lib/python3.7/site-packages/sklearn/covariance/robust_covariance.py:165: RuntimeWarning: Warning! det > previous_det (-22.468690986260963 > -55.423176681753461)\n",
      "  % (det, previous_det), RuntimeWarning)\n",
      "/home/kate/anaconda3/lib/python3.7/site-packages/sklearn/covariance/robust_covariance.py:165: RuntimeWarning: Warning! det > previous_det (-28.629487164400903 > -55.928101520019432)\n",
      "  % (det, previous_det), RuntimeWarning)\n",
      "/home/kate/anaconda3/lib/python3.7/site-packages/sklearn/covariance/robust_covariance.py:165: RuntimeWarning: Warning! det > previous_det (-26.515757125608641 > -110.619045155531865)\n",
      "  % (det, previous_det), RuntimeWarning)\n",
      "/home/kate/anaconda3/lib/python3.7/site-packages/sklearn/covariance/robust_covariance.py:165: RuntimeWarning: Warning! det > previous_det (-23.193847159876800 > -53.369899858230085)\n",
      "  % (det, previous_det), RuntimeWarning)\n",
      "/home/kate/anaconda3/lib/python3.7/site-packages/sklearn/covariance/robust_covariance.py:165: RuntimeWarning: Warning! det > previous_det (-29.733792050530276 > -73.889253361075021)\n",
      "  % (det, previous_det), RuntimeWarning)\n",
      "/home/kate/anaconda3/lib/python3.7/site-packages/sklearn/covariance/robust_covariance.py:165: RuntimeWarning: Warning! det > previous_det (-30.782387796604279 > -82.069242024743801)\n",
      "  % (det, previous_det), RuntimeWarning)\n",
      "/home/kate/anaconda3/lib/python3.7/site-packages/sklearn/covariance/robust_covariance.py:165: RuntimeWarning: Warning! det > previous_det (-31.991678639763581 > -80.013983696137956)\n",
      "  % (det, previous_det), RuntimeWarning)\n",
      "/home/kate/anaconda3/lib/python3.7/site-packages/sklearn/covariance/robust_covariance.py:165: RuntimeWarning: Warning! det > previous_det (-31.459183548220569 > -51.440312860883893)\n",
      "  % (det, previous_det), RuntimeWarning)\n",
      "/home/kate/anaconda3/lib/python3.7/site-packages/sklearn/covariance/robust_covariance.py:165: RuntimeWarning: Warning! det > previous_det (-21.357102963040067 > -53.244788525013000)\n",
      "  % (det, previous_det), RuntimeWarning)\n",
      "/home/kate/anaconda3/lib/python3.7/site-packages/sklearn/covariance/robust_covariance.py:165: RuntimeWarning: Warning! det > previous_det (-24.180278309215446 > -49.281562755972985)\n",
      "  % (det, previous_det), RuntimeWarning)\n",
      "/home/kate/anaconda3/lib/python3.7/site-packages/sklearn/covariance/robust_covariance.py:165: RuntimeWarning: Warning! det > previous_det (-24.551458214355744 > -52.139494151779147)\n",
      "  % (det, previous_det), RuntimeWarning)\n",
      "/home/kate/anaconda3/lib/python3.7/site-packages/sklearn/covariance/robust_covariance.py:165: RuntimeWarning: Warning! det > previous_det (-22.523542044646103 > -49.589667494467442)\n",
      "  % (det, previous_det), RuntimeWarning)\n",
      "/home/kate/anaconda3/lib/python3.7/site-packages/sklearn/covariance/robust_covariance.py:165: RuntimeWarning: Warning! det > previous_det (-20.386927621914378 > -47.957564392667926)\n",
      "  % (det, previous_det), RuntimeWarning)\n",
      "/home/kate/anaconda3/lib/python3.7/site-packages/sklearn/covariance/robust_covariance.py:165: RuntimeWarning: Warning! det > previous_det (-23.602265899206824 > -80.078812308180446)\n",
      "  % (det, previous_det), RuntimeWarning)\n",
      "/home/kate/anaconda3/lib/python3.7/site-packages/sklearn/covariance/robust_covariance.py:165: RuntimeWarning: Warning! det > previous_det (-22.463477296252492 > -48.011922360606171)\n",
      "  % (det, previous_det), RuntimeWarning)\n",
      "/home/kate/anaconda3/lib/python3.7/site-packages/sklearn/covariance/robust_covariance.py:165: RuntimeWarning: Warning! det > previous_det (-25.401097548472148 > -49.554763663614381)\n",
      "  % (det, previous_det), RuntimeWarning)\n",
      "/home/kate/anaconda3/lib/python3.7/site-packages/sklearn/covariance/robust_covariance.py:165: RuntimeWarning: Warning! det > previous_det (-23.997059905172051 > -47.856145315933631)\n",
      "  % (det, previous_det), RuntimeWarning)\n",
      "/home/kate/anaconda3/lib/python3.7/site-packages/sklearn/covariance/robust_covariance.py:165: RuntimeWarning: Warning! det > previous_det (-37.619193403515297 > -46.774924021156970)\n",
      "  % (det, previous_det), RuntimeWarning)\n",
      "/home/kate/anaconda3/lib/python3.7/site-packages/sklearn/covariance/robust_covariance.py:165: RuntimeWarning: Warning! det > previous_det (-10.999433795080849 > -42.241206085132461)\n",
      "  % (det, previous_det), RuntimeWarning)\n",
      "/home/kate/anaconda3/lib/python3.7/site-packages/sklearn/covariance/robust_covariance.py:165: RuntimeWarning: Warning! det > previous_det (-12.724011430842499 > -43.393510779076266)\n",
      "  % (det, previous_det), RuntimeWarning)\n",
      "/home/kate/anaconda3/lib/python3.7/site-packages/sklearn/covariance/robust_covariance.py:165: RuntimeWarning: Warning! det > previous_det (-25.772399790038740 > -41.339679039717019)\n",
      "  % (det, previous_det), RuntimeWarning)\n",
      "/home/kate/anaconda3/lib/python3.7/site-packages/sklearn/covariance/robust_covariance.py:165: RuntimeWarning: Warning! det > previous_det (-21.393963880333910 > -40.835238007709094)\n",
      "  % (det, previous_det), RuntimeWarning)\n",
      "/home/kate/anaconda3/lib/python3.7/site-packages/sklearn/covariance/robust_covariance.py:165: RuntimeWarning: Warning! det > previous_det (-24.224292087103649 > -72.988638126559024)\n",
      "  % (det, previous_det), RuntimeWarning)\n",
      "/home/kate/anaconda3/lib/python3.7/site-packages/sklearn/covariance/robust_covariance.py:165: RuntimeWarning: Warning! det > previous_det (-23.592612784082846 > -41.605011943997191)\n",
      "  % (det, previous_det), RuntimeWarning)\n",
      "/home/kate/anaconda3/lib/python3.7/site-packages/sklearn/covariance/robust_covariance.py:165: RuntimeWarning: Warning! det > previous_det (-27.437209542622778 > -40.265576462411701)\n",
      "  % (det, previous_det), RuntimeWarning)\n",
      "/home/kate/anaconda3/lib/python3.7/site-packages/sklearn/covariance/robust_covariance.py:165: RuntimeWarning: Warning! det > previous_det (-26.402571761458713 > -75.942179956746472)\n",
      "  % (det, previous_det), RuntimeWarning)\n",
      "/home/kate/anaconda3/lib/python3.7/site-packages/sklearn/covariance/robust_covariance.py:165: RuntimeWarning: Warning! det > previous_det (-28.165881248122133 > -42.152215496384450)\n",
      "  % (det, previous_det), RuntimeWarning)\n",
      "/home/kate/anaconda3/lib/python3.7/site-packages/sklearn/covariance/robust_covariance.py:165: RuntimeWarning: Warning! det > previous_det (-25.134293407773303 > -78.880387240561348)\n",
      "  % (det, previous_det), RuntimeWarning)\n",
      "/home/kate/anaconda3/lib/python3.7/site-packages/sklearn/covariance/robust_covariance.py:165: RuntimeWarning: Warning! det > previous_det (-27.422058157549099 > -79.922497574679682)\n",
      "  % (det, previous_det), RuntimeWarning)\n",
      "/home/kate/anaconda3/lib/python3.7/site-packages/sklearn/covariance/robust_covariance.py:165: RuntimeWarning: Warning! det > previous_det (-23.735131336169101 > -44.677693143350766)\n",
      "  % (det, previous_det), RuntimeWarning)\n",
      "/home/kate/anaconda3/lib/python3.7/site-packages/sklearn/covariance/robust_covariance.py:165: RuntimeWarning: Warning! det > previous_det (-43.287280585836911 > -46.545123229508455)\n",
      "  % (det, previous_det), RuntimeWarning)\n",
      "/home/kate/anaconda3/lib/python3.7/site-packages/sklearn/covariance/robust_covariance.py:165: RuntimeWarning: Warning! det > previous_det (-21.673317806338403 > -84.321859106211406)\n",
      "  % (det, previous_det), RuntimeWarning)\n",
      "/home/kate/anaconda3/lib/python3.7/site-packages/sklearn/covariance/robust_covariance.py:165: RuntimeWarning: Warning! det > previous_det (-24.813797181975918 > -116.682224103571883)\n",
      "  % (det, previous_det), RuntimeWarning)\n",
      "/home/kate/anaconda3/lib/python3.7/site-packages/sklearn/covariance/robust_covariance.py:165: RuntimeWarning: Warning! det > previous_det (-22.818962359301754 > -83.358261700539458)\n",
      "  % (det, previous_det), RuntimeWarning)\n",
      "/home/kate/anaconda3/lib/python3.7/site-packages/sklearn/covariance/robust_covariance.py:165: RuntimeWarning: Warning! det > previous_det (-44.071175388468617 > -47.996711456788205)\n",
      "  % (det, previous_det), RuntimeWarning)\n",
      "/home/kate/anaconda3/lib/python3.7/site-packages/sklearn/covariance/robust_covariance.py:165: RuntimeWarning: Warning! det > previous_det (-24.564224076524795 > -47.213930202018226)\n",
      "  % (det, previous_det), RuntimeWarning)\n",
      "/home/kate/anaconda3/lib/python3.7/site-packages/sklearn/covariance/robust_covariance.py:165: RuntimeWarning: Warning! det > previous_det (-22.256314402520374 > -82.106829523560663)\n",
      "  % (det, previous_det), RuntimeWarning)\n",
      "/home/kate/anaconda3/lib/python3.7/site-packages/sklearn/covariance/robust_covariance.py:165: RuntimeWarning: Warning! det > previous_det (-25.287147155857131 > -84.050783329245590)\n",
      "  % (det, previous_det), RuntimeWarning)\n",
      "/home/kate/anaconda3/lib/python3.7/site-packages/sklearn/covariance/robust_covariance.py:165: RuntimeWarning: Warning! det > previous_det (-17.287851866050740 > -47.453159785753101)\n",
      "  % (det, previous_det), RuntimeWarning)\n",
      "/home/kate/anaconda3/lib/python3.7/site-packages/sklearn/covariance/robust_covariance.py:165: RuntimeWarning: Warning! det > previous_det (-16.914757458035968 > -45.873260870268055)\n",
      "  % (det, previous_det), RuntimeWarning)\n",
      "/home/kate/anaconda3/lib/python3.7/site-packages/sklearn/covariance/robust_covariance.py:165: RuntimeWarning: Warning! det > previous_det (-19.704334031855442 > -46.590576252000020)\n",
      "  % (det, previous_det), RuntimeWarning)\n",
      "/home/kate/anaconda3/lib/python3.7/site-packages/sklearn/covariance/robust_covariance.py:165: RuntimeWarning: Warning! det > previous_det (-16.758710539612778 > -48.191879334283939)\n",
      "  % (det, previous_det), RuntimeWarning)\n",
      "/home/kate/anaconda3/lib/python3.7/site-packages/sklearn/covariance/robust_covariance.py:165: RuntimeWarning: Warning! det > previous_det (-17.212068006882927 > -48.034372566257360)\n",
      "  % (det, previous_det), RuntimeWarning)\n",
      "/home/kate/anaconda3/lib/python3.7/site-packages/sklearn/covariance/robust_covariance.py:165: RuntimeWarning: Warning! det > previous_det (-15.487193910582556 > -47.569465628302247)\n",
      "  % (det, previous_det), RuntimeWarning)\n",
      "/home/kate/anaconda3/lib/python3.7/site-packages/sklearn/covariance/robust_covariance.py:165: RuntimeWarning: Warning! det > previous_det (-16.998430830822333 > -48.694835290309271)\n",
      "  % (det, previous_det), RuntimeWarning)\n",
      "/home/kate/anaconda3/lib/python3.7/site-packages/sklearn/covariance/robust_covariance.py:165: RuntimeWarning: Warning! det > previous_det (-18.456852570505337 > -80.369891532234959)\n",
      "  % (det, previous_det), RuntimeWarning)\n",
      "/home/kate/anaconda3/lib/python3.7/site-packages/sklearn/covariance/robust_covariance.py:165: RuntimeWarning: Warning! det > previous_det (-21.288979243275506 > -47.372217189285358)\n",
      "  % (det, previous_det), RuntimeWarning)\n",
      "/home/kate/anaconda3/lib/python3.7/site-packages/sklearn/covariance/robust_covariance.py:165: RuntimeWarning: Warning! det > previous_det (-21.589234794833231 > -37.302609901720501)\n",
      "  % (det, previous_det), RuntimeWarning)\n",
      "/home/kate/anaconda3/lib/python3.7/site-packages/sklearn/covariance/robust_covariance.py:165: RuntimeWarning: Warning! det > previous_det (-37.202184906602788 > -50.927987906702491)\n",
      "  % (det, previous_det), RuntimeWarning)\n",
      "/home/kate/anaconda3/lib/python3.7/site-packages/sklearn/covariance/robust_covariance.py:165: RuntimeWarning: Warning! det > previous_det (-21.539722293709485 > -79.541702963568369)\n",
      "  % (det, previous_det), RuntimeWarning)\n",
      "/home/kate/anaconda3/lib/python3.7/site-packages/sklearn/covariance/robust_covariance.py:165: RuntimeWarning: Warning! det > previous_det (-37.248208806259868 > -42.419547711635325)\n",
      "  % (det, previous_det), RuntimeWarning)\n",
      "/home/kate/anaconda3/lib/python3.7/site-packages/sklearn/covariance/robust_covariance.py:165: RuntimeWarning: Warning! det > previous_det (-19.323315169717272 > -48.393670469487866)\n",
      "  % (det, previous_det), RuntimeWarning)\n",
      "/home/kate/anaconda3/lib/python3.7/site-packages/sklearn/covariance/robust_covariance.py:165: RuntimeWarning: Warning! det > previous_det (-36.725562660171704 > -77.448669186541380)\n",
      "  % (det, previous_det), RuntimeWarning)\n",
      "/home/kate/anaconda3/lib/python3.7/site-packages/sklearn/covariance/robust_covariance.py:165: RuntimeWarning: Warning! det > previous_det (-74.751594995875735 > -76.138861253309017)\n",
      "  % (det, previous_det), RuntimeWarning)\n",
      "/home/kate/anaconda3/lib/python3.7/site-packages/sklearn/covariance/robust_covariance.py:165: RuntimeWarning: Warning! det > previous_det (-37.694330417941551 > -47.978991571439984)\n",
      "  % (det, previous_det), RuntimeWarning)\n",
      "/home/kate/anaconda3/lib/python3.7/site-packages/sklearn/covariance/robust_covariance.py:165: RuntimeWarning: Warning! det > previous_det (-34.703212004115947 > -46.077152714431435)\n",
      "  % (det, previous_det), RuntimeWarning)\n",
      "/home/kate/anaconda3/lib/python3.7/site-packages/sklearn/covariance/robust_covariance.py:165: RuntimeWarning: Warning! det > previous_det (-43.782714115006208 > -48.770687256173431)\n",
      "  % (det, previous_det), RuntimeWarning)\n",
      "/home/kate/anaconda3/lib/python3.7/site-packages/sklearn/covariance/robust_covariance.py:165: RuntimeWarning: Warning! det > previous_det (-25.323705122417220 > -45.269308986658430)\n",
      "  % (det, previous_det), RuntimeWarning)\n",
      "/home/kate/anaconda3/lib/python3.7/site-packages/sklearn/covariance/robust_covariance.py:165: RuntimeWarning: Warning! det > previous_det (-46.810289890518433 > -46.840124670170859)\n",
      "  % (det, previous_det), RuntimeWarning)\n",
      "/home/kate/anaconda3/lib/python3.7/site-packages/sklearn/covariance/robust_covariance.py:165: RuntimeWarning: Warning! det > previous_det (-19.730672636115134 > -78.110344305816028)\n",
      "  % (det, previous_det), RuntimeWarning)\n",
      "/home/kate/anaconda3/lib/python3.7/site-packages/sklearn/covariance/robust_covariance.py:165: RuntimeWarning: Warning! det > previous_det (-29.500852849595891 > -44.533982160213291)\n",
      "  % (det, previous_det), RuntimeWarning)\n",
      "/home/kate/anaconda3/lib/python3.7/site-packages/sklearn/covariance/robust_covariance.py:165: RuntimeWarning: Warning! det > previous_det (-13.645801182314697 > -114.165667229481045)\n",
      "  % (det, previous_det), RuntimeWarning)\n",
      "/home/kate/anaconda3/lib/python3.7/site-packages/sklearn/covariance/robust_covariance.py:165: RuntimeWarning: Warning! det > previous_det (-19.254800403189360 > -113.767998734123807)\n",
      "  % (det, previous_det), RuntimeWarning)\n",
      "/home/kate/anaconda3/lib/python3.7/site-packages/sklearn/covariance/robust_covariance.py:165: RuntimeWarning: Warning! det > previous_det (-22.447406909357984 > -107.442670537249072)\n",
      "  % (det, previous_det), RuntimeWarning)\n",
      "/home/kate/anaconda3/lib/python3.7/site-packages/sklearn/covariance/robust_covariance.py:165: RuntimeWarning: Warning! det > previous_det (-30.056454818771574 > -80.329098608007982)\n",
      "  % (det, previous_det), RuntimeWarning)\n",
      "/home/kate/anaconda3/lib/python3.7/site-packages/sklearn/covariance/robust_covariance.py:165: RuntimeWarning: Warning! det > previous_det (-31.208595858645488 > -72.920690488988058)\n",
      "  % (det, previous_det), RuntimeWarning)\n"
     ]
    },
    {
     "name": "stderr",
     "output_type": "stream",
     "text": [
      "/home/kate/anaconda3/lib/python3.7/site-packages/sklearn/covariance/robust_covariance.py:165: RuntimeWarning: Warning! det > previous_det (-43.034028386303376 > -86.500288458361482)\n",
      "  % (det, previous_det), RuntimeWarning)\n",
      "/home/kate/anaconda3/lib/python3.7/site-packages/sklearn/covariance/robust_covariance.py:165: RuntimeWarning: Warning! det > previous_det (-44.746950930445848 > -84.872469209099563)\n",
      "  % (det, previous_det), RuntimeWarning)\n",
      "/home/kate/anaconda3/lib/python3.7/site-packages/sklearn/covariance/robust_covariance.py:165: RuntimeWarning: Warning! det > previous_det (-43.447481717328181 > -87.392649588503261)\n",
      "  % (det, previous_det), RuntimeWarning)\n",
      "/home/kate/anaconda3/lib/python3.7/site-packages/sklearn/covariance/robust_covariance.py:165: RuntimeWarning: Warning! det > previous_det (-47.961351605396217 > -85.116045025920783)\n",
      "  % (det, previous_det), RuntimeWarning)\n",
      "/home/kate/anaconda3/lib/python3.7/site-packages/sklearn/covariance/robust_covariance.py:165: RuntimeWarning: Warning! det > previous_det (-47.827942212353079 > -50.215153203680913)\n",
      "  % (det, previous_det), RuntimeWarning)\n",
      "/home/kate/anaconda3/lib/python3.7/site-packages/sklearn/covariance/robust_covariance.py:165: RuntimeWarning: Warning! det > previous_det (-46.456444450974409 > -48.823126219106420)\n",
      "  % (det, previous_det), RuntimeWarning)\n",
      "/home/kate/anaconda3/lib/python3.7/site-packages/sklearn/covariance/robust_covariance.py:165: RuntimeWarning: Warning! det > previous_det (-19.628074503711865 > -46.665698877654563)\n",
      "  % (det, previous_det), RuntimeWarning)\n",
      "/home/kate/anaconda3/lib/python3.7/site-packages/sklearn/covariance/robust_covariance.py:165: RuntimeWarning: Warning! det > previous_det (-28.905491712582887 > -79.771273413670713)\n",
      "  % (det, previous_det), RuntimeWarning)\n",
      "/home/kate/anaconda3/lib/python3.7/site-packages/sklearn/covariance/robust_covariance.py:165: RuntimeWarning: Warning! det > previous_det (-25.558076874724915 > -32.562608056035785)\n",
      "  % (det, previous_det), RuntimeWarning)\n",
      "/home/kate/anaconda3/lib/python3.7/site-packages/sklearn/covariance/robust_covariance.py:165: RuntimeWarning: Warning! det > previous_det (-25.049574370858601 > -78.697654986756106)\n",
      "  % (det, previous_det), RuntimeWarning)\n",
      "/home/kate/anaconda3/lib/python3.7/site-packages/sklearn/covariance/robust_covariance.py:165: RuntimeWarning: Warning! det > previous_det (-23.380498046498150 > -73.570749378130074)\n",
      "  % (det, previous_det), RuntimeWarning)\n",
      "/home/kate/anaconda3/lib/python3.7/site-packages/sklearn/covariance/robust_covariance.py:165: RuntimeWarning: Warning! det > previous_det (-22.964145566796091 > -47.269890711069280)\n",
      "  % (det, previous_det), RuntimeWarning)\n",
      "/home/kate/anaconda3/lib/python3.7/site-packages/sklearn/covariance/robust_covariance.py:165: RuntimeWarning: Warning! det > previous_det (-23.802431067306166 > -31.552021580181759)\n",
      "  % (det, previous_det), RuntimeWarning)\n",
      "/home/kate/anaconda3/lib/python3.7/site-packages/sklearn/covariance/robust_covariance.py:165: RuntimeWarning: Warning! det > previous_det (-19.507725237184395 > -49.394141471879443)\n",
      "  % (det, previous_det), RuntimeWarning)\n",
      "/home/kate/anaconda3/lib/python3.7/site-packages/sklearn/covariance/robust_covariance.py:165: RuntimeWarning: Warning! det > previous_det (-26.941752836608071 > -45.660237948167719)\n",
      "  % (det, previous_det), RuntimeWarning)\n",
      "/home/kate/anaconda3/lib/python3.7/site-packages/sklearn/covariance/robust_covariance.py:165: RuntimeWarning: Warning! det > previous_det (-11.340107313416238 > -47.670663185776064)\n",
      "  % (det, previous_det), RuntimeWarning)\n",
      "/home/kate/anaconda3/lib/python3.7/site-packages/sklearn/covariance/robust_covariance.py:165: RuntimeWarning: Warning! det > previous_det (-40.777780315795127 > -42.674417604921196)\n",
      "  % (det, previous_det), RuntimeWarning)\n",
      "/home/kate/anaconda3/lib/python3.7/site-packages/sklearn/covariance/robust_covariance.py:165: RuntimeWarning: Warning! det > previous_det (-23.192279587803927 > -47.254317350746774)\n",
      "  % (det, previous_det), RuntimeWarning)\n",
      "/home/kate/anaconda3/lib/python3.7/site-packages/sklearn/covariance/robust_covariance.py:165: RuntimeWarning: Warning! det > previous_det (-17.117481391433454 > -50.306066296936940)\n",
      "  % (det, previous_det), RuntimeWarning)\n",
      "/home/kate/anaconda3/lib/python3.7/site-packages/sklearn/covariance/robust_covariance.py:165: RuntimeWarning: Warning! det > previous_det (-27.167825267722321 > -45.671052017052688)\n",
      "  % (det, previous_det), RuntimeWarning)\n",
      "/home/kate/anaconda3/lib/python3.7/site-packages/sklearn/covariance/robust_covariance.py:165: RuntimeWarning: Warning! det > previous_det (-25.747704221471810 > -45.042822315448902)\n",
      "  % (det, previous_det), RuntimeWarning)\n",
      "/home/kate/anaconda3/lib/python3.7/site-packages/sklearn/covariance/robust_covariance.py:165: RuntimeWarning: Warning! det > previous_det (-17.599787946589778 > -50.315495324242875)\n",
      "  % (det, previous_det), RuntimeWarning)\n",
      "/home/kate/anaconda3/lib/python3.7/site-packages/sklearn/covariance/robust_covariance.py:165: RuntimeWarning: Warning! det > previous_det (-20.781037029210321 > -47.457437645338800)\n",
      "  % (det, previous_det), RuntimeWarning)\n",
      "/home/kate/anaconda3/lib/python3.7/site-packages/sklearn/covariance/robust_covariance.py:165: RuntimeWarning: Warning! det > previous_det (-14.727149543114104 > -45.383875482417935)\n",
      "  % (det, previous_det), RuntimeWarning)\n",
      "/home/kate/anaconda3/lib/python3.7/site-packages/sklearn/covariance/robust_covariance.py:165: RuntimeWarning: Warning! det > previous_det (-5.750737584921927 > -32.857928603618973)\n",
      "  % (det, previous_det), RuntimeWarning)\n",
      "/home/kate/anaconda3/lib/python3.7/site-packages/sklearn/covariance/robust_covariance.py:165: RuntimeWarning: Warning! det > previous_det (-20.862008143609781 > -29.446707462254054)\n",
      "  % (det, previous_det), RuntimeWarning)\n",
      "/home/kate/anaconda3/lib/python3.7/site-packages/sklearn/covariance/robust_covariance.py:165: RuntimeWarning: Warning! det > previous_det (-19.649374650185202 > -30.207872067612630)\n",
      "  % (det, previous_det), RuntimeWarning)\n",
      "/home/kate/anaconda3/lib/python3.7/site-packages/sklearn/covariance/robust_covariance.py:165: RuntimeWarning: Warning! det > previous_det (-11.698737215557371 > -31.807260395444501)\n",
      "  % (det, previous_det), RuntimeWarning)\n",
      "/home/kate/anaconda3/lib/python3.7/site-packages/sklearn/covariance/robust_covariance.py:165: RuntimeWarning: Warning! det > previous_det (-22.051748128663753 > -30.346642707029844)\n",
      "  % (det, previous_det), RuntimeWarning)\n",
      "/home/kate/anaconda3/lib/python3.7/site-packages/sklearn/covariance/robust_covariance.py:165: RuntimeWarning: Warning! det > previous_det (-23.075862172874114 > -28.561743818198511)\n",
      "  % (det, previous_det), RuntimeWarning)\n",
      "/home/kate/anaconda3/lib/python3.7/site-packages/sklearn/covariance/robust_covariance.py:165: RuntimeWarning: Warning! det > previous_det (-23.720228438626457 > -30.700318537803945)\n",
      "  % (det, previous_det), RuntimeWarning)\n",
      "/home/kate/anaconda3/lib/python3.7/site-packages/sklearn/covariance/robust_covariance.py:165: RuntimeWarning: Warning! det > previous_det (-22.408071514187061 > -31.007305485664034)\n",
      "  % (det, previous_det), RuntimeWarning)\n",
      "/home/kate/anaconda3/lib/python3.7/site-packages/sklearn/covariance/robust_covariance.py:165: RuntimeWarning: Warning! det > previous_det (-24.893465982525473 > -28.013281591994009)\n",
      "  % (det, previous_det), RuntimeWarning)\n",
      "/home/kate/anaconda3/lib/python3.7/site-packages/sklearn/covariance/robust_covariance.py:165: RuntimeWarning: Warning! det > previous_det (-23.237069096898594 > -40.846177723434494)\n",
      "  % (det, previous_det), RuntimeWarning)\n",
      "/home/kate/anaconda3/lib/python3.7/site-packages/sklearn/covariance/robust_covariance.py:165: RuntimeWarning: Warning! det > previous_det (-12.489570750039832 > -28.506477579591571)\n",
      "  % (det, previous_det), RuntimeWarning)\n",
      "/home/kate/anaconda3/lib/python3.7/site-packages/sklearn/covariance/robust_covariance.py:165: RuntimeWarning: Warning! det > previous_det (-11.304554215633056 > -45.176892180512461)\n",
      "  % (det, previous_det), RuntimeWarning)\n",
      "/home/kate/anaconda3/lib/python3.7/site-packages/sklearn/covariance/robust_covariance.py:165: RuntimeWarning: Warning! det > previous_det (-12.339305953335426 > -44.214760322080906)\n",
      "  % (det, previous_det), RuntimeWarning)\n",
      "/home/kate/anaconda3/lib/python3.7/site-packages/sklearn/covariance/robust_covariance.py:165: RuntimeWarning: Warning! det > previous_det (-22.646586429410139 > -45.646383403323966)\n",
      "  % (det, previous_det), RuntimeWarning)\n",
      "/home/kate/anaconda3/lib/python3.7/site-packages/sklearn/covariance/robust_covariance.py:165: RuntimeWarning: Warning! det > previous_det (-24.468146613947077 > -26.966636094119735)\n",
      "  % (det, previous_det), RuntimeWarning)\n",
      "/home/kate/anaconda3/lib/python3.7/site-packages/sklearn/covariance/robust_covariance.py:165: RuntimeWarning: Warning! det > previous_det (-22.000479258364987 > -39.980155080035814)\n",
      "  % (det, previous_det), RuntimeWarning)\n",
      "/home/kate/anaconda3/lib/python3.7/site-packages/sklearn/covariance/robust_covariance.py:165: RuntimeWarning: Warning! det > previous_det (-9.337083371342963 > -30.206336076761879)\n",
      "  % (det, previous_det), RuntimeWarning)\n",
      "/home/kate/anaconda3/lib/python3.7/site-packages/sklearn/covariance/robust_covariance.py:165: RuntimeWarning: Warning! det > previous_det (-25.991335082028399 > -82.216477667069739)\n",
      "  % (det, previous_det), RuntimeWarning)\n",
      "/home/kate/anaconda3/lib/python3.7/site-packages/sklearn/covariance/robust_covariance.py:165: RuntimeWarning: Warning! det > previous_det (-33.333930090249943 > -48.092242250525395)\n",
      "  % (det, previous_det), RuntimeWarning)\n",
      "/home/kate/anaconda3/lib/python3.7/site-packages/sklearn/covariance/robust_covariance.py:165: RuntimeWarning: Warning! det > previous_det (-35.694590772628118 > -77.783629882941753)\n",
      "  % (det, previous_det), RuntimeWarning)\n",
      "/home/kate/anaconda3/lib/python3.7/site-packages/sklearn/covariance/robust_covariance.py:165: RuntimeWarning: Warning! det > previous_det (-19.060893583908797 > -116.988110583523081)\n",
      "  % (det, previous_det), RuntimeWarning)\n"
     ]
    },
    {
     "name": "stderr",
     "output_type": "stream",
     "text": [
      "/home/kate/anaconda3/lib/python3.7/site-packages/sklearn/covariance/robust_covariance.py:165: RuntimeWarning: Warning! det > previous_det (-20.367209005497660 > -50.324193044280321)\n",
      "  % (det, previous_det), RuntimeWarning)\n",
      "/home/kate/anaconda3/lib/python3.7/site-packages/sklearn/covariance/robust_covariance.py:165: RuntimeWarning: Warning! det > previous_det (-40.363422617885995 > -48.979147406473274)\n",
      "  % (det, previous_det), RuntimeWarning)\n",
      "/home/kate/anaconda3/lib/python3.7/site-packages/sklearn/covariance/robust_covariance.py:165: RuntimeWarning: Warning! det > previous_det (-19.732651821287511 > -49.128191368374324)\n",
      "  % (det, previous_det), RuntimeWarning)\n",
      "/home/kate/anaconda3/lib/python3.7/site-packages/sklearn/covariance/robust_covariance.py:165: RuntimeWarning: Warning! det > previous_det (-20.939456126134576 > -45.960979469075035)\n",
      "  % (det, previous_det), RuntimeWarning)\n",
      "/home/kate/anaconda3/lib/python3.7/site-packages/sklearn/covariance/robust_covariance.py:165: RuntimeWarning: Warning! det > previous_det (-25.819969215405422 > -76.206675392042087)\n",
      "  % (det, previous_det), RuntimeWarning)\n",
      "/home/kate/anaconda3/lib/python3.7/site-packages/sklearn/covariance/robust_covariance.py:165: RuntimeWarning: Warning! det > previous_det (-26.810275507576979 > -41.963260296817346)\n",
      "  % (det, previous_det), RuntimeWarning)\n",
      "/home/kate/anaconda3/lib/python3.7/site-packages/sklearn/covariance/robust_covariance.py:165: RuntimeWarning: Warning! det > previous_det (-21.968626004888005 > -81.310953009583912)\n",
      "  % (det, previous_det), RuntimeWarning)\n",
      "/home/kate/anaconda3/lib/python3.7/site-packages/sklearn/covariance/robust_covariance.py:165: RuntimeWarning: Warning! det > previous_det (-20.883367570191091 > -46.807672788052614)\n",
      "  % (det, previous_det), RuntimeWarning)\n",
      "/home/kate/anaconda3/lib/python3.7/site-packages/sklearn/covariance/robust_covariance.py:165: RuntimeWarning: Warning! det > previous_det (-25.656149357185352 > -43.213500254775667)\n",
      "  % (det, previous_det), RuntimeWarning)\n",
      "/home/kate/anaconda3/lib/python3.7/site-packages/sklearn/covariance/robust_covariance.py:165: RuntimeWarning: Warning! det > previous_det (-26.568692854977922 > -74.549676163093508)\n",
      "  % (det, previous_det), RuntimeWarning)\n",
      "/home/kate/anaconda3/lib/python3.7/site-packages/sklearn/covariance/robust_covariance.py:165: RuntimeWarning: Warning! det > previous_det (-34.857887851016081 > -48.128817365473267)\n",
      "  % (det, previous_det), RuntimeWarning)\n",
      "/home/kate/anaconda3/lib/python3.7/site-packages/sklearn/covariance/robust_covariance.py:165: RuntimeWarning: Warning! det > previous_det (-25.284352838043958 > -51.067285177137926)\n",
      "  % (det, previous_det), RuntimeWarning)\n",
      "/home/kate/anaconda3/lib/python3.7/site-packages/sklearn/covariance/robust_covariance.py:165: RuntimeWarning: Warning! det > previous_det (-26.017313038133825 > -55.696409972634406)\n",
      "  % (det, previous_det), RuntimeWarning)\n",
      "/home/kate/anaconda3/lib/python3.7/site-packages/sklearn/covariance/robust_covariance.py:165: RuntimeWarning: Warning! det > previous_det (-37.462743585425386 > -52.475008532083464)\n",
      "  % (det, previous_det), RuntimeWarning)\n",
      "/home/kate/anaconda3/lib/python3.7/site-packages/sklearn/covariance/robust_covariance.py:165: RuntimeWarning: Warning! det > previous_det (-39.337940524217260 > -47.955308287686130)\n",
      "  % (det, previous_det), RuntimeWarning)\n",
      "/home/kate/anaconda3/lib/python3.7/site-packages/sklearn/covariance/robust_covariance.py:165: RuntimeWarning: Warning! det > previous_det (-29.064274211932325 > -48.102779742806014)\n",
      "  % (det, previous_det), RuntimeWarning)\n",
      "/home/kate/anaconda3/lib/python3.7/site-packages/sklearn/covariance/robust_covariance.py:165: RuntimeWarning: Warning! det > previous_det (-45.825098816640903 > -49.370517204489843)\n",
      "  % (det, previous_det), RuntimeWarning)\n",
      "/home/kate/anaconda3/lib/python3.7/site-packages/sklearn/covariance/robust_covariance.py:165: RuntimeWarning: Warning! det > previous_det (-27.597545165363449 > -47.393715433010371)\n",
      "  % (det, previous_det), RuntimeWarning)\n",
      "/home/kate/anaconda3/lib/python3.7/site-packages/sklearn/covariance/robust_covariance.py:165: RuntimeWarning: Warning! det > previous_det (-38.810838784036555 > -45.905378813647154)\n",
      "  % (det, previous_det), RuntimeWarning)\n",
      "/home/kate/anaconda3/lib/python3.7/site-packages/sklearn/covariance/robust_covariance.py:165: RuntimeWarning: Warning! det > previous_det (-25.671227447271438 > -53.227622735690666)\n",
      "  % (det, previous_det), RuntimeWarning)\n",
      "/home/kate/anaconda3/lib/python3.7/site-packages/sklearn/covariance/robust_covariance.py:165: RuntimeWarning: Warning! det > previous_det (-28.227166620277202 > -45.866728181497869)\n",
      "  % (det, previous_det), RuntimeWarning)\n",
      "/home/kate/anaconda3/lib/python3.7/site-packages/sklearn/covariance/robust_covariance.py:165: RuntimeWarning: Warning! det > previous_det (-23.971481110254501 > -77.512446798422985)\n",
      "  % (det, previous_det), RuntimeWarning)\n",
      "/home/kate/anaconda3/lib/python3.7/site-packages/sklearn/covariance/robust_covariance.py:165: RuntimeWarning: Warning! det > previous_det (-20.712971137164612 > -79.643571129570176)\n",
      "  % (det, previous_det), RuntimeWarning)\n",
      "/home/kate/anaconda3/lib/python3.7/site-packages/sklearn/covariance/robust_covariance.py:165: RuntimeWarning: Warning! det > previous_det (-24.859838686957879 > -78.704502832799136)\n",
      "  % (det, previous_det), RuntimeWarning)\n",
      "/home/kate/anaconda3/lib/python3.7/site-packages/sklearn/covariance/robust_covariance.py:165: RuntimeWarning: Warning! det > previous_det (-21.194664740205940 > -50.812972099508592)\n",
      "  % (det, previous_det), RuntimeWarning)\n",
      "/home/kate/anaconda3/lib/python3.7/site-packages/sklearn/covariance/robust_covariance.py:165: RuntimeWarning: Warning! det > previous_det (-24.665422595849723 > -52.512362651173476)\n",
      "  % (det, previous_det), RuntimeWarning)\n",
      "/home/kate/anaconda3/lib/python3.7/site-packages/sklearn/covariance/robust_covariance.py:165: RuntimeWarning: Warning! det > previous_det (-26.041124458222527 > -50.500798695538357)\n",
      "  % (det, previous_det), RuntimeWarning)\n",
      "/home/kate/anaconda3/lib/python3.7/site-packages/sklearn/covariance/robust_covariance.py:165: RuntimeWarning: Warning! det > previous_det (-21.003892434520189 > -81.086816179143241)\n",
      "  % (det, previous_det), RuntimeWarning)\n",
      "/home/kate/anaconda3/lib/python3.7/site-packages/sklearn/covariance/robust_covariance.py:165: RuntimeWarning: Warning! det > previous_det (-30.491296369871407 > -31.420949719129567)\n",
      "  % (det, previous_det), RuntimeWarning)\n",
      "/home/kate/anaconda3/lib/python3.7/site-packages/sklearn/covariance/robust_covariance.py:165: RuntimeWarning: Warning! det > previous_det (-22.669562784943125 > -31.247094246882316)\n",
      "  % (det, previous_det), RuntimeWarning)\n",
      "/home/kate/anaconda3/lib/python3.7/site-packages/sklearn/covariance/robust_covariance.py:165: RuntimeWarning: Warning! det > previous_det (-25.539441334466957 > -32.345226851599755)\n",
      "  % (det, previous_det), RuntimeWarning)\n",
      "/home/kate/anaconda3/lib/python3.7/site-packages/sklearn/covariance/robust_covariance.py:165: RuntimeWarning: Warning! det > previous_det (-26.137361771721455 > -44.999496712407556)\n",
      "  % (det, previous_det), RuntimeWarning)\n",
      "/home/kate/anaconda3/lib/python3.7/site-packages/sklearn/covariance/robust_covariance.py:165: RuntimeWarning: Warning! det > previous_det (-21.721760612285543 > -49.248539631170516)\n",
      "  % (det, previous_det), RuntimeWarning)\n",
      "/home/kate/anaconda3/lib/python3.7/site-packages/sklearn/covariance/robust_covariance.py:165: RuntimeWarning: Warning! det > previous_det (-26.312192697516043 > -30.031809117443601)\n",
      "  % (det, previous_det), RuntimeWarning)\n",
      "/home/kate/anaconda3/lib/python3.7/site-packages/sklearn/covariance/robust_covariance.py:165: RuntimeWarning: Warning! det > previous_det (-26.607515516693333 > -81.043559259512477)\n",
      "  % (det, previous_det), RuntimeWarning)\n",
      "/home/kate/anaconda3/lib/python3.7/site-packages/sklearn/covariance/robust_covariance.py:165: RuntimeWarning: Warning! det > previous_det (-30.579676968442381 > -75.779600990739439)\n",
      "  % (det, previous_det), RuntimeWarning)\n",
      "/home/kate/anaconda3/lib/python3.7/site-packages/sklearn/covariance/robust_covariance.py:165: RuntimeWarning: Warning! det > previous_det (-28.453604158442690 > -39.299982159935901)\n",
      "  % (det, previous_det), RuntimeWarning)\n",
      "/home/kate/anaconda3/lib/python3.7/site-packages/sklearn/covariance/robust_covariance.py:165: RuntimeWarning: Warning! det > previous_det (-23.992365995962089 > -41.765589967101192)\n",
      "  % (det, previous_det), RuntimeWarning)\n",
      "/home/kate/anaconda3/lib/python3.7/site-packages/sklearn/covariance/robust_covariance.py:165: RuntimeWarning: Warning! det > previous_det (-25.201915480451195 > -43.196346679749816)\n",
      "  % (det, previous_det), RuntimeWarning)\n",
      "/home/kate/anaconda3/lib/python3.7/site-packages/sklearn/covariance/robust_covariance.py:165: RuntimeWarning: Warning! det > previous_det (-24.163527359364558 > -44.042061583699009)\n",
      "  % (det, previous_det), RuntimeWarning)\n",
      "/home/kate/anaconda3/lib/python3.7/site-packages/sklearn/covariance/robust_covariance.py:165: RuntimeWarning: Warning! det > previous_det (-29.464554888664889 > -80.957823563715081)\n",
      "  % (det, previous_det), RuntimeWarning)\n",
      "/home/kate/anaconda3/lib/python3.7/site-packages/sklearn/covariance/robust_covariance.py:165: RuntimeWarning: Warning! det > previous_det (-11.493341064067362 > -51.049349959026287)\n",
      "  % (det, previous_det), RuntimeWarning)\n",
      "/home/kate/anaconda3/lib/python3.7/site-packages/sklearn/covariance/robust_covariance.py:165: RuntimeWarning: Warning! det > previous_det (-23.805665533735560 > -86.254083922887219)\n",
      "  % (det, previous_det), RuntimeWarning)\n",
      "/home/kate/anaconda3/lib/python3.7/site-packages/sklearn/covariance/robust_covariance.py:165: RuntimeWarning: Warning! det > previous_det (-8.892099244378111 > -88.129234601893316)\n",
      "  % (det, previous_det), RuntimeWarning)\n"
     ]
    },
    {
     "name": "stderr",
     "output_type": "stream",
     "text": [
      "/home/kate/anaconda3/lib/python3.7/site-packages/sklearn/covariance/robust_covariance.py:165: RuntimeWarning: Warning! det > previous_det (-17.595963592425992 > -83.325332854311597)\n",
      "  % (det, previous_det), RuntimeWarning)\n",
      "/home/kate/anaconda3/lib/python3.7/site-packages/sklearn/covariance/robust_covariance.py:165: RuntimeWarning: Warning! det > previous_det (-46.232218353949889 > -77.407007988014726)\n",
      "  % (det, previous_det), RuntimeWarning)\n",
      "/home/kate/anaconda3/lib/python3.7/site-packages/sklearn/covariance/robust_covariance.py:165: RuntimeWarning: Warning! det > previous_det (-29.647666755091517 > -50.336898990803235)\n",
      "  % (det, previous_det), RuntimeWarning)\n",
      "/home/kate/anaconda3/lib/python3.7/site-packages/sklearn/covariance/robust_covariance.py:165: RuntimeWarning: Warning! det > previous_det (-29.141567439769879 > -48.636037569062140)\n",
      "  % (det, previous_det), RuntimeWarning)\n",
      "/home/kate/anaconda3/lib/python3.7/site-packages/sklearn/covariance/robust_covariance.py:165: RuntimeWarning: Warning! det > previous_det (-42.892027880628071 > -81.141571407970417)\n",
      "  % (det, previous_det), RuntimeWarning)\n",
      "/home/kate/anaconda3/lib/python3.7/site-packages/sklearn/covariance/robust_covariance.py:165: RuntimeWarning: Warning! det > previous_det (-25.192935169835383 > -48.747799083270493)\n",
      "  % (det, previous_det), RuntimeWarning)\n",
      "/home/kate/anaconda3/lib/python3.7/site-packages/sklearn/covariance/robust_covariance.py:165: RuntimeWarning: Warning! det > previous_det (-17.064689287588617 > -49.205297846946323)\n",
      "  % (det, previous_det), RuntimeWarning)\n",
      "/home/kate/anaconda3/lib/python3.7/site-packages/sklearn/covariance/robust_covariance.py:165: RuntimeWarning: Warning! det > previous_det (-29.826584935794852 > -50.024705825071308)\n",
      "  % (det, previous_det), RuntimeWarning)\n",
      "/home/kate/anaconda3/lib/python3.7/site-packages/sklearn/covariance/robust_covariance.py:165: RuntimeWarning: Warning! det > previous_det (-26.753338250725779 > -79.805617471802321)\n",
      "  % (det, previous_det), RuntimeWarning)\n",
      "/home/kate/anaconda3/lib/python3.7/site-packages/sklearn/covariance/robust_covariance.py:165: RuntimeWarning: Warning! det > previous_det (-19.625254716754963 > -82.012076412167403)\n",
      "  % (det, previous_det), RuntimeWarning)\n",
      "/home/kate/anaconda3/lib/python3.7/site-packages/sklearn/covariance/robust_covariance.py:165: RuntimeWarning: Warning! det > previous_det (-28.650297992090856 > -54.325964985816846)\n",
      "  % (det, previous_det), RuntimeWarning)\n",
      "/home/kate/anaconda3/lib/python3.7/site-packages/sklearn/covariance/robust_covariance.py:165: RuntimeWarning: Warning! det > previous_det (-31.036387349205178 > -82.678263853218169)\n",
      "  % (det, previous_det), RuntimeWarning)\n",
      "/home/kate/anaconda3/lib/python3.7/site-packages/sklearn/covariance/robust_covariance.py:165: RuntimeWarning: Warning! det > previous_det (-29.051736480130923 > -78.096170812618141)\n",
      "  % (det, previous_det), RuntimeWarning)\n",
      "/home/kate/anaconda3/lib/python3.7/site-packages/sklearn/covariance/robust_covariance.py:165: RuntimeWarning: Warning! det > previous_det (-30.375206925624997 > -83.544902556174293)\n",
      "  % (det, previous_det), RuntimeWarning)\n",
      "/home/kate/anaconda3/lib/python3.7/site-packages/sklearn/covariance/robust_covariance.py:165: RuntimeWarning: Warning! det > previous_det (-29.180509795799608 > -52.156611770061346)\n",
      "  % (det, previous_det), RuntimeWarning)\n",
      "/home/kate/anaconda3/lib/python3.7/site-packages/sklearn/covariance/robust_covariance.py:165: RuntimeWarning: Warning! det > previous_det (-27.410384880919313 > -84.953906344069878)\n",
      "  % (det, previous_det), RuntimeWarning)\n",
      "/home/kate/anaconda3/lib/python3.7/site-packages/sklearn/covariance/robust_covariance.py:165: RuntimeWarning: Warning! det > previous_det (-43.470384703256748 > -57.636014610943633)\n",
      "  % (det, previous_det), RuntimeWarning)\n",
      "/home/kate/anaconda3/lib/python3.7/site-packages/sklearn/covariance/robust_covariance.py:165: RuntimeWarning: Warning! det > previous_det (-17.821600053743136 > -52.175910399971556)\n",
      "  % (det, previous_det), RuntimeWarning)\n",
      "/home/kate/anaconda3/lib/python3.7/site-packages/sklearn/covariance/robust_covariance.py:165: RuntimeWarning: Warning! det > previous_det (-18.093365343781091 > -51.609532165646662)\n",
      "  % (det, previous_det), RuntimeWarning)\n",
      "/home/kate/anaconda3/lib/python3.7/site-packages/sklearn/covariance/robust_covariance.py:165: RuntimeWarning: Warning! det > previous_det (-18.314264147583589 > -51.178873800358879)\n",
      "  % (det, previous_det), RuntimeWarning)\n",
      "/home/kate/anaconda3/lib/python3.7/site-packages/sklearn/covariance/robust_covariance.py:165: RuntimeWarning: Warning! det > previous_det (-14.438339747434556 > -53.606879304359282)\n",
      "  % (det, previous_det), RuntimeWarning)\n",
      "/home/kate/anaconda3/lib/python3.7/site-packages/sklearn/covariance/robust_covariance.py:165: RuntimeWarning: Warning! det > previous_det (-16.402123616264603 > -34.111226780856832)\n",
      "  % (det, previous_det), RuntimeWarning)\n",
      "/home/kate/anaconda3/lib/python3.7/site-packages/sklearn/covariance/robust_covariance.py:165: RuntimeWarning: Warning! det > previous_det (-18.534592868894322 > -48.817656013900987)\n",
      "  % (det, previous_det), RuntimeWarning)\n",
      "/home/kate/anaconda3/lib/python3.7/site-packages/sklearn/covariance/robust_covariance.py:165: RuntimeWarning: Warning! det > previous_det (-15.490421789650179 > -52.571758765362070)\n",
      "  % (det, previous_det), RuntimeWarning)\n",
      "/home/kate/anaconda3/lib/python3.7/site-packages/sklearn/covariance/robust_covariance.py:165: RuntimeWarning: Warning! det > previous_det (-11.761872454344919 > -54.549675767076984)\n",
      "  % (det, previous_det), RuntimeWarning)\n",
      "/home/kate/anaconda3/lib/python3.7/site-packages/sklearn/covariance/robust_covariance.py:165: RuntimeWarning: Warning! det > previous_det (-13.919917026493245 > -35.792074154582856)\n",
      "  % (det, previous_det), RuntimeWarning)\n",
      "/home/kate/anaconda3/lib/python3.7/site-packages/sklearn/covariance/robust_covariance.py:165: RuntimeWarning: Warning! det > previous_det (-22.708075579052849 > -49.581516390007152)\n",
      "  % (det, previous_det), RuntimeWarning)\n",
      "/home/kate/anaconda3/lib/python3.7/site-packages/sklearn/covariance/robust_covariance.py:165: RuntimeWarning: Warning! det > previous_det (-4.733409685218471 > -80.833781053695915)\n",
      "  % (det, previous_det), RuntimeWarning)\n",
      "/home/kate/anaconda3/lib/python3.7/site-packages/sklearn/covariance/robust_covariance.py:165: RuntimeWarning: Warning! det > previous_det (-9.113084578173309 > -48.845560016563645)\n",
      "  % (det, previous_det), RuntimeWarning)\n",
      "/home/kate/anaconda3/lib/python3.7/site-packages/sklearn/covariance/robust_covariance.py:165: RuntimeWarning: Warning! det > previous_det (-18.433203604255052 > -51.128486910000071)\n",
      "  % (det, previous_det), RuntimeWarning)\n",
      "/home/kate/anaconda3/lib/python3.7/site-packages/sklearn/covariance/robust_covariance.py:165: RuntimeWarning: Warning! det > previous_det (-20.784118819650381 > -44.578150674259028)\n",
      "  % (det, previous_det), RuntimeWarning)\n",
      "/home/kate/anaconda3/lib/python3.7/site-packages/sklearn/covariance/robust_covariance.py:165: RuntimeWarning: Warning! det > previous_det (-7.789423343081590 > -45.815716982107695)\n",
      "  % (det, previous_det), RuntimeWarning)\n",
      "/home/kate/anaconda3/lib/python3.7/site-packages/sklearn/covariance/robust_covariance.py:165: RuntimeWarning: Warning! det > previous_det (-23.243454131920689 > -31.075541419896638)\n",
      "  % (det, previous_det), RuntimeWarning)\n",
      "/home/kate/anaconda3/lib/python3.7/site-packages/sklearn/covariance/robust_covariance.py:165: RuntimeWarning: Warning! det > previous_det (-30.744455366162512 > -48.495026014405276)\n",
      "  % (det, previous_det), RuntimeWarning)\n",
      "/home/kate/anaconda3/lib/python3.7/site-packages/sklearn/covariance/robust_covariance.py:165: RuntimeWarning: Warning! det > previous_det (-25.475423264007226 > -46.270569891314103)\n",
      "  % (det, previous_det), RuntimeWarning)\n",
      "/home/kate/anaconda3/lib/python3.7/site-packages/sklearn/covariance/robust_covariance.py:165: RuntimeWarning: Warning! det > previous_det (-26.516361668577741 > -48.597867708223838)\n",
      "  % (det, previous_det), RuntimeWarning)\n",
      "/home/kate/anaconda3/lib/python3.7/site-packages/sklearn/covariance/robust_covariance.py:165: RuntimeWarning: Warning! det > previous_det (-31.160534444453095 > -45.950905010550599)\n",
      "  % (det, previous_det), RuntimeWarning)\n",
      "/home/kate/anaconda3/lib/python3.7/site-packages/sklearn/covariance/robust_covariance.py:165: RuntimeWarning: Warning! det > previous_det (-34.456744914977634 > -76.715396472909021)\n",
      "  % (det, previous_det), RuntimeWarning)\n",
      "/home/kate/anaconda3/lib/python3.7/site-packages/sklearn/covariance/robust_covariance.py:165: RuntimeWarning: Warning! det > previous_det (-28.097908747108256 > -50.571436563733918)\n",
      "  % (det, previous_det), RuntimeWarning)\n",
      "/home/kate/anaconda3/lib/python3.7/site-packages/sklearn/covariance/robust_covariance.py:165: RuntimeWarning: Warning! det > previous_det (-28.410931457979153 > -44.849039067250978)\n",
      "  % (det, previous_det), RuntimeWarning)\n",
      "/home/kate/anaconda3/lib/python3.7/site-packages/sklearn/covariance/robust_covariance.py:165: RuntimeWarning: Warning! det > previous_det (-44.742977119518642 > -44.754402159959270)\n",
      "  % (det, previous_det), RuntimeWarning)\n",
      "/home/kate/anaconda3/lib/python3.7/site-packages/sklearn/covariance/robust_covariance.py:165: RuntimeWarning: Warning! det > previous_det (-25.367710279008666 > -52.977470138447671)\n",
      "  % (det, previous_det), RuntimeWarning)\n",
      "/home/kate/anaconda3/lib/python3.7/site-packages/sklearn/covariance/robust_covariance.py:165: RuntimeWarning: Warning! det > previous_det (-10.440120885013977 > -84.122895191484972)\n",
      "  % (det, previous_det), RuntimeWarning)\n",
      "/home/kate/anaconda3/lib/python3.7/site-packages/sklearn/covariance/robust_covariance.py:165: RuntimeWarning: Warning! det > previous_det (-11.077180980581009 > -54.235730528824604)\n",
      "  % (det, previous_det), RuntimeWarning)\n",
      "/home/kate/anaconda3/lib/python3.7/site-packages/sklearn/covariance/robust_covariance.py:165: RuntimeWarning: Warning! det > previous_det (-15.756405826878526 > -34.915615674738127)\n",
      "  % (det, previous_det), RuntimeWarning)\n",
      "/home/kate/anaconda3/lib/python3.7/site-packages/sklearn/covariance/robust_covariance.py:165: RuntimeWarning: Warning! det > previous_det (-13.506977951429979 > -56.935066160931065)\n",
      "  % (det, previous_det), RuntimeWarning)\n",
      "/home/kate/anaconda3/lib/python3.7/site-packages/sklearn/covariance/robust_covariance.py:165: RuntimeWarning: Warning! det > previous_det (-16.302275538564341 > -82.177105950589592)\n",
      "  % (det, previous_det), RuntimeWarning)\n",
      "/home/kate/anaconda3/lib/python3.7/site-packages/sklearn/covariance/robust_covariance.py:165: RuntimeWarning: Warning! det > previous_det (-15.646822759430080 > -52.241798865091120)\n",
      "  % (det, previous_det), RuntimeWarning)\n",
      "/home/kate/anaconda3/lib/python3.7/site-packages/sklearn/covariance/robust_covariance.py:165: RuntimeWarning: Warning! det > previous_det (-15.152406592645049 > -81.638783764886711)\n",
      "  % (det, previous_det), RuntimeWarning)\n",
      "/home/kate/anaconda3/lib/python3.7/site-packages/sklearn/covariance/robust_covariance.py:165: RuntimeWarning: Warning! det > previous_det (-14.037501914344862 > -45.892329299154312)\n",
      "  % (det, previous_det), RuntimeWarning)\n",
      "/home/kate/anaconda3/lib/python3.7/site-packages/sklearn/covariance/robust_covariance.py:165: RuntimeWarning: Warning! det > previous_det (-4.936227430022917 > -86.075309404508886)\n",
      "  % (det, previous_det), RuntimeWarning)\n",
      "/home/kate/anaconda3/lib/python3.7/site-packages/sklearn/covariance/robust_covariance.py:165: RuntimeWarning: Warning! det > previous_det (-7.469500649996398 > -89.905650381959987)\n",
      "  % (det, previous_det), RuntimeWarning)\n",
      "/home/kate/anaconda3/lib/python3.7/site-packages/sklearn/covariance/robust_covariance.py:165: RuntimeWarning: Warning! det > previous_det (-7.315331143776389 > -84.524933347429510)\n",
      "  % (det, previous_det), RuntimeWarning)\n",
      "/home/kate/anaconda3/lib/python3.7/site-packages/sklearn/covariance/robust_covariance.py:165: RuntimeWarning: Warning! det > previous_det (-10.635863306268705 > -87.549048144161063)\n",
      "  % (det, previous_det), RuntimeWarning)\n",
      "/home/kate/anaconda3/lib/python3.7/site-packages/sklearn/covariance/robust_covariance.py:165: RuntimeWarning: Warning! det > previous_det (-4.641128991043325 > -90.168681332028399)\n",
      "  % (det, previous_det), RuntimeWarning)\n",
      "/home/kate/anaconda3/lib/python3.7/site-packages/sklearn/covariance/robust_covariance.py:165: RuntimeWarning: Warning! det > previous_det (-38.391460238543438 > -47.621644525690620)\n",
      "  % (det, previous_det), RuntimeWarning)\n",
      "/home/kate/anaconda3/lib/python3.7/site-packages/sklearn/covariance/robust_covariance.py:165: RuntimeWarning: Warning! det > previous_det (-39.194856660944303 > -51.501059251742141)\n",
      "  % (det, previous_det), RuntimeWarning)\n"
     ]
    },
    {
     "name": "stderr",
     "output_type": "stream",
     "text": [
      "/home/kate/anaconda3/lib/python3.7/site-packages/sklearn/covariance/robust_covariance.py:165: RuntimeWarning: Warning! det > previous_det (-43.690901427555417 > -45.393710886675763)\n",
      "  % (det, previous_det), RuntimeWarning)\n",
      "/home/kate/anaconda3/lib/python3.7/site-packages/sklearn/covariance/robust_covariance.py:165: RuntimeWarning: Warning! det > previous_det (-45.820516203840377 > -78.417793844676368)\n",
      "  % (det, previous_det), RuntimeWarning)\n",
      "/home/kate/anaconda3/lib/python3.7/site-packages/sklearn/covariance/robust_covariance.py:165: RuntimeWarning: Warning! det > previous_det (-39.680740698368083 > -48.952454990058683)\n",
      "  % (det, previous_det), RuntimeWarning)\n",
      "/home/kate/anaconda3/lib/python3.7/site-packages/sklearn/covariance/robust_covariance.py:165: RuntimeWarning: Warning! det > previous_det (-37.818642756623561 > -49.968227949954546)\n",
      "  % (det, previous_det), RuntimeWarning)\n",
      "/home/kate/anaconda3/lib/python3.7/site-packages/sklearn/covariance/robust_covariance.py:165: RuntimeWarning: Warning! det > previous_det (-22.894372485707148 > -32.896357087062235)\n",
      "  % (det, previous_det), RuntimeWarning)\n",
      "/home/kate/anaconda3/lib/python3.7/site-packages/sklearn/covariance/robust_covariance.py:165: RuntimeWarning: Warning! det > previous_det (-20.277169125593272 > -44.129693571107936)\n",
      "  % (det, previous_det), RuntimeWarning)\n",
      "/home/kate/anaconda3/lib/python3.7/site-packages/sklearn/covariance/robust_covariance.py:165: RuntimeWarning: Warning! det > previous_det (-28.042455137961905 > -47.871754992530228)\n",
      "  % (det, previous_det), RuntimeWarning)\n",
      "/home/kate/anaconda3/lib/python3.7/site-packages/sklearn/covariance/robust_covariance.py:165: RuntimeWarning: Warning! det > previous_det (-33.894975514999906 > -48.389049951396132)\n",
      "  % (det, previous_det), RuntimeWarning)\n",
      "/home/kate/anaconda3/lib/python3.7/site-packages/sklearn/covariance/robust_covariance.py:165: RuntimeWarning: Warning! det > previous_det (-40.683347285107786 > -47.999512925789823)\n",
      "  % (det, previous_det), RuntimeWarning)\n",
      "/home/kate/anaconda3/lib/python3.7/site-packages/sklearn/covariance/robust_covariance.py:165: RuntimeWarning: Warning! det > previous_det (-30.224674768867931 > -79.705083634831695)\n",
      "  % (det, previous_det), RuntimeWarning)\n",
      "/home/kate/anaconda3/lib/python3.7/site-packages/sklearn/covariance/robust_covariance.py:165: RuntimeWarning: Warning! det > previous_det (-44.063686917731857 > -78.769917195970208)\n",
      "  % (det, previous_det), RuntimeWarning)\n",
      "/home/kate/anaconda3/lib/python3.7/site-packages/sklearn/covariance/robust_covariance.py:165: RuntimeWarning: Warning! det > previous_det (-31.500613921784431 > -41.962013676116079)\n",
      "  % (det, previous_det), RuntimeWarning)\n",
      "/home/kate/anaconda3/lib/python3.7/site-packages/sklearn/covariance/robust_covariance.py:165: RuntimeWarning: Warning! det > previous_det (-27.030383928346087 > -43.164086865534848)\n",
      "  % (det, previous_det), RuntimeWarning)\n",
      "/home/kate/anaconda3/lib/python3.7/site-packages/sklearn/covariance/robust_covariance.py:165: RuntimeWarning: Warning! det > previous_det (-31.778756173739637 > -51.719976981277512)\n",
      "  % (det, previous_det), RuntimeWarning)\n",
      "/home/kate/anaconda3/lib/python3.7/site-packages/sklearn/covariance/robust_covariance.py:165: RuntimeWarning: Warning! det > previous_det (-34.068810934954577 > -50.179393673819220)\n",
      "  % (det, previous_det), RuntimeWarning)\n",
      "/home/kate/anaconda3/lib/python3.7/site-packages/sklearn/covariance/robust_covariance.py:165: RuntimeWarning: Warning! det > previous_det (-29.792480619385813 > -49.908293795159153)\n",
      "  % (det, previous_det), RuntimeWarning)\n",
      "/home/kate/anaconda3/lib/python3.7/site-packages/sklearn/covariance/robust_covariance.py:165: RuntimeWarning: Warning! det > previous_det (-28.735163118913860 > -85.702953783043014)\n",
      "  % (det, previous_det), RuntimeWarning)\n",
      "/home/kate/anaconda3/lib/python3.7/site-packages/sklearn/covariance/robust_covariance.py:165: RuntimeWarning: Warning! det > previous_det (-32.389487288568979 > -84.640820472669873)\n",
      "  % (det, previous_det), RuntimeWarning)\n",
      "/home/kate/anaconda3/lib/python3.7/site-packages/sklearn/covariance/robust_covariance.py:165: RuntimeWarning: Warning! det > previous_det (-29.952053236316068 > -49.017474357907638)\n",
      "  % (det, previous_det), RuntimeWarning)\n",
      "/home/kate/anaconda3/lib/python3.7/site-packages/sklearn/covariance/robust_covariance.py:165: RuntimeWarning: Warning! det > previous_det (-29.861083793645523 > -118.553932669751816)\n",
      "  % (det, previous_det), RuntimeWarning)\n",
      "/home/kate/anaconda3/lib/python3.7/site-packages/sklearn/covariance/robust_covariance.py:165: RuntimeWarning: Warning! det > previous_det (-28.244628110446065 > -30.398372539485745)\n",
      "  % (det, previous_det), RuntimeWarning)\n",
      "/home/kate/anaconda3/lib/python3.7/site-packages/sklearn/covariance/robust_covariance.py:165: RuntimeWarning: Warning! det > previous_det (-25.529822107725909 > -39.757665155082528)\n",
      "  % (det, previous_det), RuntimeWarning)\n",
      "/home/kate/anaconda3/lib/python3.7/site-packages/sklearn/covariance/robust_covariance.py:165: RuntimeWarning: Warning! det > previous_det (-27.538011576259731 > -47.370760471751055)\n",
      "  % (det, previous_det), RuntimeWarning)\n",
      "/home/kate/anaconda3/lib/python3.7/site-packages/sklearn/covariance/robust_covariance.py:165: RuntimeWarning: Warning! det > previous_det (-25.636571863486083 > -30.205945039468943)\n",
      "  % (det, previous_det), RuntimeWarning)\n",
      "/home/kate/anaconda3/lib/python3.7/site-packages/sklearn/covariance/robust_covariance.py:165: RuntimeWarning: Warning! det > previous_det (-19.736907378920733 > -48.655823571862058)\n",
      "  % (det, previous_det), RuntimeWarning)\n",
      "/home/kate/anaconda3/lib/python3.7/site-packages/sklearn/covariance/robust_covariance.py:165: RuntimeWarning: Warning! det > previous_det (-37.531313408611616 > -51.959842158385030)\n",
      "  % (det, previous_det), RuntimeWarning)\n",
      "/home/kate/anaconda3/lib/python3.7/site-packages/sklearn/covariance/robust_covariance.py:165: RuntimeWarning: Warning! det > previous_det (-41.771890507564692 > -46.948577520185040)\n",
      "  % (det, previous_det), RuntimeWarning)\n",
      "/home/kate/anaconda3/lib/python3.7/site-packages/sklearn/covariance/robust_covariance.py:165: RuntimeWarning: Warning! det > previous_det (-31.852565250820291 > -116.903762117702769)\n",
      "  % (det, previous_det), RuntimeWarning)\n",
      "/home/kate/anaconda3/lib/python3.7/site-packages/sklearn/covariance/robust_covariance.py:165: RuntimeWarning: Warning! det > previous_det (-40.905763000484455 > -81.512322087376091)\n",
      "  % (det, previous_det), RuntimeWarning)\n",
      "/home/kate/anaconda3/lib/python3.7/site-packages/sklearn/covariance/robust_covariance.py:165: RuntimeWarning: Warning! det > previous_det (-39.472514869768865 > -44.463242177339183)\n",
      "  % (det, previous_det), RuntimeWarning)\n",
      "/home/kate/anaconda3/lib/python3.7/site-packages/sklearn/covariance/robust_covariance.py:165: RuntimeWarning: Warning! det > previous_det (-37.746339256475970 > -70.093908022216013)\n",
      "  % (det, previous_det), RuntimeWarning)\n",
      "/home/kate/anaconda3/lib/python3.7/site-packages/sklearn/covariance/robust_covariance.py:165: RuntimeWarning: Warning! det > previous_det (-8.639443539184896 > -73.526287514128171)\n",
      "  % (det, previous_det), RuntimeWarning)\n",
      "/home/kate/anaconda3/lib/python3.7/site-packages/sklearn/covariance/robust_covariance.py:165: RuntimeWarning: Warning! det > previous_det (-22.328164273637210 > -75.181797051480700)\n",
      "  % (det, previous_det), RuntimeWarning)\n",
      "/home/kate/anaconda3/lib/python3.7/site-packages/sklearn/covariance/robust_covariance.py:165: RuntimeWarning: Warning! det > previous_det (-24.206814272553046 > -75.315921020935036)\n",
      "  % (det, previous_det), RuntimeWarning)\n",
      "/home/kate/anaconda3/lib/python3.7/site-packages/sklearn/covariance/robust_covariance.py:165: RuntimeWarning: Warning! det > previous_det (-10.124206689220706 > -45.260671305524085)\n",
      "  % (det, previous_det), RuntimeWarning)\n",
      "/home/kate/anaconda3/lib/python3.7/site-packages/sklearn/covariance/robust_covariance.py:165: RuntimeWarning: Warning! det > previous_det (-8.266780983646676 > -39.496259476481342)\n",
      "  % (det, previous_det), RuntimeWarning)\n",
      "/home/kate/anaconda3/lib/python3.7/site-packages/sklearn/covariance/robust_covariance.py:165: RuntimeWarning: Warning! det > previous_det (-4.777373492651344 > -45.374254534645210)\n",
      "  % (det, previous_det), RuntimeWarning)\n",
      "/home/kate/anaconda3/lib/python3.7/site-packages/sklearn/covariance/robust_covariance.py:165: RuntimeWarning: Warning! det > previous_det (-10.643564117752771 > -118.019374521046799)\n",
      "  % (det, previous_det), RuntimeWarning)\n",
      "/home/kate/anaconda3/lib/python3.7/site-packages/sklearn/covariance/robust_covariance.py:165: RuntimeWarning: Warning! det > previous_det (-14.598492844106136 > -77.758631690155781)\n",
      "  % (det, previous_det), RuntimeWarning)\n",
      "/home/kate/anaconda3/lib/python3.7/site-packages/sklearn/covariance/robust_covariance.py:165: RuntimeWarning: Warning! det > previous_det (-31.654943456011576 > -40.728742764755509)\n",
      "  % (det, previous_det), RuntimeWarning)\n",
      "/home/kate/anaconda3/lib/python3.7/site-packages/sklearn/covariance/robust_covariance.py:165: RuntimeWarning: Warning! det > previous_det (-10.561629981717765 > -46.388190152024194)\n",
      "  % (det, previous_det), RuntimeWarning)\n",
      "/home/kate/anaconda3/lib/python3.7/site-packages/sklearn/covariance/robust_covariance.py:165: RuntimeWarning: Warning! det > previous_det (-10.421913067544494 > -81.493520388186738)\n",
      "  % (det, previous_det), RuntimeWarning)\n",
      "/home/kate/anaconda3/lib/python3.7/site-packages/sklearn/covariance/robust_covariance.py:165: RuntimeWarning: Warning! det > previous_det (-21.241780078889001 > -52.077338981952643)\n",
      "  % (det, previous_det), RuntimeWarning)\n",
      "/home/kate/anaconda3/lib/python3.7/site-packages/sklearn/covariance/robust_covariance.py:165: RuntimeWarning: Warning! det > previous_det (-17.267122856758938 > -80.383463556193377)\n",
      "  % (det, previous_det), RuntimeWarning)\n",
      "/home/kate/anaconda3/lib/python3.7/site-packages/sklearn/covariance/robust_covariance.py:165: RuntimeWarning: Warning! det > previous_det (-8.148852569460068 > -39.394483296852648)\n",
      "  % (det, previous_det), RuntimeWarning)\n",
      "/home/kate/anaconda3/lib/python3.7/site-packages/sklearn/covariance/robust_covariance.py:165: RuntimeWarning: Warning! det > previous_det (-18.794101369846381 > -41.922333617371741)\n",
      "  % (det, previous_det), RuntimeWarning)\n",
      "/home/kate/anaconda3/lib/python3.7/site-packages/sklearn/covariance/robust_covariance.py:165: RuntimeWarning: Warning! det > previous_det (-8.185693157303895 > -25.621382910812002)\n",
      "  % (det, previous_det), RuntimeWarning)\n",
      "/home/kate/anaconda3/lib/python3.7/site-packages/sklearn/covariance/robust_covariance.py:165: RuntimeWarning: Warning! det > previous_det (-15.376309090769642 > -42.557713563850236)\n",
      "  % (det, previous_det), RuntimeWarning)\n",
      "/home/kate/anaconda3/lib/python3.7/site-packages/sklearn/covariance/robust_covariance.py:165: RuntimeWarning: Warning! det > previous_det (-21.570653821636800 > -25.367527831903764)\n",
      "  % (det, previous_det), RuntimeWarning)\n",
      "/home/kate/anaconda3/lib/python3.7/site-packages/sklearn/covariance/robust_covariance.py:165: RuntimeWarning: Warning! det > previous_det (-17.245163392036364 > -27.561106088314819)\n",
      "  % (det, previous_det), RuntimeWarning)\n",
      "/home/kate/anaconda3/lib/python3.7/site-packages/sklearn/covariance/robust_covariance.py:165: RuntimeWarning: Warning! det > previous_det (-7.914841058879831 > -25.631246696341567)\n",
      "  % (det, previous_det), RuntimeWarning)\n",
      "/home/kate/anaconda3/lib/python3.7/site-packages/sklearn/covariance/robust_covariance.py:165: RuntimeWarning: Warning! det > previous_det (-22.576349735175924 > -39.250737292983118)\n",
      "  % (det, previous_det), RuntimeWarning)\n",
      "/home/kate/anaconda3/lib/python3.7/site-packages/sklearn/covariance/robust_covariance.py:165: RuntimeWarning: Warning! det > previous_det (-15.405255897540158 > -28.755251623013280)\n",
      "  % (det, previous_det), RuntimeWarning)\n",
      "/home/kate/anaconda3/lib/python3.7/site-packages/sklearn/covariance/robust_covariance.py:165: RuntimeWarning: Warning! det > previous_det (-25.371356532479126 > -46.901451314355427)\n",
      "  % (det, previous_det), RuntimeWarning)\n",
      "/home/kate/anaconda3/lib/python3.7/site-packages/sklearn/covariance/robust_covariance.py:165: RuntimeWarning: Warning! det > previous_det (-25.395865017975414 > -45.521549084479183)\n",
      "  % (det, previous_det), RuntimeWarning)\n",
      "/home/kate/anaconda3/lib/python3.7/site-packages/sklearn/covariance/robust_covariance.py:165: RuntimeWarning: Warning! det > previous_det (-13.502478034010224 > -45.770167427897491)\n",
      "  % (det, previous_det), RuntimeWarning)\n",
      "/home/kate/anaconda3/lib/python3.7/site-packages/sklearn/covariance/robust_covariance.py:165: RuntimeWarning: Warning! det > previous_det (-26.389298445283867 > -44.910485483430158)\n",
      "  % (det, previous_det), RuntimeWarning)\n",
      "/home/kate/anaconda3/lib/python3.7/site-packages/sklearn/covariance/robust_covariance.py:165: RuntimeWarning: Warning! det > previous_det (-26.395893832266779 > -29.009589703572161)\n",
      "  % (det, previous_det), RuntimeWarning)\n",
      "/home/kate/anaconda3/lib/python3.7/site-packages/sklearn/covariance/robust_covariance.py:165: RuntimeWarning: Warning! det > previous_det (-28.936736152648994 > -45.302707923689134)\n",
      "  % (det, previous_det), RuntimeWarning)\n",
      "/home/kate/anaconda3/lib/python3.7/site-packages/sklearn/covariance/robust_covariance.py:165: RuntimeWarning: Warning! det > previous_det (-14.249564684450164 > -46.829352000534236)\n",
      "  % (det, previous_det), RuntimeWarning)\n",
      "/home/kate/anaconda3/lib/python3.7/site-packages/sklearn/covariance/robust_covariance.py:165: RuntimeWarning: Warning! det > previous_det (-34.481120109925264 > -44.549956450937543)\n",
      "  % (det, previous_det), RuntimeWarning)\n",
      "/home/kate/anaconda3/lib/python3.7/site-packages/sklearn/covariance/robust_covariance.py:165: RuntimeWarning: Warning! det > previous_det (-30.579371113424571 > -45.489574202825850)\n",
      "  % (det, previous_det), RuntimeWarning)\n",
      "/home/kate/anaconda3/lib/python3.7/site-packages/sklearn/covariance/robust_covariance.py:165: RuntimeWarning: Warning! det > previous_det (-20.265155723794710 > -83.922074901904352)\n",
      "  % (det, previous_det), RuntimeWarning)\n",
      "/home/kate/anaconda3/lib/python3.7/site-packages/sklearn/covariance/robust_covariance.py:165: RuntimeWarning: Warning! det > previous_det (-20.249165731335275 > -107.575562968915506)\n",
      "  % (det, previous_det), RuntimeWarning)\n",
      "/home/kate/anaconda3/lib/python3.7/site-packages/sklearn/covariance/robust_covariance.py:165: RuntimeWarning: Warning! det > previous_det (-22.387631148158544 > -48.723805765094255)\n",
      "  % (det, previous_det), RuntimeWarning)\n",
      "/home/kate/anaconda3/lib/python3.7/site-packages/sklearn/covariance/robust_covariance.py:165: RuntimeWarning: Warning! det > previous_det (-22.441976475828813 > -77.082055508334264)\n",
      "  % (det, previous_det), RuntimeWarning)\n",
      "/home/kate/anaconda3/lib/python3.7/site-packages/sklearn/covariance/robust_covariance.py:165: RuntimeWarning: Warning! det > previous_det (-22.451925220605222 > -110.445367631930651)\n",
      "  % (det, previous_det), RuntimeWarning)\n"
     ]
    },
    {
     "name": "stderr",
     "output_type": "stream",
     "text": [
      "/home/kate/anaconda3/lib/python3.7/site-packages/sklearn/covariance/robust_covariance.py:165: RuntimeWarning: Warning! det > previous_det (-12.745134173206599 > -45.882197087742981)\n",
      "  % (det, previous_det), RuntimeWarning)\n",
      "/home/kate/anaconda3/lib/python3.7/site-packages/sklearn/covariance/robust_covariance.py:165: RuntimeWarning: Warning! det > previous_det (-15.934081561086494 > -32.865075605520538)\n",
      "  % (det, previous_det), RuntimeWarning)\n",
      "/home/kate/anaconda3/lib/python3.7/site-packages/sklearn/covariance/robust_covariance.py:165: RuntimeWarning: Warning! det > previous_det (-15.694696727609061 > -46.313787622826183)\n",
      "  % (det, previous_det), RuntimeWarning)\n",
      "/home/kate/anaconda3/lib/python3.7/site-packages/sklearn/covariance/robust_covariance.py:165: RuntimeWarning: Warning! det > previous_det (-20.625547985409121 > -48.788070276896931)\n",
      "  % (det, previous_det), RuntimeWarning)\n",
      "/home/kate/anaconda3/lib/python3.7/site-packages/sklearn/covariance/robust_covariance.py:165: RuntimeWarning: Warning! det > previous_det (-16.217859567300163 > -46.768662317288793)\n",
      "  % (det, previous_det), RuntimeWarning)\n",
      "/home/kate/anaconda3/lib/python3.7/site-packages/sklearn/covariance/robust_covariance.py:165: RuntimeWarning: Warning! det > previous_det (-12.293400580685068 > -45.339527595284252)\n",
      "  % (det, previous_det), RuntimeWarning)\n",
      "/home/kate/anaconda3/lib/python3.7/site-packages/sklearn/covariance/robust_covariance.py:165: RuntimeWarning: Warning! det > previous_det (-18.071231196990340 > -27.943600205660498)\n",
      "  % (det, previous_det), RuntimeWarning)\n",
      "/home/kate/anaconda3/lib/python3.7/site-packages/sklearn/covariance/robust_covariance.py:165: RuntimeWarning: Warning! det > previous_det (-27.605453978793729 > -29.484127146807218)\n",
      "  % (det, previous_det), RuntimeWarning)\n",
      "/home/kate/anaconda3/lib/python3.7/site-packages/sklearn/covariance/robust_covariance.py:165: RuntimeWarning: Warning! det > previous_det (-21.576475586401727 > -33.994592743640482)\n",
      "  % (det, previous_det), RuntimeWarning)\n",
      "/home/kate/anaconda3/lib/python3.7/site-packages/sklearn/covariance/robust_covariance.py:165: RuntimeWarning: Warning! det > previous_det (-13.847050454779287 > -47.627075431649637)\n",
      "  % (det, previous_det), RuntimeWarning)\n",
      "/home/kate/anaconda3/lib/python3.7/site-packages/sklearn/covariance/robust_covariance.py:165: RuntimeWarning: Warning! det > previous_det (-21.222621895950535 > -50.671053054298824)\n",
      "  % (det, previous_det), RuntimeWarning)\n",
      "/home/kate/anaconda3/lib/python3.7/site-packages/sklearn/covariance/robust_covariance.py:165: RuntimeWarning: Warning! det > previous_det (-22.540440914267716 > -30.860464602252627)\n",
      "  % (det, previous_det), RuntimeWarning)\n",
      "/home/kate/anaconda3/lib/python3.7/site-packages/sklearn/covariance/robust_covariance.py:165: RuntimeWarning: Warning! det > previous_det (-22.845071877814654 > -44.455968309022403)\n",
      "  % (det, previous_det), RuntimeWarning)\n",
      "/home/kate/anaconda3/lib/python3.7/site-packages/sklearn/covariance/robust_covariance.py:165: RuntimeWarning: Warning! det > previous_det (-27.441051307887584 > -46.368226624609136)\n",
      "  % (det, previous_det), RuntimeWarning)\n",
      "/home/kate/anaconda3/lib/python3.7/site-packages/sklearn/covariance/robust_covariance.py:165: RuntimeWarning: Warning! det > previous_det (-18.665368778199241 > -49.022551932520493)\n",
      "  % (det, previous_det), RuntimeWarning)\n",
      "/home/kate/anaconda3/lib/python3.7/site-packages/sklearn/covariance/robust_covariance.py:165: RuntimeWarning: Warning! det > previous_det (-22.024236225018374 > -31.011333583721711)\n",
      "  % (det, previous_det), RuntimeWarning)\n",
      "/home/kate/anaconda3/lib/python3.7/site-packages/sklearn/covariance/robust_covariance.py:165: RuntimeWarning: Warning! det > previous_det (-23.962355370760378 > -44.386491145615977)\n",
      "  % (det, previous_det), RuntimeWarning)\n",
      "/home/kate/anaconda3/lib/python3.7/site-packages/sklearn/covariance/robust_covariance.py:165: RuntimeWarning: Warning! det > previous_det (-0.625440484673855 > -47.651764224288343)\n",
      "  % (det, previous_det), RuntimeWarning)\n",
      "/home/kate/anaconda3/lib/python3.7/site-packages/sklearn/covariance/robust_covariance.py:165: RuntimeWarning: Warning! det > previous_det (-4.914335152890898 > -42.308883365925205)\n",
      "  % (det, previous_det), RuntimeWarning)\n",
      "/home/kate/anaconda3/lib/python3.7/site-packages/sklearn/covariance/robust_covariance.py:165: RuntimeWarning: Warning! det > previous_det (-8.203585678901407 > -45.047029639334056)\n",
      "  % (det, previous_det), RuntimeWarning)\n",
      "/home/kate/anaconda3/lib/python3.7/site-packages/sklearn/covariance/robust_covariance.py:165: RuntimeWarning: Warning! det > previous_det (-10.324879840437790 > -47.006954431980581)\n",
      "  % (det, previous_det), RuntimeWarning)\n",
      "/home/kate/anaconda3/lib/python3.7/site-packages/sklearn/covariance/robust_covariance.py:165: RuntimeWarning: Warning! det > previous_det (-8.471183709496332 > -45.957205167805235)\n",
      "  % (det, previous_det), RuntimeWarning)\n",
      "/home/kate/anaconda3/lib/python3.7/site-packages/sklearn/covariance/robust_covariance.py:165: RuntimeWarning: Warning! det > previous_det (-10.661599544587117 > -40.193022195242939)\n",
      "  % (det, previous_det), RuntimeWarning)\n",
      "/home/kate/anaconda3/lib/python3.7/site-packages/sklearn/covariance/robust_covariance.py:165: RuntimeWarning: Warning! det > previous_det (-11.375074298847325 > -43.067591114738661)\n",
      "  % (det, previous_det), RuntimeWarning)\n",
      "/home/kate/anaconda3/lib/python3.7/site-packages/sklearn/covariance/robust_covariance.py:165: RuntimeWarning: Warning! det > previous_det (-21.857282080588924 > -26.105481203810701)\n",
      "  % (det, previous_det), RuntimeWarning)\n",
      "/home/kate/anaconda3/lib/python3.7/site-packages/sklearn/covariance/robust_covariance.py:165: RuntimeWarning: Warning! det > previous_det (-34.810133646657249 > -80.586073344903241)\n",
      "  % (det, previous_det), RuntimeWarning)\n",
      "/home/kate/anaconda3/lib/python3.7/site-packages/sklearn/covariance/robust_covariance.py:165: RuntimeWarning: Warning! det > previous_det (-25.777743525722180 > -84.393609980389868)\n",
      "  % (det, previous_det), RuntimeWarning)\n",
      "/home/kate/anaconda3/lib/python3.7/site-packages/sklearn/covariance/robust_covariance.py:165: RuntimeWarning: Warning! det > previous_det (-45.961573467604751 > -52.268374099492178)\n",
      "  % (det, previous_det), RuntimeWarning)\n",
      "/home/kate/anaconda3/lib/python3.7/site-packages/sklearn/covariance/robust_covariance.py:165: RuntimeWarning: Warning! det > previous_det (-26.836329648283670 > -53.574469031387082)\n",
      "  % (det, previous_det), RuntimeWarning)\n",
      "/home/kate/anaconda3/lib/python3.7/site-packages/sklearn/covariance/robust_covariance.py:165: RuntimeWarning: Warning! det > previous_det (-26.777870356296969 > -47.706930102684780)\n",
      "  % (det, previous_det), RuntimeWarning)\n",
      "/home/kate/anaconda3/lib/python3.7/site-packages/sklearn/covariance/robust_covariance.py:165: RuntimeWarning: Warning! det > previous_det (-29.985067079019057 > -118.855272150787343)\n",
      "  % (det, previous_det), RuntimeWarning)\n",
      "/home/kate/anaconda3/lib/python3.7/site-packages/sklearn/covariance/robust_covariance.py:165: RuntimeWarning: Warning! det > previous_det (-27.830030528403579 > -51.417845445518765)\n",
      "  % (det, previous_det), RuntimeWarning)\n",
      "/home/kate/anaconda3/lib/python3.7/site-packages/sklearn/covariance/robust_covariance.py:165: RuntimeWarning: Warning! det > previous_det (-28.231066292473812 > -48.843240603203959)\n",
      "  % (det, previous_det), RuntimeWarning)\n",
      "/home/kate/anaconda3/lib/python3.7/site-packages/sklearn/covariance/robust_covariance.py:165: RuntimeWarning: Warning! det > previous_det (-29.707935174827121 > -31.551450216612935)\n",
      "  % (det, previous_det), RuntimeWarning)\n",
      "/home/kate/anaconda3/lib/python3.7/site-packages/sklearn/covariance/robust_covariance.py:165: RuntimeWarning: Warning! det > previous_det (-30.850374283539669 > -36.775153272781438)\n",
      "  % (det, previous_det), RuntimeWarning)\n",
      "/home/kate/anaconda3/lib/python3.7/site-packages/sklearn/covariance/robust_covariance.py:165: RuntimeWarning: Warning! det > previous_det (-24.482890071732736 > -56.275601704704002)\n",
      "  % (det, previous_det), RuntimeWarning)\n",
      "/home/kate/anaconda3/lib/python3.7/site-packages/sklearn/covariance/robust_covariance.py:165: RuntimeWarning: Warning! det > previous_det (-29.173597127710618 > -84.374533607794262)\n",
      "  % (det, previous_det), RuntimeWarning)\n",
      "/home/kate/anaconda3/lib/python3.7/site-packages/sklearn/covariance/robust_covariance.py:165: RuntimeWarning: Warning! det > previous_det (-26.662520541978925 > -85.971433996431045)\n",
      "  % (det, previous_det), RuntimeWarning)\n",
      "/home/kate/anaconda3/lib/python3.7/site-packages/sklearn/covariance/robust_covariance.py:165: RuntimeWarning: Warning! det > previous_det (-28.169789670536634 > -52.751934087924042)\n",
      "  % (det, previous_det), RuntimeWarning)\n",
      "/home/kate/anaconda3/lib/python3.7/site-packages/sklearn/covariance/robust_covariance.py:165: RuntimeWarning: Warning! det > previous_det (-24.254293920258696 > -53.178511731526768)\n",
      "  % (det, previous_det), RuntimeWarning)\n",
      "/home/kate/anaconda3/lib/python3.7/site-packages/sklearn/covariance/robust_covariance.py:165: RuntimeWarning: Warning! det > previous_det (-12.719465214530720 > -47.415729244772152)\n",
      "  % (det, previous_det), RuntimeWarning)\n",
      "/home/kate/anaconda3/lib/python3.7/site-packages/sklearn/covariance/robust_covariance.py:165: RuntimeWarning: Warning! det > previous_det (-22.427709401345631 > -47.832147445138155)\n",
      "  % (det, previous_det), RuntimeWarning)\n",
      "/home/kate/anaconda3/lib/python3.7/site-packages/sklearn/covariance/robust_covariance.py:165: RuntimeWarning: Warning! det > previous_det (-24.528643065913155 > -47.564625865744112)\n",
      "  % (det, previous_det), RuntimeWarning)\n",
      "/home/kate/anaconda3/lib/python3.7/site-packages/sklearn/covariance/robust_covariance.py:165: RuntimeWarning: Warning! det > previous_det (-35.130738595547761 > -48.190985789969524)\n",
      "  % (det, previous_det), RuntimeWarning)\n",
      "/home/kate/anaconda3/lib/python3.7/site-packages/sklearn/covariance/robust_covariance.py:165: RuntimeWarning: Warning! det > previous_det (-22.501025914826542 > -79.590921565758222)\n",
      "  % (det, previous_det), RuntimeWarning)\n",
      "/home/kate/anaconda3/lib/python3.7/site-packages/sklearn/covariance/robust_covariance.py:165: RuntimeWarning: Warning! det > previous_det (-24.256096153625446 > -48.496363696097447)\n",
      "  % (det, previous_det), RuntimeWarning)\n",
      "/home/kate/anaconda3/lib/python3.7/site-packages/sklearn/covariance/robust_covariance.py:165: RuntimeWarning: Warning! det > previous_det (-21.989519317990013 > -52.452143399749986)\n",
      "  % (det, previous_det), RuntimeWarning)\n",
      "/home/kate/anaconda3/lib/python3.7/site-packages/sklearn/covariance/robust_covariance.py:165: RuntimeWarning: Warning! det > previous_det (-23.675142005738387 > -53.585469270468082)\n",
      "  % (det, previous_det), RuntimeWarning)\n",
      "/home/kate/anaconda3/lib/python3.7/site-packages/sklearn/covariance/robust_covariance.py:165: RuntimeWarning: Warning! det > previous_det (-24.719363652259357 > -48.612971243287006)\n",
      "  % (det, previous_det), RuntimeWarning)\n",
      "/home/kate/anaconda3/lib/python3.7/site-packages/sklearn/covariance/robust_covariance.py:165: RuntimeWarning: Warning! det > previous_det (-22.751879922696858 > -45.293840619402033)\n",
      "  % (det, previous_det), RuntimeWarning)\n",
      "/home/kate/anaconda3/lib/python3.7/site-packages/sklearn/covariance/robust_covariance.py:165: RuntimeWarning: Warning! det > previous_det (-20.122796218817072 > -78.059053176423490)\n",
      "  % (det, previous_det), RuntimeWarning)\n",
      "/home/kate/anaconda3/lib/python3.7/site-packages/sklearn/covariance/robust_covariance.py:165: RuntimeWarning: Warning! det > previous_det (-19.439833203672908 > -80.166925161680297)\n",
      "  % (det, previous_det), RuntimeWarning)\n",
      "/home/kate/anaconda3/lib/python3.7/site-packages/sklearn/covariance/robust_covariance.py:165: RuntimeWarning: Warning! det > previous_det (-24.837527803397609 > -78.902557438907195)\n",
      "  % (det, previous_det), RuntimeWarning)\n",
      "/home/kate/anaconda3/lib/python3.7/site-packages/sklearn/covariance/robust_covariance.py:165: RuntimeWarning: Warning! det > previous_det (-25.886639642144075 > -84.081913863006207)\n",
      "  % (det, previous_det), RuntimeWarning)\n",
      "/home/kate/anaconda3/lib/python3.7/site-packages/sklearn/covariance/robust_covariance.py:165: RuntimeWarning: Warning! det > previous_det (-25.276394489073613 > -49.688119235038549)\n",
      "  % (det, previous_det), RuntimeWarning)\n",
      "/home/kate/anaconda3/lib/python3.7/site-packages/sklearn/covariance/robust_covariance.py:165: RuntimeWarning: Warning! det > previous_det (-20.989322007899467 > -83.798569362547809)\n",
      "  % (det, previous_det), RuntimeWarning)\n",
      "/home/kate/anaconda3/lib/python3.7/site-packages/sklearn/covariance/robust_covariance.py:165: RuntimeWarning: Warning! det > previous_det (-27.575837956125760 > -46.881848051269372)\n",
      "  % (det, previous_det), RuntimeWarning)\n",
      "/home/kate/anaconda3/lib/python3.7/site-packages/sklearn/covariance/robust_covariance.py:165: RuntimeWarning: Warning! det > previous_det (-38.662912931229755 > -53.606992151246267)\n",
      "  % (det, previous_det), RuntimeWarning)\n",
      "/home/kate/anaconda3/lib/python3.7/site-packages/sklearn/covariance/robust_covariance.py:165: RuntimeWarning: Warning! det > previous_det (-28.013850795187004 > -33.560623251880273)\n",
      "  % (det, previous_det), RuntimeWarning)\n",
      "/home/kate/anaconda3/lib/python3.7/site-packages/sklearn/covariance/robust_covariance.py:165: RuntimeWarning: Warning! det > previous_det (-24.035537517326425 > -33.675049257299250)\n",
      "  % (det, previous_det), RuntimeWarning)\n",
      "/home/kate/anaconda3/lib/python3.7/site-packages/sklearn/covariance/robust_covariance.py:165: RuntimeWarning: Warning! det > previous_det (-32.097966954515016 > -45.894166200664316)\n",
      "  % (det, previous_det), RuntimeWarning)\n",
      "/home/kate/anaconda3/lib/python3.7/site-packages/sklearn/covariance/robust_covariance.py:165: RuntimeWarning: Warning! det > previous_det (-23.099629322512779 > -51.236200877498391)\n",
      "  % (det, previous_det), RuntimeWarning)\n",
      "/home/kate/anaconda3/lib/python3.7/site-packages/sklearn/covariance/robust_covariance.py:165: RuntimeWarning: Warning! det > previous_det (-21.758921483327775 > -49.454495182033895)\n",
      "  % (det, previous_det), RuntimeWarning)\n",
      "/home/kate/anaconda3/lib/python3.7/site-packages/sklearn/covariance/robust_covariance.py:165: RuntimeWarning: Warning! det > previous_det (-17.299710803868262 > -46.691081685683486)\n",
      "  % (det, previous_det), RuntimeWarning)\n",
      "/home/kate/anaconda3/lib/python3.7/site-packages/sklearn/covariance/robust_covariance.py:165: RuntimeWarning: Warning! det > previous_det (-31.115855047616421 > -43.930433668198994)\n",
      "  % (det, previous_det), RuntimeWarning)\n"
     ]
    },
    {
     "name": "stderr",
     "output_type": "stream",
     "text": [
      "/home/kate/anaconda3/lib/python3.7/site-packages/sklearn/covariance/robust_covariance.py:165: RuntimeWarning: Warning! det > previous_det (-15.279887220715624 > -50.718302887642132)\n",
      "  % (det, previous_det), RuntimeWarning)\n",
      "/home/kate/anaconda3/lib/python3.7/site-packages/sklearn/covariance/robust_covariance.py:165: RuntimeWarning: Warning! det > previous_det (-31.583264627545010 > -49.630016671474550)\n",
      "  % (det, previous_det), RuntimeWarning)\n",
      "/home/kate/anaconda3/lib/python3.7/site-packages/sklearn/covariance/robust_covariance.py:165: RuntimeWarning: Warning! det > previous_det (-33.677001666239128 > -44.733908552016310)\n",
      "  % (det, previous_det), RuntimeWarning)\n",
      "/home/kate/anaconda3/lib/python3.7/site-packages/sklearn/covariance/robust_covariance.py:165: RuntimeWarning: Warning! det > previous_det (-28.593277403812781 > -51.042154669441494)\n",
      "  % (det, previous_det), RuntimeWarning)\n",
      "/home/kate/anaconda3/lib/python3.7/site-packages/sklearn/covariance/robust_covariance.py:165: RuntimeWarning: Warning! det > previous_det (-23.163909094784607 > -51.830479772915261)\n",
      "  % (det, previous_det), RuntimeWarning)\n",
      "/home/kate/anaconda3/lib/python3.7/site-packages/sklearn/covariance/robust_covariance.py:165: RuntimeWarning: Warning! det > previous_det (-26.832089907715936 > -41.703215642165972)\n",
      "  % (det, previous_det), RuntimeWarning)\n",
      "/home/kate/anaconda3/lib/python3.7/site-packages/sklearn/covariance/robust_covariance.py:165: RuntimeWarning: Warning! det > previous_det (-26.928159804570271 > -75.409302422912091)\n",
      "  % (det, previous_det), RuntimeWarning)\n",
      "/home/kate/anaconda3/lib/python3.7/site-packages/sklearn/covariance/robust_covariance.py:165: RuntimeWarning: Warning! det > previous_det (-27.580274854961999 > -77.086046260934495)\n",
      "  % (det, previous_det), RuntimeWarning)\n",
      "/home/kate/anaconda3/lib/python3.7/site-packages/sklearn/covariance/robust_covariance.py:165: RuntimeWarning: Warning! det > previous_det (-26.401174288685255 > -40.965955639273126)\n",
      "  % (det, previous_det), RuntimeWarning)\n",
      "/home/kate/anaconda3/lib/python3.7/site-packages/sklearn/covariance/robust_covariance.py:165: RuntimeWarning: Warning! det > previous_det (-23.455558021387489 > -51.244373354473218)\n",
      "  % (det, previous_det), RuntimeWarning)\n",
      "/home/kate/anaconda3/lib/python3.7/site-packages/sklearn/covariance/robust_covariance.py:165: RuntimeWarning: Warning! det > previous_det (-23.690907395095010 > -78.717012547656722)\n",
      "  % (det, previous_det), RuntimeWarning)\n",
      "/home/kate/anaconda3/lib/python3.7/site-packages/sklearn/covariance/robust_covariance.py:165: RuntimeWarning: Warning! det > previous_det (-24.426636275039861 > -82.150330925970323)\n",
      "  % (det, previous_det), RuntimeWarning)\n",
      "/home/kate/anaconda3/lib/python3.7/site-packages/sklearn/covariance/robust_covariance.py:165: RuntimeWarning: Warning! det > previous_det (-19.354986590367471 > -46.920061606069254)\n",
      "  % (det, previous_det), RuntimeWarning)\n",
      "/home/kate/anaconda3/lib/python3.7/site-packages/sklearn/covariance/robust_covariance.py:165: RuntimeWarning: Warning! det > previous_det (-25.839207769713319 > -44.557610695343143)\n",
      "  % (det, previous_det), RuntimeWarning)\n",
      "/home/kate/anaconda3/lib/python3.7/site-packages/sklearn/covariance/robust_covariance.py:165: RuntimeWarning: Warning! det > previous_det (-26.932924008944905 > -79.617115714153243)\n",
      "  % (det, previous_det), RuntimeWarning)\n",
      "/home/kate/anaconda3/lib/python3.7/site-packages/sklearn/covariance/robust_covariance.py:165: RuntimeWarning: Warning! det > previous_det (-28.356778732175055 > -48.337618382538395)\n",
      "  % (det, previous_det), RuntimeWarning)\n",
      "/home/kate/anaconda3/lib/python3.7/site-packages/sklearn/covariance/robust_covariance.py:165: RuntimeWarning: Warning! det > previous_det (-40.205202811571361 > -49.945348189605056)\n",
      "  % (det, previous_det), RuntimeWarning)\n",
      "/home/kate/anaconda3/lib/python3.7/site-packages/sklearn/covariance/robust_covariance.py:165: RuntimeWarning: Warning! det > previous_det (-24.820717452067893 > -80.765635624263211)\n",
      "  % (det, previous_det), RuntimeWarning)\n",
      "/home/kate/anaconda3/lib/python3.7/site-packages/sklearn/covariance/robust_covariance.py:165: RuntimeWarning: Warning! det > previous_det (-27.382358092108895 > -43.854409176892631)\n",
      "  % (det, previous_det), RuntimeWarning)\n",
      "/home/kate/anaconda3/lib/python3.7/site-packages/sklearn/covariance/robust_covariance.py:165: RuntimeWarning: Warning! det > previous_det (-2.995902760090598 > -34.232215450500021)\n",
      "  % (det, previous_det), RuntimeWarning)\n",
      "/home/kate/anaconda3/lib/python3.7/site-packages/sklearn/covariance/robust_covariance.py:165: RuntimeWarning: Warning! det > previous_det (-22.740118460637831 > -23.049239221658013)\n",
      "  % (det, previous_det), RuntimeWarning)\n",
      "/home/kate/anaconda3/lib/python3.7/site-packages/sklearn/covariance/robust_covariance.py:165: RuntimeWarning: Warning! det > previous_det (-19.192232839725001 > -26.309313065461215)\n",
      "  % (det, previous_det), RuntimeWarning)\n",
      "/home/kate/anaconda3/lib/python3.7/site-packages/sklearn/covariance/robust_covariance.py:165: RuntimeWarning: Warning! det > previous_det (-11.447769838705428 > -22.598950724598318)\n",
      "  % (det, previous_det), RuntimeWarning)\n",
      "/home/kate/anaconda3/lib/python3.7/site-packages/sklearn/covariance/robust_covariance.py:165: RuntimeWarning: Warning! det > previous_det (-17.576537221501052 > -18.298881479829014)\n",
      "  % (det, previous_det), RuntimeWarning)\n",
      "/home/kate/anaconda3/lib/python3.7/site-packages/sklearn/covariance/robust_covariance.py:165: RuntimeWarning: Warning! det > previous_det (-22.250954051468149 > -23.705846140546598)\n",
      "  % (det, previous_det), RuntimeWarning)\n",
      "/home/kate/anaconda3/lib/python3.7/site-packages/sklearn/covariance/robust_covariance.py:165: RuntimeWarning: Warning! det > previous_det (-17.947888354349153 > -19.785925618192689)\n",
      "  % (det, previous_det), RuntimeWarning)\n",
      "/home/kate/anaconda3/lib/python3.7/site-packages/sklearn/covariance/robust_covariance.py:165: RuntimeWarning: Warning! det > previous_det (-6.913573760395143 > -28.028766308262654)\n",
      "  % (det, previous_det), RuntimeWarning)\n",
      "/home/kate/anaconda3/lib/python3.7/site-packages/sklearn/covariance/robust_covariance.py:165: RuntimeWarning: Warning! det > previous_det (-13.487420803768421 > -24.136292388429613)\n",
      "  % (det, previous_det), RuntimeWarning)\n",
      "/home/kate/anaconda3/lib/python3.7/site-packages/sklearn/covariance/robust_covariance.py:165: RuntimeWarning: Warning! det > previous_det (-18.024841393606362 > -19.791404526169966)\n",
      "  % (det, previous_det), RuntimeWarning)\n",
      "/home/kate/anaconda3/lib/python3.7/site-packages/sklearn/covariance/robust_covariance.py:165: RuntimeWarning: Warning! det > previous_det (-23.303981065291090 > -24.831341130318098)\n",
      "  % (det, previous_det), RuntimeWarning)\n",
      "/home/kate/anaconda3/lib/python3.7/site-packages/sklearn/covariance/robust_covariance.py:165: RuntimeWarning: Warning! det > previous_det (-8.973813297773297 > -31.264708850433131)\n",
      "  % (det, previous_det), RuntimeWarning)\n",
      "/home/kate/anaconda3/lib/python3.7/site-packages/sklearn/covariance/robust_covariance.py:165: RuntimeWarning: Warning! det > previous_det (-9.470852225613427 > -28.061082262698640)\n",
      "  % (det, previous_det), RuntimeWarning)\n",
      "/home/kate/anaconda3/lib/python3.7/site-packages/sklearn/covariance/robust_covariance.py:165: RuntimeWarning: Warning! det > previous_det (-8.143242467691209 > -26.942997444798994)\n",
      "  % (det, previous_det), RuntimeWarning)\n",
      "/home/kate/anaconda3/lib/python3.7/site-packages/sklearn/covariance/robust_covariance.py:165: RuntimeWarning: Warning! det > previous_det (-18.740024750826581 > -36.258217096204575)\n",
      "  % (det, previous_det), RuntimeWarning)\n",
      "/home/kate/anaconda3/lib/python3.7/site-packages/sklearn/covariance/robust_covariance.py:165: RuntimeWarning: Warning! det > previous_det (-14.973256044068252 > -37.936467759365797)\n",
      "  % (det, previous_det), RuntimeWarning)\n",
      "/home/kate/anaconda3/lib/python3.7/site-packages/sklearn/covariance/robust_covariance.py:165: RuntimeWarning: Warning! det > previous_det (-18.329802739490177 > -20.615612044875537)\n",
      "  % (det, previous_det), RuntimeWarning)\n",
      "/home/kate/anaconda3/lib/python3.7/site-packages/sklearn/covariance/robust_covariance.py:165: RuntimeWarning: Warning! det > previous_det (-18.076685220292415 > -21.071966835924098)\n",
      "  % (det, previous_det), RuntimeWarning)\n",
      "/home/kate/anaconda3/lib/python3.7/site-packages/sklearn/covariance/robust_covariance.py:165: RuntimeWarning: Warning! det > previous_det (-18.122796311817090 > -30.508421491589459)\n",
      "  % (det, previous_det), RuntimeWarning)\n",
      "/home/kate/anaconda3/lib/python3.7/site-packages/sklearn/covariance/robust_covariance.py:165: RuntimeWarning: Warning! det > previous_det (-6.787930729349842 > -41.615671035504022)\n",
      "  % (det, previous_det), RuntimeWarning)\n"
     ]
    },
    {
     "name": "stderr",
     "output_type": "stream",
     "text": [
      "/home/kate/anaconda3/lib/python3.7/site-packages/sklearn/covariance/robust_covariance.py:165: RuntimeWarning: Warning! det > previous_det (-23.124889810558834 > -36.623166312764525)\n",
      "  % (det, previous_det), RuntimeWarning)\n",
      "/home/kate/anaconda3/lib/python3.7/site-packages/sklearn/covariance/robust_covariance.py:165: RuntimeWarning: Warning! det > previous_det (-25.234045440324159 > -39.073807481847844)\n",
      "  % (det, previous_det), RuntimeWarning)\n",
      "/home/kate/anaconda3/lib/python3.7/site-packages/sklearn/covariance/robust_covariance.py:165: RuntimeWarning: Warning! det > previous_det (-24.957667245301536 > -26.484037215741161)\n",
      "  % (det, previous_det), RuntimeWarning)\n",
      "/home/kate/anaconda3/lib/python3.7/site-packages/sklearn/covariance/robust_covariance.py:165: RuntimeWarning: Warning! det > previous_det (-10.376293781060985 > -27.342360731539486)\n",
      "  % (det, previous_det), RuntimeWarning)\n",
      "/home/kate/anaconda3/lib/python3.7/site-packages/sklearn/covariance/robust_covariance.py:165: RuntimeWarning: Warning! det > previous_det (-20.560710077656161 > -25.690204772512111)\n",
      "  % (det, previous_det), RuntimeWarning)\n",
      "/home/kate/anaconda3/lib/python3.7/site-packages/sklearn/covariance/robust_covariance.py:165: RuntimeWarning: Warning! det > previous_det (-19.643693561522472 > -23.131609380325855)\n",
      "  % (det, previous_det), RuntimeWarning)\n",
      "/home/kate/anaconda3/lib/python3.7/site-packages/sklearn/covariance/robust_covariance.py:165: RuntimeWarning: Warning! det > previous_det (-14.643974725937442 > -31.803723456234692)\n",
      "  % (det, previous_det), RuntimeWarning)\n",
      "/home/kate/anaconda3/lib/python3.7/site-packages/sklearn/covariance/robust_covariance.py:165: RuntimeWarning: Warning! det > previous_det (-9.691554848801527 > -23.941177389461750)\n",
      "  % (det, previous_det), RuntimeWarning)\n",
      "/home/kate/anaconda3/lib/python3.7/site-packages/sklearn/covariance/robust_covariance.py:165: RuntimeWarning: Warning! det > previous_det (-11.643519055999535 > -22.904619493626779)\n",
      "  % (det, previous_det), RuntimeWarning)\n",
      "/home/kate/anaconda3/lib/python3.7/site-packages/sklearn/covariance/robust_covariance.py:165: RuntimeWarning: Warning! det > previous_det (-10.922303966015690 > -41.448425837487882)\n",
      "  % (det, previous_det), RuntimeWarning)\n",
      "/home/kate/anaconda3/lib/python3.7/site-packages/sklearn/covariance/robust_covariance.py:165: RuntimeWarning: Warning! det > previous_det (-12.647109875713777 > -14.060028021592091)\n",
      "  % (det, previous_det), RuntimeWarning)\n",
      "/home/kate/anaconda3/lib/python3.7/site-packages/sklearn/covariance/robust_covariance.py:165: RuntimeWarning: Warning! det > previous_det (-11.452184550175053 > -23.398746238439244)\n",
      "  % (det, previous_det), RuntimeWarning)\n",
      "/home/kate/anaconda3/lib/python3.7/site-packages/sklearn/covariance/robust_covariance.py:165: RuntimeWarning: Warning! det > previous_det (-23.743809613418133 > -25.134967663798989)\n",
      "  % (det, previous_det), RuntimeWarning)\n",
      "/home/kate/anaconda3/lib/python3.7/site-packages/sklearn/covariance/robust_covariance.py:165: RuntimeWarning: Warning! det > previous_det (-12.882196022921953 > -22.220660488952667)\n",
      "  % (det, previous_det), RuntimeWarning)\n",
      "/home/kate/anaconda3/lib/python3.7/site-packages/sklearn/covariance/robust_covariance.py:165: RuntimeWarning: Warning! det > previous_det (-10.031545141804852 > -25.623069377815789)\n",
      "  % (det, previous_det), RuntimeWarning)\n",
      "/home/kate/anaconda3/lib/python3.7/site-packages/sklearn/covariance/robust_covariance.py:165: RuntimeWarning: Warning! det > previous_det (-19.117328462675395 > -27.099103672038563)\n",
      "  % (det, previous_det), RuntimeWarning)\n",
      "/home/kate/anaconda3/lib/python3.7/site-packages/sklearn/covariance/robust_covariance.py:165: RuntimeWarning: Warning! det > previous_det (-15.067191933398378 > -19.548894332841122)\n",
      "  % (det, previous_det), RuntimeWarning)\n",
      "/home/kate/anaconda3/lib/python3.7/site-packages/sklearn/covariance/robust_covariance.py:165: RuntimeWarning: Warning! det > previous_det (-5.984991016420544 > -27.758593931663590)\n",
      "  % (det, previous_det), RuntimeWarning)\n",
      "/home/kate/anaconda3/lib/python3.7/site-packages/sklearn/covariance/robust_covariance.py:165: RuntimeWarning: Warning! det > previous_det (-17.718804328233809 > -19.308961782726026)\n",
      "  % (det, previous_det), RuntimeWarning)\n",
      "/home/kate/anaconda3/lib/python3.7/site-packages/sklearn/covariance/robust_covariance.py:165: RuntimeWarning: Warning! det > previous_det (-8.343043657077343 > -42.633415260024172)\n",
      "  % (det, previous_det), RuntimeWarning)\n",
      "/home/kate/anaconda3/lib/python3.7/site-packages/sklearn/covariance/robust_covariance.py:165: RuntimeWarning: Warning! det > previous_det (-7.456809470449965 > -29.754951679719824)\n",
      "  % (det, previous_det), RuntimeWarning)\n",
      "/home/kate/anaconda3/lib/python3.7/site-packages/sklearn/covariance/robust_covariance.py:165: RuntimeWarning: Warning! det > previous_det (-9.770756298603276 > -43.332159941726246)\n",
      "  % (det, previous_det), RuntimeWarning)\n",
      "/home/kate/anaconda3/lib/python3.7/site-packages/sklearn/covariance/robust_covariance.py:165: RuntimeWarning: Warning! det > previous_det (-7.795189784035567 > -44.810358552130509)\n",
      "  % (det, previous_det), RuntimeWarning)\n",
      "/home/kate/anaconda3/lib/python3.7/site-packages/sklearn/covariance/robust_covariance.py:165: RuntimeWarning: Warning! det > previous_det (-9.560948471667407 > -44.176810637419742)\n",
      "  % (det, previous_det), RuntimeWarning)\n",
      "/home/kate/anaconda3/lib/python3.7/site-packages/sklearn/covariance/robust_covariance.py:165: RuntimeWarning: Warning! det > previous_det (-6.485300690131690 > -26.691789569722282)\n",
      "  % (det, previous_det), RuntimeWarning)\n",
      "/home/kate/anaconda3/lib/python3.7/site-packages/sklearn/covariance/robust_covariance.py:165: RuntimeWarning: Warning! det > previous_det (-7.491762400338149 > -40.604868448694255)\n",
      "  % (det, previous_det), RuntimeWarning)\n",
      "/home/kate/anaconda3/lib/python3.7/site-packages/sklearn/covariance/robust_covariance.py:165: RuntimeWarning: Warning! det > previous_det (-21.744770650384535 > -29.199998614911618)\n",
      "  % (det, previous_det), RuntimeWarning)\n",
      "/home/kate/anaconda3/lib/python3.7/site-packages/sklearn/covariance/robust_covariance.py:165: RuntimeWarning: Warning! det > previous_det (-15.006442492253280 > -26.295987836400357)\n",
      "  % (det, previous_det), RuntimeWarning)\n",
      "/home/kate/anaconda3/lib/python3.7/site-packages/sklearn/covariance/robust_covariance.py:165: RuntimeWarning: Warning! det > previous_det (-10.317560504614471 > -39.320949902370195)\n",
      "  % (det, previous_det), RuntimeWarning)\n",
      "/home/kate/anaconda3/lib/python3.7/site-packages/sklearn/covariance/robust_covariance.py:165: RuntimeWarning: Warning! det > previous_det (-9.507351626451086 > -24.550694571719525)\n",
      "  % (det, previous_det), RuntimeWarning)\n",
      "/home/kate/anaconda3/lib/python3.7/site-packages/sklearn/covariance/robust_covariance.py:165: RuntimeWarning: Warning! det > previous_det (-8.758609679429608 > -29.761864937466733)\n",
      "  % (det, previous_det), RuntimeWarning)\n",
      "/home/kate/anaconda3/lib/python3.7/site-packages/sklearn/covariance/robust_covariance.py:165: RuntimeWarning: Warning! det > previous_det (-15.079194828928502 > -18.821706690108766)\n",
      "  % (det, previous_det), RuntimeWarning)\n",
      "/home/kate/anaconda3/lib/python3.7/site-packages/sklearn/covariance/robust_covariance.py:165: RuntimeWarning: Warning! det > previous_det (-17.872299570882671 > -18.478431903291003)\n",
      "  % (det, previous_det), RuntimeWarning)\n",
      "/home/kate/anaconda3/lib/python3.7/site-packages/sklearn/covariance/robust_covariance.py:165: RuntimeWarning: Warning! det > previous_det (-15.437861869909659 > -30.637870392904031)\n",
      "  % (det, previous_det), RuntimeWarning)\n",
      "/home/kate/anaconda3/lib/python3.7/site-packages/sklearn/covariance/robust_covariance.py:165: RuntimeWarning: Warning! det > previous_det (-23.658659323020544 > -28.532036114749307)\n",
      "  % (det, previous_det), RuntimeWarning)\n",
      "/home/kate/anaconda3/lib/python3.7/site-packages/sklearn/covariance/robust_covariance.py:165: RuntimeWarning: Warning! det > previous_det (-8.630744135553204 > -28.983571883393779)\n",
      "  % (det, previous_det), RuntimeWarning)\n",
      "/home/kate/anaconda3/lib/python3.7/site-packages/sklearn/covariance/robust_covariance.py:165: RuntimeWarning: Warning! det > previous_det (-8.385306792956838 > -28.732143694206385)\n",
      "  % (det, previous_det), RuntimeWarning)\n",
      "/home/kate/anaconda3/lib/python3.7/site-packages/sklearn/covariance/robust_covariance.py:165: RuntimeWarning: Warning! det > previous_det (-20.692793824826307 > -28.423841540182178)\n",
      "  % (det, previous_det), RuntimeWarning)\n",
      "/home/kate/anaconda3/lib/python3.7/site-packages/sklearn/covariance/robust_covariance.py:165: RuntimeWarning: Warning! det > previous_det (-16.287861824141572 > -23.082628212675001)\n",
      "  % (det, previous_det), RuntimeWarning)\n",
      "/home/kate/anaconda3/lib/python3.7/site-packages/sklearn/covariance/robust_covariance.py:165: RuntimeWarning: Warning! det > previous_det (-5.363505539777838 > -31.054070625253843)\n",
      "  % (det, previous_det), RuntimeWarning)\n",
      "/home/kate/anaconda3/lib/python3.7/site-packages/sklearn/covariance/robust_covariance.py:165: RuntimeWarning: Warning! det > previous_det (-20.920236364977647 > -26.647952882590964)\n",
      "  % (det, previous_det), RuntimeWarning)\n",
      "/home/kate/anaconda3/lib/python3.7/site-packages/sklearn/covariance/robust_covariance.py:165: RuntimeWarning: Warning! det > previous_det (-13.618363106691969 > -22.917860595277283)\n",
      "  % (det, previous_det), RuntimeWarning)\n",
      "/home/kate/anaconda3/lib/python3.7/site-packages/sklearn/covariance/robust_covariance.py:165: RuntimeWarning: Warning! det > previous_det (-23.075227531332249 > -25.469417282638428)\n",
      "  % (det, previous_det), RuntimeWarning)\n"
     ]
    },
    {
     "name": "stderr",
     "output_type": "stream",
     "text": [
      "/home/kate/anaconda3/lib/python3.7/site-packages/sklearn/covariance/robust_covariance.py:165: RuntimeWarning: Warning! det > previous_det (-21.466023998895135 > -28.451485952230897)\n",
      "  % (det, previous_det), RuntimeWarning)\n",
      "/home/kate/anaconda3/lib/python3.7/site-packages/sklearn/covariance/robust_covariance.py:165: RuntimeWarning: Warning! det > previous_det (-4.215985883070797 > -29.964468174956735)\n",
      "  % (det, previous_det), RuntimeWarning)\n",
      "/home/kate/anaconda3/lib/python3.7/site-packages/sklearn/covariance/robust_covariance.py:165: RuntimeWarning: Warning! det > previous_det (-17.142899904503913 > -28.717824848347263)\n",
      "  % (det, previous_det), RuntimeWarning)\n",
      "/home/kate/anaconda3/lib/python3.7/site-packages/sklearn/covariance/robust_covariance.py:165: RuntimeWarning: Warning! det > previous_det (-13.310504750869331 > -22.695846354845727)\n",
      "  % (det, previous_det), RuntimeWarning)\n",
      "/home/kate/anaconda3/lib/python3.7/site-packages/sklearn/covariance/robust_covariance.py:165: RuntimeWarning: Warning! det > previous_det (-4.408044819544743 > -31.902596323545040)\n",
      "  % (det, previous_det), RuntimeWarning)\n",
      "/home/kate/anaconda3/lib/python3.7/site-packages/sklearn/covariance/robust_covariance.py:165: RuntimeWarning: Warning! det > previous_det (-21.393797083260072 > -30.014027186712127)\n",
      "  % (det, previous_det), RuntimeWarning)\n",
      "/home/kate/anaconda3/lib/python3.7/site-packages/sklearn/covariance/robust_covariance.py:165: RuntimeWarning: Warning! det > previous_det (-21.923810157206326 > -25.163698254628702)\n",
      "  % (det, previous_det), RuntimeWarning)\n",
      "/home/kate/anaconda3/lib/python3.7/site-packages/sklearn/covariance/robust_covariance.py:165: RuntimeWarning: Warning! det > previous_det (-10.515668723040900 > -27.653592014478519)\n",
      "  % (det, previous_det), RuntimeWarning)\n",
      "/home/kate/anaconda3/lib/python3.7/site-packages/sklearn/covariance/robust_covariance.py:165: RuntimeWarning: Warning! det > previous_det (-21.348436933859549 > -28.774735305100215)\n",
      "  % (det, previous_det), RuntimeWarning)\n",
      "/home/kate/anaconda3/lib/python3.7/site-packages/sklearn/covariance/robust_covariance.py:165: RuntimeWarning: Warning! det > previous_det (-17.313925989966972 > -17.546992056073666)\n",
      "  % (det, previous_det), RuntimeWarning)\n",
      "/home/kate/anaconda3/lib/python3.7/site-packages/sklearn/covariance/robust_covariance.py:165: RuntimeWarning: Warning! det > previous_det (-9.860964012785843 > -27.526008238692867)\n",
      "  % (det, previous_det), RuntimeWarning)\n",
      "/home/kate/anaconda3/lib/python3.7/site-packages/sklearn/covariance/robust_covariance.py:165: RuntimeWarning: Warning! det > previous_det (-6.177102090223165 > -31.206042406733800)\n",
      "  % (det, previous_det), RuntimeWarning)\n",
      "/home/kate/anaconda3/lib/python3.7/site-packages/sklearn/covariance/robust_covariance.py:165: RuntimeWarning: Warning! det > previous_det (-16.078257883624282 > -20.129255431487604)\n",
      "  % (det, previous_det), RuntimeWarning)\n",
      "/home/kate/anaconda3/lib/python3.7/site-packages/sklearn/covariance/robust_covariance.py:165: RuntimeWarning: Warning! det > previous_det (-12.658430674874731 > -28.262450201630244)\n",
      "  % (det, previous_det), RuntimeWarning)\n",
      "/home/kate/anaconda3/lib/python3.7/site-packages/sklearn/covariance/robust_covariance.py:165: RuntimeWarning: Warning! det > previous_det (-5.778118276392380 > -32.424366451003358)\n",
      "  % (det, previous_det), RuntimeWarning)\n",
      "/home/kate/anaconda3/lib/python3.7/site-packages/sklearn/covariance/robust_covariance.py:165: RuntimeWarning: Warning! det > previous_det (-17.571984628435757 > -21.202563725705780)\n",
      "  % (det, previous_det), RuntimeWarning)\n",
      "/home/kate/anaconda3/lib/python3.7/site-packages/sklearn/covariance/robust_covariance.py:165: RuntimeWarning: Warning! det > previous_det (-5.744982614815401 > -30.791839693517485)\n",
      "  % (det, previous_det), RuntimeWarning)\n",
      "/home/kate/anaconda3/lib/python3.7/site-packages/sklearn/covariance/robust_covariance.py:165: RuntimeWarning: Warning! det > previous_det (-11.817400039355492 > -27.834334340918353)\n",
      "  % (det, previous_det), RuntimeWarning)\n",
      "/home/kate/anaconda3/lib/python3.7/site-packages/sklearn/covariance/robust_covariance.py:165: RuntimeWarning: Warning! det > previous_det (-15.982815128015766 > -35.638009087606250)\n",
      "  % (det, previous_det), RuntimeWarning)\n",
      "/home/kate/anaconda3/lib/python3.7/site-packages/sklearn/covariance/robust_covariance.py:165: RuntimeWarning: Warning! det > previous_det (-14.339771204446427 > -69.694963394268683)\n",
      "  % (det, previous_det), RuntimeWarning)\n",
      "/home/kate/anaconda3/lib/python3.7/site-packages/sklearn/covariance/robust_covariance.py:165: RuntimeWarning: Warning! det > previous_det (-15.722387013932098 > -30.948066628127016)\n",
      "  % (det, previous_det), RuntimeWarning)\n",
      "/home/kate/anaconda3/lib/python3.7/site-packages/sklearn/covariance/robust_covariance.py:165: RuntimeWarning: Warning! det > previous_det (-28.571636037397660 > -34.836716213248721)\n",
      "  % (det, previous_det), RuntimeWarning)\n",
      "/home/kate/anaconda3/lib/python3.7/site-packages/sklearn/covariance/robust_covariance.py:165: RuntimeWarning: Warning! det > previous_det (-8.264822434356018 > -23.899978931428489)\n",
      "  % (det, previous_det), RuntimeWarning)\n",
      "/home/kate/anaconda3/lib/python3.7/site-packages/sklearn/covariance/robust_covariance.py:165: RuntimeWarning: Warning! det > previous_det (-9.897197138836031 > -40.551759355661162)\n",
      "  % (det, previous_det), RuntimeWarning)\n",
      "/home/kate/anaconda3/lib/python3.7/site-packages/sklearn/covariance/robust_covariance.py:165: RuntimeWarning: Warning! det > previous_det (-22.372029878207059 > -23.923924841212798)\n",
      "  % (det, previous_det), RuntimeWarning)\n",
      "/home/kate/anaconda3/lib/python3.7/site-packages/sklearn/covariance/robust_covariance.py:165: RuntimeWarning: Warning! det > previous_det (-9.115866830308830 > -36.830538807986400)\n",
      "  % (det, previous_det), RuntimeWarning)\n",
      "/home/kate/anaconda3/lib/python3.7/site-packages/sklearn/covariance/robust_covariance.py:165: RuntimeWarning: Warning! det > previous_det (-6.057869972499573 > -30.213778605493538)\n",
      "  % (det, previous_det), RuntimeWarning)\n",
      "/home/kate/anaconda3/lib/python3.7/site-packages/sklearn/covariance/robust_covariance.py:165: RuntimeWarning: Warning! det > previous_det (-5.301152872089371 > -43.978363443143991)\n",
      "  % (det, previous_det), RuntimeWarning)\n",
      "/home/kate/anaconda3/lib/python3.7/site-packages/sklearn/covariance/robust_covariance.py:165: RuntimeWarning: Warning! det > previous_det (-8.874147441310399 > -44.643374380847504)\n",
      "  % (det, previous_det), RuntimeWarning)\n",
      "/home/kate/anaconda3/lib/python3.7/site-packages/sklearn/covariance/robust_covariance.py:165: RuntimeWarning: Warning! det > previous_det (-8.841429031352934 > -42.994224252651399)\n",
      "  % (det, previous_det), RuntimeWarning)\n",
      "/home/kate/anaconda3/lib/python3.7/site-packages/sklearn/covariance/robust_covariance.py:165: RuntimeWarning: Warning! det > previous_det (-10.815380046517229 > -27.697673378586046)\n",
      "  % (det, previous_det), RuntimeWarning)\n",
      "/home/kate/anaconda3/lib/python3.7/site-packages/sklearn/covariance/robust_covariance.py:165: RuntimeWarning: Warning! det > previous_det (-5.338679771698031 > -29.937933229372195)\n",
      "  % (det, previous_det), RuntimeWarning)\n",
      "/home/kate/anaconda3/lib/python3.7/site-packages/sklearn/covariance/robust_covariance.py:165: RuntimeWarning: Warning! det > previous_det (-20.979792414456863 > -31.751029416806830)\n",
      "  % (det, previous_det), RuntimeWarning)\n",
      "/home/kate/anaconda3/lib/python3.7/site-packages/sklearn/covariance/robust_covariance.py:165: RuntimeWarning: Warning! det > previous_det (-14.353571972107455 > -22.441198499349827)\n",
      "  % (det, previous_det), RuntimeWarning)\n",
      "/home/kate/anaconda3/lib/python3.7/site-packages/sklearn/covariance/robust_covariance.py:165: RuntimeWarning: Warning! det > previous_det (-28.722179610536564 > -35.258723694975856)\n",
      "  % (det, previous_det), RuntimeWarning)\n",
      "/home/kate/anaconda3/lib/python3.7/site-packages/sklearn/covariance/robust_covariance.py:165: RuntimeWarning: Warning! det > previous_det (-11.916476145887597 > -24.846329018281505)\n",
      "  % (det, previous_det), RuntimeWarning)\n",
      "/home/kate/anaconda3/lib/python3.7/site-packages/sklearn/covariance/robust_covariance.py:165: RuntimeWarning: Warning! det > previous_det (-13.512848195655746 > -22.137627768341229)\n",
      "  % (det, previous_det), RuntimeWarning)\n",
      "/home/kate/anaconda3/lib/python3.7/site-packages/sklearn/covariance/robust_covariance.py:165: RuntimeWarning: Warning! det > previous_det (-4.005243128708816 > -31.675138774678693)\n",
      "  % (det, previous_det), RuntimeWarning)\n",
      "/home/kate/anaconda3/lib/python3.7/site-packages/sklearn/covariance/robust_covariance.py:165: RuntimeWarning: Warning! det > previous_det (-14.258297022940569 > -22.908168898268645)\n",
      "  % (det, previous_det), RuntimeWarning)\n",
      "/home/kate/anaconda3/lib/python3.7/site-packages/sklearn/covariance/robust_covariance.py:165: RuntimeWarning: Warning! det > previous_det (-11.122663954658565 > -16.610415726621682)\n",
      "  % (det, previous_det), RuntimeWarning)\n",
      "/home/kate/anaconda3/lib/python3.7/site-packages/sklearn/covariance/robust_covariance.py:165: RuntimeWarning: Warning! det > previous_det (-23.184358696949804 > -23.200619477045663)\n",
      "  % (det, previous_det), RuntimeWarning)\n",
      "/home/kate/anaconda3/lib/python3.7/site-packages/sklearn/covariance/robust_covariance.py:165: RuntimeWarning: Warning! det > previous_det (-5.090457163977414 > -26.220201763447854)\n",
      "  % (det, previous_det), RuntimeWarning)\n",
      "/home/kate/anaconda3/lib/python3.7/site-packages/sklearn/covariance/robust_covariance.py:165: RuntimeWarning: Warning! det > previous_det (-16.345254473610161 > -20.848839200001105)\n",
      "  % (det, previous_det), RuntimeWarning)\n",
      "/home/kate/anaconda3/lib/python3.7/site-packages/sklearn/covariance/robust_covariance.py:165: RuntimeWarning: Warning! det > previous_det (-22.352941403609076 > -39.234848025142782)\n",
      "  % (det, previous_det), RuntimeWarning)\n",
      "/home/kate/anaconda3/lib/python3.7/site-packages/sklearn/covariance/robust_covariance.py:165: RuntimeWarning: Warning! det > previous_det (-26.638284144382084 > -27.325351428896496)\n",
      "  % (det, previous_det), RuntimeWarning)\n",
      "/home/kate/anaconda3/lib/python3.7/site-packages/sklearn/covariance/robust_covariance.py:165: RuntimeWarning: Warning! det > previous_det (-6.812467070338258 > -26.832855924565393)\n",
      "  % (det, previous_det), RuntimeWarning)\n",
      "/home/kate/anaconda3/lib/python3.7/site-packages/sklearn/covariance/robust_covariance.py:165: RuntimeWarning: Warning! det > previous_det (-12.280070907724269 > -26.697081640856471)\n",
      "  % (det, previous_det), RuntimeWarning)\n",
      "/home/kate/anaconda3/lib/python3.7/site-packages/sklearn/covariance/robust_covariance.py:165: RuntimeWarning: Warning! det > previous_det (-18.361630733061581 > -23.684258576461996)\n",
      "  % (det, previous_det), RuntimeWarning)\n",
      "/home/kate/anaconda3/lib/python3.7/site-packages/sklearn/covariance/robust_covariance.py:165: RuntimeWarning: Warning! det > previous_det (-21.212251779728039 > -34.622094491262622)\n",
      "  % (det, previous_det), RuntimeWarning)\n",
      "/home/kate/anaconda3/lib/python3.7/site-packages/sklearn/covariance/robust_covariance.py:165: RuntimeWarning: Warning! det > previous_det (-24.515452767395811 > -24.786480440892031)\n",
      "  % (det, previous_det), RuntimeWarning)\n",
      "/home/kate/anaconda3/lib/python3.7/site-packages/sklearn/covariance/robust_covariance.py:165: RuntimeWarning: Warning! det > previous_det (-11.091494312939856 > -42.301858759559622)\n",
      "  % (det, previous_det), RuntimeWarning)\n",
      "/home/kate/anaconda3/lib/python3.7/site-packages/sklearn/covariance/robust_covariance.py:165: RuntimeWarning: Warning! det > previous_det (-10.993213889991299 > -41.292493533963871)\n",
      "  % (det, previous_det), RuntimeWarning)\n",
      "/home/kate/anaconda3/lib/python3.7/site-packages/sklearn/covariance/robust_covariance.py:165: RuntimeWarning: Warning! det > previous_det (-23.802747112617695 > -26.200274963782778)\n",
      "  % (det, previous_det), RuntimeWarning)\n",
      "/home/kate/anaconda3/lib/python3.7/site-packages/sklearn/covariance/robust_covariance.py:165: RuntimeWarning: Warning! det > previous_det (-19.703167076522035 > -42.163447113558583)\n",
      "  % (det, previous_det), RuntimeWarning)\n",
      "/home/kate/anaconda3/lib/python3.7/site-packages/sklearn/covariance/robust_covariance.py:165: RuntimeWarning: Warning! det > previous_det (-20.039909658870261 > -40.078988310594390)\n",
      "  % (det, previous_det), RuntimeWarning)\n",
      "/home/kate/anaconda3/lib/python3.7/site-packages/sklearn/covariance/robust_covariance.py:165: RuntimeWarning: Warning! det > previous_det (-21.810821157248871 > -39.323378573196251)\n",
      "  % (det, previous_det), RuntimeWarning)\n",
      "/home/kate/anaconda3/lib/python3.7/site-packages/sklearn/covariance/robust_covariance.py:165: RuntimeWarning: Warning! det > previous_det (-11.510343940593721 > -42.808417667853739)\n",
      "  % (det, previous_det), RuntimeWarning)\n"
     ]
    },
    {
     "name": "stderr",
     "output_type": "stream",
     "text": [
      "/home/kate/anaconda3/lib/python3.7/site-packages/sklearn/covariance/robust_covariance.py:165: RuntimeWarning: Warning! det > previous_det (-8.658842835818771 > -27.374855007517894)\n",
      "  % (det, previous_det), RuntimeWarning)\n",
      "/home/kate/anaconda3/lib/python3.7/site-packages/sklearn/covariance/robust_covariance.py:165: RuntimeWarning: Warning! det > previous_det (-8.219987936577716 > -26.829897704174705)\n",
      "  % (det, previous_det), RuntimeWarning)\n",
      "/home/kate/anaconda3/lib/python3.7/site-packages/sklearn/covariance/robust_covariance.py:165: RuntimeWarning: Warning! det > previous_det (-8.376522083816893 > -36.458729515421958)\n",
      "  % (det, previous_det), RuntimeWarning)\n",
      "/home/kate/anaconda3/lib/python3.7/site-packages/sklearn/covariance/robust_covariance.py:165: RuntimeWarning: Warning! det > previous_det (-6.368809334604175 > -40.932860393680876)\n",
      "  % (det, previous_det), RuntimeWarning)\n",
      "/home/kate/anaconda3/lib/python3.7/site-packages/sklearn/covariance/robust_covariance.py:165: RuntimeWarning: Warning! det > previous_det (-16.388169381811011 > -20.597908105058394)\n",
      "  % (det, previous_det), RuntimeWarning)\n",
      "/home/kate/anaconda3/lib/python3.7/site-packages/sklearn/covariance/robust_covariance.py:165: RuntimeWarning: Warning! det > previous_det (-12.460479505959579 > -26.157005254448574)\n",
      "  % (det, previous_det), RuntimeWarning)\n",
      "/home/kate/anaconda3/lib/python3.7/site-packages/sklearn/covariance/robust_covariance.py:165: RuntimeWarning: Warning! det > previous_det (-15.673117281352452 > -23.243940183134889)\n",
      "  % (det, previous_det), RuntimeWarning)\n",
      "/home/kate/anaconda3/lib/python3.7/site-packages/sklearn/covariance/robust_covariance.py:165: RuntimeWarning: Warning! det > previous_det (-20.001230583457076 > -39.885543417439997)\n",
      "  % (det, previous_det), RuntimeWarning)\n",
      "/home/kate/anaconda3/lib/python3.7/site-packages/sklearn/covariance/robust_covariance.py:165: RuntimeWarning: Warning! det > previous_det (-14.254018105323976 > -25.965902465891784)\n",
      "  % (det, previous_det), RuntimeWarning)\n",
      "/home/kate/anaconda3/lib/python3.7/site-packages/sklearn/covariance/robust_covariance.py:165: RuntimeWarning: Warning! det > previous_det (-15.908300804244453 > -30.228250783964299)\n",
      "  % (det, previous_det), RuntimeWarning)\n",
      "/home/kate/anaconda3/lib/python3.7/site-packages/sklearn/covariance/robust_covariance.py:165: RuntimeWarning: Warning! det > previous_det (-10.280734800888551 > -43.011308621541581)\n",
      "  % (det, previous_det), RuntimeWarning)\n",
      "/home/kate/anaconda3/lib/python3.7/site-packages/sklearn/covariance/robust_covariance.py:165: RuntimeWarning: Warning! det > previous_det (-5.207354812197268 > -43.949561742818162)\n",
      "  % (det, previous_det), RuntimeWarning)\n",
      "/home/kate/anaconda3/lib/python3.7/site-packages/sklearn/covariance/robust_covariance.py:165: RuntimeWarning: Warning! det > previous_det (-4.765527806634937 > -77.025160729163616)\n",
      "  % (det, previous_det), RuntimeWarning)\n",
      "/home/kate/anaconda3/lib/python3.7/site-packages/sklearn/covariance/robust_covariance.py:165: RuntimeWarning: Warning! det > previous_det (-19.422811073083043 > -25.202593427298108)\n",
      "  % (det, previous_det), RuntimeWarning)\n",
      "/home/kate/anaconda3/lib/python3.7/site-packages/sklearn/covariance/robust_covariance.py:165: RuntimeWarning: Warning! det > previous_det (-16.675886609258054 > -76.316936220787127)\n",
      "  % (det, previous_det), RuntimeWarning)\n",
      "/home/kate/anaconda3/lib/python3.7/site-packages/sklearn/covariance/robust_covariance.py:165: RuntimeWarning: Warning! det > previous_det (-10.370213033083552 > -44.239247401469434)\n",
      "  % (det, previous_det), RuntimeWarning)\n",
      "/home/kate/anaconda3/lib/python3.7/site-packages/sklearn/covariance/robust_covariance.py:165: RuntimeWarning: Warning! det > previous_det (-21.250491927117345 > -32.089927389429157)\n",
      "  % (det, previous_det), RuntimeWarning)\n",
      "/home/kate/anaconda3/lib/python3.7/site-packages/sklearn/covariance/robust_covariance.py:165: RuntimeWarning: Warning! det > previous_det (-13.172974867467692 > -17.587710010165004)\n",
      "  % (det, previous_det), RuntimeWarning)\n",
      "/home/kate/anaconda3/lib/python3.7/site-packages/sklearn/covariance/robust_covariance.py:165: RuntimeWarning: Warning! det > previous_det (-14.804920239349423 > -21.077653056715782)\n",
      "  % (det, previous_det), RuntimeWarning)\n",
      "/home/kate/anaconda3/lib/python3.7/site-packages/sklearn/covariance/robust_covariance.py:165: RuntimeWarning: Warning! det > previous_det (-17.592609491495910 > -31.016869177079446)\n",
      "  % (det, previous_det), RuntimeWarning)\n",
      "/home/kate/anaconda3/lib/python3.7/site-packages/sklearn/covariance/robust_covariance.py:165: RuntimeWarning: Warning! det > previous_det (-22.555584034488092 > -25.645332041229679)\n",
      "  % (det, previous_det), RuntimeWarning)\n",
      "/home/kate/anaconda3/lib/python3.7/site-packages/sklearn/covariance/robust_covariance.py:165: RuntimeWarning: Warning! det > previous_det (-15.978592329118312 > -18.517930541557032)\n",
      "  % (det, previous_det), RuntimeWarning)\n",
      "/home/kate/anaconda3/lib/python3.7/site-packages/sklearn/covariance/robust_covariance.py:165: RuntimeWarning: Warning! det > previous_det (-14.117983889785183 > -18.936340396640198)\n",
      "  % (det, previous_det), RuntimeWarning)\n",
      "/home/kate/anaconda3/lib/python3.7/site-packages/sklearn/covariance/robust_covariance.py:165: RuntimeWarning: Warning! det > previous_det (-13.617246853584252 > -22.502632251414681)\n",
      "  % (det, previous_det), RuntimeWarning)\n",
      "/home/kate/anaconda3/lib/python3.7/site-packages/sklearn/covariance/robust_covariance.py:165: RuntimeWarning: Warning! det > previous_det (-9.104795678301590 > -23.588864331072998)\n",
      "  % (det, previous_det), RuntimeWarning)\n",
      "/home/kate/anaconda3/lib/python3.7/site-packages/sklearn/covariance/robust_covariance.py:165: RuntimeWarning: Warning! det > previous_det (-13.706622995150420 > -24.032757795854216)\n",
      "  % (det, previous_det), RuntimeWarning)\n",
      "/home/kate/anaconda3/lib/python3.7/site-packages/sklearn/covariance/robust_covariance.py:165: RuntimeWarning: Warning! det > previous_det (-7.568682789737780 > -40.573644208555457)\n",
      "  % (det, previous_det), RuntimeWarning)\n",
      "/home/kate/anaconda3/lib/python3.7/site-packages/sklearn/covariance/robust_covariance.py:165: RuntimeWarning: Warning! det > previous_det (-9.663444838330133 > -42.601934397083575)\n",
      "  % (det, previous_det), RuntimeWarning)\n",
      "/home/kate/anaconda3/lib/python3.7/site-packages/sklearn/covariance/robust_covariance.py:165: RuntimeWarning: Warning! det > previous_det (-11.423200682600923 > -24.247464182745915)\n",
      "  % (det, previous_det), RuntimeWarning)\n",
      "/home/kate/anaconda3/lib/python3.7/site-packages/sklearn/covariance/robust_covariance.py:165: RuntimeWarning: Warning! det > previous_det (-10.685166478321298 > -26.407593399861423)\n",
      "  % (det, previous_det), RuntimeWarning)\n",
      "/home/kate/anaconda3/lib/python3.7/site-packages/sklearn/covariance/robust_covariance.py:165: RuntimeWarning: Warning! det > previous_det (-19.017039631021554 > -30.932481335515121)\n",
      "  % (det, previous_det), RuntimeWarning)\n",
      "/home/kate/anaconda3/lib/python3.7/site-packages/sklearn/covariance/robust_covariance.py:165: RuntimeWarning: Warning! det > previous_det (-20.081493385020927 > -29.514398439652879)\n",
      "  % (det, previous_det), RuntimeWarning)\n",
      "/home/kate/anaconda3/lib/python3.7/site-packages/sklearn/covariance/robust_covariance.py:165: RuntimeWarning: Warning! det > previous_det (-22.710252315495953 > -28.126811111413854)\n",
      "  % (det, previous_det), RuntimeWarning)\n",
      "/home/kate/anaconda3/lib/python3.7/site-packages/sklearn/covariance/robust_covariance.py:165: RuntimeWarning: Warning! det > previous_det (-19.028330807005169 > -31.957756620259609)\n",
      "  % (det, previous_det), RuntimeWarning)\n",
      "/home/kate/anaconda3/lib/python3.7/site-packages/sklearn/covariance/robust_covariance.py:165: RuntimeWarning: Warning! det > previous_det (-21.929765242645427 > -22.406192839191437)\n",
      "  % (det, previous_det), RuntimeWarning)\n",
      "/home/kate/anaconda3/lib/python3.7/site-packages/sklearn/covariance/robust_covariance.py:165: RuntimeWarning: Warning! det > previous_det (-23.011749895950778 > -28.748095419778714)\n",
      "  % (det, previous_det), RuntimeWarning)\n",
      "/home/kate/anaconda3/lib/python3.7/site-packages/sklearn/covariance/robust_covariance.py:165: RuntimeWarning: Warning! det > previous_det (-9.276846060335529 > -18.250365734537830)\n",
      "  % (det, previous_det), RuntimeWarning)\n",
      "/home/kate/anaconda3/lib/python3.7/site-packages/sklearn/covariance/robust_covariance.py:165: RuntimeWarning: Warning! det > previous_det (-10.775323127826947 > -39.865456797646189)\n",
      "  % (det, previous_det), RuntimeWarning)\n",
      "/home/kate/anaconda3/lib/python3.7/site-packages/sklearn/covariance/robust_covariance.py:165: RuntimeWarning: Warning! det > previous_det (-11.776839214252709 > -40.291843406452813)\n",
      "  % (det, previous_det), RuntimeWarning)\n",
      "/home/kate/anaconda3/lib/python3.7/site-packages/sklearn/covariance/robust_covariance.py:165: RuntimeWarning: Warning! det > previous_det (-20.137614786629300 > -42.473193395844092)\n",
      "  % (det, previous_det), RuntimeWarning)\n",
      "/home/kate/anaconda3/lib/python3.7/site-packages/sklearn/covariance/robust_covariance.py:165: RuntimeWarning: Warning! det > previous_det (-22.483229350471092 > -23.020050819780185)\n",
      "  % (det, previous_det), RuntimeWarning)\n",
      "/home/kate/anaconda3/lib/python3.7/site-packages/sklearn/covariance/robust_covariance.py:165: RuntimeWarning: Warning! det > previous_det (-6.366475432827432 > -29.973644787543208)\n",
      "  % (det, previous_det), RuntimeWarning)\n",
      "/home/kate/anaconda3/lib/python3.7/site-packages/sklearn/covariance/robust_covariance.py:165: RuntimeWarning: Warning! det > previous_det (-17.044241074286276 > -18.799519812194969)\n",
      "  % (det, previous_det), RuntimeWarning)\n",
      "/home/kate/anaconda3/lib/python3.7/site-packages/sklearn/covariance/robust_covariance.py:165: RuntimeWarning: Warning! det > previous_det (-12.082072233126818 > -20.521976449495547)\n",
      "  % (det, previous_det), RuntimeWarning)\n",
      "/home/kate/anaconda3/lib/python3.7/site-packages/sklearn/covariance/robust_covariance.py:165: RuntimeWarning: Warning! det > previous_det (-18.901373773992091 > -26.691565943350472)\n",
      "  % (det, previous_det), RuntimeWarning)\n",
      "/home/kate/anaconda3/lib/python3.7/site-packages/sklearn/covariance/robust_covariance.py:165: RuntimeWarning: Warning! det > previous_det (-14.165788403616562 > -38.490183732713660)\n",
      "  % (det, previous_det), RuntimeWarning)\n",
      "/home/kate/anaconda3/lib/python3.7/site-packages/sklearn/covariance/robust_covariance.py:165: RuntimeWarning: Warning! det > previous_det (-19.154679621559914 > -28.468794929415811)\n",
      "  % (det, previous_det), RuntimeWarning)\n"
     ]
    },
    {
     "name": "stderr",
     "output_type": "stream",
     "text": [
      "/home/kate/anaconda3/lib/python3.7/site-packages/sklearn/covariance/robust_covariance.py:165: RuntimeWarning: Warning! det > previous_det (-19.377921965128380 > -25.695084895671197)\n",
      "  % (det, previous_det), RuntimeWarning)\n",
      "/home/kate/anaconda3/lib/python3.7/site-packages/sklearn/covariance/robust_covariance.py:165: RuntimeWarning: Warning! det > previous_det (-24.170554018859438 > -25.930488452079128)\n",
      "  % (det, previous_det), RuntimeWarning)\n",
      "/home/kate/anaconda3/lib/python3.7/site-packages/sklearn/covariance/robust_covariance.py:165: RuntimeWarning: Warning! det > previous_det (-9.389098075543952 > -38.759124968366301)\n",
      "  % (det, previous_det), RuntimeWarning)\n",
      "/home/kate/anaconda3/lib/python3.7/site-packages/sklearn/covariance/robust_covariance.py:165: RuntimeWarning: Warning! det > previous_det (-14.336236038063369 > -39.439774538030136)\n",
      "  % (det, previous_det), RuntimeWarning)\n",
      "/home/kate/anaconda3/lib/python3.7/site-packages/sklearn/covariance/robust_covariance.py:165: RuntimeWarning: Warning! det > previous_det (-15.687385468758134 > -22.523143877479836)\n",
      "  % (det, previous_det), RuntimeWarning)\n",
      "/home/kate/anaconda3/lib/python3.7/site-packages/sklearn/covariance/robust_covariance.py:165: RuntimeWarning: Warning! det > previous_det (-22.044954619029731 > -25.674158951084227)\n",
      "  % (det, previous_det), RuntimeWarning)\n",
      "/home/kate/anaconda3/lib/python3.7/site-packages/sklearn/covariance/robust_covariance.py:165: RuntimeWarning: Warning! det > previous_det (-11.321076774606222 > -42.098912626269879)\n",
      "  % (det, previous_det), RuntimeWarning)\n",
      "/home/kate/anaconda3/lib/python3.7/site-packages/sklearn/covariance/robust_covariance.py:165: RuntimeWarning: Warning! det > previous_det (-23.214402353345818 > -26.520595433004850)\n",
      "  % (det, previous_det), RuntimeWarning)\n",
      "/home/kate/anaconda3/lib/python3.7/site-packages/sklearn/covariance/robust_covariance.py:165: RuntimeWarning: Warning! det > previous_det (-25.889354197711270 > -31.198300833872434)\n",
      "  % (det, previous_det), RuntimeWarning)\n",
      "/home/kate/anaconda3/lib/python3.7/site-packages/sklearn/covariance/robust_covariance.py:165: RuntimeWarning: Warning! det > previous_det (-19.451056348273724 > -24.858576957847820)\n",
      "  % (det, previous_det), RuntimeWarning)\n",
      "/home/kate/anaconda3/lib/python3.7/site-packages/sklearn/covariance/robust_covariance.py:165: RuntimeWarning: Warning! det > previous_det (-18.683022176208027 > -24.524465239257097)\n",
      "  % (det, previous_det), RuntimeWarning)\n",
      "/home/kate/anaconda3/lib/python3.7/site-packages/sklearn/covariance/robust_covariance.py:165: RuntimeWarning: Warning! det > previous_det (-20.623903990217350 > -36.738343095653477)\n",
      "  % (det, previous_det), RuntimeWarning)\n",
      "/home/kate/anaconda3/lib/python3.7/site-packages/sklearn/covariance/robust_covariance.py:165: RuntimeWarning: Warning! det > previous_det (-13.915742956232585 > -23.546583730300906)\n",
      "  % (det, previous_det), RuntimeWarning)\n",
      "/home/kate/anaconda3/lib/python3.7/site-packages/sklearn/covariance/robust_covariance.py:165: RuntimeWarning: Warning! det > previous_det (-22.148457350282943 > -37.892912566020406)\n",
      "  % (det, previous_det), RuntimeWarning)\n",
      "/home/kate/anaconda3/lib/python3.7/site-packages/sklearn/covariance/robust_covariance.py:165: RuntimeWarning: Warning! det > previous_det (-17.720169315549725 > -23.981774995777805)\n",
      "  % (det, previous_det), RuntimeWarning)\n",
      "/home/kate/anaconda3/lib/python3.7/site-packages/sklearn/covariance/robust_covariance.py:165: RuntimeWarning: Warning! det > previous_det (-19.597178769459557 > -27.695631436263767)\n",
      "  % (det, previous_det), RuntimeWarning)\n",
      "/home/kate/anaconda3/lib/python3.7/site-packages/sklearn/covariance/robust_covariance.py:165: RuntimeWarning: Warning! det > previous_det (-22.414207963080393 > -27.039896605050842)\n",
      "  % (det, previous_det), RuntimeWarning)\n",
      "/home/kate/anaconda3/lib/python3.7/site-packages/sklearn/covariance/robust_covariance.py:165: RuntimeWarning: Warning! det > previous_det (-16.663389087308598 > -31.021040923593389)\n",
      "  % (det, previous_det), RuntimeWarning)\n",
      "/home/kate/anaconda3/lib/python3.7/site-packages/sklearn/covariance/robust_covariance.py:165: RuntimeWarning: Warning! det > previous_det (-17.259820377469577 > -33.080940269721545)\n",
      "  % (det, previous_det), RuntimeWarning)\n",
      "/home/kate/anaconda3/lib/python3.7/site-packages/sklearn/covariance/robust_covariance.py:165: RuntimeWarning: Warning! det > previous_det (-17.171410677779534 > -20.239281502554725)\n",
      "  % (det, previous_det), RuntimeWarning)\n",
      "/home/kate/anaconda3/lib/python3.7/site-packages/sklearn/covariance/robust_covariance.py:165: RuntimeWarning: Warning! det > previous_det (-13.535645527749383 > -21.508182994166333)\n",
      "  % (det, previous_det), RuntimeWarning)\n",
      "/home/kate/anaconda3/lib/python3.7/site-packages/sklearn/covariance/robust_covariance.py:165: RuntimeWarning: Warning! det > previous_det (-8.196213107727235 > -29.956621656262413)\n",
      "  % (det, previous_det), RuntimeWarning)\n",
      "/home/kate/anaconda3/lib/python3.7/site-packages/sklearn/covariance/robust_covariance.py:165: RuntimeWarning: Warning! det > previous_det (-3.725237511068718 > -45.141556519632530)\n",
      "  % (det, previous_det), RuntimeWarning)\n",
      "/home/kate/anaconda3/lib/python3.7/site-packages/sklearn/covariance/robust_covariance.py:165: RuntimeWarning: Warning! det > previous_det (-13.214383543097476 > -22.638798896993219)\n",
      "  % (det, previous_det), RuntimeWarning)\n",
      "/home/kate/anaconda3/lib/python3.7/site-packages/sklearn/covariance/robust_covariance.py:165: RuntimeWarning: Warning! det > previous_det (-18.581677684539770 > -27.736003117088512)\n",
      "  % (det, previous_det), RuntimeWarning)\n",
      "/home/kate/anaconda3/lib/python3.7/site-packages/sklearn/covariance/robust_covariance.py:165: RuntimeWarning: Warning! det > previous_det (-13.437390695275070 > -19.769245147476358)\n",
      "  % (det, previous_det), RuntimeWarning)\n",
      "/home/kate/anaconda3/lib/python3.7/site-packages/sklearn/covariance/robust_covariance.py:165: RuntimeWarning: Warning! det > previous_det (-18.065970325558659 > -19.033002937441434)\n",
      "  % (det, previous_det), RuntimeWarning)\n",
      "/home/kate/anaconda3/lib/python3.7/site-packages/sklearn/covariance/robust_covariance.py:165: RuntimeWarning: Warning! det > previous_det (-21.205437212096651 > -26.862317523575577)\n",
      "  % (det, previous_det), RuntimeWarning)\n",
      "/home/kate/anaconda3/lib/python3.7/site-packages/sklearn/covariance/robust_covariance.py:165: RuntimeWarning: Warning! det > previous_det (-12.773815490911206 > -25.233961972045169)\n",
      "  % (det, previous_det), RuntimeWarning)\n",
      "/home/kate/anaconda3/lib/python3.7/site-packages/sklearn/covariance/robust_covariance.py:165: RuntimeWarning: Warning! det > previous_det (-13.104611399676797 > -24.538154902010998)\n",
      "  % (det, previous_det), RuntimeWarning)\n",
      "/home/kate/anaconda3/lib/python3.7/site-packages/sklearn/covariance/robust_covariance.py:165: RuntimeWarning: Warning! det > previous_det (-19.903776881626950 > -26.516894360581293)\n",
      "  % (det, previous_det), RuntimeWarning)\n",
      "/home/kate/anaconda3/lib/python3.7/site-packages/sklearn/covariance/robust_covariance.py:165: RuntimeWarning: Warning! det > previous_det (-10.203094356259264 > -26.347435936672486)\n",
      "  % (det, previous_det), RuntimeWarning)\n",
      "/home/kate/anaconda3/lib/python3.7/site-packages/sklearn/covariance/robust_covariance.py:165: RuntimeWarning: Warning! det > previous_det (-10.470919948737816 > -27.975642310979751)\n",
      "  % (det, previous_det), RuntimeWarning)\n",
      "/home/kate/anaconda3/lib/python3.7/site-packages/sklearn/covariance/robust_covariance.py:165: RuntimeWarning: Warning! det > previous_det (-9.896321833753888 > -41.278826096366053)\n",
      "  % (det, previous_det), RuntimeWarning)\n",
      "/home/kate/anaconda3/lib/python3.7/site-packages/sklearn/covariance/robust_covariance.py:165: RuntimeWarning: Warning! det > previous_det (-18.998921885323302 > -26.529892636103206)\n",
      "  % (det, previous_det), RuntimeWarning)\n",
      "/home/kate/anaconda3/lib/python3.7/site-packages/sklearn/covariance/robust_covariance.py:165: RuntimeWarning: Warning! det > previous_det (-23.624697932484292 > -26.713711264413206)\n",
      "  % (det, previous_det), RuntimeWarning)\n",
      "/home/kate/anaconda3/lib/python3.7/site-packages/sklearn/covariance/robust_covariance.py:165: RuntimeWarning: Warning! det > previous_det (-9.013281652767851 > -35.623052295006580)\n",
      "  % (det, previous_det), RuntimeWarning)\n",
      "/home/kate/anaconda3/lib/python3.7/site-packages/sklearn/covariance/robust_covariance.py:165: RuntimeWarning: Warning! det > previous_det (-12.485325917609181 > -25.892233848714451)\n",
      "  % (det, previous_det), RuntimeWarning)\n",
      "/home/kate/anaconda3/lib/python3.7/site-packages/sklearn/covariance/robust_covariance.py:165: RuntimeWarning: Warning! det > previous_det (-11.202469128545243 > -27.446492239875784)\n",
      "  % (det, previous_det), RuntimeWarning)\n",
      "/home/kate/anaconda3/lib/python3.7/site-packages/sklearn/covariance/robust_covariance.py:165: RuntimeWarning: Warning! det > previous_det (-14.792171474672781 > -32.715685896607425)\n",
      "  % (det, previous_det), RuntimeWarning)\n",
      "/home/kate/anaconda3/lib/python3.7/site-packages/sklearn/covariance/robust_covariance.py:165: RuntimeWarning: Warning! det > previous_det (-20.135148958314584 > -36.964156465159469)\n",
      "  % (det, previous_det), RuntimeWarning)\n",
      "/home/kate/anaconda3/lib/python3.7/site-packages/sklearn/covariance/robust_covariance.py:165: RuntimeWarning: Warning! det > previous_det (-13.264717994787233 > -24.843613124808684)\n",
      "  % (det, previous_det), RuntimeWarning)\n",
      "/home/kate/anaconda3/lib/python3.7/site-packages/sklearn/covariance/robust_covariance.py:165: RuntimeWarning: Warning! det > previous_det (-19.164980998995958 > -37.723288113997263)\n",
      "  % (det, previous_det), RuntimeWarning)\n",
      "/home/kate/anaconda3/lib/python3.7/site-packages/sklearn/covariance/robust_covariance.py:165: RuntimeWarning: Warning! det > previous_det (-4.349382756419332 > -47.291606106241389)\n",
      "  % (det, previous_det), RuntimeWarning)\n",
      "/home/kate/anaconda3/lib/python3.7/site-packages/sklearn/covariance/robust_covariance.py:165: RuntimeWarning: Warning! det > previous_det (-12.695496611446533 > -31.949163655593868)\n",
      "  % (det, previous_det), RuntimeWarning)\n",
      "/home/kate/anaconda3/lib/python3.7/site-packages/sklearn/covariance/robust_covariance.py:165: RuntimeWarning: Warning! det > previous_det (-14.208941590733607 > -22.622967826622865)\n",
      "  % (det, previous_det), RuntimeWarning)\n"
     ]
    },
    {
     "name": "stderr",
     "output_type": "stream",
     "text": [
      "/home/kate/anaconda3/lib/python3.7/site-packages/sklearn/covariance/robust_covariance.py:165: RuntimeWarning: Warning! det > previous_det (-17.781519868488854 > -20.677233909016415)\n",
      "  % (det, previous_det), RuntimeWarning)\n",
      "/home/kate/anaconda3/lib/python3.7/site-packages/sklearn/covariance/robust_covariance.py:165: RuntimeWarning: Warning! det > previous_det (-18.841330208612593 > -29.937699450671154)\n",
      "  % (det, previous_det), RuntimeWarning)\n",
      "/home/kate/anaconda3/lib/python3.7/site-packages/sklearn/covariance/robust_covariance.py:165: RuntimeWarning: Warning! det > previous_det (-16.689231855894160 > -22.130262578454552)\n",
      "  % (det, previous_det), RuntimeWarning)\n",
      "/home/kate/anaconda3/lib/python3.7/site-packages/sklearn/covariance/robust_covariance.py:165: RuntimeWarning: Warning! det > previous_det (-6.933326687060667 > -29.673542966362032)\n",
      "  % (det, previous_det), RuntimeWarning)\n",
      "/home/kate/anaconda3/lib/python3.7/site-packages/sklearn/covariance/robust_covariance.py:165: RuntimeWarning: Warning! det > previous_det (-18.418631222649086 > -21.331816898934996)\n",
      "  % (det, previous_det), RuntimeWarning)\n",
      "/home/kate/anaconda3/lib/python3.7/site-packages/sklearn/covariance/robust_covariance.py:165: RuntimeWarning: Warning! det > previous_det (-11.811518674283981 > -22.353721431709062)\n",
      "  % (det, previous_det), RuntimeWarning)\n",
      "/home/kate/anaconda3/lib/python3.7/site-packages/sklearn/covariance/robust_covariance.py:165: RuntimeWarning: Warning! det > previous_det (-18.370014765986916 > -20.827118565225380)\n",
      "  % (det, previous_det), RuntimeWarning)\n",
      "/home/kate/anaconda3/lib/python3.7/site-packages/sklearn/covariance/robust_covariance.py:165: RuntimeWarning: Warning! det > previous_det (-11.289064396338572 > -19.906995556827557)\n",
      "  % (det, previous_det), RuntimeWarning)\n",
      "/home/kate/anaconda3/lib/python3.7/site-packages/sklearn/covariance/robust_covariance.py:165: RuntimeWarning: Warning! det > previous_det (-5.322337714689681 > -46.683799867331430)\n",
      "  % (det, previous_det), RuntimeWarning)\n",
      "/home/kate/anaconda3/lib/python3.7/site-packages/sklearn/covariance/robust_covariance.py:165: RuntimeWarning: Warning! det > previous_det (-22.054581849920613 > -25.080742195608906)\n",
      "  % (det, previous_det), RuntimeWarning)\n",
      "/home/kate/anaconda3/lib/python3.7/site-packages/sklearn/covariance/robust_covariance.py:165: RuntimeWarning: Warning! det > previous_det (-20.245138550654286 > -26.295751197650226)\n",
      "  % (det, previous_det), RuntimeWarning)\n",
      "/home/kate/anaconda3/lib/python3.7/site-packages/sklearn/covariance/robust_covariance.py:165: RuntimeWarning: Warning! det > previous_det (-19.815620697837524 > -25.354594017463519)\n",
      "  % (det, previous_det), RuntimeWarning)\n",
      "/home/kate/anaconda3/lib/python3.7/site-packages/sklearn/covariance/robust_covariance.py:165: RuntimeWarning: Warning! det > previous_det (-11.673480472401405 > -24.176041868066164)\n",
      "  % (det, previous_det), RuntimeWarning)\n",
      "/home/kate/anaconda3/lib/python3.7/site-packages/sklearn/covariance/robust_covariance.py:165: RuntimeWarning: Warning! det > previous_det (-20.000917664495091 > -28.290431329990938)\n",
      "  % (det, previous_det), RuntimeWarning)\n",
      "/home/kate/anaconda3/lib/python3.7/site-packages/sklearn/covariance/robust_covariance.py:165: RuntimeWarning: Warning! det > previous_det (-16.665092297126218 > -31.420445205722711)\n",
      "  % (det, previous_det), RuntimeWarning)\n",
      "/home/kate/anaconda3/lib/python3.7/site-packages/sklearn/covariance/robust_covariance.py:165: RuntimeWarning: Warning! det > previous_det (-6.057364083383580 > -44.765060991853403)\n",
      "  % (det, previous_det), RuntimeWarning)\n",
      "/home/kate/anaconda3/lib/python3.7/site-packages/sklearn/covariance/robust_covariance.py:165: RuntimeWarning: Warning! det > previous_det (-7.696917439900681 > -43.233090501219102)\n",
      "  % (det, previous_det), RuntimeWarning)\n",
      "/home/kate/anaconda3/lib/python3.7/site-packages/sklearn/covariance/robust_covariance.py:165: RuntimeWarning: Warning! det > previous_det (-5.092912754666883 > -31.320815915563031)\n",
      "  % (det, previous_det), RuntimeWarning)\n",
      "/home/kate/anaconda3/lib/python3.7/site-packages/sklearn/covariance/robust_covariance.py:165: RuntimeWarning: Warning! det > previous_det (-19.609893022135722 > -27.611333305764887)\n",
      "  % (det, previous_det), RuntimeWarning)\n",
      "/home/kate/anaconda3/lib/python3.7/site-packages/sklearn/covariance/robust_covariance.py:165: RuntimeWarning: Warning! det > previous_det (-10.112867891640805 > -25.361475906606746)\n",
      "  % (det, previous_det), RuntimeWarning)\n",
      "/home/kate/anaconda3/lib/python3.7/site-packages/sklearn/covariance/robust_covariance.py:165: RuntimeWarning: Warning! det > previous_det (-8.623599265849094 > -23.992459879870108)\n",
      "  % (det, previous_det), RuntimeWarning)\n",
      "/home/kate/anaconda3/lib/python3.7/site-packages/sklearn/covariance/robust_covariance.py:165: RuntimeWarning: Warning! det > previous_det (-11.053067175521315 > -24.583268702574177)\n",
      "  % (det, previous_det), RuntimeWarning)\n",
      "/home/kate/anaconda3/lib/python3.7/site-packages/sklearn/covariance/robust_covariance.py:165: RuntimeWarning: Warning! det > previous_det (-14.587926571192227 > -30.569711814242641)\n",
      "  % (det, previous_det), RuntimeWarning)\n",
      "/home/kate/anaconda3/lib/python3.7/site-packages/sklearn/covariance/robust_covariance.py:165: RuntimeWarning: Warning! det > previous_det (-15.596245788717647 > -24.281217998838624)\n",
      "  % (det, previous_det), RuntimeWarning)\n",
      "/home/kate/anaconda3/lib/python3.7/site-packages/sklearn/covariance/robust_covariance.py:165: RuntimeWarning: Warning! det > previous_det (-5.171305455507408 > -19.672883644676155)\n",
      "  % (det, previous_det), RuntimeWarning)\n",
      "/home/kate/anaconda3/lib/python3.7/site-packages/sklearn/covariance/robust_covariance.py:165: RuntimeWarning: Warning! det > previous_det (-12.249572361615805 > -18.827370370108497)\n",
      "  % (det, previous_det), RuntimeWarning)\n",
      "/home/kate/anaconda3/lib/python3.7/site-packages/sklearn/covariance/robust_covariance.py:165: RuntimeWarning: Warning! det > previous_det (-16.252545557057388 > -19.131597267027193)\n",
      "  % (det, previous_det), RuntimeWarning)\n",
      "/home/kate/anaconda3/lib/python3.7/site-packages/sklearn/covariance/robust_covariance.py:165: RuntimeWarning: Warning! det > previous_det (-7.603593259694764 > -27.684515457681336)\n",
      "  % (det, previous_det), RuntimeWarning)\n",
      "/home/kate/anaconda3/lib/python3.7/site-packages/sklearn/covariance/robust_covariance.py:165: RuntimeWarning: Warning! det > previous_det (-20.420682309298833 > -27.751599125638677)\n",
      "  % (det, previous_det), RuntimeWarning)\n",
      "/home/kate/anaconda3/lib/python3.7/site-packages/sklearn/covariance/robust_covariance.py:165: RuntimeWarning: Warning! det > previous_det (-11.775494948464390 > -24.918448815299435)\n",
      "  % (det, previous_det), RuntimeWarning)\n",
      "/home/kate/anaconda3/lib/python3.7/site-packages/sklearn/covariance/robust_covariance.py:165: RuntimeWarning: Warning! det > previous_det (-13.711127785904800 > -22.988181787710545)\n",
      "  % (det, previous_det), RuntimeWarning)\n",
      "/home/kate/anaconda3/lib/python3.7/site-packages/sklearn/covariance/robust_covariance.py:165: RuntimeWarning: Warning! det > previous_det (-23.009417549083942 > -25.172693116619151)\n",
      "  % (det, previous_det), RuntimeWarning)\n",
      "/home/kate/anaconda3/lib/python3.7/site-packages/sklearn/covariance/robust_covariance.py:165: RuntimeWarning: Warning! det > previous_det (-23.913366534726869 > -25.387281240261203)\n",
      "  % (det, previous_det), RuntimeWarning)\n",
      "/home/kate/anaconda3/lib/python3.7/site-packages/sklearn/covariance/robust_covariance.py:165: RuntimeWarning: Warning! det > previous_det (-5.039957989920421 > -43.207526510640207)\n",
      "  % (det, previous_det), RuntimeWarning)\n",
      "/home/kate/anaconda3/lib/python3.7/site-packages/sklearn/covariance/robust_covariance.py:165: RuntimeWarning: Warning! det > previous_det (-21.175441612416730 > -29.903301538142895)\n",
      "  % (det, previous_det), RuntimeWarning)\n",
      "/home/kate/anaconda3/lib/python3.7/site-packages/sklearn/covariance/robust_covariance.py:165: RuntimeWarning: Warning! det > previous_det (-7.470763269155963 > -26.613337971497465)\n",
      "  % (det, previous_det), RuntimeWarning)\n",
      "/home/kate/anaconda3/lib/python3.7/site-packages/sklearn/covariance/robust_covariance.py:165: RuntimeWarning: Warning! det > previous_det (-6.767175953326084 > -26.230900652662392)\n",
      "  % (det, previous_det), RuntimeWarning)\n",
      "/home/kate/anaconda3/lib/python3.7/site-packages/sklearn/covariance/robust_covariance.py:165: RuntimeWarning: Warning! det > previous_det (-10.129992319738221 > -19.053899667459902)\n",
      "  % (det, previous_det), RuntimeWarning)\n",
      "/home/kate/anaconda3/lib/python3.7/site-packages/sklearn/covariance/robust_covariance.py:165: RuntimeWarning: Warning! det > previous_det (-26.146586012935590 > -26.425849986361065)\n",
      "  % (det, previous_det), RuntimeWarning)\n",
      "/home/kate/anaconda3/lib/python3.7/site-packages/sklearn/covariance/robust_covariance.py:165: RuntimeWarning: Warning! det > previous_det (-12.203451653599121 > -23.809595955303706)\n",
      "  % (det, previous_det), RuntimeWarning)\n"
     ]
    },
    {
     "name": "stderr",
     "output_type": "stream",
     "text": [
      "/home/kate/anaconda3/lib/python3.7/site-packages/sklearn/covariance/robust_covariance.py:165: RuntimeWarning: Warning! det > previous_det (-8.614370126897144 > -25.576123928802698)\n",
      "  % (det, previous_det), RuntimeWarning)\n",
      "/home/kate/anaconda3/lib/python3.7/site-packages/sklearn/covariance/robust_covariance.py:165: RuntimeWarning: Warning! det > previous_det (-23.365371608721276 > -27.285922539620763)\n",
      "  % (det, previous_det), RuntimeWarning)\n",
      "/home/kate/anaconda3/lib/python3.7/site-packages/sklearn/covariance/robust_covariance.py:165: RuntimeWarning: Warning! det > previous_det (-8.890612572527653 > -36.386613203538772)\n",
      "  % (det, previous_det), RuntimeWarning)\n",
      "/home/kate/anaconda3/lib/python3.7/site-packages/sklearn/covariance/robust_covariance.py:165: RuntimeWarning: Warning! det > previous_det (-16.507186911267073 > -25.384740196444582)\n",
      "  % (det, previous_det), RuntimeWarning)\n",
      "/home/kate/anaconda3/lib/python3.7/site-packages/sklearn/covariance/robust_covariance.py:165: RuntimeWarning: Warning! det > previous_det (-16.370923524597174 > -24.591658634832481)\n",
      "  % (det, previous_det), RuntimeWarning)\n",
      "/home/kate/anaconda3/lib/python3.7/site-packages/sklearn/covariance/robust_covariance.py:165: RuntimeWarning: Warning! det > previous_det (-17.863706343202804 > -35.636193522426971)\n",
      "  % (det, previous_det), RuntimeWarning)\n",
      "/home/kate/anaconda3/lib/python3.7/site-packages/sklearn/covariance/robust_covariance.py:165: RuntimeWarning: Warning! det > previous_det (-15.614263620912004 > -36.421498785343410)\n",
      "  % (det, previous_det), RuntimeWarning)\n",
      "/home/kate/anaconda3/lib/python3.7/site-packages/sklearn/covariance/robust_covariance.py:165: RuntimeWarning: Warning! det > previous_det (-23.750645664627228 > -23.914792785544677)\n",
      "  % (det, previous_det), RuntimeWarning)\n",
      "/home/kate/anaconda3/lib/python3.7/site-packages/sklearn/covariance/robust_covariance.py:165: RuntimeWarning: Warning! det > previous_det (-9.786895099175844 > -41.156350604175884)\n",
      "  % (det, previous_det), RuntimeWarning)\n",
      "/home/kate/anaconda3/lib/python3.7/site-packages/sklearn/covariance/robust_covariance.py:165: RuntimeWarning: Warning! det > previous_det (-7.408823483567421 > -73.983715110548616)\n",
      "  % (det, previous_det), RuntimeWarning)\n",
      "/home/kate/anaconda3/lib/python3.7/site-packages/sklearn/covariance/robust_covariance.py:165: RuntimeWarning: Warning! det > previous_det (-15.804242797412895 > -44.253453689430579)\n",
      "  % (det, previous_det), RuntimeWarning)\n",
      "/home/kate/anaconda3/lib/python3.7/site-packages/sklearn/covariance/robust_covariance.py:165: RuntimeWarning: Warning! det > previous_det (-5.405402467470966 > -46.998028514956843)\n",
      "  % (det, previous_det), RuntimeWarning)\n",
      "/home/kate/anaconda3/lib/python3.7/site-packages/sklearn/covariance/robust_covariance.py:165: RuntimeWarning: Warning! det > previous_det (-21.600702596444773 > -26.407057171769857)\n",
      "  % (det, previous_det), RuntimeWarning)\n",
      "/home/kate/anaconda3/lib/python3.7/site-packages/sklearn/covariance/robust_covariance.py:165: RuntimeWarning: Warning! det > previous_det (-10.824222116316459 > -27.273875951263356)\n",
      "  % (det, previous_det), RuntimeWarning)\n",
      "/home/kate/anaconda3/lib/python3.7/site-packages/sklearn/covariance/robust_covariance.py:165: RuntimeWarning: Warning! det > previous_det (-20.645071256323444 > -22.941752528004692)\n",
      "  % (det, previous_det), RuntimeWarning)\n",
      "/home/kate/anaconda3/lib/python3.7/site-packages/sklearn/covariance/robust_covariance.py:165: RuntimeWarning: Warning! det > previous_det (-18.368337909053427 > -32.661568271246779)\n",
      "  % (det, previous_det), RuntimeWarning)\n",
      "/home/kate/anaconda3/lib/python3.7/site-packages/sklearn/covariance/robust_covariance.py:165: RuntimeWarning: Warning! det > previous_det (-15.065574488737813 > -17.721457852231676)\n",
      "  % (det, previous_det), RuntimeWarning)\n",
      "/home/kate/anaconda3/lib/python3.7/site-packages/sklearn/covariance/robust_covariance.py:165: RuntimeWarning: Warning! det > previous_det (-10.334201045453216 > -38.455416866639197)\n",
      "  % (det, previous_det), RuntimeWarning)\n",
      "/home/kate/anaconda3/lib/python3.7/site-packages/sklearn/covariance/robust_covariance.py:165: RuntimeWarning: Warning! det > previous_det (-21.481101228985665 > -27.122693136008806)\n",
      "  % (det, previous_det), RuntimeWarning)\n",
      "/home/kate/anaconda3/lib/python3.7/site-packages/sklearn/covariance/robust_covariance.py:165: RuntimeWarning: Warning! det > previous_det (-11.546863920274854 > -75.728005965219552)\n",
      "  % (det, previous_det), RuntimeWarning)\n",
      "/home/kate/anaconda3/lib/python3.7/site-packages/sklearn/covariance/robust_covariance.py:165: RuntimeWarning: Warning! det > previous_det (-11.769097605510574 > -24.657504324017882)\n",
      "  % (det, previous_det), RuntimeWarning)\n",
      "/home/kate/anaconda3/lib/python3.7/site-packages/sklearn/covariance/robust_covariance.py:165: RuntimeWarning: Warning! det > previous_det (-7.698662928625323 > -26.295130191941237)\n",
      "  % (det, previous_det), RuntimeWarning)\n",
      "/home/kate/anaconda3/lib/python3.7/site-packages/sklearn/covariance/robust_covariance.py:165: RuntimeWarning: Warning! det > previous_det (-17.179062044205974 > -27.453786998699350)\n",
      "  % (det, previous_det), RuntimeWarning)\n",
      "/home/kate/anaconda3/lib/python3.7/site-packages/sklearn/covariance/robust_covariance.py:165: RuntimeWarning: Warning! det > previous_det (-6.053850568926293 > -43.915495598318699)\n",
      "  % (det, previous_det), RuntimeWarning)\n",
      "/home/kate/anaconda3/lib/python3.7/site-packages/sklearn/covariance/robust_covariance.py:165: RuntimeWarning: Warning! det > previous_det (-13.262040764508312 > -39.000692705640340)\n",
      "  % (det, previous_det), RuntimeWarning)\n",
      "/home/kate/anaconda3/lib/python3.7/site-packages/sklearn/covariance/robust_covariance.py:165: RuntimeWarning: Warning! det > previous_det (-6.717416889476637 > -45.897474571544471)\n",
      "  % (det, previous_det), RuntimeWarning)\n",
      "/home/kate/anaconda3/lib/python3.7/site-packages/sklearn/covariance/robust_covariance.py:165: RuntimeWarning: Warning! det > previous_det (-10.143374675019206 > -43.699255424906276)\n",
      "  % (det, previous_det), RuntimeWarning)\n",
      "/home/kate/anaconda3/lib/python3.7/site-packages/sklearn/covariance/robust_covariance.py:165: RuntimeWarning: Warning! det > previous_det (-9.230550239319697 > -40.949356361454477)\n",
      "  % (det, previous_det), RuntimeWarning)\n",
      "/home/kate/anaconda3/lib/python3.7/site-packages/sklearn/covariance/robust_covariance.py:165: RuntimeWarning: Warning! det > previous_det (-5.157909857257260 > -73.253821038666942)\n",
      "  % (det, previous_det), RuntimeWarning)\n",
      "/home/kate/anaconda3/lib/python3.7/site-packages/sklearn/covariance/robust_covariance.py:165: RuntimeWarning: Warning! det > previous_det (-13.097836660435437 > -27.154671665132017)\n",
      "  % (det, previous_det), RuntimeWarning)\n",
      "/home/kate/anaconda3/lib/python3.7/site-packages/sklearn/covariance/robust_covariance.py:165: RuntimeWarning: Warning! det > previous_det (-18.893976664698258 > -19.682198121270979)\n",
      "  % (det, previous_det), RuntimeWarning)\n",
      "/home/kate/anaconda3/lib/python3.7/site-packages/sklearn/covariance/robust_covariance.py:165: RuntimeWarning: Warning! det > previous_det (-21.538135535824235 > -26.834592921458132)\n",
      "  % (det, previous_det), RuntimeWarning)\n",
      "/home/kate/anaconda3/lib/python3.7/site-packages/sklearn/covariance/robust_covariance.py:165: RuntimeWarning: Warning! det > previous_det (-17.756194293108948 > -18.416829598101806)\n",
      "  % (det, previous_det), RuntimeWarning)\n",
      "/home/kate/anaconda3/lib/python3.7/site-packages/sklearn/covariance/robust_covariance.py:165: RuntimeWarning: Warning! det > previous_det (-5.762797406499298 > -18.494166130101107)\n",
      "  % (det, previous_det), RuntimeWarning)\n",
      "/home/kate/anaconda3/lib/python3.7/site-packages/sklearn/covariance/robust_covariance.py:165: RuntimeWarning: Warning! det > previous_det (-17.549341146264730 > -19.366825441889887)\n",
      "  % (det, previous_det), RuntimeWarning)\n",
      "/home/kate/anaconda3/lib/python3.7/site-packages/sklearn/covariance/robust_covariance.py:165: RuntimeWarning: Warning! det > previous_det (-5.107044561152243 > -26.994361574456111)\n",
      "  % (det, previous_det), RuntimeWarning)\n",
      "/home/kate/anaconda3/lib/python3.7/site-packages/sklearn/covariance/robust_covariance.py:165: RuntimeWarning: Warning! det > previous_det (-8.040851464689096 > -25.657702026106559)\n",
      "  % (det, previous_det), RuntimeWarning)\n",
      "/home/kate/anaconda3/lib/python3.7/site-packages/sklearn/covariance/robust_covariance.py:165: RuntimeWarning: Warning! det > previous_det (-10.628481108053176 > -42.530463945069819)\n",
      "  % (det, previous_det), RuntimeWarning)\n",
      "/home/kate/anaconda3/lib/python3.7/site-packages/sklearn/covariance/robust_covariance.py:165: RuntimeWarning: Warning! det > previous_det (-11.949921059911386 > -39.516638524454940)\n",
      "  % (det, previous_det), RuntimeWarning)\n",
      "/home/kate/anaconda3/lib/python3.7/site-packages/sklearn/covariance/robust_covariance.py:165: RuntimeWarning: Warning! det > previous_det (-11.402103032000454 > -34.667756544793598)\n",
      "  % (det, previous_det), RuntimeWarning)\n",
      "/home/kate/anaconda3/lib/python3.7/site-packages/sklearn/covariance/robust_covariance.py:165: RuntimeWarning: Warning! det > previous_det (-23.589737227692090 > -25.502635416418919)\n",
      "  % (det, previous_det), RuntimeWarning)\n",
      "/home/kate/anaconda3/lib/python3.7/site-packages/sklearn/covariance/robust_covariance.py:165: RuntimeWarning: Warning! det > previous_det (-19.171866384941087 > -27.882054162782023)\n",
      "  % (det, previous_det), RuntimeWarning)\n",
      "/home/kate/anaconda3/lib/python3.7/site-packages/sklearn/covariance/robust_covariance.py:165: RuntimeWarning: Warning! det > previous_det (-16.243480734567243 > -40.508282614662477)\n",
      "  % (det, previous_det), RuntimeWarning)\n",
      "/home/kate/anaconda3/lib/python3.7/site-packages/sklearn/covariance/robust_covariance.py:165: RuntimeWarning: Warning! det > previous_det (-11.922405439888148 > -24.831539893827284)\n",
      "  % (det, previous_det), RuntimeWarning)\n",
      "/home/kate/anaconda3/lib/python3.7/site-packages/sklearn/covariance/robust_covariance.py:165: RuntimeWarning: Warning! det > previous_det (-8.243748068370506 > -29.544877405754708)\n",
      "  % (det, previous_det), RuntimeWarning)\n",
      "/home/kate/anaconda3/lib/python3.7/site-packages/sklearn/covariance/robust_covariance.py:165: RuntimeWarning: Warning! det > previous_det (-15.308546818489264 > -28.466727056690456)\n",
      "  % (det, previous_det), RuntimeWarning)\n",
      "/home/kate/anaconda3/lib/python3.7/site-packages/sklearn/covariance/robust_covariance.py:165: RuntimeWarning: Warning! det > previous_det (-13.444140027277971 > -38.789169947066348)\n",
      "  % (det, previous_det), RuntimeWarning)\n",
      "/home/kate/anaconda3/lib/python3.7/site-packages/sklearn/covariance/robust_covariance.py:165: RuntimeWarning: Warning! det > previous_det (-6.438230354302764 > -72.880865942601858)\n",
      "  % (det, previous_det), RuntimeWarning)\n",
      "/home/kate/anaconda3/lib/python3.7/site-packages/sklearn/covariance/robust_covariance.py:165: RuntimeWarning: Warning! det > previous_det (-14.155237494215955 > -40.734700027528802)\n",
      "  % (det, previous_det), RuntimeWarning)\n",
      "/home/kate/anaconda3/lib/python3.7/site-packages/sklearn/covariance/robust_covariance.py:165: RuntimeWarning: Warning! det > previous_det (-8.381018479358028 > -41.044671916683740)\n",
      "  % (det, previous_det), RuntimeWarning)\n",
      "/home/kate/anaconda3/lib/python3.7/site-packages/sklearn/covariance/robust_covariance.py:165: RuntimeWarning: Warning! det > previous_det (-12.002661338747689 > -41.749260917372240)\n",
      "  % (det, previous_det), RuntimeWarning)\n",
      "/home/kate/anaconda3/lib/python3.7/site-packages/sklearn/covariance/robust_covariance.py:165: RuntimeWarning: Warning! det > previous_det (-11.658580700594463 > -39.075383431860907)\n",
      "  % (det, previous_det), RuntimeWarning)\n",
      "/home/kate/anaconda3/lib/python3.7/site-packages/sklearn/covariance/robust_covariance.py:165: RuntimeWarning: Warning! det > previous_det (-11.945100579571756 > -24.558177523722037)\n",
      "  % (det, previous_det), RuntimeWarning)\n",
      "/home/kate/anaconda3/lib/python3.7/site-packages/sklearn/covariance/robust_covariance.py:165: RuntimeWarning: Warning! det > previous_det (-9.974872507050625 > -41.551917002383803)\n",
      "  % (det, previous_det), RuntimeWarning)\n",
      "/home/kate/anaconda3/lib/python3.7/site-packages/sklearn/covariance/robust_covariance.py:165: RuntimeWarning: Warning! det > previous_det (-8.642532068762257 > -41.970184441432963)\n",
      "  % (det, previous_det), RuntimeWarning)\n",
      "/home/kate/anaconda3/lib/python3.7/site-packages/sklearn/covariance/robust_covariance.py:165: RuntimeWarning: Warning! det > previous_det (-3.899691224612472 > -45.531778681610845)\n",
      "  % (det, previous_det), RuntimeWarning)\n",
      "/home/kate/anaconda3/lib/python3.7/site-packages/sklearn/covariance/robust_covariance.py:165: RuntimeWarning: Warning! det > previous_det (-3.203824397162716 > -45.284691253189003)\n",
      "  % (det, previous_det), RuntimeWarning)\n",
      "/home/kate/anaconda3/lib/python3.7/site-packages/sklearn/covariance/robust_covariance.py:165: RuntimeWarning: Warning! det > previous_det (-5.207504705833916 > -46.628450241991352)\n",
      "  % (det, previous_det), RuntimeWarning)\n"
     ]
    },
    {
     "name": "stderr",
     "output_type": "stream",
     "text": [
      "/home/kate/anaconda3/lib/python3.7/site-packages/sklearn/covariance/robust_covariance.py:165: RuntimeWarning: Warning! det > previous_det (-19.071721183305620 > -29.082852311205379)\n",
      "  % (det, previous_det), RuntimeWarning)\n",
      "/home/kate/anaconda3/lib/python3.7/site-packages/sklearn/covariance/robust_covariance.py:165: RuntimeWarning: Warning! det > previous_det (-17.846430308029561 > -31.936124318480129)\n",
      "  % (det, previous_det), RuntimeWarning)\n",
      "/home/kate/anaconda3/lib/python3.7/site-packages/sklearn/covariance/robust_covariance.py:165: RuntimeWarning: Warning! det > previous_det (-21.468106641651787 > -26.412111049257863)\n",
      "  % (det, previous_det), RuntimeWarning)\n",
      "/home/kate/anaconda3/lib/python3.7/site-packages/sklearn/covariance/robust_covariance.py:165: RuntimeWarning: Warning! det > previous_det (-18.611015666244047 > -29.457282959945882)\n",
      "  % (det, previous_det), RuntimeWarning)\n",
      "/home/kate/anaconda3/lib/python3.7/site-packages/sklearn/covariance/robust_covariance.py:165: RuntimeWarning: Warning! det > previous_det (-7.789376347166654 > -45.393340766304604)\n",
      "  % (det, previous_det), RuntimeWarning)\n",
      "/home/kate/anaconda3/lib/python3.7/site-packages/sklearn/covariance/robust_covariance.py:165: RuntimeWarning: Warning! det > previous_det (-15.363386402737484 > -34.566965947981842)\n",
      "  % (det, previous_det), RuntimeWarning)\n",
      "/home/kate/anaconda3/lib/python3.7/site-packages/sklearn/covariance/robust_covariance.py:165: RuntimeWarning: Warning! det > previous_det (-10.442000775413453 > -26.228668502068981)\n",
      "  % (det, previous_det), RuntimeWarning)\n",
      "/home/kate/anaconda3/lib/python3.7/site-packages/sklearn/covariance/robust_covariance.py:165: RuntimeWarning: Warning! det > previous_det (-4.120651239889111 > -48.094917241787691)\n",
      "  % (det, previous_det), RuntimeWarning)\n",
      "/home/kate/anaconda3/lib/python3.7/site-packages/sklearn/covariance/robust_covariance.py:165: RuntimeWarning: Warning! det > previous_det (-21.934662674586036 > -25.584237170662576)\n",
      "  % (det, previous_det), RuntimeWarning)\n",
      "/home/kate/anaconda3/lib/python3.7/site-packages/sklearn/covariance/robust_covariance.py:165: RuntimeWarning: Warning! det > previous_det (-12.691187053013405 > -36.676318451330431)\n",
      "  % (det, previous_det), RuntimeWarning)\n",
      "/home/kate/anaconda3/lib/python3.7/site-packages/sklearn/covariance/robust_covariance.py:165: RuntimeWarning: Warning! det > previous_det (-21.556025813966343 > -22.701631986102630)\n",
      "  % (det, previous_det), RuntimeWarning)\n",
      "/home/kate/anaconda3/lib/python3.7/site-packages/sklearn/covariance/robust_covariance.py:165: RuntimeWarning: Warning! det > previous_det (-11.001152379644289 > -24.274951894604644)\n",
      "  % (det, previous_det), RuntimeWarning)\n",
      "/home/kate/anaconda3/lib/python3.7/site-packages/sklearn/covariance/robust_covariance.py:165: RuntimeWarning: Warning! det > previous_det (-15.203831153578234 > -23.604308430765425)\n",
      "  % (det, previous_det), RuntimeWarning)\n",
      "/home/kate/anaconda3/lib/python3.7/site-packages/sklearn/covariance/robust_covariance.py:165: RuntimeWarning: Warning! det > previous_det (-10.797318040784599 > -26.529445427465848)\n",
      "  % (det, previous_det), RuntimeWarning)\n",
      "/home/kate/anaconda3/lib/python3.7/site-packages/sklearn/covariance/robust_covariance.py:165: RuntimeWarning: Warning! det > previous_det (-19.903026168018723 > -28.106806724477199)\n",
      "  % (det, previous_det), RuntimeWarning)\n",
      "/home/kate/anaconda3/lib/python3.7/site-packages/sklearn/covariance/robust_covariance.py:165: RuntimeWarning: Warning! det > previous_det (-6.316906406485910 > -28.624447681585849)\n",
      "  % (det, previous_det), RuntimeWarning)\n",
      "/home/kate/anaconda3/lib/python3.7/site-packages/sklearn/covariance/robust_covariance.py:165: RuntimeWarning: Warning! det > previous_det (-21.310545691060479 > -26.712368172955397)\n",
      "  % (det, previous_det), RuntimeWarning)\n",
      "/home/kate/anaconda3/lib/python3.7/site-packages/sklearn/covariance/robust_covariance.py:165: RuntimeWarning: Warning! det > previous_det (-19.612807233917625 > -29.259520732626260)\n",
      "  % (det, previous_det), RuntimeWarning)\n",
      "/home/kate/anaconda3/lib/python3.7/site-packages/sklearn/covariance/robust_covariance.py:165: RuntimeWarning: Warning! det > previous_det (-6.141945623881617 > -27.901303916817636)\n",
      "  % (det, previous_det), RuntimeWarning)\n",
      "/home/kate/anaconda3/lib/python3.7/site-packages/sklearn/covariance/robust_covariance.py:165: RuntimeWarning: Warning! det > previous_det (-5.986107646812345 > -30.691276332769714)\n",
      "  % (det, previous_det), RuntimeWarning)\n",
      "/home/kate/anaconda3/lib/python3.7/site-packages/sklearn/covariance/robust_covariance.py:165: RuntimeWarning: Warning! det > previous_det (-11.936973254201236 > -40.271099205341308)\n",
      "  % (det, previous_det), RuntimeWarning)\n",
      "/home/kate/anaconda3/lib/python3.7/site-packages/sklearn/covariance/robust_covariance.py:165: RuntimeWarning: Warning! det > previous_det (-11.607878236990377 > -25.495598665885346)\n",
      "  % (det, previous_det), RuntimeWarning)\n",
      "/home/kate/anaconda3/lib/python3.7/site-packages/sklearn/covariance/robust_covariance.py:165: RuntimeWarning: Warning! det > previous_det (-27.744083392387704 > -36.475597779245156)\n",
      "  % (det, previous_det), RuntimeWarning)\n",
      "/home/kate/anaconda3/lib/python3.7/site-packages/sklearn/covariance/robust_covariance.py:165: RuntimeWarning: Warning! det > previous_det (-9.218983390351571 > -26.308294878478364)\n",
      "  % (det, previous_det), RuntimeWarning)\n",
      "/home/kate/anaconda3/lib/python3.7/site-packages/sklearn/covariance/robust_covariance.py:165: RuntimeWarning: Warning! det > previous_det (-2.529135077638810 > -30.244315323549841)\n",
      "  % (det, previous_det), RuntimeWarning)\n",
      "/home/kate/anaconda3/lib/python3.7/site-packages/sklearn/covariance/robust_covariance.py:165: RuntimeWarning: Warning! det > previous_det (-12.891138941135550 > -24.042650043641085)\n",
      "  % (det, previous_det), RuntimeWarning)\n",
      "/home/kate/anaconda3/lib/python3.7/site-packages/sklearn/covariance/robust_covariance.py:165: RuntimeWarning: Warning! det > previous_det (-22.448078437112226 > -26.392721890019985)\n",
      "  % (det, previous_det), RuntimeWarning)\n",
      "/home/kate/anaconda3/lib/python3.7/site-packages/sklearn/covariance/robust_covariance.py:165: RuntimeWarning: Warning! det > previous_det (-10.665981511847725 > -44.484218036069365)\n",
      "  % (det, previous_det), RuntimeWarning)\n",
      "/home/kate/anaconda3/lib/python3.7/site-packages/sklearn/covariance/robust_covariance.py:165: RuntimeWarning: Warning! det > previous_det (-2.317282115633412 > -47.377622727520830)\n",
      "  % (det, previous_det), RuntimeWarning)\n",
      "/home/kate/anaconda3/lib/python3.7/site-packages/sklearn/covariance/robust_covariance.py:165: RuntimeWarning: Warning! det > previous_det (-24.090633823960648 > -26.216922475991069)\n",
      "  % (det, previous_det), RuntimeWarning)\n",
      "/home/kate/anaconda3/lib/python3.7/site-packages/sklearn/covariance/robust_covariance.py:165: RuntimeWarning: Warning! det > previous_det (-7.018420701351363 > -30.397165465818478)\n",
      "  % (det, previous_det), RuntimeWarning)\n",
      "/home/kate/anaconda3/lib/python3.7/site-packages/sklearn/covariance/robust_covariance.py:165: RuntimeWarning: Warning! det > previous_det (-7.615827773389247 > -42.341870169893980)\n",
      "  % (det, previous_det), RuntimeWarning)\n",
      "/home/kate/anaconda3/lib/python3.7/site-packages/sklearn/covariance/robust_covariance.py:165: RuntimeWarning: Warning! det > previous_det (-9.784141559562062 > -47.363111153497229)\n",
      "  % (det, previous_det), RuntimeWarning)\n",
      "/home/kate/anaconda3/lib/python3.7/site-packages/sklearn/covariance/robust_covariance.py:165: RuntimeWarning: Warning! det > previous_det (-10.852933693899494 > -28.996619730107390)\n",
      "  % (det, previous_det), RuntimeWarning)\n",
      "/home/kate/anaconda3/lib/python3.7/site-packages/sklearn/covariance/robust_covariance.py:165: RuntimeWarning: Warning! det > previous_det (-8.967263838787032 > -37.828056960636125)\n",
      "  % (det, previous_det), RuntimeWarning)\n",
      "/home/kate/anaconda3/lib/python3.7/site-packages/sklearn/covariance/robust_covariance.py:165: RuntimeWarning: Warning! det > previous_det (-8.812928193418617 > -74.912452120871194)\n",
      "  % (det, previous_det), RuntimeWarning)\n",
      "/home/kate/anaconda3/lib/python3.7/site-packages/sklearn/covariance/robust_covariance.py:165: RuntimeWarning: Warning! det > previous_det (-6.288148641398577 > -41.439724167095832)\n",
      "  % (det, previous_det), RuntimeWarning)\n",
      "/home/kate/anaconda3/lib/python3.7/site-packages/sklearn/covariance/robust_covariance.py:165: RuntimeWarning: Warning! det > previous_det (-11.433735142907040 > -30.029288262044656)\n",
      "  % (det, previous_det), RuntimeWarning)\n",
      "/home/kate/anaconda3/lib/python3.7/site-packages/sklearn/covariance/robust_covariance.py:165: RuntimeWarning: Warning! det > previous_det (-6.573536722987528 > -43.594644913721730)\n",
      "  % (det, previous_det), RuntimeWarning)\n",
      "/home/kate/anaconda3/lib/python3.7/site-packages/sklearn/covariance/robust_covariance.py:165: RuntimeWarning: Warning! det > previous_det (-6.456811066126852 > -44.365817471283428)\n",
      "  % (det, previous_det), RuntimeWarning)\n",
      "/home/kate/anaconda3/lib/python3.7/site-packages/sklearn/covariance/robust_covariance.py:165: RuntimeWarning: Warning! det > previous_det (-7.803388094953096 > -25.205859344384621)\n",
      "  % (det, previous_det), RuntimeWarning)\n",
      "/home/kate/anaconda3/lib/python3.7/site-packages/sklearn/covariance/robust_covariance.py:165: RuntimeWarning: Warning! det > previous_det (-15.610626102967812 > -23.415282337763220)\n",
      "  % (det, previous_det), RuntimeWarning)\n",
      "/home/kate/anaconda3/lib/python3.7/site-packages/sklearn/covariance/robust_covariance.py:165: RuntimeWarning: Warning! det > previous_det (-18.176977846247155 > -22.166702571108573)\n",
      "  % (det, previous_det), RuntimeWarning)\n",
      "/home/kate/anaconda3/lib/python3.7/site-packages/sklearn/covariance/robust_covariance.py:165: RuntimeWarning: Warning! det > previous_det (-7.621166308343380 > -25.479201700639972)\n",
      "  % (det, previous_det), RuntimeWarning)\n"
     ]
    },
    {
     "name": "stderr",
     "output_type": "stream",
     "text": [
      "/home/kate/anaconda3/lib/python3.7/site-packages/sklearn/covariance/robust_covariance.py:165: RuntimeWarning: Warning! det > previous_det (-21.394883124998596 > -22.799786839823653)\n",
      "  % (det, previous_det), RuntimeWarning)\n",
      "/home/kate/anaconda3/lib/python3.7/site-packages/sklearn/covariance/robust_covariance.py:165: RuntimeWarning: Warning! det > previous_det (-17.891720256140587 > -27.274752009430053)\n",
      "  % (det, previous_det), RuntimeWarning)\n",
      "/home/kate/anaconda3/lib/python3.7/site-packages/sklearn/covariance/robust_covariance.py:165: RuntimeWarning: Warning! det > previous_det (-21.345763427233855 > -25.040431144160593)\n",
      "  % (det, previous_det), RuntimeWarning)\n",
      "/home/kate/anaconda3/lib/python3.7/site-packages/sklearn/covariance/robust_covariance.py:165: RuntimeWarning: Warning! det > previous_det (-13.319087598372422 > -23.431269405130081)\n",
      "  % (det, previous_det), RuntimeWarning)\n",
      "/home/kate/anaconda3/lib/python3.7/site-packages/sklearn/covariance/robust_covariance.py:165: RuntimeWarning: Warning! det > previous_det (-23.599000374665824 > -25.754757164770805)\n",
      "  % (det, previous_det), RuntimeWarning)\n",
      "/home/kate/anaconda3/lib/python3.7/site-packages/sklearn/covariance/robust_covariance.py:165: RuntimeWarning: Warning! det > previous_det (-12.076179597581154 > -23.687932494041682)\n",
      "  % (det, previous_det), RuntimeWarning)\n",
      "/home/kate/anaconda3/lib/python3.7/site-packages/sklearn/covariance/robust_covariance.py:165: RuntimeWarning: Warning! det > previous_det (-17.525451433111130 > -24.412725364361293)\n",
      "  % (det, previous_det), RuntimeWarning)\n",
      "/home/kate/anaconda3/lib/python3.7/site-packages/sklearn/covariance/robust_covariance.py:165: RuntimeWarning: Warning! det > previous_det (-13.545201645374037 > -38.196254204780566)\n",
      "  % (det, previous_det), RuntimeWarning)\n",
      "/home/kate/anaconda3/lib/python3.7/site-packages/sklearn/covariance/robust_covariance.py:165: RuntimeWarning: Warning! det > previous_det (-15.810290735424811 > -19.880763798512231)\n",
      "  % (det, previous_det), RuntimeWarning)\n",
      "/home/kate/anaconda3/lib/python3.7/site-packages/sklearn/covariance/robust_covariance.py:165: RuntimeWarning: Warning! det > previous_det (-18.870625442231486 > -19.354494659552735)\n",
      "  % (det, previous_det), RuntimeWarning)\n",
      "/home/kate/anaconda3/lib/python3.7/site-packages/sklearn/covariance/robust_covariance.py:165: RuntimeWarning: Warning! det > previous_det (-17.248997933093690 > -28.987236440867139)\n",
      "  % (det, previous_det), RuntimeWarning)\n",
      "/home/kate/anaconda3/lib/python3.7/site-packages/sklearn/covariance/robust_covariance.py:165: RuntimeWarning: Warning! det > previous_det (-22.282656883116847 > -22.921339013239109)\n",
      "  % (det, previous_det), RuntimeWarning)\n",
      "/home/kate/anaconda3/lib/python3.7/site-packages/sklearn/covariance/robust_covariance.py:165: RuntimeWarning: Warning! det > previous_det (-16.341869174119708 > -19.799441696701106)\n",
      "  % (det, previous_det), RuntimeWarning)\n",
      "/home/kate/anaconda3/lib/python3.7/site-packages/sklearn/covariance/robust_covariance.py:165: RuntimeWarning: Warning! det > previous_det (-5.782738500707620 > -43.847489492847913)\n",
      "  % (det, previous_det), RuntimeWarning)\n",
      "/home/kate/anaconda3/lib/python3.7/site-packages/sklearn/covariance/robust_covariance.py:165: RuntimeWarning: Warning! det > previous_det (-16.904448864485591 > -21.090976248250321)\n",
      "  % (det, previous_det), RuntimeWarning)\n",
      "/home/kate/anaconda3/lib/python3.7/site-packages/sklearn/covariance/robust_covariance.py:165: RuntimeWarning: Warning! det > previous_det (-10.638471984472520 > -44.455173688938117)\n",
      "  % (det, previous_det), RuntimeWarning)\n",
      "/home/kate/anaconda3/lib/python3.7/site-packages/sklearn/covariance/robust_covariance.py:165: RuntimeWarning: Warning! det > previous_det (-7.521880133213167 > -26.430482349233309)\n",
      "  % (det, previous_det), RuntimeWarning)\n",
      "/home/kate/anaconda3/lib/python3.7/site-packages/sklearn/covariance/robust_covariance.py:165: RuntimeWarning: Warning! det > previous_det (-17.486308878558539 > -27.538396973311272)\n",
      "  % (det, previous_det), RuntimeWarning)\n",
      "/home/kate/anaconda3/lib/python3.7/site-packages/sklearn/covariance/robust_covariance.py:165: RuntimeWarning: Warning! det > previous_det (-10.867879927472101 > -24.820982998811573)\n",
      "  % (det, previous_det), RuntimeWarning)\n",
      "/home/kate/anaconda3/lib/python3.7/site-packages/sklearn/covariance/robust_covariance.py:165: RuntimeWarning: Warning! det > previous_det (-21.939621634395394 > -26.703738114601013)\n",
      "  % (det, previous_det), RuntimeWarning)\n",
      "/home/kate/anaconda3/lib/python3.7/site-packages/sklearn/covariance/robust_covariance.py:165: RuntimeWarning: Warning! det > previous_det (-12.420512094566375 > -24.271189440400189)\n",
      "  % (det, previous_det), RuntimeWarning)\n",
      "/home/kate/anaconda3/lib/python3.7/site-packages/sklearn/covariance/robust_covariance.py:165: RuntimeWarning: Warning! det > previous_det (-22.841855060640082 > -26.263636439520081)\n",
      "  % (det, previous_det), RuntimeWarning)\n",
      "/home/kate/anaconda3/lib/python3.7/site-packages/sklearn/covariance/robust_covariance.py:165: RuntimeWarning: Warning! det > previous_det (-23.614384790811052 > -23.658792836818268)\n",
      "  % (det, previous_det), RuntimeWarning)\n",
      "/home/kate/anaconda3/lib/python3.7/site-packages/sklearn/covariance/robust_covariance.py:165: RuntimeWarning: Warning! det > previous_det (-14.129824404472830 > -20.082373317770198)\n",
      "  % (det, previous_det), RuntimeWarning)\n",
      "/home/kate/anaconda3/lib/python3.7/site-packages/sklearn/covariance/robust_covariance.py:165: RuntimeWarning: Warning! det > previous_det (-9.201319815355534 > -25.046744792493453)\n",
      "  % (det, previous_det), RuntimeWarning)\n",
      "/home/kate/anaconda3/lib/python3.7/site-packages/sklearn/covariance/robust_covariance.py:165: RuntimeWarning: Warning! det > previous_det (-23.853747673362076 > -28.055674714261880)\n",
      "  % (det, previous_det), RuntimeWarning)\n",
      "/home/kate/anaconda3/lib/python3.7/site-packages/sklearn/covariance/robust_covariance.py:165: RuntimeWarning: Warning! det > previous_det (-20.387531093339895 > -26.170713986740736)\n",
      "  % (det, previous_det), RuntimeWarning)\n",
      "/home/kate/anaconda3/lib/python3.7/site-packages/sklearn/covariance/robust_covariance.py:165: RuntimeWarning: Warning! det > previous_det (-11.747786048450182 > -40.837949294891054)\n",
      "  % (det, previous_det), RuntimeWarning)\n",
      "/home/kate/anaconda3/lib/python3.7/site-packages/sklearn/covariance/robust_covariance.py:165: RuntimeWarning: Warning! det > previous_det (-27.958250559114180 > -30.302511042557711)\n",
      "  % (det, previous_det), RuntimeWarning)\n",
      "/home/kate/anaconda3/lib/python3.7/site-packages/sklearn/covariance/robust_covariance.py:165: RuntimeWarning: Warning! det > previous_det (-15.045611932247217 > -23.609600102482794)\n",
      "  % (det, previous_det), RuntimeWarning)\n",
      "/home/kate/anaconda3/lib/python3.7/site-packages/sklearn/covariance/robust_covariance.py:165: RuntimeWarning: Warning! det > previous_det (-4.378548643915486 > -27.217878277549929)\n",
      "  % (det, previous_det), RuntimeWarning)\n",
      "/home/kate/anaconda3/lib/python3.7/site-packages/sklearn/covariance/robust_covariance.py:165: RuntimeWarning: Warning! det > previous_det (-9.131321441516871 > -25.699134248847173)\n",
      "  % (det, previous_det), RuntimeWarning)\n",
      "/home/kate/anaconda3/lib/python3.7/site-packages/sklearn/covariance/robust_covariance.py:165: RuntimeWarning: Warning! det > previous_det (-11.377706224187826 > -39.143859505201881)\n",
      "  % (det, previous_det), RuntimeWarning)\n",
      "/home/kate/anaconda3/lib/python3.7/site-packages/sklearn/covariance/robust_covariance.py:165: RuntimeWarning: Warning! det > previous_det (-11.136505487783628 > -21.610580537498453)\n",
      "  % (det, previous_det), RuntimeWarning)\n",
      "/home/kate/anaconda3/lib/python3.7/site-packages/sklearn/covariance/robust_covariance.py:165: RuntimeWarning: Warning! det > previous_det (-26.255340918794086 > -27.219832116354315)\n",
      "  % (det, previous_det), RuntimeWarning)\n",
      "/home/kate/anaconda3/lib/python3.7/site-packages/sklearn/covariance/robust_covariance.py:165: RuntimeWarning: Warning! det > previous_det (-17.761800421027459 > -18.694986781543985)\n",
      "  % (det, previous_det), RuntimeWarning)\n",
      "/home/kate/anaconda3/lib/python3.7/site-packages/sklearn/covariance/robust_covariance.py:165: RuntimeWarning: Warning! det > previous_det (-15.407502433134214 > -25.796574089628326)\n",
      "  % (det, previous_det), RuntimeWarning)\n",
      "/home/kate/anaconda3/lib/python3.7/site-packages/sklearn/covariance/robust_covariance.py:165: RuntimeWarning: Warning! det > previous_det (-12.881248397249678 > -14.205455185110553)\n",
      "  % (det, previous_det), RuntimeWarning)\n",
      "/home/kate/anaconda3/lib/python3.7/site-packages/sklearn/covariance/robust_covariance.py:165: RuntimeWarning: Warning! det > previous_det (-24.680027249173804 > -40.784166041728149)\n",
      "  % (det, previous_det), RuntimeWarning)\n",
      "/home/kate/anaconda3/lib/python3.7/site-packages/sklearn/covariance/robust_covariance.py:165: RuntimeWarning: Warning! det > previous_det (-25.370007885466904 > -27.235986707431596)\n",
      "  % (det, previous_det), RuntimeWarning)\n",
      "/home/kate/anaconda3/lib/python3.7/site-packages/sklearn/covariance/robust_covariance.py:165: RuntimeWarning: Warning! det > previous_det (-9.629591611032408 > -22.965476791776204)\n",
      "  % (det, previous_det), RuntimeWarning)\n",
      "/home/kate/anaconda3/lib/python3.7/site-packages/sklearn/covariance/robust_covariance.py:165: RuntimeWarning: Warning! det > previous_det (-11.925151681597974 > -36.411856153338292)\n",
      "  % (det, previous_det), RuntimeWarning)\n",
      "/home/kate/anaconda3/lib/python3.7/site-packages/sklearn/covariance/robust_covariance.py:165: RuntimeWarning: Warning! det > previous_det (-22.216574118239173 > -26.999444455185923)\n",
      "  % (det, previous_det), RuntimeWarning)\n",
      "/home/kate/anaconda3/lib/python3.7/site-packages/sklearn/covariance/robust_covariance.py:165: RuntimeWarning: Warning! det > previous_det (-14.853282371371538 > -22.370834974493850)\n",
      "  % (det, previous_det), RuntimeWarning)\n",
      "/home/kate/anaconda3/lib/python3.7/site-packages/sklearn/covariance/robust_covariance.py:165: RuntimeWarning: Warning! det > previous_det (-7.657614853224208 > -43.162388756490728)\n",
      "  % (det, previous_det), RuntimeWarning)\n"
     ]
    },
    {
     "name": "stderr",
     "output_type": "stream",
     "text": [
      "/home/kate/anaconda3/lib/python3.7/site-packages/sklearn/covariance/robust_covariance.py:165: RuntimeWarning: Warning! det > previous_det (-26.914456385546352 > -37.739517449263182)\n",
      "  % (det, previous_det), RuntimeWarning)\n",
      "/home/kate/anaconda3/lib/python3.7/site-packages/sklearn/covariance/robust_covariance.py:165: RuntimeWarning: Warning! det > previous_det (-13.460798854163947 > -38.648273545969793)\n",
      "  % (det, previous_det), RuntimeWarning)\n",
      "/home/kate/anaconda3/lib/python3.7/site-packages/sklearn/covariance/robust_covariance.py:165: RuntimeWarning: Warning! det > previous_det (-10.605457073701665 > -42.306578748812449)\n",
      "  % (det, previous_det), RuntimeWarning)\n",
      "/home/kate/anaconda3/lib/python3.7/site-packages/sklearn/covariance/robust_covariance.py:165: RuntimeWarning: Warning! det > previous_det (-20.273543309040768 > -25.492342921988961)\n",
      "  % (det, previous_det), RuntimeWarning)\n",
      "/home/kate/anaconda3/lib/python3.7/site-packages/sklearn/covariance/robust_covariance.py:165: RuntimeWarning: Warning! det > previous_det (-22.910305755010707 > -26.040450188506675)\n",
      "  % (det, previous_det), RuntimeWarning)\n",
      "/home/kate/anaconda3/lib/python3.7/site-packages/sklearn/covariance/robust_covariance.py:165: RuntimeWarning: Warning! det > previous_det (-19.354428834436799 > -27.397412152065726)\n",
      "  % (det, previous_det), RuntimeWarning)\n",
      "/home/kate/anaconda3/lib/python3.7/site-packages/sklearn/covariance/robust_covariance.py:165: RuntimeWarning: Warning! det > previous_det (-21.649538092395765 > -35.271803594059271)\n",
      "  % (det, previous_det), RuntimeWarning)\n",
      "/home/kate/anaconda3/lib/python3.7/site-packages/sklearn/covariance/robust_covariance.py:165: RuntimeWarning: Warning! det > previous_det (-19.208328434797728 > -30.058324307807190)\n",
      "  % (det, previous_det), RuntimeWarning)\n",
      "/home/kate/anaconda3/lib/python3.7/site-packages/sklearn/covariance/robust_covariance.py:165: RuntimeWarning: Warning! det > previous_det (-6.856651399849911 > -45.222754163392857)\n",
      "  % (det, previous_det), RuntimeWarning)\n",
      "/home/kate/anaconda3/lib/python3.7/site-packages/sklearn/covariance/robust_covariance.py:165: RuntimeWarning: Warning! det > previous_det (-16.196788262368624 > -39.352706674788926)\n",
      "  % (det, previous_det), RuntimeWarning)\n",
      "/home/kate/anaconda3/lib/python3.7/site-packages/sklearn/covariance/robust_covariance.py:165: RuntimeWarning: Warning! det > previous_det (-8.073810670993517 > -45.330449468285593)\n",
      "  % (det, previous_det), RuntimeWarning)\n",
      "/home/kate/anaconda3/lib/python3.7/site-packages/sklearn/covariance/robust_covariance.py:165: RuntimeWarning: Warning! det > previous_det (-21.926681968465221 > -23.028113949333715)\n",
      "  % (det, previous_det), RuntimeWarning)\n",
      "/home/kate/anaconda3/lib/python3.7/site-packages/sklearn/covariance/robust_covariance.py:165: RuntimeWarning: Warning! det > previous_det (-14.188555379078846 > -25.385113254501629)\n",
      "  % (det, previous_det), RuntimeWarning)\n",
      "/home/kate/anaconda3/lib/python3.7/site-packages/sklearn/covariance/robust_covariance.py:165: RuntimeWarning: Warning! det > previous_det (-15.791167350447910 > -18.881048209856875)\n",
      "  % (det, previous_det), RuntimeWarning)\n",
      "/home/kate/anaconda3/lib/python3.7/site-packages/sklearn/covariance/robust_covariance.py:165: RuntimeWarning: Warning! det > previous_det (-4.897892375738613 > -30.005499234966422)\n",
      "  % (det, previous_det), RuntimeWarning)\n",
      "/home/kate/anaconda3/lib/python3.7/site-packages/sklearn/covariance/robust_covariance.py:165: RuntimeWarning: Warning! det > previous_det (-6.946595755240245 > -29.890437444277531)\n",
      "  % (det, previous_det), RuntimeWarning)\n",
      "/home/kate/anaconda3/lib/python3.7/site-packages/sklearn/covariance/robust_covariance.py:165: RuntimeWarning: Warning! det > previous_det (-7.591583531997283 > -28.424076318770794)\n",
      "  % (det, previous_det), RuntimeWarning)\n",
      "/home/kate/anaconda3/lib/python3.7/site-packages/sklearn/covariance/robust_covariance.py:165: RuntimeWarning: Warning! det > previous_det (-15.353942019868414 > -30.214298292746072)\n",
      "  % (det, previous_det), RuntimeWarning)\n",
      "/home/kate/anaconda3/lib/python3.7/site-packages/sklearn/covariance/robust_covariance.py:165: RuntimeWarning: Warning! det > previous_det (-27.690530133638852 > -36.567788011489590)\n",
      "  % (det, previous_det), RuntimeWarning)\n",
      "/home/kate/anaconda3/lib/python3.7/site-packages/sklearn/covariance/robust_covariance.py:165: RuntimeWarning: Warning! det > previous_det (-21.847503728459717 > -25.042451867506632)\n",
      "  % (det, previous_det), RuntimeWarning)\n",
      "/home/kate/anaconda3/lib/python3.7/site-packages/sklearn/covariance/robust_covariance.py:165: RuntimeWarning: Warning! det > previous_det (-10.114291228358189 > -25.723740846638805)\n",
      "  % (det, previous_det), RuntimeWarning)\n",
      "/home/kate/anaconda3/lib/python3.7/site-packages/sklearn/covariance/robust_covariance.py:165: RuntimeWarning: Warning! det > previous_det (-7.914606161727322 > -27.725957974592873)\n",
      "  % (det, previous_det), RuntimeWarning)\n",
      "/home/kate/anaconda3/lib/python3.7/site-packages/sklearn/covariance/robust_covariance.py:165: RuntimeWarning: Warning! det > previous_det (-9.562719153034486 > -25.496945212991445)\n",
      "  % (det, previous_det), RuntimeWarning)\n",
      "/home/kate/anaconda3/lib/python3.7/site-packages/sklearn/covariance/robust_covariance.py:165: RuntimeWarning: Warning! det > previous_det (-19.411563195681818 > -25.698887770793505)\n",
      "  % (det, previous_det), RuntimeWarning)\n",
      "/home/kate/anaconda3/lib/python3.7/site-packages/sklearn/covariance/robust_covariance.py:165: RuntimeWarning: Warning! det > previous_det (-9.055821616188750 > -25.090888857556074)\n",
      "  % (det, previous_det), RuntimeWarning)\n",
      "/home/kate/anaconda3/lib/python3.7/site-packages/sklearn/covariance/robust_covariance.py:165: RuntimeWarning: Warning! det > previous_det (-23.067826898044430 > -25.059441054419853)\n",
      "  % (det, previous_det), RuntimeWarning)\n",
      "/home/kate/anaconda3/lib/python3.7/site-packages/sklearn/covariance/robust_covariance.py:165: RuntimeWarning: Warning! det > previous_det (-12.709877837996910 > -26.782247077996111)\n",
      "  % (det, previous_det), RuntimeWarning)\n",
      "/home/kate/anaconda3/lib/python3.7/site-packages/sklearn/covariance/robust_covariance.py:165: RuntimeWarning: Warning! det > previous_det (-10.359108498354944 > -24.534919208366691)\n",
      "  % (det, previous_det), RuntimeWarning)\n",
      "/home/kate/anaconda3/lib/python3.7/site-packages/sklearn/covariance/robust_covariance.py:165: RuntimeWarning: Warning! det > previous_det (-20.686159935271775 > -25.877387605364536)\n",
      "  % (det, previous_det), RuntimeWarning)\n",
      "/home/kate/anaconda3/lib/python3.7/site-packages/sklearn/covariance/robust_covariance.py:165: RuntimeWarning: Warning! det > previous_det (-15.601908354701147 > -23.691404320324398)\n",
      "  % (det, previous_det), RuntimeWarning)\n",
      "/home/kate/anaconda3/lib/python3.7/site-packages/sklearn/covariance/robust_covariance.py:165: RuntimeWarning: Warning! det > previous_det (-20.079309460202158 > -20.403209277066377)\n",
      "  % (det, previous_det), RuntimeWarning)\n",
      "/home/kate/anaconda3/lib/python3.7/site-packages/sklearn/covariance/robust_covariance.py:165: RuntimeWarning: Warning! det > previous_det (-7.313027710219068 > -30.428941171413207)\n",
      "  % (det, previous_det), RuntimeWarning)\n",
      "/home/kate/anaconda3/lib/python3.7/site-packages/sklearn/covariance/robust_covariance.py:165: RuntimeWarning: Warning! det > previous_det (-21.696145004275539 > -26.183764641185796)\n",
      "  % (det, previous_det), RuntimeWarning)\n",
      "/home/kate/anaconda3/lib/python3.7/site-packages/sklearn/covariance/robust_covariance.py:165: RuntimeWarning: Warning! det > previous_det (-9.576108596993580 > -27.903859723160387)\n",
      "  % (det, previous_det), RuntimeWarning)\n",
      "/home/kate/anaconda3/lib/python3.7/site-packages/sklearn/covariance/robust_covariance.py:165: RuntimeWarning: Warning! det > previous_det (-8.834912268511809 > -28.031218891588921)\n",
      "  % (det, previous_det), RuntimeWarning)\n",
      "/home/kate/anaconda3/lib/python3.7/site-packages/sklearn/covariance/robust_covariance.py:165: RuntimeWarning: Warning! det > previous_det (-8.347852704511185 > -25.780933093747375)\n",
      "  % (det, previous_det), RuntimeWarning)\n",
      "/home/kate/anaconda3/lib/python3.7/site-packages/sklearn/covariance/robust_covariance.py:165: RuntimeWarning: Warning! det > previous_det (-11.355906704261450 > -27.440268795811466)\n",
      "  % (det, previous_det), RuntimeWarning)\n",
      "/home/kate/anaconda3/lib/python3.7/site-packages/sklearn/covariance/robust_covariance.py:165: RuntimeWarning: Warning! det > previous_det (-10.411188952376307 > -25.849351460564030)\n",
      "  % (det, previous_det), RuntimeWarning)\n",
      "/home/kate/anaconda3/lib/python3.7/site-packages/sklearn/covariance/robust_covariance.py:165: RuntimeWarning: Warning! det > previous_det (-20.124869218829989 > -28.339510350181953)\n",
      "  % (det, previous_det), RuntimeWarning)\n",
      "/home/kate/anaconda3/lib/python3.7/site-packages/sklearn/covariance/robust_covariance.py:165: RuntimeWarning: Warning! det > previous_det (-9.081920410861436 > -30.188877970863373)\n",
      "  % (det, previous_det), RuntimeWarning)\n",
      "/home/kate/anaconda3/lib/python3.7/site-packages/sklearn/covariance/robust_covariance.py:165: RuntimeWarning: Warning! det > previous_det (-4.120423940612169 > -29.960597225008744)\n",
      "  % (det, previous_det), RuntimeWarning)\n",
      "/home/kate/anaconda3/lib/python3.7/site-packages/sklearn/covariance/robust_covariance.py:165: RuntimeWarning: Warning! det > previous_det (-16.395000505543756 > -20.472153538765884)\n",
      "  % (det, previous_det), RuntimeWarning)\n",
      "/home/kate/anaconda3/lib/python3.7/site-packages/sklearn/covariance/robust_covariance.py:165: RuntimeWarning: Warning! det > previous_det (-23.595977832358198 > -24.725597646094343)\n",
      "  % (det, previous_det), RuntimeWarning)\n",
      "/home/kate/anaconda3/lib/python3.7/site-packages/sklearn/covariance/robust_covariance.py:165: RuntimeWarning: Warning! det > previous_det (-8.269663284602599 > -26.436290973239448)\n",
      "  % (det, previous_det), RuntimeWarning)\n",
      "/home/kate/anaconda3/lib/python3.7/site-packages/sklearn/covariance/robust_covariance.py:165: RuntimeWarning: Warning! det > previous_det (-5.296293340197436 > -26.257997470457966)\n",
      "  % (det, previous_det), RuntimeWarning)\n"
     ]
    },
    {
     "name": "stderr",
     "output_type": "stream",
     "text": [
      "/home/kate/anaconda3/lib/python3.7/site-packages/sklearn/covariance/robust_covariance.py:165: RuntimeWarning: Warning! det > previous_det (-7.662528379293178 > -41.637584180914985)\n",
      "  % (det, previous_det), RuntimeWarning)\n",
      "/home/kate/anaconda3/lib/python3.7/site-packages/sklearn/covariance/robust_covariance.py:165: RuntimeWarning: Warning! det > previous_det (-6.370609171761762 > -26.117741776111565)\n",
      "  % (det, previous_det), RuntimeWarning)\n",
      "/home/kate/anaconda3/lib/python3.7/site-packages/sklearn/covariance/robust_covariance.py:165: RuntimeWarning: Warning! det > previous_det (-10.827598106409690 > -24.768203908666631)\n",
      "  % (det, previous_det), RuntimeWarning)\n",
      "/home/kate/anaconda3/lib/python3.7/site-packages/sklearn/covariance/robust_covariance.py:165: RuntimeWarning: Warning! det > previous_det (-4.894643240038976 > -25.664838974205228)\n",
      "  % (det, previous_det), RuntimeWarning)\n",
      "/home/kate/anaconda3/lib/python3.7/site-packages/sklearn/covariance/robust_covariance.py:165: RuntimeWarning: Warning! det > previous_det (-18.676111815447292 > -28.742099862869747)\n",
      "  % (det, previous_det), RuntimeWarning)\n",
      "/home/kate/anaconda3/lib/python3.7/site-packages/sklearn/covariance/robust_covariance.py:165: RuntimeWarning: Warning! det > previous_det (-17.937854119805642 > -27.976041014108937)\n",
      "  % (det, previous_det), RuntimeWarning)\n",
      "/home/kate/anaconda3/lib/python3.7/site-packages/sklearn/covariance/robust_covariance.py:165: RuntimeWarning: Warning! det > previous_det (-18.032621500603739 > -21.969515172879042)\n",
      "  % (det, previous_det), RuntimeWarning)\n",
      "/home/kate/anaconda3/lib/python3.7/site-packages/sklearn/covariance/robust_covariance.py:165: RuntimeWarning: Warning! det > previous_det (-8.786407708386189 > -45.119407448095018)\n",
      "  % (det, previous_det), RuntimeWarning)\n",
      "/home/kate/anaconda3/lib/python3.7/site-packages/sklearn/covariance/robust_covariance.py:165: RuntimeWarning: Warning! det > previous_det (-23.341657267547248 > -26.455088758026299)\n",
      "  % (det, previous_det), RuntimeWarning)\n",
      "/home/kate/anaconda3/lib/python3.7/site-packages/sklearn/covariance/robust_covariance.py:165: RuntimeWarning: Warning! det > previous_det (-14.845345798000631 > -26.019673709988400)\n",
      "  % (det, previous_det), RuntimeWarning)\n",
      "/home/kate/anaconda3/lib/python3.7/site-packages/sklearn/covariance/robust_covariance.py:165: RuntimeWarning: Warning! det > previous_det (-12.968302982740049 > -22.581677107846581)\n",
      "  % (det, previous_det), RuntimeWarning)\n",
      "/home/kate/anaconda3/lib/python3.7/site-packages/sklearn/covariance/robust_covariance.py:165: RuntimeWarning: Warning! det > previous_det (-12.603939761988702 > -22.656283030448535)\n",
      "  % (det, previous_det), RuntimeWarning)\n",
      "/home/kate/anaconda3/lib/python3.7/site-packages/sklearn/covariance/robust_covariance.py:165: RuntimeWarning: Warning! det > previous_det (-18.206499122556810 > -30.553479228654158)\n",
      "  % (det, previous_det), RuntimeWarning)\n",
      "/home/kate/anaconda3/lib/python3.7/site-packages/sklearn/covariance/robust_covariance.py:165: RuntimeWarning: Warning! det > previous_det (-14.322053058559398 > -20.996443147250474)\n",
      "  % (det, previous_det), RuntimeWarning)\n",
      "/home/kate/anaconda3/lib/python3.7/site-packages/sklearn/covariance/robust_covariance.py:165: RuntimeWarning: Warning! det > previous_det (-19.652404488827141 > -25.701560055325771)\n",
      "  % (det, previous_det), RuntimeWarning)\n",
      "/home/kate/anaconda3/lib/python3.7/site-packages/sklearn/covariance/robust_covariance.py:165: RuntimeWarning: Warning! det > previous_det (-12.138803394172793 > -26.962499975691383)\n",
      "  % (det, previous_det), RuntimeWarning)\n",
      "/home/kate/anaconda3/lib/python3.7/site-packages/sklearn/covariance/robust_covariance.py:165: RuntimeWarning: Warning! det > previous_det (-16.418127277518369 > -34.782828189813785)\n",
      "  % (det, previous_det), RuntimeWarning)\n",
      "/home/kate/anaconda3/lib/python3.7/site-packages/sklearn/covariance/robust_covariance.py:165: RuntimeWarning: Warning! det > previous_det (-10.527410519284789 > -23.391720678347458)\n",
      "  % (det, previous_det), RuntimeWarning)\n",
      "/home/kate/anaconda3/lib/python3.7/site-packages/sklearn/covariance/robust_covariance.py:165: RuntimeWarning: Warning! det > previous_det (-14.130439112904675 > -40.005503017382772)\n",
      "  % (det, previous_det), RuntimeWarning)\n",
      "/home/kate/anaconda3/lib/python3.7/site-packages/sklearn/covariance/robust_covariance.py:165: RuntimeWarning: Warning! det > previous_det (-13.571916075246067 > -24.220556009696285)\n",
      "  % (det, previous_det), RuntimeWarning)\n",
      "/home/kate/anaconda3/lib/python3.7/site-packages/sklearn/covariance/robust_covariance.py:165: RuntimeWarning: Warning! det > previous_det (-10.495525652923138 > -26.015964634159047)\n",
      "  % (det, previous_det), RuntimeWarning)\n",
      "/home/kate/anaconda3/lib/python3.7/site-packages/sklearn/covariance/robust_covariance.py:165: RuntimeWarning: Warning! det > previous_det (-12.195832751730013 > -25.428849502532305)\n",
      "  % (det, previous_det), RuntimeWarning)\n",
      "/home/kate/anaconda3/lib/python3.7/site-packages/sklearn/covariance/robust_covariance.py:165: RuntimeWarning: Warning! det > previous_det (-19.232321961925731 > -27.278023733134894)\n",
      "  % (det, previous_det), RuntimeWarning)\n",
      "/home/kate/anaconda3/lib/python3.7/site-packages/sklearn/covariance/robust_covariance.py:165: RuntimeWarning: Warning! det > previous_det (-23.379872923300006 > -27.188580995026769)\n",
      "  % (det, previous_det), RuntimeWarning)\n",
      "/home/kate/anaconda3/lib/python3.7/site-packages/sklearn/covariance/robust_covariance.py:165: RuntimeWarning: Warning! det > previous_det (-6.893745733091281 > -24.336689779177490)\n",
      "  % (det, previous_det), RuntimeWarning)\n",
      "/home/kate/anaconda3/lib/python3.7/site-packages/sklearn/covariance/robust_covariance.py:165: RuntimeWarning: Warning! det > previous_det (-13.032853205004221 > -29.925036027537761)\n",
      "  % (det, previous_det), RuntimeWarning)\n",
      "/home/kate/anaconda3/lib/python3.7/site-packages/sklearn/covariance/robust_covariance.py:165: RuntimeWarning: Warning! det > previous_det (-8.653402735596870 > -25.081694528432159)\n",
      "  % (det, previous_det), RuntimeWarning)\n",
      "/home/kate/anaconda3/lib/python3.7/site-packages/sklearn/covariance/robust_covariance.py:165: RuntimeWarning: Warning! det > previous_det (-17.617931665222937 > -19.320581523444478)\n",
      "  % (det, previous_det), RuntimeWarning)\n",
      "/home/kate/anaconda3/lib/python3.7/site-packages/sklearn/covariance/robust_covariance.py:165: RuntimeWarning: Warning! det > previous_det (-17.494404417487438 > -20.960914193649689)\n",
      "  % (det, previous_det), RuntimeWarning)\n",
      "/home/kate/anaconda3/lib/python3.7/site-packages/sklearn/covariance/robust_covariance.py:165: RuntimeWarning: Warning! det > previous_det (-21.419561856371978 > -25.292765543755998)\n",
      "  % (det, previous_det), RuntimeWarning)\n",
      "/home/kate/anaconda3/lib/python3.7/site-packages/sklearn/covariance/robust_covariance.py:165: RuntimeWarning: Warning! det > previous_det (-13.899951989528503 > -33.132571158652858)\n",
      "  % (det, previous_det), RuntimeWarning)\n",
      "/home/kate/anaconda3/lib/python3.7/site-packages/sklearn/covariance/robust_covariance.py:165: RuntimeWarning: Warning! det > previous_det (-16.981768342664260 > -20.971577090826514)\n",
      "  % (det, previous_det), RuntimeWarning)\n",
      "/home/kate/anaconda3/lib/python3.7/site-packages/sklearn/covariance/robust_covariance.py:165: RuntimeWarning: Warning! det > previous_det (-18.053492877702048 > -20.303717540457992)\n",
      "  % (det, previous_det), RuntimeWarning)\n",
      "/home/kate/anaconda3/lib/python3.7/site-packages/sklearn/covariance/robust_covariance.py:165: RuntimeWarning: Warning! det > previous_det (-9.451261104831845 > -26.263892912311988)\n",
      "  % (det, previous_det), RuntimeWarning)\n",
      "/home/kate/anaconda3/lib/python3.7/site-packages/sklearn/covariance/robust_covariance.py:165: RuntimeWarning: Warning! det > previous_det (-4.690102114214190 > -32.326928125645779)\n",
      "  % (det, previous_det), RuntimeWarning)\n",
      "/home/kate/anaconda3/lib/python3.7/site-packages/sklearn/covariance/robust_covariance.py:165: RuntimeWarning: Warning! det > previous_det (-13.548654576054421 > -22.039027598737874)\n",
      "  % (det, previous_det), RuntimeWarning)\n",
      "/home/kate/anaconda3/lib/python3.7/site-packages/sklearn/covariance/robust_covariance.py:165: RuntimeWarning: Warning! det > previous_det (-22.896363639909765 > -39.212751464735803)\n",
      "  % (det, previous_det), RuntimeWarning)\n",
      "/home/kate/anaconda3/lib/python3.7/site-packages/sklearn/covariance/robust_covariance.py:165: RuntimeWarning: Warning! det > previous_det (-14.462196806043289 > -39.914231116815472)\n",
      "  % (det, previous_det), RuntimeWarning)\n",
      "/home/kate/anaconda3/lib/python3.7/site-packages/sklearn/covariance/robust_covariance.py:165: RuntimeWarning: Warning! det > previous_det (-10.703217083459714 > -25.289925865986540)\n",
      "  % (det, previous_det), RuntimeWarning)\n"
     ]
    },
    {
     "name": "stderr",
     "output_type": "stream",
     "text": [
      "/home/kate/anaconda3/lib/python3.7/site-packages/sklearn/covariance/robust_covariance.py:165: RuntimeWarning: Warning! det > previous_det (-22.774715694085092 > -38.514192773386767)\n",
      "  % (det, previous_det), RuntimeWarning)\n",
      "/home/kate/anaconda3/lib/python3.7/site-packages/sklearn/covariance/robust_covariance.py:165: RuntimeWarning: Warning! det > previous_det (-18.897036875225655 > -41.784393887595471)\n",
      "  % (det, previous_det), RuntimeWarning)\n",
      "/home/kate/anaconda3/lib/python3.7/site-packages/sklearn/covariance/robust_covariance.py:165: RuntimeWarning: Warning! det > previous_det (-9.104082981513788 > -29.265207050781449)\n",
      "  % (det, previous_det), RuntimeWarning)\n",
      "/home/kate/anaconda3/lib/python3.7/site-packages/sklearn/covariance/robust_covariance.py:165: RuntimeWarning: Warning! det > previous_det (-9.427166276915937 > -29.390522174394967)\n",
      "  % (det, previous_det), RuntimeWarning)\n",
      "/home/kate/anaconda3/lib/python3.7/site-packages/sklearn/covariance/robust_covariance.py:165: RuntimeWarning: Warning! det > previous_det (-26.769188484849924 > -37.989686328518665)\n",
      "  % (det, previous_det), RuntimeWarning)\n",
      "/home/kate/anaconda3/lib/python3.7/site-packages/sklearn/covariance/robust_covariance.py:165: RuntimeWarning: Warning! det > previous_det (-21.125027811678745 > -25.125359790108149)\n",
      "  % (det, previous_det), RuntimeWarning)\n",
      "/home/kate/anaconda3/lib/python3.7/site-packages/sklearn/covariance/robust_covariance.py:165: RuntimeWarning: Warning! det > previous_det (-17.015130851786406 > -28.587816720931396)\n",
      "  % (det, previous_det), RuntimeWarning)\n",
      "/home/kate/anaconda3/lib/python3.7/site-packages/sklearn/covariance/robust_covariance.py:165: RuntimeWarning: Warning! det > previous_det (-19.274816695482816 > -37.901164541037687)\n",
      "  % (det, previous_det), RuntimeWarning)\n",
      "/home/kate/anaconda3/lib/python3.7/site-packages/sklearn/covariance/robust_covariance.py:165: RuntimeWarning: Warning! det > previous_det (-25.961886307549399 > -31.989098530344890)\n",
      "  % (det, previous_det), RuntimeWarning)\n",
      "/home/kate/anaconda3/lib/python3.7/site-packages/sklearn/covariance/robust_covariance.py:165: RuntimeWarning: Warning! det > previous_det (-23.903225173103142 > -31.456151003374707)\n",
      "  % (det, previous_det), RuntimeWarning)\n",
      "/home/kate/anaconda3/lib/python3.7/site-packages/sklearn/covariance/robust_covariance.py:165: RuntimeWarning: Warning! det > previous_det (-20.106444059531846 > -23.190385640447108)\n",
      "  % (det, previous_det), RuntimeWarning)\n",
      "/home/kate/anaconda3/lib/python3.7/site-packages/sklearn/covariance/robust_covariance.py:165: RuntimeWarning: Warning! det > previous_det (-21.669433093666257 > -21.957393606049727)\n",
      "  % (det, previous_det), RuntimeWarning)\n",
      "/home/kate/anaconda3/lib/python3.7/site-packages/sklearn/covariance/robust_covariance.py:165: RuntimeWarning: Warning! det > previous_det (-8.045423117256293 > -27.037867414424234)\n",
      "  % (det, previous_det), RuntimeWarning)\n",
      "/home/kate/anaconda3/lib/python3.7/site-packages/sklearn/covariance/robust_covariance.py:165: RuntimeWarning: Warning! det > previous_det (-5.960346300541199 > -43.838837457337696)\n",
      "  % (det, previous_det), RuntimeWarning)\n",
      "/home/kate/anaconda3/lib/python3.7/site-packages/sklearn/covariance/robust_covariance.py:165: RuntimeWarning: Warning! det > previous_det (-20.990642459947676 > -25.423797296244317)\n",
      "  % (det, previous_det), RuntimeWarning)\n",
      "/home/kate/anaconda3/lib/python3.7/site-packages/sklearn/covariance/robust_covariance.py:165: RuntimeWarning: Warning! det > previous_det (-20.699424669896498 > -26.615939703265497)\n",
      "  % (det, previous_det), RuntimeWarning)\n",
      "/home/kate/anaconda3/lib/python3.7/site-packages/sklearn/covariance/robust_covariance.py:165: RuntimeWarning: Warning! det > previous_det (-8.952768303576661 > -27.894978234710869)\n",
      "  % (det, previous_det), RuntimeWarning)\n",
      "/home/kate/anaconda3/lib/python3.7/site-packages/sklearn/covariance/robust_covariance.py:165: RuntimeWarning: Warning! det > previous_det (-21.894899069133366 > -24.751427437227754)\n",
      "  % (det, previous_det), RuntimeWarning)\n",
      "/home/kate/anaconda3/lib/python3.7/site-packages/sklearn/covariance/robust_covariance.py:165: RuntimeWarning: Warning! det > previous_det (-11.462495231292374 > -22.482463436447880)\n",
      "  % (det, previous_det), RuntimeWarning)\n",
      "/home/kate/anaconda3/lib/python3.7/site-packages/sklearn/covariance/robust_covariance.py:165: RuntimeWarning: Warning! det > previous_det (-10.222210310224927 > -24.849672573272237)\n",
      "  % (det, previous_det), RuntimeWarning)\n",
      "/home/kate/anaconda3/lib/python3.7/site-packages/sklearn/covariance/robust_covariance.py:165: RuntimeWarning: Warning! det > previous_det (-12.409413511251335 > -24.195895012469958)\n",
      "  % (det, previous_det), RuntimeWarning)\n",
      "/home/kate/anaconda3/lib/python3.7/site-packages/sklearn/covariance/robust_covariance.py:165: RuntimeWarning: Warning! det > previous_det (-20.454420765592637 > -26.464285827487355)\n",
      "  % (det, previous_det), RuntimeWarning)\n",
      "/home/kate/anaconda3/lib/python3.7/site-packages/sklearn/covariance/robust_covariance.py:165: RuntimeWarning: Warning! det > previous_det (-10.415670648516526 > -17.155074243542789)\n",
      "  % (det, previous_det), RuntimeWarning)\n",
      "/home/kate/anaconda3/lib/python3.7/site-packages/sklearn/covariance/robust_covariance.py:165: RuntimeWarning: Warning! det > previous_det (-12.404207433499629 > -40.587535316893735)\n",
      "  % (det, previous_det), RuntimeWarning)\n",
      "/home/kate/anaconda3/lib/python3.7/site-packages/sklearn/covariance/robust_covariance.py:165: RuntimeWarning: Warning! det > previous_det (-8.295812967219314 > -27.180595595730054)\n",
      "  % (det, previous_det), RuntimeWarning)\n",
      "/home/kate/anaconda3/lib/python3.7/site-packages/sklearn/covariance/robust_covariance.py:165: RuntimeWarning: Warning! det > previous_det (-18.333956399053129 > -20.291491362649491)\n",
      "  % (det, previous_det), RuntimeWarning)\n",
      "/home/kate/anaconda3/lib/python3.7/site-packages/sklearn/covariance/robust_covariance.py:165: RuntimeWarning: Warning! det > previous_det (-14.948493967606289 > -16.254767940340255)\n",
      "  % (det, previous_det), RuntimeWarning)\n",
      "/home/kate/anaconda3/lib/python3.7/site-packages/sklearn/covariance/robust_covariance.py:165: RuntimeWarning: Warning! det > previous_det (-9.396424698909097 > -19.036589736021845)\n",
      "  % (det, previous_det), RuntimeWarning)\n",
      "/home/kate/anaconda3/lib/python3.7/site-packages/sklearn/covariance/robust_covariance.py:165: RuntimeWarning: Warning! det > previous_det (-15.880008328911796 > -31.222549447998880)\n",
      "  % (det, previous_det), RuntimeWarning)\n",
      "/home/kate/anaconda3/lib/python3.7/site-packages/sklearn/covariance/robust_covariance.py:165: RuntimeWarning: Warning! det > previous_det (-23.443581956961292 > -28.764560946664091)\n",
      "  % (det, previous_det), RuntimeWarning)\n",
      "/home/kate/anaconda3/lib/python3.7/site-packages/sklearn/covariance/robust_covariance.py:165: RuntimeWarning: Warning! det > previous_det (-11.756931359176814 > -28.470507604499339)\n",
      "  % (det, previous_det), RuntimeWarning)\n",
      "/home/kate/anaconda3/lib/python3.7/site-packages/sklearn/covariance/robust_covariance.py:165: RuntimeWarning: Warning! det > previous_det (-11.045880011135976 > -27.621068828039501)\n",
      "  % (det, previous_det), RuntimeWarning)\n",
      "/home/kate/anaconda3/lib/python3.7/site-packages/sklearn/covariance/robust_covariance.py:165: RuntimeWarning: Warning! det > previous_det (-14.459654074841028 > -23.489538483992114)\n",
      "  % (det, previous_det), RuntimeWarning)\n",
      "/home/kate/anaconda3/lib/python3.7/site-packages/sklearn/covariance/robust_covariance.py:165: RuntimeWarning: Warning! det > previous_det (-25.957472393360494 > -37.847242624803783)\n",
      "  % (det, previous_det), RuntimeWarning)\n",
      "/home/kate/anaconda3/lib/python3.7/site-packages/sklearn/covariance/robust_covariance.py:165: RuntimeWarning: Warning! det > previous_det (-24.661121561167878 > -36.796384499341279)\n",
      "  % (det, previous_det), RuntimeWarning)\n",
      "/home/kate/anaconda3/lib/python3.7/site-packages/sklearn/covariance/robust_covariance.py:165: RuntimeWarning: Warning! det > previous_det (-17.980196742598125 > -34.591785290962953)\n",
      "  % (det, previous_det), RuntimeWarning)\n",
      "/home/kate/anaconda3/lib/python3.7/site-packages/sklearn/covariance/robust_covariance.py:165: RuntimeWarning: Warning! det > previous_det (-12.506626678514108 > -42.111693123807299)\n",
      "  % (det, previous_det), RuntimeWarning)\n"
     ]
    },
    {
     "name": "stderr",
     "output_type": "stream",
     "text": [
      "/home/kate/anaconda3/lib/python3.7/site-packages/sklearn/covariance/robust_covariance.py:165: RuntimeWarning: Warning! det > previous_det (-12.550051419072908 > -25.466698324859834)\n",
      "  % (det, previous_det), RuntimeWarning)\n",
      "/home/kate/anaconda3/lib/python3.7/site-packages/sklearn/covariance/robust_covariance.py:165: RuntimeWarning: Warning! det > previous_det (-16.655210308267474 > -30.333909532669704)\n",
      "  % (det, previous_det), RuntimeWarning)\n",
      "/home/kate/anaconda3/lib/python3.7/site-packages/sklearn/covariance/robust_covariance.py:165: RuntimeWarning: Warning! det > previous_det (-24.123250225467437 > -25.553411088308430)\n",
      "  % (det, previous_det), RuntimeWarning)\n",
      "/home/kate/anaconda3/lib/python3.7/site-packages/sklearn/covariance/robust_covariance.py:165: RuntimeWarning: Warning! det > previous_det (-21.320507310750777 > -28.117187207413348)\n",
      "  % (det, previous_det), RuntimeWarning)\n",
      "/home/kate/anaconda3/lib/python3.7/site-packages/sklearn/covariance/robust_covariance.py:165: RuntimeWarning: Warning! det > previous_det (-8.532875527656055 > -47.820539964795458)\n",
      "  % (det, previous_det), RuntimeWarning)\n",
      "/home/kate/anaconda3/lib/python3.7/site-packages/sklearn/covariance/robust_covariance.py:165: RuntimeWarning: Warning! det > previous_det (-9.264815240029403 > -29.227235083624635)\n",
      "  % (det, previous_det), RuntimeWarning)\n",
      "/home/kate/anaconda3/lib/python3.7/site-packages/sklearn/covariance/robust_covariance.py:165: RuntimeWarning: Warning! det > previous_det (-5.935256659435428 > -30.701776707082093)\n",
      "  % (det, previous_det), RuntimeWarning)\n",
      "/home/kate/anaconda3/lib/python3.7/site-packages/sklearn/covariance/robust_covariance.py:165: RuntimeWarning: Warning! det > previous_det (-6.230736120325744 > -25.815629981143829)\n",
      "  % (det, previous_det), RuntimeWarning)\n",
      "/home/kate/anaconda3/lib/python3.7/site-packages/sklearn/covariance/robust_covariance.py:165: RuntimeWarning: Warning! det > previous_det (-18.381615365433628 > -20.708110100848376)\n",
      "  % (det, previous_det), RuntimeWarning)\n",
      "/home/kate/anaconda3/lib/python3.7/site-packages/sklearn/covariance/robust_covariance.py:165: RuntimeWarning: Warning! det > previous_det (-19.728951250947681 > -25.789599309717516)\n",
      "  % (det, previous_det), RuntimeWarning)\n",
      "/home/kate/anaconda3/lib/python3.7/site-packages/sklearn/covariance/robust_covariance.py:165: RuntimeWarning: Warning! det > previous_det (-15.411665606889821 > -20.336816082982057)\n",
      "  % (det, previous_det), RuntimeWarning)\n",
      "/home/kate/anaconda3/lib/python3.7/site-packages/sklearn/covariance/robust_covariance.py:165: RuntimeWarning: Warning! det > previous_det (-22.807143375486053 > -28.678191992049946)\n",
      "  % (det, previous_det), RuntimeWarning)\n",
      "/home/kate/anaconda3/lib/python3.7/site-packages/sklearn/covariance/robust_covariance.py:165: RuntimeWarning: Warning! det > previous_det (-5.204711435658165 > -31.229329639269228)\n",
      "  % (det, previous_det), RuntimeWarning)\n",
      "/home/kate/anaconda3/lib/python3.7/site-packages/sklearn/covariance/robust_covariance.py:165: RuntimeWarning: Warning! det > previous_det (-10.763585682619851 > -22.022233431143054)\n",
      "  % (det, previous_det), RuntimeWarning)\n",
      "/home/kate/anaconda3/lib/python3.7/site-packages/sklearn/covariance/robust_covariance.py:165: RuntimeWarning: Warning! det > previous_det (-14.904268514103084 > -20.358412784915224)\n",
      "  % (det, previous_det), RuntimeWarning)\n",
      "/home/kate/anaconda3/lib/python3.7/site-packages/sklearn/covariance/robust_covariance.py:165: RuntimeWarning: Warning! det > previous_det (-3.816072361051789 > -45.166683577802488)\n",
      "  % (det, previous_det), RuntimeWarning)\n",
      "/home/kate/anaconda3/lib/python3.7/site-packages/sklearn/covariance/robust_covariance.py:165: RuntimeWarning: Warning! det > previous_det (-19.228516180607503 > -43.477412737012735)\n",
      "  % (det, previous_det), RuntimeWarning)\n",
      "/home/kate/anaconda3/lib/python3.7/site-packages/sklearn/covariance/robust_covariance.py:165: RuntimeWarning: Warning! det > previous_det (-4.846222277906993 > -29.692400033274179)\n",
      "  % (det, previous_det), RuntimeWarning)\n",
      "/home/kate/anaconda3/lib/python3.7/site-packages/sklearn/covariance/robust_covariance.py:165: RuntimeWarning: Warning! det > previous_det (-23.310936556511312 > -23.647647649570242)\n",
      "  % (det, previous_det), RuntimeWarning)\n",
      "/home/kate/anaconda3/lib/python3.7/site-packages/sklearn/covariance/robust_covariance.py:165: RuntimeWarning: Warning! det > previous_det (-13.815070927997713 > -24.377136994300169)\n",
      "  % (det, previous_det), RuntimeWarning)\n",
      "/home/kate/anaconda3/lib/python3.7/site-packages/sklearn/covariance/robust_covariance.py:165: RuntimeWarning: Warning! det > previous_det (-16.050971774541466 > -22.387142432560953)\n",
      "  % (det, previous_det), RuntimeWarning)\n",
      "/home/kate/anaconda3/lib/python3.7/site-packages/sklearn/covariance/robust_covariance.py:165: RuntimeWarning: Warning! det > previous_det (-15.591065222698962 > -25.546755693131406)\n",
      "  % (det, previous_det), RuntimeWarning)\n",
      "/home/kate/anaconda3/lib/python3.7/site-packages/sklearn/covariance/robust_covariance.py:165: RuntimeWarning: Warning! det > previous_det (-1.979793660836110 > -28.857449412541595)\n",
      "  % (det, previous_det), RuntimeWarning)\n",
      "/home/kate/anaconda3/lib/python3.7/site-packages/sklearn/covariance/robust_covariance.py:165: RuntimeWarning: Warning! det > previous_det (-16.192309477155547 > -36.856419541141499)\n",
      "  % (det, previous_det), RuntimeWarning)\n",
      "/home/kate/anaconda3/lib/python3.7/site-packages/sklearn/covariance/robust_covariance.py:165: RuntimeWarning: Warning! det > previous_det (-13.617818450036337 > -23.989264220708957)\n",
      "  % (det, previous_det), RuntimeWarning)\n",
      "/home/kate/anaconda3/lib/python3.7/site-packages/sklearn/covariance/robust_covariance.py:165: RuntimeWarning: Warning! det > previous_det (-25.884807298659748 > -27.402547002380057)\n",
      "  % (det, previous_det), RuntimeWarning)\n",
      "/home/kate/anaconda3/lib/python3.7/site-packages/sklearn/covariance/robust_covariance.py:165: RuntimeWarning: Warning! det > previous_det (-20.274259677085915 > -42.010127457539532)\n",
      "  % (det, previous_det), RuntimeWarning)\n",
      "/home/kate/anaconda3/lib/python3.7/site-packages/sklearn/covariance/robust_covariance.py:165: RuntimeWarning: Warning! det > previous_det (-22.270824676143960 > -30.010835566409234)\n",
      "  % (det, previous_det), RuntimeWarning)\n",
      "/home/kate/anaconda3/lib/python3.7/site-packages/sklearn/covariance/robust_covariance.py:165: RuntimeWarning: Warning! det > previous_det (-8.030835814046775 > -42.229798229720103)\n",
      "  % (det, previous_det), RuntimeWarning)\n",
      "/home/kate/anaconda3/lib/python3.7/site-packages/sklearn/covariance/robust_covariance.py:165: RuntimeWarning: Warning! det > previous_det (-10.338608176339566 > -40.807472587165520)\n",
      "  % (det, previous_det), RuntimeWarning)\n",
      "/home/kate/anaconda3/lib/python3.7/site-packages/sklearn/covariance/robust_covariance.py:165: RuntimeWarning: Warning! det > previous_det (-7.000726315528204 > -41.352085758609149)\n",
      "  % (det, previous_det), RuntimeWarning)\n",
      "/home/kate/anaconda3/lib/python3.7/site-packages/sklearn/covariance/robust_covariance.py:165: RuntimeWarning: Warning! det > previous_det (-20.167161728649976 > -26.524649399185517)\n",
      "  % (det, previous_det), RuntimeWarning)\n",
      "/home/kate/anaconda3/lib/python3.7/site-packages/sklearn/covariance/robust_covariance.py:165: RuntimeWarning: Warning! det > previous_det (-13.570978480643195 > -26.461724086226017)\n",
      "  % (det, previous_det), RuntimeWarning)\n",
      "/home/kate/anaconda3/lib/python3.7/site-packages/sklearn/covariance/robust_covariance.py:165: RuntimeWarning: Warning! det > previous_det (-11.069416786425533 > -25.520162935999963)\n",
      "  % (det, previous_det), RuntimeWarning)\n",
      "/home/kate/anaconda3/lib/python3.7/site-packages/sklearn/covariance/robust_covariance.py:165: RuntimeWarning: Warning! det > previous_det (-23.659948272197997 > -26.055665769295349)\n",
      "  % (det, previous_det), RuntimeWarning)\n",
      "/home/kate/anaconda3/lib/python3.7/site-packages/sklearn/covariance/robust_covariance.py:165: RuntimeWarning: Warning! det > previous_det (-13.367337795953565 > -32.372514082795966)\n",
      "  % (det, previous_det), RuntimeWarning)\n",
      "/home/kate/anaconda3/lib/python3.7/site-packages/sklearn/covariance/robust_covariance.py:165: RuntimeWarning: Warning! det > previous_det (-16.937822264341456 > -27.390616618120930)\n",
      "  % (det, previous_det), RuntimeWarning)\n",
      "/home/kate/anaconda3/lib/python3.7/site-packages/sklearn/covariance/robust_covariance.py:165: RuntimeWarning: Warning! det > previous_det (-17.301745388734897 > -17.647859027322987)\n",
      "  % (det, previous_det), RuntimeWarning)\n",
      "/home/kate/anaconda3/lib/python3.7/site-packages/sklearn/covariance/robust_covariance.py:165: RuntimeWarning: Warning! det > previous_det (-16.004073893781396 > -19.300199031670516)\n",
      "  % (det, previous_det), RuntimeWarning)\n",
      "/home/kate/anaconda3/lib/python3.7/site-packages/sklearn/covariance/robust_covariance.py:165: RuntimeWarning: Warning! det > previous_det (-18.687163080591610 > -33.406756190122707)\n",
      "  % (det, previous_det), RuntimeWarning)\n",
      "/home/kate/anaconda3/lib/python3.7/site-packages/sklearn/covariance/robust_covariance.py:165: RuntimeWarning: Warning! det > previous_det (-18.838344966178223 > -20.835321425413795)\n",
      "  % (det, previous_det), RuntimeWarning)\n",
      "/home/kate/anaconda3/lib/python3.7/site-packages/sklearn/covariance/robust_covariance.py:165: RuntimeWarning: Warning! det > previous_det (-14.758860337918698 > -19.494448340670669)\n",
      "  % (det, previous_det), RuntimeWarning)\n",
      "/home/kate/anaconda3/lib/python3.7/site-packages/sklearn/covariance/robust_covariance.py:165: RuntimeWarning: Warning! det > previous_det (-24.001238262793436 > -36.299508061533857)\n",
      "  % (det, previous_det), RuntimeWarning)\n",
      "/home/kate/anaconda3/lib/python3.7/site-packages/sklearn/covariance/robust_covariance.py:165: RuntimeWarning: Warning! det > previous_det (-18.651655029053234 > -19.666597457823958)\n",
      "  % (det, previous_det), RuntimeWarning)\n",
      "/home/kate/anaconda3/lib/python3.7/site-packages/sklearn/covariance/robust_covariance.py:165: RuntimeWarning: Warning! det > previous_det (-13.971012172959435 > -24.080969168439719)\n",
      "  % (det, previous_det), RuntimeWarning)\n",
      "/home/kate/anaconda3/lib/python3.7/site-packages/sklearn/covariance/robust_covariance.py:165: RuntimeWarning: Warning! det > previous_det (-0.442871809428487 > -33.801013616677757)\n",
      "  % (det, previous_det), RuntimeWarning)\n"
     ]
    },
    {
     "name": "stderr",
     "output_type": "stream",
     "text": [
      "/home/kate/anaconda3/lib/python3.7/site-packages/sklearn/covariance/robust_covariance.py:165: RuntimeWarning: Warning! det > previous_det (-6.565718354461369 > -26.798011819266918)\n",
      "  % (det, previous_det), RuntimeWarning)\n",
      "/home/kate/anaconda3/lib/python3.7/site-packages/sklearn/covariance/robust_covariance.py:165: RuntimeWarning: Warning! det > previous_det (-14.345353047801717 > -24.270156326769744)\n",
      "  % (det, previous_det), RuntimeWarning)\n",
      "/home/kate/anaconda3/lib/python3.7/site-packages/sklearn/covariance/robust_covariance.py:165: RuntimeWarning: Warning! det > previous_det (-0.989430943527644 > -33.714087659779693)\n",
      "  % (det, previous_det), RuntimeWarning)\n",
      "/home/kate/anaconda3/lib/python3.7/site-packages/sklearn/covariance/robust_covariance.py:165: RuntimeWarning: Warning! det > previous_det (0.976060449300079 > -31.931512375678324)\n",
      "  % (det, previous_det), RuntimeWarning)\n",
      "/home/kate/anaconda3/lib/python3.7/site-packages/sklearn/covariance/robust_covariance.py:165: RuntimeWarning: Warning! det > previous_det (-1.028113611554845 > -29.635139639991205)\n",
      "  % (det, previous_det), RuntimeWarning)\n",
      "/home/kate/anaconda3/lib/python3.7/site-packages/sklearn/covariance/robust_covariance.py:165: RuntimeWarning: Warning! det > previous_det (-2.288676322187727 > -30.336179233757605)\n",
      "  % (det, previous_det), RuntimeWarning)\n",
      "/home/kate/anaconda3/lib/python3.7/site-packages/sklearn/covariance/robust_covariance.py:165: RuntimeWarning: Warning! det > previous_det (-3.086927325253471 > -30.674159742508234)\n",
      "  % (det, previous_det), RuntimeWarning)\n",
      "/home/kate/anaconda3/lib/python3.7/site-packages/sklearn/covariance/robust_covariance.py:165: RuntimeWarning: Warning! det > previous_det (-7.744511638761005 > -24.396141004720743)\n",
      "  % (det, previous_det), RuntimeWarning)\n",
      "/home/kate/anaconda3/lib/python3.7/site-packages/sklearn/covariance/robust_covariance.py:165: RuntimeWarning: Warning! det > previous_det (-1.506204116678971 > -29.394396097741023)\n",
      "  % (det, previous_det), RuntimeWarning)\n",
      "/home/kate/anaconda3/lib/python3.7/site-packages/scipy/stats/stats.py:1713: FutureWarning: Using a non-tuple sequence for multidimensional indexing is deprecated; use `arr[tuple(seq)]` instead of `arr[seq]`. In the future this will be interpreted as an array index, `arr[np.array(seq)]`, which will result either in an error or a different result.\n",
      "  return np.add.reduce(sorted[indexer] * weights, axis=axis) / sumval\n"
     ]
    }
   ],
   "source": [
    "model = EllipticEnvelope(contamination=0.01)\n",
    "\n",
    "model.fit(train_X)\n",
    "\n",
    "predictions_elliptic = -model.decision_function(test_X)\n",
    "\n",
    "labels_elliptic = model.predict(test_X)"
   ]
  },
  {
   "cell_type": "code",
   "execution_count": 58,
   "metadata": {},
   "outputs": [
    {
     "data": {
      "image/png": "[encoded data removed]",
      "text/plain": [
       "<Figure size 1080x360 with 2 Axes>"
      ]
     },
     "metadata": {
      "needs_background": "light"
     },
     "output_type": "display_data"
    }
   ],
   "source": [
    "plot_results(test_y, predictions_elliptic)\n",
    "\n",
    "metrics_elliptic = show_metrics(test_y, (labels_elliptic < 0) * 1)"
   ]
  },
  {
   "cell_type": "markdown",
   "metadata": {},
   "source": [
    "<br>"
   ]
  },
  {
   "cell_type": "markdown",
   "metadata": {
    "slideshow": {
     "slide_type": "slide"
    }
   },
   "source": [
    "### Изолирующий Лес (Isolation Forest)\n",
    "\n",
    "* для каждого наблюдения рассчитывается средняя длина пути до него в случайном дереве\n",
    "  * деревья со случайными разбиениями с целью изолировать наблюдения\n",
    "  \n",
    "* чем короче средняя длина пути тем проще описать наблюдение\n",
    "  * тем в более изолированной части пространства оно находится\n",
    "\n",
    "* чем больше разбиений нужно для наблюдения, нормальнее оно"
   ]
  },
  {
   "cell_type": "code",
   "execution_count": 25,
   "metadata": {},
   "outputs": [
    {
     "name": "stderr",
     "output_type": "stream",
     "text": [
      "/home/kate/anaconda3/lib/python3.7/site-packages/sklearn/ensemble/weight_boosting.py:29: DeprecationWarning: numpy.core.umath_tests is an internal NumPy module and should not be imported. It will be removed in a future NumPy release.\n",
      "  from numpy.core.umath_tests import inner1d\n"
     ]
    }
   ],
   "source": [
    "from sklearn.ensemble import IsolationForest"
   ]
  },
  {
   "cell_type": "code",
   "execution_count": 59,
   "metadata": {
    "slideshow": {
     "slide_type": "slide"
    }
   },
   "outputs": [
    {
     "name": "stderr",
     "output_type": "stream",
     "text": [
      "/home/kate/anaconda3/lib/python3.7/site-packages/scipy/stats/stats.py:1713: FutureWarning: Using a non-tuple sequence for multidimensional indexing is deprecated; use `arr[tuple(seq)]` instead of `arr[seq]`. In the future this will be interpreted as an array index, `arr[np.array(seq)]`, which will result either in an error or a different result.\n",
      "  return np.add.reduce(sorted[indexer] * weights, axis=axis) / sumval\n"
     ]
    },
    {
     "data": {
      "image/png": "[encoded data removed]",
      "text/plain": [
       "<Figure size 720x504 with 1 Axes>"
      ]
     },
     "metadata": {
      "needs_background": "light"
     },
     "output_type": "display_data"
    }
   ],
   "source": [
    "model = IsolationForest(n_estimators=100,\n",
    "                        contamination=0.1,\n",
    "                        max_features=1.0,\n",
    "                        max_samples=1.0,\n",
    "                        bootstrap=True,\n",
    "                        random_state=0)\n",
    "model.fit(data_blob)\n",
    "\n",
    "plot_level_lines(model, data_blob)"
   ]
  },
  {
   "cell_type": "markdown",
   "metadata": {},
   "source": [
    "Несколько скоплений"
   ]
  },
  {
   "cell_type": "code",
   "execution_count": 60,
   "metadata": {
    "slideshow": {
     "slide_type": "slide"
    }
   },
   "outputs": [
    {
     "name": "stderr",
     "output_type": "stream",
     "text": [
      "/home/kate/anaconda3/lib/python3.7/site-packages/scipy/stats/stats.py:1713: FutureWarning: Using a non-tuple sequence for multidimensional indexing is deprecated; use `arr[tuple(seq)]` instead of `arr[seq]`. In the future this will be interpreted as an array index, `arr[np.array(seq)]`, which will result either in an error or a different result.\n",
      "  return np.add.reduce(sorted[indexer] * weights, axis=axis) / sumval\n"
     ]
    },
    {
     "data": {
      "image/png": "[encoded data removed]",
      "text/plain": [
       "<Figure size 720x504 with 1 Axes>"
      ]
     },
     "metadata": {
      "needs_background": "light"
     },
     "output_type": "display_data"
    }
   ],
   "source": [
    "model = IsolationForest(n_estimators=100,\n",
    "                        contamination=0.1,\n",
    "                        max_features=1.0,\n",
    "                        max_samples=1.0,\n",
    "                        bootstrap=True,\n",
    "                        random_state=0)\n",
    "model.fit(data_blobs)\n",
    "\n",
    "plot_level_lines(model, data_blobs)"
   ]
  },
  {
   "cell_type": "markdown",
   "metadata": {
    "slideshow": {
     "slide_type": "slide"
    }
   },
   "source": [
    "Плюсы:\n",
    "\n",
    "* Робастный метод"
   ]
  },
  {
   "cell_type": "markdown",
   "metadata": {
    "slideshow": {
     "slide_type": "slide"
    }
   },
   "source": [
    "Минусы:\n",
    "* плохая интерпертация\n",
    "\n",
    "* не различает скопления аномалий"
   ]
  },
  {
   "cell_type": "code",
   "execution_count": 28,
   "metadata": {},
   "outputs": [],
   "source": [
    "model = IsolationForest()\n",
    "\n",
    "model.fit(train_X)\n",
    "\n",
    "predictions_isolation = -model.decision_function(test_X)\n",
    "\n",
    "labels_isolation = model.predict(test_X)"
   ]
  },
  {
   "cell_type": "code",
   "execution_count": 29,
   "metadata": {},
   "outputs": [
    {
     "data": {
      "image/png": "[encoded data removed]",
      "text/plain": [
       "<Figure size 1080x360 with 2 Axes>"
      ]
     },
     "metadata": {
      "needs_background": "light"
     },
     "output_type": "display_data"
    }
   ],
   "source": [
    "plot_results(test_y, predictions_isolation)\n",
    "\n",
    "metrics_isolation = show_metrics(test_y, (labels_isolation < 0) * 1)"
   ]
  },
  {
   "cell_type": "markdown",
   "metadata": {},
   "source": [
    "<br>"
   ]
  },
  {
   "cell_type": "markdown",
   "metadata": {
    "slideshow": {
     "slide_type": "slide"
    }
   },
   "source": [
    "## Local Outlier Factor\n",
    "\n",
    "Основан на наблюдении, что нормальные наблюдения имеют тенденцию **скапливаться**\n",
    "\n",
    "* вводится показатель локальной плотности, обратно пропорциональный средним расстоянием до $k$ ближайших соседей\n",
    "\n",
    "* попарно сравнивается с показателями соседей\n",
    "\n",
    "* вычисляется отношение локальной аномальности"
   ]
  },
  {
   "cell_type": "markdown",
   "metadata": {},
   "source": [
    "Метод: https://towardsdatascience.com/local-outlier-factor-for-anomaly-detection-cc0c770d2ebe"
   ]
  },
  {
   "cell_type": "code",
   "execution_count": 31,
   "metadata": {},
   "outputs": [],
   "source": [
    "from sklearn.neighbors import LocalOutlierFactor"
   ]
  },
  {
   "cell_type": "markdown",
   "metadata": {
    "slideshow": {
     "slide_type": "fragment"
    }
   },
   "source": [
    "<img src=\"./figures/400px-LOF.svg.png\" alt=\"https://upload.wikimedia.org/wikipedia/commons/thumb/5/59/LOF.svg/400px-LOF.svg.png\">"
   ]
  },
  {
   "cell_type": "code",
   "execution_count": 32,
   "metadata": {
    "slideshow": {
     "slide_type": "slide"
    }
   },
   "outputs": [
    {
     "data": {
      "image/png": "[encoded data removed]",
      "text/plain": [
       "<Figure size 720x504 with 1 Axes>"
      ]
     },
     "metadata": {
      "needs_background": "light"
     },
     "output_type": "display_data"
    }
   ],
   "source": [
    "model = LocalOutlierFactor(n_neighbors=20, \n",
    "                           contamination=0.1,\n",
    "                           metric='minkowski', \n",
    "                           p=2)\n",
    "model.fit(data_blob)\n",
    "\n",
    "plot_level_lines(model, data_blob)"
   ]
  },
  {
   "cell_type": "code",
   "execution_count": 33,
   "metadata": {
    "slideshow": {
     "slide_type": "slide"
    }
   },
   "outputs": [
    {
     "data": {
      "image/png": "[encoded data removed]",
      "text/plain": [
       "<Figure size 720x504 with 1 Axes>"
      ]
     },
     "metadata": {
      "needs_background": "light"
     },
     "output_type": "display_data"
    }
   ],
   "source": [
    "model = LocalOutlierFactor(n_neighbors=20, \n",
    "                           contamination=0.1,\n",
    "                           metric='minkowski', \n",
    "                           p=2)\n",
    "model.fit(data_blobs)\n",
    "\n",
    "plot_level_lines(model, data_blobs)"
   ]
  },
  {
   "cell_type": "markdown",
   "metadata": {
    "slideshow": {
     "slide_type": "slide"
    }
   },
   "source": [
    "Плюсы:\n",
    "* непараметрический метод"
   ]
  },
  {
   "cell_type": "markdown",
   "metadata": {
    "slideshow": {
     "slide_type": "slide"
    }
   },
   "source": [
    "Минусы:\n",
    "* подвержен проблеме \"проклятия размерности\", тк основан на расстояниях\n",
    "* не может отличить скопления аномалий от нормальных точек\n",
    "* без модификаций не поддерживает проверку аномальности на новых данных без обучения"
   ]
  },
  {
   "cell_type": "code",
   "execution_count": 34,
   "metadata": {},
   "outputs": [],
   "source": [
    "model = LocalOutlierFactor(contamination=0.02)\n",
    "\n",
    "model.fit(train_X)\n",
    "\n",
    "predictions_lof = -model._decision_function(test_X)\n",
    "\n",
    "labels_lof = -predictions_lof"
   ]
  },
  {
   "cell_type": "code",
   "execution_count": 35,
   "metadata": {},
   "outputs": [
    {
     "data": {
      "image/png": "[encoded data removed]",
      "text/plain": [
       "<Figure size 1080x360 with 2 Axes>"
      ]
     },
     "metadata": {
      "needs_background": "light"
     },
     "output_type": "display_data"
    },
    {
     "data": {
      "text/plain": [
       "accuracy     0.017010\n",
       "precision    0.017010\n",
       "recall       1.000000\n",
       "f1_score     0.033451\n",
       "f_5.0        0.310305\n",
       "f_0.2        0.017678\n",
       "dtype: float64"
      ]
     },
     "execution_count": 35,
     "metadata": {},
     "output_type": "execute_result"
    }
   ],
   "source": [
    "plot_results(test_y, predictions_lof)\n",
    "\n",
    "show_metrics(test_y, (labels_lof < 0) * 1)"
   ]
  },
  {
   "cell_type": "markdown",
   "metadata": {
    "slideshow": {
     "slide_type": "slide"
    }
   },
   "source": [
    "## One Class SVM\n",
    "\n",
    "Основная идея -- отделить данные в спрямляющем пространстве **мягкой гиперплоскостью** от нуля\n",
    "\n",
    "Решает задачу\n",
    "\\begin{aligned}\n",
    "  & \\underset{\\rho, f\\in \\mathcal{H}}{\\text{минимизировать}}\n",
    "    & & \\tfrac12 \\|f\\|^2 - \\rho\n",
    "        + \\tfrac1{m \\nu} \\sum_{i=1}^m \\max\\bigl\\{\n",
    "            0, \\rho - f(x_i) \\bigr\\}\\,,\n",
    "\\end{aligned}"
   ]
  },
  {
   "cell_type": "markdown",
   "metadata": {
    "scrolled": true
   },
   "source": [
    "Визуализация одноклассового метода опорных векторов: http://rvlasveld.github.io/blog/2013/07/12/introduction-to-one-class-support-vector-machines/"
   ]
  },
  {
   "cell_type": "markdown",
   "metadata": {},
   "source": [
    "Визуализация `gamma` для `rbf` ядра: https://bitquill.net/blog/quick-hack-visualizing-rbf-bandwidth/"
   ]
  },
  {
   "cell_type": "code",
   "execution_count": 36,
   "metadata": {},
   "outputs": [],
   "source": [
    "from sklearn.svm import OneClassSVM"
   ]
  },
  {
   "cell_type": "markdown",
   "metadata": {
    "slideshow": {
     "slide_type": "fragment"
    }
   },
   "source": [
    "<img src=\"./figures/Illustration-of-one-class-SVM-with-an-RBF-kernel.png\" alt=\"https://www.researchgate.net/publication/5440805/figure/fig2/AS:267576357945378@1440806583780/Illustration-of-one-class-SVM-with-an-RBF-kernel.png\">"
   ]
  },
  {
   "cell_type": "code",
   "execution_count": 78,
   "metadata": {
    "slideshow": {
     "slide_type": "slide"
    }
   },
   "outputs": [
    {
     "data": {
      "image/png": "[encoded data removed]",
      "text/plain": [
       "<Figure size 720x504 with 1 Axes>"
      ]
     },
     "metadata": {
      "needs_background": "light"
     },
     "output_type": "display_data"
    }
   ],
   "source": [
    "model = OneClassSVM(nu=0.5, kernel='rbf', gamma=0.1)\n",
    "\n",
    "model.fit(data_blobs)\n",
    "\n",
    "plot_level_lines(model, data_blobs)"
   ]
  },
  {
   "cell_type": "code",
   "execution_count": 79,
   "metadata": {
    "slideshow": {
     "slide_type": "slide"
    }
   },
   "outputs": [
    {
     "data": {
      "image/png": "[encoded data removed]",
      "text/plain": [
       "<Figure size 720x504 with 1 Axes>"
      ]
     },
     "metadata": {
      "needs_background": "light"
     },
     "output_type": "display_data"
    }
   ],
   "source": [
    "model = OneClassSVM(nu=0.5, kernel='rbf', gamma=0.1)\n",
    "\n",
    "model.fit(data_blob)\n",
    "\n",
    "plot_level_lines(model, data_blob)"
   ]
  },
  {
   "cell_type": "markdown",
   "metadata": {
    "slideshow": {
     "slide_type": "slide"
    }
   },
   "source": [
    "Плюсы:\n",
    "* непараметрический метод\n",
    "* применим не только к объектам из $\\mathbb{R}^n$ (линейного пространства)\n",
    "  * ядра на строках, графах и пр.\n",
    "* может быть полезным при разумном выборе ядра"
   ]
  },
  {
   "cell_type": "markdown",
   "metadata": {
    "slideshow": {
     "slide_type": "slide"
    }
   },
   "source": [
    "Минусы:\n",
    "* вычислительно затратен и плохо масштабируется\n",
    "* необходимо хранить часть обучающей выборки"
   ]
  },
  {
   "cell_type": "code",
   "execution_count": 47,
   "metadata": {},
   "outputs": [
    {
     "data": {
      "text/plain": [
       "(14462, 30)"
      ]
     },
     "execution_count": 47,
     "metadata": {},
     "output_type": "execute_result"
    }
   ],
   "source": [
    "train_X.shape"
   ]
  },
  {
   "cell_type": "code",
   "execution_count": 80,
   "metadata": {},
   "outputs": [],
   "source": [
    "model = OneClassSVM(nu=0.017, kernel='rbf', gamma=0.1)\n",
    "\n",
    "model.fit(train_X)\n",
    "\n",
    "predictions_svm = -model.decision_function(test_X)\n",
    "\n",
    "labels_svm = model.predict(test_X)"
   ]
  },
  {
   "cell_type": "code",
   "execution_count": 81,
   "metadata": {},
   "outputs": [
    {
     "data": {
      "image/png": "[encoded data removed]",
      "text/plain": [
       "<Figure size 1080x360 with 2 Axes>"
      ]
     },
     "metadata": {
      "needs_background": "light"
     },
     "output_type": "display_data"
    }
   ],
   "source": [
    "plot_results(test_y, predictions_svm)\n",
    "\n",
    "metrics_svm = show_metrics(test_y, (labels_svm < 0) * 1)"
   ]
  },
  {
   "cell_type": "markdown",
   "metadata": {},
   "source": [
    "<br>"
   ]
  },
  {
   "cell_type": "markdown",
   "metadata": {
    "slideshow": {
     "slide_type": "slide"
    }
   },
   "source": [
    "## Обнаружение аномалий методом PCA\n"
   ]
  },
  {
   "cell_type": "markdown",
   "metadata": {},
   "source": [
    "* метод **PCA** отыскивает $m$-мерное линейное преобразование данных в факторы\n",
    "  - ошибка аппроксимации низка\n",
    "\n",
    "  - компоненты преобразования линейно независимы и попарно перпендикулярны"
   ]
  },
  {
   "cell_type": "code",
   "execution_count": 48,
   "metadata": {},
   "outputs": [],
   "source": [
    "from sklearn.decomposition import PCA"
   ]
  },
  {
   "cell_type": "markdown",
   "metadata": {
    "slideshow": {
     "slide_type": "fragment"
    }
   },
   "source": [
    "<img src=\"./figures/pca-example-1D-of-2D_small.png\" alt=\"https://alliance.seas.upenn.edu/~cis520/dynamic/2017/wiki/uploads/Lectures/pca-example-1D-of-2D_small.png\">"
   ]
  },
  {
   "cell_type": "code",
   "execution_count": 49,
   "metadata": {
    "slideshow": {
     "slide_type": "skip"
    }
   },
   "outputs": [],
   "source": [
    "from sklearn.base import BaseEstimator\n",
    "from sklearn.decomposition import PCA\n",
    "\n",
    "\n",
    "class PCAAnomalyDetector(BaseEstimator):\n",
    "    def __init__(self, n_components=2, contamination=0.1):\n",
    "        self.n_components = n_components\n",
    "        self.contamination = contamination\n",
    "    \n",
    "    def fit(self, data):\n",
    "        self.pca_model_ = PCA(n_components=self.n_components)\n",
    "        self.pca_model_.fit(data)\n",
    "\n",
    "        low_dim_data = self.pca_model_.transform(data)\n",
    "        new_data = self.pca_model_.inverse_transform(low_dim_data)\n",
    "\n",
    "        distances = np.linalg.norm(data - new_data, axis=1)\n",
    "\n",
    "        self.threshold_ = -np.percentile(distances, 100 - self.contamination * 100)\n",
    "\n",
    "        return self\n",
    "        \n",
    "    def decision_function(self, data):\n",
    "        low_dim_data = self.pca_model_.transform(data)\n",
    "        new_data = self.pca_model_.inverse_transform(low_dim_data)\n",
    "\n",
    "        return - np.linalg.norm(data - new_data, axis=1)\n",
    "    \n",
    "    def predict(self, data):\n",
    "        scores = self.decision_function(data)\n",
    "        return np.where(scores > self.threshold_, +1, -1)"
   ]
  },
  {
   "cell_type": "code",
   "execution_count": 50,
   "metadata": {},
   "outputs": [
    {
     "data": {
      "image/png": "[encoded data removed]",
      "text/plain": [
       "<Figure size 720x504 with 1 Axes>"
      ]
     },
     "metadata": {
      "needs_background": "light"
     },
     "output_type": "display_data"
    }
   ],
   "source": [
    "model = PCAAnomalyDetector(n_components=1)\n",
    "model.fit(data_blobs)\n",
    "\n",
    "plot_level_lines(model, data_blobs)"
   ]
  },
  {
   "cell_type": "markdown",
   "metadata": {},
   "source": [
    "Плюсы:\n",
    "  * простой метод"
   ]
  },
  {
   "cell_type": "markdown",
   "metadata": {},
   "source": [
    "Минусы:\n",
    "  * использует линейную аппроксимацию данных"
   ]
  },
  {
   "cell_type": "code",
   "execution_count": 51,
   "metadata": {},
   "outputs": [],
   "source": [
    "model = PCAAnomalyDetector(n_components=12, contamination=0.01)\n",
    "\n",
    "model.fit(train_X)\n",
    "predictions_pca = -model.decision_function(test_X)\n",
    "\n",
    "labels_pca = model.predict(test_X)"
   ]
  },
  {
   "cell_type": "code",
   "execution_count": 52,
   "metadata": {},
   "outputs": [
    {
     "data": {
      "image/png": "[encoded data removed]",
      "text/plain": [
       "<Figure size 1080x360 with 2 Axes>"
      ]
     },
     "metadata": {
      "needs_background": "light"
     },
     "output_type": "display_data"
    }
   ],
   "source": [
    "plot_results(test_y, predictions_pca)\n",
    "\n",
    "metrics_pca = show_metrics(test_y, (labels_pca < 0) * 1)"
   ]
  },
  {
   "cell_type": "markdown",
   "metadata": {},
   "source": [
    "<br>"
   ]
  },
  {
   "cell_type": "markdown",
   "metadata": {},
   "source": [
    "## Бинарная классификация"
   ]
  },
  {
   "cell_type": "markdown",
   "metadata": {},
   "source": [
    "Воспользуемся логистической регрессией"
   ]
  },
  {
   "cell_type": "code",
   "execution_count": 53,
   "metadata": {
    "slideshow": {
     "slide_type": "skip"
    }
   },
   "outputs": [],
   "source": [
    "from sklearn.linear_model import LogisticRegression\n",
    "\n",
    "\n",
    "estimator = LogisticRegression(class_weight=None)\n",
    "\n",
    "grid = {\n",
    "    \"C\" : np.logspace(-3, +3, num=10)\n",
    "}"
   ]
  },
  {
   "cell_type": "markdown",
   "metadata": {},
   "source": [
    "Будем стараться честно построить модель"
   ]
  },
  {
   "cell_type": "code",
   "execution_count": 54,
   "metadata": {},
   "outputs": [],
   "source": [
    "from sklearn.model_selection import GridSearchCV\n",
    "\n",
    "from sklearn.metrics import make_scorer\n",
    "\n",
    "f1_scorer = make_scorer(f1_score)"
   ]
  },
  {
   "cell_type": "markdown",
   "metadata": {},
   "source": [
    "Будем использовать модификацию $k$-fold валидации, которая **специально сохраняет баланс**\n",
    "классов -- так называемый стратифицированный $k$-fold."
   ]
  },
  {
   "cell_type": "code",
   "execution_count": 55,
   "metadata": {},
   "outputs": [],
   "source": [
    "from sklearn.model_selection import StratifiedKFold\n",
    "\n",
    "st_kfold = StratifiedKFold(n_splits=5)"
   ]
  },
  {
   "cell_type": "markdown",
   "metadata": {},
   "source": [
    "Оценим лог-регрессию с кросс валидацией"
   ]
  },
  {
   "cell_type": "code",
   "execution_count": 56,
   "metadata": {
    "slideshow": {
     "slide_type": "slide"
    }
   },
   "outputs": [],
   "source": [
    "cv_grid = GridSearchCV(estimator, grid, scoring=f1_scorer, cv=st_kfold, n_jobs=1)\n",
    "\n",
    "cv_grid.fit(train_X, train_y) ;"
   ]
  },
  {
   "cell_type": "markdown",
   "metadata": {},
   "source": [
    "Оценим метрики для самой лучшей модели по валидации"
   ]
  },
  {
   "cell_type": "code",
   "execution_count": 58,
   "metadata": {},
   "outputs": [],
   "source": [
    "logistic_naive = cv_grid.best_estimator_\n",
    "\n",
    "logistic_naive_test_pred = logistic_naive.predict(test_X)\n",
    "\n",
    "metrics_logistic_naive = show_metrics(test_y, logistic_naive_test_pred)"
   ]
  },
  {
   "cell_type": "code",
   "execution_count": 59,
   "metadata": {},
   "outputs": [
    {
     "data": {
      "text/plain": [
       "accuracy     0.993293\n",
       "precision    0.840183\n",
       "recall       0.747967\n",
       "f1_score     0.791398\n",
       "f_5.0        0.751138\n",
       "f_0.2        0.836217\n",
       "dtype: float64"
      ]
     },
     "execution_count": 59,
     "metadata": {},
     "output_type": "execute_result"
    }
   ],
   "source": [
    "metrics_logistic_naive"
   ]
  },
  {
   "cell_type": "markdown",
   "metadata": {},
   "source": [
    "Можно ли улучшить `precision` и `recall`?"
   ]
  },
  {
   "cell_type": "markdown",
   "metadata": {},
   "source": [
    "<br>"
   ]
  },
  {
   "cell_type": "markdown",
   "metadata": {},
   "source": [
    "### Балансировка и Ресэмплинг"
   ]
  },
  {
   "cell_type": "markdown",
   "metadata": {},
   "source": [
    "#### Балансировка лосса"
   ]
  },
  {
   "cell_type": "markdown",
   "metadata": {},
   "source": [
    "В базовом (\"наивном\") случае лог-регрессия использует лог лосс:\n",
    "* на выборке $(x_i, y_i)_{i=1}^m$ с $y_i \\in \\{\\pm 1\\}$ решается задача\n",
    "\\begin{aligned}\n",
    "  & \\underset{\\beta_0, \\beta}{\\text{минимизировать}}\n",
    "    & & \\tfrac12 \\|\\beta\\|_2^2\n",
    "        + C \\sum_{i=1}^m l\\bigl(y_i, f(x_i)\\bigr)\n",
    "        \\,, \\\\\n",
    "  & & & l(y, p) = \\log \\bigl(1 + \\exp\\{- y p \\}\\bigr)\n",
    "        \\,, \\\\\n",
    "  & & & f(x) = x^{\\rm T} \\beta + \\beta_0\n",
    "\\end{aligned}"
   ]
  },
  {
   "cell_type": "markdown",
   "metadata": {},
   "source": [
    "Но можно минимизировать функцию потерь, взвешенный по меткам класса:\n",
    "\\begin{aligned}\n",
    "  & \\underset{\\beta_0, \\beta}{\\text{минимизировать}}\n",
    "    & & \\tfrac12 \\|\\beta\\|_2^2\n",
    "        + C w_+ \\sum_{i\\colon y_i = +1} l\\bigl(+1, f(x_i)\\bigr)\n",
    "        + C w_- \\sum_{i\\colon y_i = -1} l\\bigl(-1, f(x_i)\\bigr)\n",
    "        \\,, \\\\\n",
    "  & & & l(y, p) = \\log \\bigl(1 + \\exp\\{- y p \\}\\bigr)\n",
    "        \\,, \\\\\n",
    "  & & & f(x) = x^{\\rm T} \\beta + \\beta_0\n",
    "\\end{aligned}"
   ]
  },
  {
   "cell_type": "markdown",
   "metadata": {},
   "source": [
    "* в случае \"наивного\" взвешивания $w_+ = w_- = 1$."
   ]
  },
  {
   "cell_type": "markdown",
   "metadata": {},
   "source": [
    "* в случае \"сбалансированного\" взвешивания $w_+ = \\tfrac{m}{2 n_+}$ и $w_- = \\tfrac{m}{2 n_-}$."
   ]
  },
  {
   "cell_type": "code",
   "execution_count": 60,
   "metadata": {},
   "outputs": [],
   "source": [
    "estimator = LogisticRegression(class_weight = \"balanced\")\n",
    "\n",
    "cv_grid = GridSearchCV(estimator, grid, scoring=f1_scorer, cv = st_kfold, n_jobs = 1)\n",
    "\n",
    "cv_grid.fit(train_X, train_y) ;"
   ]
  },
  {
   "cell_type": "code",
   "execution_count": 61,
   "metadata": {},
   "outputs": [],
   "source": [
    "logistic_balanced = cv_grid.best_estimator_\n",
    "\n",
    "logistic_balanced_test_pred = logistic_balanced.predict(test_X)\n",
    "\n",
    "metrics_logistic_balanced = show_metrics(test_y, logistic_balanced_test_pred)"
   ]
  },
  {
   "cell_type": "code",
   "execution_count": 62,
   "metadata": {},
   "outputs": [
    {
     "data": {
      "text/plain": [
       "accuracy     0.976559\n",
       "precision    0.414048\n",
       "recall       0.910569\n",
       "f1_score     0.569250\n",
       "f_5.0        0.870423\n",
       "f_0.2        0.422918\n",
       "dtype: float64"
      ]
     },
     "execution_count": 62,
     "metadata": {},
     "output_type": "execute_result"
    }
   ],
   "source": [
    "metrics_logistic_balanced"
   ]
  },
  {
   "cell_type": "markdown",
   "metadata": {},
   "source": [
    "#### Ресэмплинг"
   ]
  },
  {
   "cell_type": "markdown",
   "metadata": {},
   "source": [
    "Основная идея -- сбалансировать классы в обучающей выборке добавлением наблюдений или изменением их веса."
   ]
  },
  {
   "cell_type": "markdown",
   "metadata": {},
   "source": [
    "Рассмотрим технику прореживания доминирующего класса (*undersampling*)"
   ]
  },
  {
   "cell_type": "markdown",
   "metadata": {},
   "source": [
    "Для достижения баланса первая техника физически отбрасывает долю наблюдений доминирующего класса `0`."
   ]
  },
  {
   "cell_type": "code",
   "execution_count": 69,
   "metadata": {},
   "outputs": [],
   "source": [
    "from sklearn.utils import check_random_state, safe_indexing\n",
    "\n",
    "\n",
    "def undersample(X, y, ratio=20, pos_label=1, random_state=None):\n",
    "    random_state = check_random_state(random_state)\n",
    "\n",
    "    # отбрасываем случайную долю наблюдений доминирующего класса\n",
    "    class_major_index = np.flatnonzero(y != pos_label)\n",
    "\n",
    "    n_major = int(len(class_major_index) / ratio)\n",
    "    class_major_index = random_state.permutation(class_major_index)\n",
    "    class_major_index = class_major_index[:n_major]\n",
    "\n",
    "    # выбираем все примеры минорного класса\n",
    "    class_minor_index = np.flatnonzero(y == pos_label)\n",
    "\n",
    "    # составляем новую (временную) обучающую выборку\n",
    "    indices = np.r_[class_major_index, class_minor_index]\n",
    "\n",
    "    return safe_indexing(X, indices), safe_indexing(y, indices)"
   ]
  },
  {
   "cell_type": "markdown",
   "metadata": {},
   "source": [
    "Прореживание доминирующего класса\n",
    "* может сильно уменьшить количество наблюдений в итоговой обучающей\n",
    "выборке, что негативно сказывается на обученном классификаторе:\n",
    "    * может плохо обобщить из-за нехватки данных;\n",
    "    * сам алгоритм обучения моджет очень чувствителен к изменению выборки.\n",
    "\n",
    "\n",
    "* снижает затраты на обучение модели, позволяя тренировать больше классификаторов"
   ]
  },
  {
   "cell_type": "code",
   "execution_count": 70,
   "metadata": {},
   "outputs": [],
   "source": [
    "estimator = LogisticRegression(class_weight=None)"
   ]
  },
  {
   "cell_type": "markdown",
   "metadata": {},
   "source": [
    "Выделим из текущего трейна валидацоннный набор"
   ]
  },
  {
   "cell_type": "code",
   "execution_count": 71,
   "metadata": {},
   "outputs": [],
   "source": [
    "dev_X, val_X, dev_y, val_y = train_test_split(train_X, train_y, test_size=0.25,\n",
    "                                              stratify=train_y, random_state=321)"
   ]
  },
  {
   "cell_type": "markdown",
   "metadata": {},
   "source": [
    "Проведём валидацию модели с андерсэмплингом вручную"
   ]
  },
  {
   "cell_type": "code",
   "execution_count": 72,
   "metadata": {
    "scrolled": true
   },
   "outputs": [
    {
     "name": "stderr",
     "output_type": "stream",
     "text": [
      "100%|██████████| 10/10 [00:02<00:00,  3.49it/s]\n"
     ]
    }
   ],
   "source": [
    "from sklearn.model_selection import ParameterGrid\n",
    "from sklearn.base import clone\n",
    "\n",
    "n_resamples, ratio = 7, 10\n",
    "par_grid = ParameterGrid(grid)\n",
    "\n",
    "results_grid = []\n",
    "for par in tqdm.tqdm(par_grid):\n",
    "\n",
    "    results_resample = []\n",
    "    for b in range(n_resamples):\n",
    "        und_X, und_y = undersample(dev_X, dev_y, ratio, pos_label=1, random_state=None)\n",
    "\n",
    "        cv_estimator = clone(estimator).set_params(**par)\n",
    "        cv_estimator.fit(und_X, und_y)\n",
    "        \n",
    "        cv_val_pred = cv_estimator.predict(val_X)\n",
    "        results_resample.append(show_metrics(val_y, cv_val_pred))\n",
    "\n",
    "    # end for\n",
    "    results_resample = pd.concat(results_resample, axis=1).T\n",
    "\n",
    "    results_grid.append((par, results_resample.mean().rename(\"mean\")))\n",
    "# end for"
   ]
  },
  {
   "cell_type": "markdown",
   "metadata": {},
   "source": [
    "Выбираем $F_1$ метрики и находим наилучшую модель"
   ]
  },
  {
   "cell_type": "code",
   "execution_count": 73,
   "metadata": {},
   "outputs": [],
   "source": [
    "f1_scores = [(par, met[\"f1_score\"]) for par, met in results_grid]\n",
    "\n",
    "best_par_, _ = f1_scores[np.argmax([f1 for par, f1 in f1_scores])]"
   ]
  },
  {
   "cell_type": "markdown",
   "metadata": {},
   "source": [
    "Честно делаем андерсэмплинг и обучаем модель заново"
   ]
  },
  {
   "cell_type": "code",
   "execution_count": 74,
   "metadata": {},
   "outputs": [
    {
     "data": {
      "text/plain": [
       "LogisticRegression(C=10.0, class_weight=None, dual=False, fit_intercept=True,\n",
       "          intercept_scaling=1, max_iter=100, multi_class='ovr', n_jobs=1,\n",
       "          penalty='l2', random_state=None, solver='liblinear', tol=0.0001,\n",
       "          verbose=0, warm_start=False)"
      ]
     },
     "execution_count": 74,
     "metadata": {},
     "output_type": "execute_result"
    }
   ],
   "source": [
    "und_X, und_y = undersample(train_X, train_y, ratio, pos_label=1, random_state=None)\n",
    "\n",
    "logistic_undersample = clone(estimator).set_params(**best_par_)\n",
    "logistic_undersample.fit(und_X, und_y)"
   ]
  },
  {
   "cell_type": "markdown",
   "metadata": {},
   "source": [
    "Считаем метрики"
   ]
  },
  {
   "cell_type": "code",
   "execution_count": 75,
   "metadata": {},
   "outputs": [],
   "source": [
    "logistic_undersample_test_pred = logistic_undersample.predict(test_X)\n",
    "\n",
    "metrics_logistic_undersample = show_metrics(test_y, logistic_undersample_test_pred)"
   ]
  },
  {
   "cell_type": "code",
   "execution_count": 76,
   "metadata": {},
   "outputs": [
    {
     "data": {
      "text/plain": [
       "accuracy     0.992532\n",
       "precision    0.792373\n",
       "recall       0.760163\n",
       "f1_score     0.775934\n",
       "f_5.0        0.761353\n",
       "f_0.2        0.791084\n",
       "dtype: float64"
      ]
     },
     "execution_count": 76,
     "metadata": {},
     "output_type": "execute_result"
    }
   ],
   "source": [
    "metrics_logistic_undersample"
   ]
  },
  {
   "cell_type": "markdown",
   "metadata": {},
   "source": [
    "Сравним метрики"
   ]
  },
  {
   "cell_type": "code",
   "execution_count": 82,
   "metadata": {},
   "outputs": [
    {
     "data": {
      "text/html": [
       "<style  type=\"text/css\" >\n",
       "    #T_043802ae_9736_11e9_b17c_d3344ee2967crow0_col0 {\n",
       "            background-color:  #036e3a;\n",
       "        }    #T_043802ae_9736_11e9_b17c_d3344ee2967crow0_col1 {\n",
       "            background-color:  #fff0a6;\n",
       "        }    #T_043802ae_9736_11e9_b17c_d3344ee2967crow0_col2 {\n",
       "            background-color:  #da362a;\n",
       "        }    #T_043802ae_9736_11e9_b17c_d3344ee2967crow0_col3 {\n",
       "            background-color:  #feca79;\n",
       "        }    #T_043802ae_9736_11e9_b17c_d3344ee2967crow0_col4 {\n",
       "            background-color:  #e0422f;\n",
       "        }    #T_043802ae_9736_11e9_b17c_d3344ee2967crow0_col5 {\n",
       "            background-color:  #feeda1;\n",
       "        }    #T_043802ae_9736_11e9_b17c_d3344ee2967crow1_col0 {\n",
       "            background-color:  #15904c;\n",
       "        }    #T_043802ae_9736_11e9_b17c_d3344ee2967crow1_col1 {\n",
       "            background-color:  #e75337;\n",
       "        }    #T_043802ae_9736_11e9_b17c_d3344ee2967crow1_col2 {\n",
       "            background-color:  #33a456;\n",
       "        }    #T_043802ae_9736_11e9_b17c_d3344ee2967crow1_col3 {\n",
       "            background-color:  #fca55d;\n",
       "        }    #T_043802ae_9736_11e9_b17c_d3344ee2967crow1_col4 {\n",
       "            background-color:  #60ba62;\n",
       "        }    #T_043802ae_9736_11e9_b17c_d3344ee2967crow1_col5 {\n",
       "            background-color:  #e95538;\n",
       "        }    #T_043802ae_9736_11e9_b17c_d3344ee2967crow2_col0 {\n",
       "            background-color:  #04703b;\n",
       "        }    #T_043802ae_9736_11e9_b17c_d3344ee2967crow2_col1 {\n",
       "            background-color:  #fffab6;\n",
       "        }    #T_043802ae_9736_11e9_b17c_d3344ee2967crow2_col2 {\n",
       "            background-color:  #17934e;\n",
       "        }    #T_043802ae_9736_11e9_b17c_d3344ee2967crow2_col3 {\n",
       "            background-color:  #a0d669;\n",
       "        }    #T_043802ae_9736_11e9_b17c_d3344ee2967crow2_col4 {\n",
       "            background-color:  #006837;\n",
       "        }    #T_043802ae_9736_11e9_b17c_d3344ee2967crow2_col5 {\n",
       "            background-color:  #fffdbc;\n",
       "        }    #T_043802ae_9736_11e9_b17c_d3344ee2967crow3_col0 {\n",
       "            background-color:  #006837;\n",
       "        }    #T_043802ae_9736_11e9_b17c_d3344ee2967crow3_col1 {\n",
       "            background-color:  #006837;\n",
       "        }    #T_043802ae_9736_11e9_b17c_d3344ee2967crow3_col2 {\n",
       "            background-color:  #9dd569;\n",
       "        }    #T_043802ae_9736_11e9_b17c_d3344ee2967crow3_col3 {\n",
       "            background-color:  #006837;\n",
       "        }    #T_043802ae_9736_11e9_b17c_d3344ee2967crow3_col4 {\n",
       "            background-color:  #4bb05c;\n",
       "        }    #T_043802ae_9736_11e9_b17c_d3344ee2967crow3_col5 {\n",
       "            background-color:  #006837;\n",
       "        }    #T_043802ae_9736_11e9_b17c_d3344ee2967crow4_col0 {\n",
       "            background-color:  #006837;\n",
       "        }    #T_043802ae_9736_11e9_b17c_d3344ee2967crow4_col1 {\n",
       "            background-color:  #0e8245;\n",
       "        }    #T_043802ae_9736_11e9_b17c_d3344ee2967crow4_col2 {\n",
       "            background-color:  #93d168;\n",
       "        }    #T_043802ae_9736_11e9_b17c_d3344ee2967crow4_col3 {\n",
       "            background-color:  #05713c;\n",
       "        }    #T_043802ae_9736_11e9_b17c_d3344ee2967crow4_col4 {\n",
       "            background-color:  #42ac5a;\n",
       "        }    #T_043802ae_9736_11e9_b17c_d3344ee2967crow4_col5 {\n",
       "            background-color:  #0e8245;\n",
       "        }    #T_043802ae_9736_11e9_b17c_d3344ee2967crow5_col0 {\n",
       "            background-color:  #036e3a;\n",
       "        }    #T_043802ae_9736_11e9_b17c_d3344ee2967crow5_col1 {\n",
       "            background-color:  #fdb365;\n",
       "        }    #T_043802ae_9736_11e9_b17c_d3344ee2967crow5_col2 {\n",
       "            background-color:  #a50026;\n",
       "        }    #T_043802ae_9736_11e9_b17c_d3344ee2967crow5_col3 {\n",
       "            background-color:  #f57748;\n",
       "        }    #T_043802ae_9736_11e9_b17c_d3344ee2967crow5_col4 {\n",
       "            background-color:  #a50026;\n",
       "        }    #T_043802ae_9736_11e9_b17c_d3344ee2967crow5_col5 {\n",
       "            background-color:  #fdaf62;\n",
       "        }    #T_043802ae_9736_11e9_b17c_d3344ee2967crow6_col0 {\n",
       "            background-color:  #a50026;\n",
       "        }    #T_043802ae_9736_11e9_b17c_d3344ee2967crow6_col1 {\n",
       "            background-color:  #a50026;\n",
       "        }    #T_043802ae_9736_11e9_b17c_d3344ee2967crow6_col2 {\n",
       "            background-color:  #006837;\n",
       "        }    #T_043802ae_9736_11e9_b17c_d3344ee2967crow6_col3 {\n",
       "            background-color:  #a50026;\n",
       "        }    #T_043802ae_9736_11e9_b17c_d3344ee2967crow6_col4 {\n",
       "            background-color:  #f57245;\n",
       "        }    #T_043802ae_9736_11e9_b17c_d3344ee2967crow6_col5 {\n",
       "            background-color:  #a50026;\n",
       "        }</style>  \n",
       "<table id=\"T_043802ae_9736_11e9_b17c_d3344ee2967c\" > \n",
       "<thead>    <tr> \n",
       "        <th class=\"blank level0\" ></th> \n",
       "        <th class=\"col_heading level0 col0\" >accuracy</th> \n",
       "        <th class=\"col_heading level0 col1\" >precision</th> \n",
       "        <th class=\"col_heading level0 col2\" >recall</th> \n",
       "        <th class=\"col_heading level0 col3\" >f1_score</th> \n",
       "        <th class=\"col_heading level0 col4\" >f_5.0</th> \n",
       "        <th class=\"col_heading level0 col5\" >f_0.2</th> \n",
       "    </tr></thead> \n",
       "<tbody>    <tr> \n",
       "        <th id=\"T_043802ae_9736_11e9_b17c_d3344ee2967clevel0_row0\" class=\"row_heading level0 row0\" >elliptic</th> \n",
       "        <td id=\"T_043802ae_9736_11e9_b17c_d3344ee2967crow0_col0\" class=\"data row0 col0\" >0.98057</td> \n",
       "        <td id=\"T_043802ae_9736_11e9_b17c_d3344ee2967crow0_col1\" class=\"data row0 col1\" >0.388535</td> \n",
       "        <td id=\"T_043802ae_9736_11e9_b17c_d3344ee2967crow0_col2\" class=\"data row0 col2\" >0.247967</td> \n",
       "        <td id=\"T_043802ae_9736_11e9_b17c_d3344ee2967crow0_col3\" class=\"data row0 col3\" >0.30273</td> \n",
       "        <td id=\"T_043802ae_9736_11e9_b17c_d3344ee2967crow0_col4\" class=\"data row0 col4\" >0.251467</td> \n",
       "        <td id=\"T_043802ae_9736_11e9_b17c_d3344ee2967crow0_col5\" class=\"data row0 col5\" >0.380245</td> \n",
       "    </tr>    <tr> \n",
       "        <th id=\"T_043802ae_9736_11e9_b17c_d3344ee2967clevel0_row1\" class=\"row_heading level0 row1\" >isolation</th> \n",
       "        <td id=\"T_043802ae_9736_11e9_b17c_d3344ee2967crow1_col0\" class=\"data row1 col0\" >0.911077</td> \n",
       "        <td id=\"T_043802ae_9736_11e9_b17c_d3344ee2967crow1_col1\" class=\"data row1 col1\" >0.146259</td> \n",
       "        <td id=\"T_043802ae_9736_11e9_b17c_d3344ee2967crow1_col2\" class=\"data row1 col2\" >0.873984</td> \n",
       "        <td id=\"T_043802ae_9736_11e9_b17c_d3344ee2967crow1_col3\" class=\"data row1 col3\" >0.250583</td> \n",
       "        <td id=\"T_043802ae_9736_11e9_b17c_d3344ee2967crow1_col4\" class=\"data row1 col4\" >0.733596</td> \n",
       "        <td id=\"T_043802ae_9736_11e9_b17c_d3344ee2967crow1_col5\" class=\"data row1 col5\" >0.151097</td> \n",
       "    </tr>    <tr> \n",
       "        <th id=\"T_043802ae_9736_11e9_b17c_d3344ee2967clevel0_row2\" class=\"row_heading level0 row2\" >logistic_balanced</th> \n",
       "        <td id=\"T_043802ae_9736_11e9_b17c_d3344ee2967crow2_col0\" class=\"data row2 col0\" >0.976559</td> \n",
       "        <td id=\"T_043802ae_9736_11e9_b17c_d3344ee2967crow2_col1\" class=\"data row2 col1\" >0.414048</td> \n",
       "        <td id=\"T_043802ae_9736_11e9_b17c_d3344ee2967crow2_col2\" class=\"data row2 col2\" >0.910569</td> \n",
       "        <td id=\"T_043802ae_9736_11e9_b17c_d3344ee2967crow2_col3\" class=\"data row2 col3\" >0.56925</td> \n",
       "        <td id=\"T_043802ae_9736_11e9_b17c_d3344ee2967crow2_col4\" class=\"data row2 col4\" >0.870423</td> \n",
       "        <td id=\"T_043802ae_9736_11e9_b17c_d3344ee2967crow2_col5\" class=\"data row2 col5\" >0.422918</td> \n",
       "    </tr>    <tr> \n",
       "        <th id=\"T_043802ae_9736_11e9_b17c_d3344ee2967clevel0_row3\" class=\"row_heading level0 row3\" >logistic_naive</th> \n",
       "        <td id=\"T_043802ae_9736_11e9_b17c_d3344ee2967crow3_col0\" class=\"data row3 col0\" >0.993293</td> \n",
       "        <td id=\"T_043802ae_9736_11e9_b17c_d3344ee2967crow3_col1\" class=\"data row3 col1\" >0.840183</td> \n",
       "        <td id=\"T_043802ae_9736_11e9_b17c_d3344ee2967crow3_col2\" class=\"data row3 col2\" >0.747967</td> \n",
       "        <td id=\"T_043802ae_9736_11e9_b17c_d3344ee2967crow3_col3\" class=\"data row3 col3\" >0.791398</td> \n",
       "        <td id=\"T_043802ae_9736_11e9_b17c_d3344ee2967crow3_col4\" class=\"data row3 col4\" >0.751138</td> \n",
       "        <td id=\"T_043802ae_9736_11e9_b17c_d3344ee2967crow3_col5\" class=\"data row3 col5\" >0.836217</td> \n",
       "    </tr>    <tr> \n",
       "        <th id=\"T_043802ae_9736_11e9_b17c_d3344ee2967clevel0_row4\" class=\"row_heading level0 row4\" >logistic_undersample</th> \n",
       "        <td id=\"T_043802ae_9736_11e9_b17c_d3344ee2967crow4_col0\" class=\"data row4 col0\" >0.992532</td> \n",
       "        <td id=\"T_043802ae_9736_11e9_b17c_d3344ee2967crow4_col1\" class=\"data row4 col1\" >0.792373</td> \n",
       "        <td id=\"T_043802ae_9736_11e9_b17c_d3344ee2967crow4_col2\" class=\"data row4 col2\" >0.760163</td> \n",
       "        <td id=\"T_043802ae_9736_11e9_b17c_d3344ee2967crow4_col3\" class=\"data row4 col3\" >0.775934</td> \n",
       "        <td id=\"T_043802ae_9736_11e9_b17c_d3344ee2967crow4_col4\" class=\"data row4 col4\" >0.761353</td> \n",
       "        <td id=\"T_043802ae_9736_11e9_b17c_d3344ee2967crow4_col5\" class=\"data row4 col5\" >0.791084</td> \n",
       "    </tr>    <tr> \n",
       "        <th id=\"T_043802ae_9736_11e9_b17c_d3344ee2967clevel0_row5\" class=\"row_heading level0 row5\" >pca</th> \n",
       "        <td id=\"T_043802ae_9736_11e9_b17c_d3344ee2967crow5_col0\" class=\"data row5 col0\" >0.978565</td> \n",
       "        <td id=\"T_043802ae_9736_11e9_b17c_d3344ee2967crow5_col1\" class=\"data row5 col1\" >0.271429</td> \n",
       "        <td id=\"T_043802ae_9736_11e9_b17c_d3344ee2967crow5_col2\" class=\"data row5 col2\" >0.154472</td> \n",
       "        <td id=\"T_043802ae_9736_11e9_b17c_d3344ee2967crow5_col3\" class=\"data row5 col3\" >0.196891</td> \n",
       "        <td id=\"T_043802ae_9736_11e9_b17c_d3344ee2967crow5_col4\" class=\"data row5 col4\" >0.157075</td> \n",
       "        <td id=\"T_043802ae_9736_11e9_b17c_d3344ee2967crow5_col5\" class=\"data row5 col5\" >0.263748</td> \n",
       "    </tr>    <tr> \n",
       "        <th id=\"T_043802ae_9736_11e9_b17c_d3344ee2967clevel0_row6\" class=\"row_heading level0 row6\" >svm</th> \n",
       "        <td id=\"T_043802ae_9736_11e9_b17c_d3344ee2967crow6_col0\" class=\"data row6 col0\" >0.0168027</td> \n",
       "        <td id=\"T_043802ae_9736_11e9_b17c_d3344ee2967crow6_col1\" class=\"data row6 col1\" >0.0168061</td> \n",
       "        <td id=\"T_043802ae_9736_11e9_b17c_d3344ee2967crow6_col2\" class=\"data row6 col2\" >0.987805</td> \n",
       "        <td id=\"T_043802ae_9736_11e9_b17c_d3344ee2967crow6_col3\" class=\"data row6 col3\" >0.03305</td> \n",
       "        <td id=\"T_043802ae_9736_11e9_b17c_d3344ee2967crow6_col4\" class=\"data row6 col4\" >0.306565</td> \n",
       "        <td id=\"T_043802ae_9736_11e9_b17c_d3344ee2967crow6_col5\" class=\"data row6 col5\" >0.0174665</td> \n",
       "    </tr></tbody> \n",
       "</table> "
      ],
      "text/plain": [
       "<pandas.io.formats.style.Styler at 0x7fdeb40f6fd0>"
      ]
     },
     "execution_count": 82,
     "metadata": {},
     "output_type": "execute_result"
    }
   ],
   "source": [
    "all_metrics = pd.concat(dict([\n",
    "    (\"elliptic\", metrics_elliptic),\n",
    "    (\"isolation\", metrics_isolation),\n",
    "    (\"svm\", metrics_svm),\n",
    "    (\"pca\", metrics_pca),\n",
    "    (\"logistic_naive\", metrics_logistic_naive),\n",
    "    (\"logistic_balanced\", metrics_logistic_balanced),\n",
    "    (\"logistic_undersample\", metrics_logistic_undersample)\n",
    "]), axis=1).T\n",
    "\n",
    "all_metrics.style.background_gradient(axis=0, cmap=plt.cm.RdYlGn)"
   ]
  },
  {
   "cell_type": "markdown",
   "metadata": {},
   "source": [
    "<br>"
   ]
  }
 ],
 "metadata": {
  "kernelspec": {
   "display_name": "Python 3",
   "language": "python",
   "name": "python3"
  },
  "language_info": {
   "codemirror_mode": {
    "name": "ipython",
    "version": 3
   },
   "file_extension": ".py",
   "mimetype": "text/x-python",
   "name": "python",
   "nbconvert_exporter": "python",
   "pygments_lexer": "ipython3",
   "version": "3.7.0"
  }
 },
 "nbformat": 4,
 "nbformat_minor": 2
}
