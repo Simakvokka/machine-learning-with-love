{
 "cells": [
  {
   "cell_type": "markdown",
   "metadata": {
    "colab_type": "text",
    "id": "view-in-github"
   },
   "source": [
    "<a href=\"https://colab.research.google.com/github/kondratevakate/machine-learning-with-love/blob/master/machine_leaning_cheatsheet.ipynb\" target=\"_parent\"><img src=\"https://colab.research.google.com/assets/colab-badge.svg\" alt=\"Open In Colab\"/></a>"
   ]
  },
  {
   "cell_type": "markdown",
   "metadata": {
    "colab": {},
    "colab_type": "code",
    "id": "24JpRWItsXBH"
   },
   "source": [
    "# ML case checklist:\n",
    "***\n",
    "***\n",
    "\n",
    "\n",
    "## 1. DataSet preparation\n",
    "\n",
    "***\n",
    "\n",
    "\n",
    "   **1.0 Missing Values imputing** \n",
    "    \n",
    "        - How many missing values comparible to the sample size?\n",
    "        - What features will be deleted from samples due to lots od missings (>50%)?\n",
    "        - How we imputing missing values (mean, median)?\n",
    "        \n",
    "   **1.1 Autliers filtering**\n",
    "    \n",
    "         - What is the distribution of each feature?\n",
    "         - Filtering outliers with 95% CI, clustering or do not filter?\n",
    "         \n",
    "   **1.2 Correlation study** \n",
    "    \n",
    "        - Find multicolliniarity in data\n",
    "        - Selecting features with Variance Threshholding?\n",
    "        - chi2/ ANOVA/ pearson_corr/ t-test?\n",
    "    \n",
    "    \n",
    "## 2. Validation and model choose \n",
    "***\n",
    "   **2.0 Validation metric**\n",
    "    \n",
    "        - Choosed according the target variable type and type of task\n",
    "        - Sensitive to outliers (rMSE, adjasted beta, etc.)\n",
    "    \n",
    "    \n",
    "   **2.1 Train/ Test split (Test - in the meaning of holdout sample)**\n",
    "    \n",
    "        - Ratio of splitting/ KFolds/ Stratification/ Bootrstrap\n",
    "    \n",
    "   **2.2 Baseline**\n",
    "    \n",
    "        - Linear model preferabelly (KNN, RFC, Naive Bayes, etc.)\n",
    "  \n",
    "   **2.3 State-of-the-art (SOA): Cross-Validation and model search** \n",
    "    \n",
    "        - The best model showed statistically significatint improvement\n",
    "    \n",
    "        \n",
    "## 3. Model test\n",
    "\n",
    "***\n",
    "\n",
    "    \n",
    "   **3.0 Testing the best model on the Holdout sample** \n",
    "    \n",
    "        - Result could be in different metric (Accuracy)\n",
    "        \n",
    "   **3.1 Fitting the model on the whole sample**\n",
    "    \n",
    "        \n",
    "## 4. Model interpretation\n",
    "***\n",
    "\n",
    "\n",
    "   **4.0 Feature importances**\n",
    "    \n",
    "        - Suitable for LR, RFC, SVC. Or permitation methods for KNN, naive bayes\n",
    "    \n",
    "   **4.1 Statistical tests and correlation measures**\n",
    "   \n",
    "        - Should correspond to Section #1.2 results\n",
    "    \n",
    "   **4.2 Check the model quality after deletion of the most weighted features**\n",
    "    \n",
    "    \n",
    "    \n",
    "## 5. Model optimisation\n",
    "***\n",
    "\n",
    "   **5.0 Minimal features for the best performance**\n",
    "        "
   ]
  },
  {
   "cell_type": "markdown",
   "metadata": {},
   "source": []
  },
  {
   "cell_type": "markdown",
   "metadata": {
    "colab_type": "text",
    "id": "C3r10CEWslyo"
   },
   "source": [
    "Be aware of maths:\n",
    "\n",
    "![so true](https://pics.me.me/me-machine-learning-mathematics-damn-maths-41419748.png)  "
   ]
  },
  {
   "cell_type": "code",
   "execution_count": null,
   "metadata": {},
   "outputs": [],
   "source": []
  }
 ],
 "metadata": {
  "colab": {
   "include_colab_link": true,
   "name": "machine_leaning_cheatsheet.ipynb",
   "provenance": [],
   "version": "0.3.2"
  },
  "kernelspec": {
   "display_name": "Python 3",
   "language": "python",
   "name": "python3"
  },
  "language_info": {
   "codemirror_mode": {
    "name": "ipython",
    "version": 3
   },
   "file_extension": ".py",
   "mimetype": "text/x-python",
   "name": "python",
   "nbconvert_exporter": "python",
   "pygments_lexer": "ipython3",
   "version": "3.7.4"
  }
 },
 "nbformat": 4,
 "nbformat_minor": 1
}
